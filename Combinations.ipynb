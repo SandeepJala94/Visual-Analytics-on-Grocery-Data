{
 "cells": [
  {
   "cell_type": "code",
   "execution_count": 37,
   "metadata": {},
   "outputs": [
    {
     "data": {
      "text/html": [
       "\n",
       "    <div class=\"bk-root\">\n",
       "        <a href=\"http://bokeh.pydata.org\" target=\"_blank\" class=\"bk-logo bk-logo-small bk-logo-notebook\"></a>\n",
       "        <span id=\"5e74e83b-e4e1-45e2-95a0-51e8ee611f1c\">Loading BokehJS ...</span>\n",
       "    </div>"
      ]
     },
     "metadata": {},
     "output_type": "display_data"
    },
    {
     "data": {
      "application/javascript": [
       "\n",
       "(function(global) {\n",
       "  function now() {\n",
       "    return new Date();\n",
       "  }\n",
       "\n",
       "  var force = true;\n",
       "\n",
       "  if (typeof (window._bokeh_onload_callbacks) === \"undefined\" || force === true) {\n",
       "    window._bokeh_onload_callbacks = [];\n",
       "    window._bokeh_is_loading = undefined;\n",
       "  }\n",
       "\n",
       "\n",
       "  \n",
       "  if (typeof (window._bokeh_timeout) === \"undefined\" || force === true) {\n",
       "    window._bokeh_timeout = Date.now() + 5000;\n",
       "    window._bokeh_failed_load = false;\n",
       "  }\n",
       "\n",
       "  var NB_LOAD_WARNING = {'data': {'text/html':\n",
       "     \"<div style='background-color: #fdd'>\\n\"+\n",
       "     \"<p>\\n\"+\n",
       "     \"BokehJS does not appear to have successfully loaded. If loading BokehJS from CDN, this \\n\"+\n",
       "     \"may be due to a slow or bad network connection. Possible fixes:\\n\"+\n",
       "     \"</p>\\n\"+\n",
       "     \"<ul>\\n\"+\n",
       "     \"<li>re-rerun `output_notebook()` to attempt to load from CDN again, or</li>\\n\"+\n",
       "     \"<li>use INLINE resources instead, as so:</li>\\n\"+\n",
       "     \"</ul>\\n\"+\n",
       "     \"<code>\\n\"+\n",
       "     \"from bokeh.resources import INLINE\\n\"+\n",
       "     \"output_notebook(resources=INLINE)\\n\"+\n",
       "     \"</code>\\n\"+\n",
       "     \"</div>\"}};\n",
       "\n",
       "  function display_loaded() {\n",
       "    if (window.Bokeh !== undefined) {\n",
       "      var el = document.getElementById(\"5e74e83b-e4e1-45e2-95a0-51e8ee611f1c\");\n",
       "      el.textContent = \"BokehJS \" + Bokeh.version + \" successfully loaded.\";\n",
       "    } else if (Date.now() < window._bokeh_timeout) {\n",
       "      setTimeout(display_loaded, 100)\n",
       "    }\n",
       "  }\n",
       "\n",
       "  function run_callbacks() {\n",
       "    window._bokeh_onload_callbacks.forEach(function(callback) { callback() });\n",
       "    delete window._bokeh_onload_callbacks\n",
       "    console.info(\"Bokeh: all callbacks have finished\");\n",
       "  }\n",
       "\n",
       "  function load_libs(js_urls, callback) {\n",
       "    window._bokeh_onload_callbacks.push(callback);\n",
       "    if (window._bokeh_is_loading > 0) {\n",
       "      console.log(\"Bokeh: BokehJS is being loaded, scheduling callback at\", now());\n",
       "      return null;\n",
       "    }\n",
       "    if (js_urls == null || js_urls.length === 0) {\n",
       "      run_callbacks();\n",
       "      return null;\n",
       "    }\n",
       "    console.log(\"Bokeh: BokehJS not loaded, scheduling load and callback at\", now());\n",
       "    window._bokeh_is_loading = js_urls.length;\n",
       "    for (var i = 0; i < js_urls.length; i++) {\n",
       "      var url = js_urls[i];\n",
       "      var s = document.createElement('script');\n",
       "      s.src = url;\n",
       "      s.async = false;\n",
       "      s.onreadystatechange = s.onload = function() {\n",
       "        window._bokeh_is_loading--;\n",
       "        if (window._bokeh_is_loading === 0) {\n",
       "          console.log(\"Bokeh: all BokehJS libraries loaded\");\n",
       "          run_callbacks()\n",
       "        }\n",
       "      };\n",
       "      s.onerror = function() {\n",
       "        console.warn(\"failed to load library \" + url);\n",
       "      };\n",
       "      console.log(\"Bokeh: injecting script tag for BokehJS library: \", url);\n",
       "      document.getElementsByTagName(\"head\")[0].appendChild(s);\n",
       "    }\n",
       "  };var element = document.getElementById(\"5e74e83b-e4e1-45e2-95a0-51e8ee611f1c\");\n",
       "  if (element == null) {\n",
       "    console.log(\"Bokeh: ERROR: autoload.js configured with elementid '5e74e83b-e4e1-45e2-95a0-51e8ee611f1c' but no matching script tag was found. \")\n",
       "    return false;\n",
       "  }\n",
       "\n",
       "  var js_urls = [\"https://cdn.pydata.org/bokeh/release/bokeh-0.12.5.min.js\", \"https://cdn.pydata.org/bokeh/release/bokeh-widgets-0.12.5.min.js\"];\n",
       "\n",
       "  var inline_js = [\n",
       "    function(Bokeh) {\n",
       "      Bokeh.set_log_level(\"info\");\n",
       "    },\n",
       "    \n",
       "    function(Bokeh) {\n",
       "      \n",
       "    },\n",
       "    \n",
       "    function(Bokeh) {\n",
       "      \n",
       "      document.getElementById(\"5e74e83b-e4e1-45e2-95a0-51e8ee611f1c\").textContent = \"BokehJS is loading...\";\n",
       "    },\n",
       "    function(Bokeh) {\n",
       "      console.log(\"Bokeh: injecting CSS: https://cdn.pydata.org/bokeh/release/bokeh-0.12.5.min.css\");\n",
       "      Bokeh.embed.inject_css(\"https://cdn.pydata.org/bokeh/release/bokeh-0.12.5.min.css\");\n",
       "      console.log(\"Bokeh: injecting CSS: https://cdn.pydata.org/bokeh/release/bokeh-widgets-0.12.5.min.css\");\n",
       "      Bokeh.embed.inject_css(\"https://cdn.pydata.org/bokeh/release/bokeh-widgets-0.12.5.min.css\");\n",
       "    }\n",
       "  ];\n",
       "\n",
       "  function run_inline_js() {\n",
       "    \n",
       "    if ((window.Bokeh !== undefined) || (force === true)) {\n",
       "      for (var i = 0; i < inline_js.length; i++) {\n",
       "        inline_js[i](window.Bokeh);\n",
       "      }if (force === true) {\n",
       "        display_loaded();\n",
       "      }} else if (Date.now() < window._bokeh_timeout) {\n",
       "      setTimeout(run_inline_js, 100);\n",
       "    } else if (!window._bokeh_failed_load) {\n",
       "      console.log(\"Bokeh: BokehJS failed to load within specified timeout.\");\n",
       "      window._bokeh_failed_load = true;\n",
       "    } else if (force !== true) {\n",
       "      var cell = $(document.getElementById(\"5e74e83b-e4e1-45e2-95a0-51e8ee611f1c\")).parents('.cell').data().cell;\n",
       "      cell.output_area.append_execute_result(NB_LOAD_WARNING)\n",
       "    }\n",
       "\n",
       "  }\n",
       "\n",
       "  if (window._bokeh_is_loading === 0) {\n",
       "    console.log(\"Bokeh: BokehJS loaded, going straight to plotting\");\n",
       "    run_inline_js();\n",
       "  } else {\n",
       "    load_libs(js_urls, function() {\n",
       "      console.log(\"Bokeh: BokehJS plotting callback run at\", now());\n",
       "      run_inline_js();\n",
       "    });\n",
       "  }\n",
       "}(this));"
      ]
     },
     "metadata": {},
     "output_type": "display_data"
    }
   ],
   "source": [
    "from bokeh.io import output_notebook, show\n",
    "from bokeh.plotting import figure\n",
    "from bokeh.models import HoverTool\n",
    "import math\n",
    "output_notebook()"
   ]
  },
  {
   "cell_type": "code",
   "execution_count": 38,
   "metadata": {
    "collapsed": true
   },
   "outputs": [],
   "source": [
    "import xlrd\n",
    "file_location = \"C:/Users/Sandeep/Desktop/CollegeCourses/GRAD_SCHOOL/CS_690V_Visual_Analytics/HW/HW2/Wholesale customers data.xlsx\"\n",
    "with6ValuesFile = xlrd.open_workbook(file_location)\n",
    "with6Vals = with6ValuesFile.sheet_by_index(0)\n",
    "\n",
    "file_location = \"C:/Users/Sandeep/Desktop/CollegeCourses/GRAD_SCHOOL/CS_690V_Visual_Analytics/HW/HW2/Wholesale customers data-missing.xlsx\"\n",
    "without6ValuesFile = xlrd.open_workbook(file_location)\n",
    "without6Vals = without6ValuesFile.sheet_by_index(0)"
   ]
  },
  {
   "cell_type": "code",
   "execution_count": 39,
   "metadata": {
    "collapsed": true
   },
   "outputs": [],
   "source": [
    "wholeDataFresh = []\n",
    "\n",
    "for r in range(1, with6Vals.nrows):\n",
    "    wholeDataFresh.append(with6Vals.cell_value(r,2))\n",
    "\n",
    "#print(wholeDataFresh)\n",
    "#print(len(wholeDataFresh))"
   ]
  },
  {
   "cell_type": "code",
   "execution_count": 76,
   "metadata": {
    "collapsed": true,
    "scrolled": false
   },
   "outputs": [],
   "source": [
    "missingDataFresh = []\n",
    "\n",
    "for r in range(1, without6Vals.nrows):\n",
    "    \n",
    "    if without6Vals.cell_value(r,2) == '':\n",
    "        missingDataFresh.append(\"EMPTY SLOT\")\n",
    "    else:\n",
    "        missingDataFresh.append(without6Vals.cell_value(r,2))\n",
    "\n",
    "#print(missingDataFresh)\n",
    "#print(len(missingDataFresh))"
   ]
  },
  {
   "cell_type": "code",
   "execution_count": null,
   "metadata": {
    "collapsed": true
   },
   "outputs": [],
   "source": []
  },
  {
   "cell_type": "code",
   "execution_count": 70,
   "metadata": {},
   "outputs": [
    {
     "name": "stdout",
     "output_type": "stream",
     "text": [
      "440\n"
     ]
    }
   ],
   "source": [
    "wholeDataMilk = []\n",
    "\n",
    "for r in range(1, with6Vals.nrows):\n",
    "    wholeDataMilk.append(with6Vals.cell_value(r,3))\n",
    "\n",
    "#print(wholeDataMilk)\n",
    "print(len(wholeDataMilk))"
   ]
  },
  {
   "cell_type": "code",
   "execution_count": 42,
   "metadata": {},
   "outputs": [
    {
     "name": "stdout",
     "output_type": "stream",
     "text": [
      "[9656.0, 9810.0, 8808.0, 1196.0, 5410.0, 8259.0, 3199.0, 4956.0, 3648.0, 11093.0, 5403.0, 1124.0, 12319.0, 6208.0, 9465.0, 1114.0, 8816.0, 6157.0, 6327.0, 2495.0, 4519.0, 871.0, 1917.0, 36423.0, 9776.0, 4230.0, 961.0, 803.0, 20484.0, 2100.0, 3610.0, 4339.0, 1318.0, 4786.0, 1979.0, 5491.0, 4362.0, 10556.0, 15729.0, 555.0, 4332.0, 3065.0, 7555.0, 11095.0, 7027.0, 22044.0, 14069.0, 54259.0, 6152.0, 21412.0, 1095.0, 4051.0, 3916.0, 10473.0, 1449.0, 3683.0, 29892.0, 9933.0, 1970.0, 5360.0, 3045.0, 38369.0, 6245.0, 11601.0, 1227.0, 20959.0, 1534.0, 6759.0, 7260.0, 2820.0, 2037.0, 1266.0, 5139.0, 5332.0, 6343.0, 1137.0, 3587.0, 12697.0, 1175.0, 3259.0, 829.0, 9540.0, 9232.0, 1563.0, 3327.0, 46197.0, 73498.0, 5025.0, 542.0, 3836.0, 596.0, 2762.0, 27472.0, 3090.0, 12220.0, 2920.0, 2616.0, 254.0, 112.0, 2182.0, 7779.0, 10810.0, 6459.0, 3504.0, 2132.0, 1014.0, 6337.0, 10646.0, 8397.0, 16729.0, 1648.0, 11114.0, 2770.0, 2295.0, 1080.0, 793.0, 2521.0, 3880.0, 1891.0, 2344.0, 1200.0, 3234.0, 201.0, 10769.0, 1642.0, 3473.0, 1840.0, 7243.0, 8847.0, 926.0, 2428.0, 589.0, 2032.0, 1042.0, 1882.0, 1289.0, 8579.0, 8080.0, 4257.0, 4979.0, 4280.0, 13252.0, 7152.0, 1596.0, 3677.0, 8384.0, 1936.0, 3373.0, 584.0, 1433.0, 1825.0, 3328.0, 1371.0, 9250.0, 55.0, 10690.0, 5291.0, 1366.0, 6570.0, 7704.0, 3651.0, 540.0, 2024.0, 15726.0, 7603.0, 12653.0, 6721.0, 3195.0, 735.0, 717.0, 8675.0, 25862.0, 5479.0, 7677.0, 1208.0, 7845.0, 6958.0, 7330.0, 7075.0, 4888.0, 'EMPTY SLOT', 29627.0, 8533.0, 43950.0, 918.0, 6448.0, 521.0, 8002.0, 7639.0, 11577.0, 6250.0, 295.0, 1461.0, 3485.0, 1012.0, 5139.0, 7209.0, 7097.0, 2154.0, 2280.0, 13240.0, 14399.0, 11487.0, 685.0, 891.0, 11711.0, 780.0, 4737.0, 3748.0, 12729.0, 1895.0, 28326.0, 1012.0, 6602.0, 6551.0, 10765.0, 16599.0, 1475.0, 7504.0, 367.0, 899.0, 7503.0, 1115.0, 2527.0, 659.0, 3243.0, 5921.0, 2204.0, 577.0, 2746.0, 5989.0, 10678.0, 1780.0, 4984.0, 2703.0, 6380.0, 820.0, 3838.0, 475.0, 2567.0, 3575.0, 1801.0, 659.0, 3576.0, 7775.0, 6154.0, 2428.0, 346.0, 5279.0, 3795.0, 1993.0, 23133.0, 1860.0, 7961.0, 17972.0, 489.0, 5008.0, 1931.0, 4563.0, 4959.0, 4885.0, 1110.0, 1372.0, 1115.0, 9679.0, 23527.0, 9763.0, 1222.0, 8053.0, 258.0, 1032.0, 5007.0, 8323.0, 3045.0, 1703.0, 1610.0, 3749.0, 829.0, 2317.0, 6200.0, 2884.0, 7108.0, 3965.0, 3613.0, 4411.0, 640.0, 2247.0, 2102.0, 594.0, 286.0, 2160.0, 3354.0, 3086.0, 11103.0, 2013.0, 1897.0, 1304.0, 3199.0, 4560.0, 879.0, 6243.0, 13316.0, 5302.0, 3688.0, 7460.0, 12939.0, 12867.0, 2374.0, 1020.0, 20655.0, 1492.0, 2335.0, 3737.0, 925.0, 1795.0, 14982.0, 1375.0, 3088.0, 2713.0, 25071.0, 3696.0, 1897.0, 713.0, 944.0, 3587.0, 16784.0, 1610.0, 899.0, 2209.0, 1486.0, 1786.0, 14881.0, 3216.0, 4980.0, 928.0, 6817.0, 1511.0, 1347.0, 333.0, 1188.0, 4025.0, 5763.0, 5758.0, 6964.0, 1172.0, 2602.0, 6939.0, 7184.0, 2380.0, 14641.0, 1099.0, 10044.0, 1106.0, 6264.0, 7393.0, 727.0, 134.0, 1275.0, 18664.0, 5878.0, 2872.0, 607.0, 1601.0, 997.0, 873.0, 6128.0, 2217.0, 894.0, 1196.0, 337.0, 3944.0, 1887.0, 3801.0, 6257.0, 2256.0, 1450.0, 8630.0, 3154.0, 3294.0, 5164.0, 944.0, 4591.0, 7435.0, 1364.0, 21858.0, 922.0, 3620.0, 1916.0, 848.0, 1530.0, 1181.0, 2761.0, 4180.0, 6730.0, 865.0, 1316.0, 11991.0, 1666.0, 1032.0, 577.0, 906.0, 2801.0, 4753.0, 11006.0, 4613.0, 1046.0, 5010.0, 12844.0, 3880.0, 3634.0, 2096.0, 3289.0, 3605.0, 4859.0, 1990.0, 6046.0, 10940.0, 5499.0, 8494.0, 3783.0, 5266.0, 4847.0, 1377.0, 3686.0, 2884.0, 2408.0, 9347.0, 16687.0, 5970.0, 1750.0, 4230.0, 5506.0, 1162.0, 3218.0, 3922.0, 12051.0, 1431.0, 15488.0, 1981.0, 1698.0]\n",
      "440\n"
     ]
    }
   ],
   "source": [
    "missingDataMilk = []\n",
    "\n",
    "for r in range(1, without6Vals.nrows):\n",
    "    \n",
    "    if without6Vals.cell_value(r,3) == '':\n",
    "        missingDataMilk.append(\"EMPTY SLOT\")\n",
    "    else:\n",
    "        missingDataMilk.append(without6Vals.cell_value(r,3))\n",
    "\n",
    "print(missingDataMilk)\n",
    "print(len(missingDataMilk))"
   ]
  },
  {
   "cell_type": "code",
   "execution_count": null,
   "metadata": {
    "collapsed": true
   },
   "outputs": [],
   "source": []
  },
  {
   "cell_type": "code",
   "execution_count": 43,
   "metadata": {
    "collapsed": true
   },
   "outputs": [],
   "source": [
    "wholeDataGroceries = []\n",
    "\n",
    "for r in range(1, with6Vals.nrows):\n",
    "    wholeDataGroceries.append(with6Vals.cell_value(r,4))\n",
    "\n",
    "#print(wholeDataGroceries)\n",
    "#print(len(wholeDataGroceries))"
   ]
  },
  {
   "cell_type": "code",
   "execution_count": 44,
   "metadata": {
    "scrolled": false
   },
   "outputs": [
    {
     "name": "stdout",
     "output_type": "stream",
     "text": [
      "[7561.0, 9568.0, 7684.0, 4221.0, 7198.0, 5126.0, 6975.0, 9426.0, 6192.0, 18881.0, 12974.0, 4523.0, 11757.0, 14982.0, 12091.0, 3821.0, 12121.0, 2933.0, 10099.0, 9464.0, 4602.0, 2010.0, 4469.0, 22019.0, 13792.0, 7595.0, 2861.0, 3045.0, 25957.0, 2609.0, 11107.0, 3133.0, 2886.0, 7326.0, 2262.0, 11091.0, 5428.0, 12477.0, 16709.0, 902.0, 4757.0, 5956.0, 14961.0, 23998.0, 10471.0, 21531.0, 21955.0, 55571.0, 10868.0, 28921.0, 1980.0, 6996.0, 5876.0, 11532.0, 1947.0, 5005.0, 26866.0, 10487.0, 1648.0, 8040.0, 7854.0, 59598.0, 6544.0, 15775.0, 3250.0, 45828.0, 7417.0, 13462.0, 3993.0, 1293.0, 3202.0, 21042.0, 2661.0, 8713.0, 9794.0, 'EMPTY SLOT', 6532.0, 28540.0, 2067.0, 3655.0, 3009.0, 14403.0, 11009.0, 1783.0, 4814.0, 92780.0, 32114.0, 8117.0, 4042.0, 5330.0, 1638.0, 2530.0, 32034.0, 2062.0, 11323.0, 6252.0, 8118.0, 610.0, 778.0, 1909.0, 12144.0, 16267.0, 7677.0, 8906.0, 3445.0, 3970.0, 10704.0, 14886.0, 6981.0, 28986.0, 1694.0, 17569.0, 2469.0, 1733.0, 2000.0, 2988.0, 3355.0, 5380.0, 2362.0, 2147.0, 3412.0, 1498.0, 245.0, 8814.0, 2961.0, 7102.0, 1658.0, 10685.0, 3823.0, 1510.0, 699.0, 314.0, 2479.0, 1235.0, 2174.0, 2591.0, 7030.0, 8282.0, 5034.0, 3343.0, 7305.0, 5189.0, 8253.0, 1096.0, 1988.0, 34792.0, 2177.0, 2707.0, 542.0, 1651.0, 1765.0, 2022.0, 3135.0, 2368.0, 137.0, 19460.0, 14855.0, 2474.0, 9618.0, 14682.0, 12822.0, 283.0, 3810.0, 26870.0, 8584.0, 19858.0, 9170.0, 3268.0, 803.0, 2155.0, 13430.0, 19816.0, 'EMPTY SLOT', 19805.0, 5241.0, 11874.0, 6536.0, 4533.0, 4945.0, 2500.0, 8887.0, 18148.0, 10518.0, 20170.0, 4710.0, 1139.0, 854.0, 9819.0, 11687.0, 11522.0, 1981.0, 1381.0, 2251.0, 20292.0, 2974.0, 5230.0, 4897.0, 10391.0, 6824.0, 2112.0, 23127.0, 24708.0, 9490.0, 2216.0, 5226.0, 23596.0, 950.0, 6089.0, 5838.0, 16767.0, 1393.0, 39694.0, 2062.0, 6861.0, 11364.0, 15538.0, 36486.0, 2046.0, 15205.0, 1390.0, 1382.0, 10646.0, 2856.0, 5265.0, 1499.0, 4157.0, 9212.0, 1563.0, 572.0, 2501.0, 5615.0, 3828.0, 3838.0, 3316.0, 3833.0, 2824.0, 3047.0, 593.0, 585.0, 3779.0, 7041.0, 2475.0, 2914.0, 5119.0, 10817.0, 13916.0, 1777.0, 489.0, 2406.0, 2070.0, 1799.0, 33586.0, 4740.0, 16966.0, 4748.0, 1495.0, 5249.0, 1883.0, 2124.0, 7336.0, 2157.0, 1094.0, 1677.0, 6684.0, 15445.0, 13699.0, 22182.0, 2576.0, 19847.0, 1138.0, 975.0, 1563.0, 6869.0, 1493.0, 1841.0, 223.0, 6964.0, 683.0, 2543.0, 9694.0, 2431.0, 6235.0, 4252.0, 2013.0, 12609.0, 3600.0, 1242.0, 2828.0, 1296.0, 471.0, 2642.0, 3261.0, 4329.0, 12469.0, 6550.0, 5234.0, 3643.0, 6986.0, 9965.0, 2060.0, 6360.0, 20399.0, 9785.0, 13829.0, 24773.0, 8852.0, 21570.0, 2842.0, 3007.0, 13567.0, 2405.0, 8280.0, 19172.0, 2405.0, 7647.0, 11924.0, 2201.0, 6114.0, 3558.0, 17645.0, 2280.0, 5167.0, 3315.0, 11593.0, 2464.0, 13626.0, 1431.0, 1664.0, 3389.0, 4583.0, 5109.0, 26839.0, 1447.0, 67298.0, 2743.0, 10790.0, 1330.0, 2611.0, 7021.0, 5332.0, 9670.0, 11238.0, 5923.0, 26316.0, 1763.0, 8335.0, 15541.0, 12311.0, 2028.0, 20521.0, 1997.0, 22294.0, 1533.0, 21203.0, 2548.0, 2012.0, 218.0, 22272.0, 1660.0, 2109.0, 2006.0, 864.0, 2453.0, 4438.0, 1524.0, 8025.0, 1664.0, 534.0, 2406.0, 683.0, 4955.0, 1939.0, 1641.0, 7398.0, 1668.0, 1162.0, 13586.0, 2648.0, 1902.0, 10391.0, 2146.0, 1617.0, 8469.0, 3450.0, 15400.0, 1614.0, 2857.0, 1573.0, 1172.0, 1422.0, 1328.0, 2313.0, 3600.0, 3842.0, 3204.0, 1263.0, 9345.0, 1428.0, 582.0, 935.0, 1238.0, 2128.0, 5091.0, 4604.0, 3444.0, 1167.0, 5026.0, 18683.0, 6407.0, 6100.0, 4563.0, 3281.0, 12400.0, 6633.0, 3417.0, 8552.0, 10908.0, 11055.0, 18622.0, 2223.0, 13227.0, 9053.0, 4172.0, 4657.0, 12232.0, 2593.0, 14316.0, 5429.0, 4910.0, 3580.0, 16483.0, 5160.0, 4754.0, 1493.0, 7994.0, 16027.0, 764.0, 30243.0, 2232.0, 2510.0]\n",
      "440\n"
     ]
    }
   ],
   "source": [
    "missingDataGroceries = []\n",
    "\n",
    "for r in range(1, without6Vals.nrows):\n",
    "    \n",
    "    if without6Vals.cell_value(r,4) == '':\n",
    "        missingDataGroceries.append(\"EMPTY SLOT\")\n",
    "    else:\n",
    "        missingDataGroceries.append(without6Vals.cell_value(r,4))\n",
    "\n",
    "print(missingDataGroceries)\n",
    "print(len(missingDataGroceries))"
   ]
  },
  {
   "cell_type": "code",
   "execution_count": null,
   "metadata": {
    "collapsed": true
   },
   "outputs": [],
   "source": []
  },
  {
   "cell_type": "code",
   "execution_count": 69,
   "metadata": {},
   "outputs": [
    {
     "name": "stdout",
     "output_type": "stream",
     "text": [
      "440\n"
     ]
    }
   ],
   "source": [
    "wholeDataFrozen = []\n",
    "\n",
    "for r in range(1, with6Vals.nrows):\n",
    "    wholeDataFrozen.append(with6Vals.cell_value(r,5))\n",
    "\n",
    "#print(wholeDataFrozen)\n",
    "print(len(wholeDataFrozen))"
   ]
  },
  {
   "cell_type": "code",
   "execution_count": 53,
   "metadata": {
    "collapsed": true
   },
   "outputs": [],
   "source": [
    "missingDataFrozen = []\n",
    "\n",
    "for r in range(1, without6Vals.nrows):\n",
    "    \n",
    "    if without6Vals.cell_value(r,5) == '':\n",
    "        missingDataFrozen.append(\"EMPTY SLOT\")\n",
    "    else:\n",
    "        missingDataFrozen.append(without6Vals.cell_value(r,5))\n",
    "\n",
    "#print(missingDataFrozen)\n",
    "#print(len(missingDataFrozen))"
   ]
  },
  {
   "cell_type": "code",
   "execution_count": null,
   "metadata": {
    "collapsed": true
   },
   "outputs": [],
   "source": []
  },
  {
   "cell_type": "code",
   "execution_count": 47,
   "metadata": {
    "collapsed": true
   },
   "outputs": [],
   "source": [
    "wholeDataDetergents = []\n",
    "\n",
    "for r in range(1, with6Vals.nrows):\n",
    "    wholeDataDetergents.append(with6Vals.cell_value(r,6))\n",
    "\n",
    "#print(wholeDataDetergent)\n",
    "#print(len(wholeDataDetergent))"
   ]
  },
  {
   "cell_type": "code",
   "execution_count": 48,
   "metadata": {},
   "outputs": [
    {
     "name": "stdout",
     "output_type": "stream",
     "text": [
      "[2674.0, 3293.0, 3516.0, 507.0, 1777.0, 1795.0, 3140.0, 3321.0, 1716.0, 7425.0, 5977.0, 549.0, 3881.0, 6707.0, 5058.0, 964.0, 4508.0, 370.0, 2767.0, 2518.0, 2259.0, 375.0, 2381.0, 4337.0, 4482.0, 4003.0, 242.0, 100.0, 8604.0, 1107.0, 2134.0, 820.0, 918.0, 361.0, 483.0, 4239.0, 862.0, 6506.0, 6956.0, 212.0, 1145.0, 2575.0, 6899.0, 9529.0, 4618.0, 7353.0, 6792.0, 24171.0, 5121.0, 13583.0, 609.0, 1538.0, 2587.0, 5611.0, 204.0, 2024.0, 17740.0, 7572.0, 227.0, 3084.0, 4095.0, 26701.0, 4074.0, 7677.0, 1247.0, 24231.0, 3468.0, 5141.0, 788.0, 656.0, 116.0, 4173.0, 1321.0, 764.0, 1901.0, 3.0, 529.0, 12034.0, 301.0, 1202.0, 610.0, 7818.0, 3537.0, 550.0, 3837.0, 40827.0, 20070.0, 1579.0, 165.0, 454.0, 69.0, 627.0, 18906.0, 71.0, 5038.0, 223.0, 3874.0, 54.0, 56.0, 215.0, 8035.0, 6766.0, 4573.0, 1480.0, 1491.0, 139.0, 6830.0, 8969.0, 2505.0, 836.0, 169.0, 6457.0, 483.0, 585.0, 118.0, 276.0, 310.0, 319.0, 411.0, 266.0, 174.0, 264.0, 25.0, 1976.0, 500.0, 778.0, 349.0, 2386.0, 1062.0, 410.0, 395.0, 70.0, 955.0, 256.0, 47.0, 199.0, 2447.0, 721.0, 249.0, 637.0, 960.0, 51.0, 20.0, 399.0, 516.0, 12591.0, 73.0, 1082.0, 283.0, 113.0, 170.0, 255.0, 352.0, 302.0, 7.0, 11577.0, 6694.0, 811.0, 4004.0, 8077.0, 4424.0, 3.0, 232.0, 13726.0, 3674.0, 7108.0, 4973.0, 1680.0, 79.0, 69.0, 7015.0, 8773.0, 2840.0, 9836.0, 153.0, 4196.0, 1532.0, 20.0, 120.0, 273.0, 1382.0, 4948.0, 6907.0, 239.0, 334.0, 58.0, 949.0, 3459.0, 6839.0, 4027.0, 118.0, 43.0, 187.0, 5618.0, 355.0, 330.0, 763.0, 4314.0, 592.0, 402.0, 9959.0, 14235.0, 284.0, 954.0, 5.0, 9265.0, 288.0, 5316.0, 3381.0, 12420.0, 244.0, 19410.0, 240.0, 3961.0, 5957.0, 5828.0, 13308.0, 130.0, 4797.0, 86.0, 56.0, 4167.0, 256.0, 788.0, 70.0, 'EMPTY SLOT', 2568.0, 263.0, 4762.0, 694.0, 955.0, 1566.0, 284.0, 409.0, 325.0, 1216.0, 415.0, 28.0, 72.0, 828.0, 343.0, 412.0, 586.0, 1682.0, 3143.0, 8933.0, 430.0, 44.0, 562.0, 918.0, 234.0, 18594.0, 205.0, 363.0, 1547.0, 111.0, 392.0, 3593.0, 730.0, 967.0, 780.0, 49.0, 429.0, 2894.0, 5980.0, 830.0, 4882.0, 737.0, 6374.0, 333.0, 197.0, 147.0, 93.0, 210.0, 759.0, 96.0, 603.0, 621.0, 274.0, 3620.0, 167.0, 2328.0, 1041.0, 314.0, 751.0, 436.0, 1226.0, 386.0, 445.0, 32.0, 965.0, 212.0, 825.0, 5952.0, 811.0, 2208.0, 710.0, 3712.0, 4538.0, 290.0, 2662.0, 8752.0, 6236.0, 10069.0, 11783.0, 3909.0, 7558.0, 351.0, 257.0, 6846.0, 299.0, 371.0, 17120.0, 183.0, 857.0, 3891.0, 83.0, 821.0, 706.0, 12408.0, 275.0, 228.0, 1470.0, 1679.0, 140.0, 1272.0, 387.0, 88.0, 210.0, 492.0, 182.0, 9606.0, 178.0, 38102.0, 332.0, 4111.0, 146.0, 442.0, 15.0, 573.0, 7271.0, 5162.0, 4595.0, 15469.0, 217.0, 3843.0, 6600.0, 4621.0, 1184.0, 12218.0, 173.0, 12638.0, 90.0, 8682.0, 1333.0, 184.0, 9.0, 6747.0, 536.0, 232.0, 468.0, 159.0, 179.0, 1335.0, 514.0, 4515.0, 222.0, 252.0, 101.0, 41.0, 'EMPTY SLOT', 716.0, 397.0, 1916.0, 311.0, 476.0, 4666.0, 96.0, 68.0, 813.0, 600.0, 246.0, 1711.0, 397.0, 282.0, 192.0, 353.0, 231.0, 200.0, 227.0, 311.0, 95.0, 122.0, 385.0, 149.0, 841.0, 3378.0, 64.0, 74.0, 469.0, 153.0, 92.0, 10.0, 632.0, 914.0, 593.0, 1092.0, 7883.0, 2730.0, 2123.0, 1860.0, 235.0, 2970.0, 912.0, 1135.0, 3540.0, 6728.0, 3485.0, 6740.0, 1580.0, 6818.0, 3415.0, 948.0, 1803.0, 3213.0, 108.0, 5079.0, 439.0, 850.0, 84.0, 241.0, 1377.0, 1328.0, 356.0, 2371.0, 182.0, 93.0, 14841.0, 168.0, 477.0]\n",
      "440\n"
     ]
    }
   ],
   "source": [
    "missingDataDetergents = []\n",
    "\n",
    "for r in range(1, without6Vals.nrows):\n",
    "    \n",
    "    if without6Vals.cell_value(r,6) == '':\n",
    "        missingDataDetergents.append(\"EMPTY SLOT\")\n",
    "    else:\n",
    "        missingDataDetergents.append(without6Vals.cell_value(r,6))\n",
    "\n",
    "print(missingDataDetergents)\n",
    "print(len(missingDataDetergents))"
   ]
  },
  {
   "cell_type": "code",
   "execution_count": null,
   "metadata": {
    "collapsed": true
   },
   "outputs": [],
   "source": []
  },
  {
   "cell_type": "code",
   "execution_count": 49,
   "metadata": {
    "collapsed": true
   },
   "outputs": [],
   "source": [
    "wholeDataDelicassen = []\n",
    "\n",
    "for r in range(1, with6Vals.nrows):\n",
    "    wholeDataDelicassen.append(with6Vals.cell_value(r,7))\n",
    "\n",
    "#print(wholeDataDelicassen)\n",
    "#print(len(wholeDataDelicassen))"
   ]
  },
  {
   "cell_type": "code",
   "execution_count": 50,
   "metadata": {},
   "outputs": [
    {
     "name": "stdout",
     "output_type": "stream",
     "text": [
      "[1338.0, 1776.0, 7844.0, 1788.0, 5185.0, 1451.0, 545.0, 2566.0, 750.0, 2098.0, 1744.0, 497.0, 2931.0, 602.0, 2168.0, 412.0, 1080.0, 4478.0, 3181.0, 501.0, 2124.0, 569.0, 4334.0, 16523.0, 5778.0, 57.0, 833.0, 518.0, 5206.0, 823.0, 2963.0, 985.0, 405.0, 1083.0, 395.0, 436.0, 4626.0, 714.0, 433.0, 2916.0, 5864.0, 2802.0, 46.0, 72.0, 65.0, 4985.0, 1452.0, 6465.0, 1476.0, 1163.0, 2162.0, 301.0, 1278.0, 224.0, 1333.0, 1130.0, 1340.0, 1282.0, 436.0, 1603.0, 225.0, 2017.0, 964.0, 1295.0, 1145.0, 1423.0, 27.0, 834.0, 3095.0, 144.0, 1365.0, 14472.0, 181.0, 648.0, 1780.0, 975.0, 894.0, 1009.0, 167.0, 1653.0, 529.0, 156.0, 2342.0, 772.0, 120.0, 2944.0, 903.0, 14351.0, 46.0, 3178.0, 360.0, 1117.0, 5130.0, 2698.0, 244.0, 709.0, 217.0, 63.0, 132.0, 323.0, 3029.0, 1838.0, 1386.0, 2498.0, 548.0, 1378.0, 1831.0, 1438.0, 1236.0, 3.0, 1647.0, 1519.0, 2708.0, 1561.0, 1266.0, 610.0, 222.0, 1160.0, 933.0, 635.0, 1136.0, 255.0, 860.0, 143.0, 1621.0, 918.0, 483.0, 2749.0, 3.0, 1819.0, 911.0, 310.0, 328.0, 396.0, 537.0, 326.0, 1542.0, 36.0, 3271.0, 929.0, 2616.0, 1450.0, 3.0, 318.0, 201.0, 4430.0, 520.0, 526.0, 434.0, 1440.0, 1067.0, 1774.0, 184.0, 1627.0, 8.0, 2153.0, 3182.0, 418.0, 1682.0, 303.0, 2157.0, 2233.0, 610.0, 446.0, 238.0, 2379.0, 3637.0, 693.0, 429.0, 750.0, 323.0, 6250.0, 707.0, 716.0, 1442.0, 1697.0, 230.0, 2631.0, 395.0, 2165.0, 2794.0, 8550.0, 156.0, 47943.0, 11.0, 247.0, 727.0, 3.0, 404.0, 1856.0, 64.0, 84.0, 409.0, 666.0, 1142.0, 1755.0, 2876.0, 1468.0, 697.0, 347.0, 731.0, 1681.0, 6854.0, 18.0, 1328.0, 710.0, 285.0, 120.0, 806.0, 797.0, 2100.0, 2870.0, 1775.0, 1215.0, 791.0, 2388.0, 674.0, 1158.0, 6372.0, 130.0, 749.0, 239.0, 375.0, 1360.0, 659.0, 786.0, 1553.0, 689.0, 203.0, 980.0, 2137.0, 490.0, 834.0, 7.0, 2563.0, 295.0, 225.0, 1215.0, 216.0, 2253.0, 2564.0, 1047.0, 578.0, 2398.0, 1970.0, 2784.0, 610.0, 659.0, 572.0, 291.0, 710.0, 5121.0, 1693.0, 1391.0, 3265.0, 615.0, 373.0, 987.0, 3321.0, 818.0, 548.0, 287.0, 655.0, 411.0, 1265.0, 3636.0, 2563.0, 3628.0, 698.0, 204.0, 56.0, 1550.0, 1040.0, 1824.0, 'EMPTY SLOT', 379.0, 2503.0, 139.0, 1409.0, 1721.0, 1104.0, 2079.0, 1404.0, 1384.0, 2406.0, 18.0, 128.0, 1027.0, 258.0, 22.0, 1522.0, 686.0, 1060.0, 741.0, 1854.0, 254.0, 898.0, 531.0, 1037.0, 259.0, 2005.0, 172.0, 555.0, 59.0, 2410.0, 211.0, 1543.0, 925.0, 656.0, 806.0, 1117.0, 117.0, 142.0, 297.0, 1233.0, 3508.0, 1059.0, 1637.0, 51.0, 1625.0, 834.0, 1113.0, 229.0, 573.0, 1092.0, 5609.0, 834.0, 522.0, 1534.0, 739.0, 1043.0, 1102.0, 2602.0, 1215.0, 3486.0, 2139.0, 778.0, 868.0, 550.0, 1942.0, 1371.0, 2158.0, 1328.0, 37.0, 379.0, 303.0, 1115.0, 1022.0, 665.0, 445.0, 995.0, 3137.0, 195.0, 1111.0, 2341.0, 127.0, 548.0, 110.0, 4100.0, 776.0, 503.0, 405.0, 712.0, 314.0, 468.0, 3105.0, 447.0, 342.0, 558.0, 296.0, 2235.0, 790.0, 4829.0, 3113.0, 686.0, 70.0, 1426.0, 1242.0, 1114.0, 179.0, 270.0, 532.0, 2893.0, 361.0, 5120.0, 1068.0, 967.0, 961.0, 406.0, 684.0, 1000.0, 1827.0, 654.0, 819.0, 452.0, 290.0, 2213.0, 743.0, 247.0, 375.0, 1014.0, 1902.0, 340.0, 288.0, 715.0, 378.0, 960.0, 553.0, 344.0, 5137.0, 1892.0, 4365.0, 62.0, 2435.0, 290.0, 1874.0, 993.0, 1063.0, 776.0, 1521.0, 1393.0, 1784.0, 1218.0, 668.0, 249.0, 1886.0, 1894.0, 1163.0, 317.0, 2501.0, 2080.0, 1498.0, 395.0, 1449.0, 838.0, 2204.0, 2346.0, 1867.0, 2125.0, 52.0]\n",
      "440\n"
     ]
    }
   ],
   "source": [
    "missingDataDelicassen = []\n",
    "\n",
    "for r in range(1, without6Vals.nrows):\n",
    "    \n",
    "    if without6Vals.cell_value(r,7) == '':\n",
    "        missingDataDelicassen.append(\"EMPTY SLOT\")\n",
    "    else:\n",
    "        missingDataDelicassen.append(without6Vals.cell_value(r,7))\n",
    "\n",
    "print(missingDataDelicassen)\n",
    "print(len(missingDataDelicassen))"
   ]
  },
  {
   "cell_type": "code",
   "execution_count": 66,
   "metadata": {
    "collapsed": true
   },
   "outputs": [],
   "source": [
    "log10Frozen = []\n",
    "\n",
    "for i in wholeDataFrozen:\n",
    "    log10Frozen.append(math.log10(i))"
   ]
  },
  {
   "cell_type": "code",
   "execution_count": 71,
   "metadata": {
    "collapsed": true
   },
   "outputs": [],
   "source": [
    "log10Milk = []\n",
    "\n",
    "for i in wholeDataMilk:\n",
    "    log10Milk.append(math.log10(i))"
   ]
  },
  {
   "cell_type": "code",
   "execution_count": 75,
   "metadata": {},
   "outputs": [
    {
     "data": {
      "text/html": [
       "\n",
       "\n",
       "    <div class=\"bk-root\">\n",
       "        <div class=\"bk-plotdiv\" id=\"914dac52-43c1-478e-a4df-fad42745cc03\"></div>\n",
       "    </div>\n",
       "<script type=\"text/javascript\">\n",
       "  \n",
       "  (function(global) {\n",
       "    function now() {\n",
       "      return new Date();\n",
       "    }\n",
       "  \n",
       "    var force = false;\n",
       "  \n",
       "    if (typeof (window._bokeh_onload_callbacks) === \"undefined\" || force === true) {\n",
       "      window._bokeh_onload_callbacks = [];\n",
       "      window._bokeh_is_loading = undefined;\n",
       "    }\n",
       "  \n",
       "  \n",
       "    \n",
       "    if (typeof (window._bokeh_timeout) === \"undefined\" || force === true) {\n",
       "      window._bokeh_timeout = Date.now() + 0;\n",
       "      window._bokeh_failed_load = false;\n",
       "    }\n",
       "  \n",
       "    var NB_LOAD_WARNING = {'data': {'text/html':\n",
       "       \"<div style='background-color: #fdd'>\\n\"+\n",
       "       \"<p>\\n\"+\n",
       "       \"BokehJS does not appear to have successfully loaded. If loading BokehJS from CDN, this \\n\"+\n",
       "       \"may be due to a slow or bad network connection. Possible fixes:\\n\"+\n",
       "       \"</p>\\n\"+\n",
       "       \"<ul>\\n\"+\n",
       "       \"<li>re-rerun `output_notebook()` to attempt to load from CDN again, or</li>\\n\"+\n",
       "       \"<li>use INLINE resources instead, as so:</li>\\n\"+\n",
       "       \"</ul>\\n\"+\n",
       "       \"<code>\\n\"+\n",
       "       \"from bokeh.resources import INLINE\\n\"+\n",
       "       \"output_notebook(resources=INLINE)\\n\"+\n",
       "       \"</code>\\n\"+\n",
       "       \"</div>\"}};\n",
       "  \n",
       "    function display_loaded() {\n",
       "      if (window.Bokeh !== undefined) {\n",
       "        var el = document.getElementById(\"914dac52-43c1-478e-a4df-fad42745cc03\");\n",
       "        el.textContent = \"BokehJS \" + Bokeh.version + \" successfully loaded.\";\n",
       "      } else if (Date.now() < window._bokeh_timeout) {\n",
       "        setTimeout(display_loaded, 100)\n",
       "      }\n",
       "    }\n",
       "  \n",
       "    function run_callbacks() {\n",
       "      window._bokeh_onload_callbacks.forEach(function(callback) { callback() });\n",
       "      delete window._bokeh_onload_callbacks\n",
       "      console.info(\"Bokeh: all callbacks have finished\");\n",
       "    }\n",
       "  \n",
       "    function load_libs(js_urls, callback) {\n",
       "      window._bokeh_onload_callbacks.push(callback);\n",
       "      if (window._bokeh_is_loading > 0) {\n",
       "        console.log(\"Bokeh: BokehJS is being loaded, scheduling callback at\", now());\n",
       "        return null;\n",
       "      }\n",
       "      if (js_urls == null || js_urls.length === 0) {\n",
       "        run_callbacks();\n",
       "        return null;\n",
       "      }\n",
       "      console.log(\"Bokeh: BokehJS not loaded, scheduling load and callback at\", now());\n",
       "      window._bokeh_is_loading = js_urls.length;\n",
       "      for (var i = 0; i < js_urls.length; i++) {\n",
       "        var url = js_urls[i];\n",
       "        var s = document.createElement('script');\n",
       "        s.src = url;\n",
       "        s.async = false;\n",
       "        s.onreadystatechange = s.onload = function() {\n",
       "          window._bokeh_is_loading--;\n",
       "          if (window._bokeh_is_loading === 0) {\n",
       "            console.log(\"Bokeh: all BokehJS libraries loaded\");\n",
       "            run_callbacks()\n",
       "          }\n",
       "        };\n",
       "        s.onerror = function() {\n",
       "          console.warn(\"failed to load library \" + url);\n",
       "        };\n",
       "        console.log(\"Bokeh: injecting script tag for BokehJS library: \", url);\n",
       "        document.getElementsByTagName(\"head\")[0].appendChild(s);\n",
       "      }\n",
       "    };var element = document.getElementById(\"914dac52-43c1-478e-a4df-fad42745cc03\");\n",
       "    if (element == null) {\n",
       "      console.log(\"Bokeh: ERROR: autoload.js configured with elementid '914dac52-43c1-478e-a4df-fad42745cc03' but no matching script tag was found. \")\n",
       "      return false;\n",
       "    }\n",
       "  \n",
       "    var js_urls = [];\n",
       "  \n",
       "    var inline_js = [\n",
       "      function(Bokeh) {\n",
       "        (function() {\n",
       "          var fn = function() {\n",
       "            var docs_json = {\"f6814695-e9ca-4105-864f-c75d6fc0b7e3\":{\"roots\":{\"references\":[{\"attributes\":{},\"id\":\"7b1a41a9-0377-4bd4-877c-deadfd60edca\",\"type\":\"BasicTickFormatter\"},{\"attributes\":{\"callback\":null},\"id\":\"4f967c10-fb89-4410-8819-06cb1108b32e\",\"type\":\"DataRange1d\"},{\"attributes\":{\"plot\":{\"id\":\"454bf338-9db0-4271-86d8-5870f9278470\",\"subtype\":\"Figure\",\"type\":\"Plot\"},\"ticker\":{\"id\":\"4f48e87d-084a-4d82-9ac7-b738da7acd99\",\"type\":\"BasicTicker\"}},\"id\":\"dda40437-21a3-4bd0-8ce6-54e1f92189f4\",\"type\":\"Grid\"},{\"attributes\":{\"plot\":{\"id\":\"454bf338-9db0-4271-86d8-5870f9278470\",\"subtype\":\"Figure\",\"type\":\"Plot\"}},\"id\":\"811a8a2b-c91a-44ec-9aa6-569297038b04\",\"type\":\"SaveTool\"},{\"attributes\":{\"dimension\":1,\"plot\":{\"id\":\"454bf338-9db0-4271-86d8-5870f9278470\",\"subtype\":\"Figure\",\"type\":\"Plot\"},\"ticker\":{\"id\":\"98db6a9d-6809-4078-9fdd-a25b84de4f7a\",\"type\":\"BasicTicker\"}},\"id\":\"32b21f1a-ae03-427d-9d76-3240069ab3fc\",\"type\":\"Grid\"},{\"attributes\":{\"plot\":{\"id\":\"454bf338-9db0-4271-86d8-5870f9278470\",\"subtype\":\"Figure\",\"type\":\"Plot\"}},\"id\":\"8fc4e372-d309-48d1-91b3-d244aef4f0ea\",\"type\":\"WheelZoomTool\"},{\"attributes\":{\"callback\":null,\"column_names\":[\"x\",\"y\"],\"data\":{\"x\":[7561.0,9568.0,7684.0,4221.0,7198.0,5126.0,6975.0,9426.0,6192.0,18881.0,12974.0,4523.0,11757.0,14982.0,12091.0,3821.0,12121.0,2933.0,10099.0,9464.0,4602.0,2010.0,4469.0,22019.0,13792.0,7595.0,2861.0,3045.0,25957.0,2609.0,11107.0,3133.0,2886.0,7326.0,2262.0,11091.0,5428.0,12477.0,16709.0,902.0,4757.0,5956.0,14961.0,23998.0,10471.0,21531.0,21955.0,55571.0,10868.0,28921.0,1980.0,6996.0,5876.0,11532.0,1947.0,5005.0,26866.0,10487.0,1648.0,8040.0,7854.0,59598.0,6544.0,15775.0,3250.0,45828.0,7417.0,13462.0,3993.0,1293.0,3202.0,21042.0,2661.0,8713.0,9794.0,3.0,6532.0,28540.0,2067.0,3655.0,3009.0,14403.0,11009.0,1783.0,4814.0,92780.0,32114.0,8117.0,4042.0,5330.0,1638.0,2530.0,32034.0,2062.0,11323.0,6252.0,8118.0,610.0,778.0,1909.0,12144.0,16267.0,7677.0,8906.0,3445.0,3970.0,10704.0,14886.0,6981.0,28986.0,1694.0,17569.0,2469.0,1733.0,2000.0,2988.0,3355.0,5380.0,2362.0,2147.0,3412.0,1498.0,245.0,8814.0,2961.0,7102.0,1658.0,10685.0,3823.0,1510.0,699.0,314.0,2479.0,1235.0,2174.0,2591.0,7030.0,8282.0,5034.0,3343.0,7305.0,5189.0,8253.0,1096.0,1988.0,34792.0,2177.0,2707.0,542.0,1651.0,1765.0,2022.0,3135.0,2368.0,137.0,19460.0,14855.0,2474.0,9618.0,14682.0,12822.0,283.0,3810.0,26870.0,8584.0,19858.0,9170.0,3268.0,803.0,2155.0,13430.0,19816.0,6536.0,19805.0,5241.0,11874.0,6536.0,4533.0,4945.0,2500.0,8887.0,18148.0,10518.0,20170.0,4710.0,1139.0,854.0,9819.0,11687.0,11522.0,1981.0,1381.0,2251.0,20292.0,2974.0,5230.0,4897.0,10391.0,6824.0,2112.0,23127.0,24708.0,9490.0,2216.0,5226.0,23596.0,950.0,6089.0,5838.0,16767.0,1393.0,39694.0,2062.0,6861.0,11364.0,15538.0,36486.0,2046.0,15205.0,1390.0,1382.0,10646.0,2856.0,5265.0,1499.0,4157.0,9212.0,1563.0,572.0,2501.0,5615.0,3828.0,3838.0,3316.0,3833.0,2824.0,3047.0,593.0,585.0,3779.0,7041.0,2475.0,2914.0,5119.0,10817.0,13916.0,1777.0,489.0,2406.0,2070.0,1799.0,33586.0,4740.0,16966.0,4748.0,1495.0,5249.0,1883.0,2124.0,7336.0,2157.0,1094.0,1677.0,6684.0,15445.0,13699.0,22182.0,2576.0,19847.0,1138.0,975.0,1563.0,6869.0,1493.0,1841.0,223.0,6964.0,683.0,2543.0,9694.0,2431.0,6235.0,4252.0,2013.0,12609.0,3600.0,1242.0,2828.0,1296.0,471.0,2642.0,3261.0,4329.0,12469.0,6550.0,5234.0,3643.0,6986.0,9965.0,2060.0,6360.0,20399.0,9785.0,13829.0,24773.0,8852.0,21570.0,2842.0,3007.0,13567.0,2405.0,8280.0,19172.0,2405.0,7647.0,11924.0,2201.0,6114.0,3558.0,17645.0,2280.0,5167.0,3315.0,11593.0,2464.0,13626.0,1431.0,1664.0,3389.0,4583.0,5109.0,26839.0,1447.0,67298.0,2743.0,10790.0,1330.0,2611.0,7021.0,5332.0,9670.0,11238.0,5923.0,26316.0,1763.0,8335.0,15541.0,12311.0,2028.0,20521.0,1997.0,22294.0,1533.0,21203.0,2548.0,2012.0,218.0,22272.0,1660.0,2109.0,2006.0,864.0,2453.0,4438.0,1524.0,8025.0,1664.0,534.0,2406.0,683.0,4955.0,1939.0,1641.0,7398.0,1668.0,1162.0,13586.0,2648.0,1902.0,10391.0,2146.0,1617.0,8469.0,3450.0,15400.0,1614.0,2857.0,1573.0,1172.0,1422.0,1328.0,2313.0,3600.0,3842.0,3204.0,1263.0,9345.0,1428.0,582.0,935.0,1238.0,2128.0,5091.0,4604.0,3444.0,1167.0,5026.0,18683.0,6407.0,6100.0,4563.0,3281.0,12400.0,6633.0,3417.0,8552.0,10908.0,11055.0,18622.0,2223.0,13227.0,9053.0,4172.0,4657.0,12232.0,2593.0,14316.0,5429.0,4910.0,3580.0,16483.0,5160.0,4754.0,1493.0,7994.0,16027.0,764.0,30243.0,2232.0,2510.0],\"y\":[9656.0,9810.0,8808.0,1196.0,5410.0,8259.0,3199.0,4956.0,3648.0,11093.0,5403.0,1124.0,12319.0,6208.0,9465.0,1114.0,8816.0,6157.0,6327.0,2495.0,4519.0,871.0,1917.0,36423.0,9776.0,4230.0,961.0,803.0,20484.0,2100.0,3610.0,4339.0,1318.0,4786.0,1979.0,5491.0,4362.0,10556.0,15729.0,555.0,4332.0,3065.0,7555.0,11095.0,7027.0,22044.0,14069.0,54259.0,6152.0,21412.0,1095.0,4051.0,3916.0,10473.0,1449.0,3683.0,29892.0,9933.0,1970.0,5360.0,3045.0,38369.0,6245.0,11601.0,1227.0,20959.0,1534.0,6759.0,7260.0,2820.0,2037.0,1266.0,5139.0,5332.0,6343.0,1137.0,3587.0,12697.0,1175.0,3259.0,829.0,9540.0,9232.0,1563.0,3327.0,46197.0,73498.0,5025.0,542.0,3836.0,596.0,2762.0,27472.0,3090.0,12220.0,2920.0,2616.0,254.0,112.0,2182.0,7779.0,10810.0,6459.0,3504.0,2132.0,1014.0,6337.0,10646.0,8397.0,16729.0,1648.0,11114.0,2770.0,2295.0,1080.0,793.0,2521.0,3880.0,1891.0,2344.0,1200.0,3234.0,201.0,10769.0,1642.0,3473.0,1840.0,7243.0,8847.0,926.0,2428.0,589.0,2032.0,1042.0,1882.0,1289.0,8579.0,8080.0,4257.0,4979.0,4280.0,13252.0,7152.0,1596.0,3677.0,8384.0,1936.0,3373.0,584.0,1433.0,1825.0,3328.0,1371.0,9250.0,55.0,10690.0,5291.0,1366.0,6570.0,7704.0,3651.0,540.0,2024.0,15726.0,7603.0,12653.0,6721.0,3195.0,735.0,717.0,8675.0,25862.0,5479.0,7677.0,1208.0,7845.0,6958.0,7330.0,7075.0,4888.0,6036.0,29627.0,8533.0,43950.0,918.0,6448.0,521.0,8002.0,7639.0,11577.0,6250.0,295.0,1461.0,3485.0,1012.0,5139.0,7209.0,7097.0,2154.0,2280.0,13240.0,14399.0,11487.0,685.0,891.0,11711.0,780.0,4737.0,3748.0,12729.0,1895.0,28326.0,1012.0,6602.0,6551.0,10765.0,16599.0,1475.0,7504.0,367.0,899.0,7503.0,1115.0,2527.0,659.0,3243.0,5921.0,2204.0,577.0,2746.0,5989.0,10678.0,1780.0,4984.0,2703.0,6380.0,820.0,3838.0,475.0,2567.0,3575.0,1801.0,659.0,3576.0,7775.0,6154.0,2428.0,346.0,5279.0,3795.0,1993.0,23133.0,1860.0,7961.0,17972.0,489.0,5008.0,1931.0,4563.0,4959.0,4885.0,1110.0,1372.0,1115.0,9679.0,23527.0,9763.0,1222.0,8053.0,258.0,1032.0,5007.0,8323.0,3045.0,1703.0,1610.0,3749.0,829.0,2317.0,6200.0,2884.0,7108.0,3965.0,3613.0,4411.0,640.0,2247.0,2102.0,594.0,286.0,2160.0,3354.0,3086.0,11103.0,2013.0,1897.0,1304.0,3199.0,4560.0,879.0,6243.0,13316.0,5302.0,3688.0,7460.0,12939.0,12867.0,2374.0,1020.0,20655.0,1492.0,2335.0,3737.0,925.0,1795.0,14982.0,1375.0,3088.0,2713.0,25071.0,3696.0,1897.0,713.0,944.0,3587.0,16784.0,1610.0,899.0,2209.0,1486.0,1786.0,14881.0,3216.0,4980.0,928.0,6817.0,1511.0,1347.0,333.0,1188.0,4025.0,5763.0,5758.0,6964.0,1172.0,2602.0,6939.0,7184.0,2380.0,14641.0,1099.0,10044.0,1106.0,6264.0,7393.0,727.0,134.0,1275.0,18664.0,5878.0,2872.0,607.0,1601.0,997.0,873.0,6128.0,2217.0,894.0,1196.0,337.0,3944.0,1887.0,3801.0,6257.0,2256.0,1450.0,8630.0,3154.0,3294.0,5164.0,944.0,4591.0,7435.0,1364.0,21858.0,922.0,3620.0,1916.0,848.0,1530.0,1181.0,2761.0,4180.0,6730.0,865.0,1316.0,11991.0,1666.0,1032.0,577.0,906.0,2801.0,4753.0,11006.0,4613.0,1046.0,5010.0,12844.0,3880.0,3634.0,2096.0,3289.0,3605.0,4859.0,1990.0,6046.0,10940.0,5499.0,8494.0,3783.0,5266.0,4847.0,1377.0,3686.0,2884.0,2408.0,9347.0,16687.0,5970.0,1750.0,4230.0,5506.0,1162.0,3218.0,3922.0,12051.0,1431.0,15488.0,1981.0,1698.0]}},\"id\":\"807c2330-26a9-4707-94b7-238f2c663c82\",\"type\":\"ColumnDataSource\"},{\"attributes\":{},\"id\":\"929ed534-55bc-446e-9e2b-afa33b77f7dd\",\"type\":\"ToolEvents\"},{\"attributes\":{\"axis_label\":\"Milk\",\"formatter\":{\"id\":\"f0dc9eda-4767-4ecc-9b68-b7b291eb9910\",\"type\":\"BasicTickFormatter\"},\"plot\":{\"id\":\"454bf338-9db0-4271-86d8-5870f9278470\",\"subtype\":\"Figure\",\"type\":\"Plot\"},\"ticker\":{\"id\":\"4f48e87d-084a-4d82-9ac7-b738da7acd99\",\"type\":\"BasicTicker\"}},\"id\":\"5110373c-8795-4a77-b2b9-5bed283aba77\",\"type\":\"LinearAxis\"},{\"attributes\":{\"plot\":null,\"text\":\"US Employment Rates after 1991\"},\"id\":\"2f1ff70b-5c6f-4614-9d34-38194cfefcfd\",\"type\":\"Title\"},{\"attributes\":{\"plot\":{\"id\":\"454bf338-9db0-4271-86d8-5870f9278470\",\"subtype\":\"Figure\",\"type\":\"Plot\"}},\"id\":\"c270a320-c917-437c-84a7-5a971b8ea687\",\"type\":\"PanTool\"},{\"attributes\":{},\"id\":\"f0dc9eda-4767-4ecc-9b68-b7b291eb9910\",\"type\":\"BasicTickFormatter\"},{\"attributes\":{\"plot\":{\"id\":\"454bf338-9db0-4271-86d8-5870f9278470\",\"subtype\":\"Figure\",\"type\":\"Plot\"}},\"id\":\"d3e34bd4-ef64-4daa-ab4f-68f2610591c6\",\"type\":\"ResetTool\"},{\"attributes\":{\"data_source\":{\"id\":\"807c2330-26a9-4707-94b7-238f2c663c82\",\"type\":\"ColumnDataSource\"},\"glyph\":{\"id\":\"94ea0d1f-f6d2-4225-98bf-c97a370f002e\",\"type\":\"Circle\"},\"hover_glyph\":null,\"muted_glyph\":null,\"nonselection_glyph\":{\"id\":\"9483866e-4229-4a89-beae-50aaa3859a18\",\"type\":\"Circle\"},\"selection_glyph\":null},\"id\":\"07bee31a-f230-4540-9cb6-a4795fa71698\",\"type\":\"GlyphRenderer\"},{\"attributes\":{\"plot\":{\"id\":\"454bf338-9db0-4271-86d8-5870f9278470\",\"subtype\":\"Figure\",\"type\":\"Plot\"}},\"id\":\"13f7ea92-6465-490f-8da5-cb6280ade663\",\"type\":\"HelpTool\"},{\"attributes\":{\"active_drag\":\"auto\",\"active_scroll\":\"auto\",\"active_tap\":\"auto\",\"tools\":[{\"id\":\"c270a320-c917-437c-84a7-5a971b8ea687\",\"type\":\"PanTool\"},{\"id\":\"8fc4e372-d309-48d1-91b3-d244aef4f0ea\",\"type\":\"WheelZoomTool\"},{\"id\":\"d3fdd7c2-a75d-4262-8da7-7dba1c087178\",\"type\":\"BoxZoomTool\"},{\"id\":\"811a8a2b-c91a-44ec-9aa6-569297038b04\",\"type\":\"SaveTool\"},{\"id\":\"d3e34bd4-ef64-4daa-ab4f-68f2610591c6\",\"type\":\"ResetTool\"},{\"id\":\"13f7ea92-6465-490f-8da5-cb6280ade663\",\"type\":\"HelpTool\"}]},\"id\":\"56a5b0f0-b8cf-47eb-a2c8-1b2b5057eaf5\",\"type\":\"Toolbar\"},{\"attributes\":{\"fill_alpha\":{\"value\":0.5},\"fill_color\":{\"value\":\"orange\"},\"line_color\":{\"value\":\"navy\"},\"x\":{\"field\":\"x\"},\"y\":{\"field\":\"y\"}},\"id\":\"94ea0d1f-f6d2-4225-98bf-c97a370f002e\",\"type\":\"Circle\"},{\"attributes\":{\"axis_label\":\"Groceries\",\"formatter\":{\"id\":\"7b1a41a9-0377-4bd4-877c-deadfd60edca\",\"type\":\"BasicTickFormatter\"},\"plot\":{\"id\":\"454bf338-9db0-4271-86d8-5870f9278470\",\"subtype\":\"Figure\",\"type\":\"Plot\"},\"ticker\":{\"id\":\"98db6a9d-6809-4078-9fdd-a25b84de4f7a\",\"type\":\"BasicTicker\"}},\"id\":\"bfb3c4c1-2ac4-4a2f-a2b2-4db649e33868\",\"type\":\"LinearAxis\"},{\"attributes\":{},\"id\":\"4f48e87d-084a-4d82-9ac7-b738da7acd99\",\"type\":\"BasicTicker\"},{\"attributes\":{\"below\":[{\"id\":\"5110373c-8795-4a77-b2b9-5bed283aba77\",\"type\":\"LinearAxis\"}],\"left\":[{\"id\":\"bfb3c4c1-2ac4-4a2f-a2b2-4db649e33868\",\"type\":\"LinearAxis\"}],\"plot_height\":400,\"plot_width\":400,\"renderers\":[{\"id\":\"5110373c-8795-4a77-b2b9-5bed283aba77\",\"type\":\"LinearAxis\"},{\"id\":\"dda40437-21a3-4bd0-8ce6-54e1f92189f4\",\"type\":\"Grid\"},{\"id\":\"bfb3c4c1-2ac4-4a2f-a2b2-4db649e33868\",\"type\":\"LinearAxis\"},{\"id\":\"32b21f1a-ae03-427d-9d76-3240069ab3fc\",\"type\":\"Grid\"},{\"id\":\"dd7c1a65-c1c5-49f6-a68d-8c97ef04393e\",\"type\":\"BoxAnnotation\"},{\"id\":\"07bee31a-f230-4540-9cb6-a4795fa71698\",\"type\":\"GlyphRenderer\"}],\"title\":{\"id\":\"2f1ff70b-5c6f-4614-9d34-38194cfefcfd\",\"type\":\"Title\"},\"tool_events\":{\"id\":\"929ed534-55bc-446e-9e2b-afa33b77f7dd\",\"type\":\"ToolEvents\"},\"toolbar\":{\"id\":\"56a5b0f0-b8cf-47eb-a2c8-1b2b5057eaf5\",\"type\":\"Toolbar\"},\"x_range\":{\"id\":\"2cd0a8e7-b90f-45fa-9b74-2e4bb2876397\",\"type\":\"DataRange1d\"},\"y_range\":{\"id\":\"4f967c10-fb89-4410-8819-06cb1108b32e\",\"type\":\"DataRange1d\"}},\"id\":\"454bf338-9db0-4271-86d8-5870f9278470\",\"subtype\":\"Figure\",\"type\":\"Plot\"},{\"attributes\":{\"callback\":null},\"id\":\"2cd0a8e7-b90f-45fa-9b74-2e4bb2876397\",\"type\":\"DataRange1d\"},{\"attributes\":{},\"id\":\"98db6a9d-6809-4078-9fdd-a25b84de4f7a\",\"type\":\"BasicTicker\"},{\"attributes\":{\"bottom_units\":\"screen\",\"fill_alpha\":{\"value\":0.5},\"fill_color\":{\"value\":\"lightgrey\"},\"left_units\":\"screen\",\"level\":\"overlay\",\"line_alpha\":{\"value\":1.0},\"line_color\":{\"value\":\"black\"},\"line_dash\":[4,4],\"line_width\":{\"value\":2},\"plot\":null,\"render_mode\":\"css\",\"right_units\":\"screen\",\"top_units\":\"screen\"},\"id\":\"dd7c1a65-c1c5-49f6-a68d-8c97ef04393e\",\"type\":\"BoxAnnotation\"},{\"attributes\":{\"overlay\":{\"id\":\"dd7c1a65-c1c5-49f6-a68d-8c97ef04393e\",\"type\":\"BoxAnnotation\"},\"plot\":{\"id\":\"454bf338-9db0-4271-86d8-5870f9278470\",\"subtype\":\"Figure\",\"type\":\"Plot\"}},\"id\":\"d3fdd7c2-a75d-4262-8da7-7dba1c087178\",\"type\":\"BoxZoomTool\"},{\"attributes\":{\"fill_alpha\":{\"value\":0.1},\"fill_color\":{\"value\":\"#1f77b4\"},\"line_alpha\":{\"value\":0.1},\"line_color\":{\"value\":\"#1f77b4\"},\"x\":{\"field\":\"x\"},\"y\":{\"field\":\"y\"}},\"id\":\"9483866e-4229-4a89-beae-50aaa3859a18\",\"type\":\"Circle\"}],\"root_ids\":[\"454bf338-9db0-4271-86d8-5870f9278470\"]},\"title\":\"Bokeh Application\",\"version\":\"0.12.5\"}};\n",
       "            var render_items = [{\"docid\":\"f6814695-e9ca-4105-864f-c75d6fc0b7e3\",\"elementid\":\"914dac52-43c1-478e-a4df-fad42745cc03\",\"modelid\":\"454bf338-9db0-4271-86d8-5870f9278470\"}];\n",
       "            \n",
       "            Bokeh.embed.embed_items(docs_json, render_items);\n",
       "          };\n",
       "          if (document.readyState != \"loading\") fn();\n",
       "          else document.addEventListener(\"DOMContentLoaded\", fn);\n",
       "        })();\n",
       "      },\n",
       "      function(Bokeh) {\n",
       "      }\n",
       "    ];\n",
       "  \n",
       "    function run_inline_js() {\n",
       "      \n",
       "      if ((window.Bokeh !== undefined) || (force === true)) {\n",
       "        for (var i = 0; i < inline_js.length; i++) {\n",
       "          inline_js[i](window.Bokeh);\n",
       "        }if (force === true) {\n",
       "          display_loaded();\n",
       "        }} else if (Date.now() < window._bokeh_timeout) {\n",
       "        setTimeout(run_inline_js, 100);\n",
       "      } else if (!window._bokeh_failed_load) {\n",
       "        console.log(\"Bokeh: BokehJS failed to load within specified timeout.\");\n",
       "        window._bokeh_failed_load = true;\n",
       "      } else if (force !== true) {\n",
       "        var cell = $(document.getElementById(\"914dac52-43c1-478e-a4df-fad42745cc03\")).parents('.cell').data().cell;\n",
       "        cell.output_area.append_execute_result(NB_LOAD_WARNING)\n",
       "      }\n",
       "  \n",
       "    }\n",
       "  \n",
       "    if (window._bokeh_is_loading === 0) {\n",
       "      console.log(\"Bokeh: BokehJS loaded, going straight to plotting\");\n",
       "      run_inline_js();\n",
       "    } else {\n",
       "      load_libs(js_urls, function() {\n",
       "        console.log(\"Bokeh: BokehJS plotting callback run at\", now());\n",
       "        run_inline_js();\n",
       "      });\n",
       "    }\n",
       "  }(this));\n",
       "</script>"
      ]
     },
     "metadata": {},
     "output_type": "display_data"
    }
   ],
   "source": [
    "p = figure(plot_width=400, plot_height=400, title=\"US Employment Rates after 1991\")\n",
    "\n",
    "p.circle(wholeDataGroceries, wholeDataMilk, line_color=\"navy\", fill_color=\"orange\", fill_alpha=0.5)\n",
    "\n",
    "p.xaxis.axis_label = \"Milk\"\n",
    "p.yaxis.axis_label = \"Groceries\"\n",
    "\n",
    "show(p)"
   ]
  },
  {
   "cell_type": "code",
   "execution_count": null,
   "metadata": {},
   "outputs": [
    {
     "name": "stderr",
     "output_type": "stream",
     "text": [
      "2017-09-24 13:15:32,618 INFO Downloading 20news dataset. This may take a few minutes.\n",
      "2017-09-24 13:15:32,622 WARNING Downloading dataset from http://people.csail.mit.edu/jrennie/20Newsgroups/20news-bydate.tar.gz (14 MB)\n"
     ]
    },
    {
     "name": "stdout",
     "output_type": "stream",
     "text": [
      "Automatically created module for IPython interactive environment\n",
      "Usage: ipykernel_launcher.py [options]\n",
      "\n",
      "Options:\n",
      "  -h, --help            show this help message and exit\n",
      "  --lsa=N_COMPONENTS    Preprocess documents with latent semantic analysis.\n",
      "  --no-minibatch        Use ordinary k-means algorithm (in batch mode).\n",
      "  --no-idf              Disable Inverse Document Frequency feature weighting.\n",
      "  --use-hashing         Use a hashing feature vectorizer\n",
      "  --n-features=N_FEATURES\n",
      "                        Maximum number of features (dimensions) to extract\n",
      "                        from text.\n",
      "  --verbose             Print progress reports inside k-means algorithm.\n",
      "Loading 20 newsgroups dataset for categories:\n",
      "['alt.atheism', 'talk.religion.misc', 'comp.graphics', 'sci.space']\n"
     ]
    },
    {
     "name": "stderr",
     "output_type": "stream",
     "text": [
      "2017-09-24 13:15:36,976 INFO Decompressing C:\\Users\\Sandeep\\scikit_learn_data\\20news_home\\20news-bydate.tar.gz\n"
     ]
    }
   ],
   "source": [
    "# Author: Peter Prettenhofer <peter.prettenhofer@gmail.com>\n",
    "#         Lars Buitinck\n",
    "# License: BSD 3 clause\n",
    "\n",
    "from __future__ import print_function\n",
    "\n",
    "from sklearn.datasets import fetch_20newsgroups\n",
    "from sklearn.decomposition import TruncatedSVD\n",
    "from sklearn.feature_extraction.text import TfidfVectorizer\n",
    "from sklearn.feature_extraction.text import HashingVectorizer\n",
    "from sklearn.feature_extraction.text import TfidfTransformer\n",
    "from sklearn.pipeline import make_pipeline\n",
    "from sklearn.preprocessing import Normalizer\n",
    "from sklearn import metrics\n",
    "\n",
    "from sklearn.cluster import KMeans, MiniBatchKMeans\n",
    "\n",
    "import logging\n",
    "from optparse import OptionParser\n",
    "import sys\n",
    "from time import time\n",
    "\n",
    "import numpy as np\n",
    "\n",
    "\n",
    "# Display progress logs on stdout\n",
    "logging.basicConfig(level=logging.INFO,\n",
    "                    format='%(asctime)s %(levelname)s %(message)s')\n",
    "\n",
    "# parse commandline arguments\n",
    "op = OptionParser()\n",
    "op.add_option(\"--lsa\",\n",
    "              dest=\"n_components\", type=\"int\",\n",
    "              help=\"Preprocess documents with latent semantic analysis.\")\n",
    "op.add_option(\"--no-minibatch\",\n",
    "              action=\"store_false\", dest=\"minibatch\", default=True,\n",
    "              help=\"Use ordinary k-means algorithm (in batch mode).\")\n",
    "op.add_option(\"--no-idf\",\n",
    "              action=\"store_false\", dest=\"use_idf\", default=True,\n",
    "              help=\"Disable Inverse Document Frequency feature weighting.\")\n",
    "op.add_option(\"--use-hashing\",\n",
    "              action=\"store_true\", default=False,\n",
    "              help=\"Use a hashing feature vectorizer\")\n",
    "op.add_option(\"--n-features\", type=int, default=10000,\n",
    "              help=\"Maximum number of features (dimensions)\"\n",
    "                   \" to extract from text.\")\n",
    "op.add_option(\"--verbose\",\n",
    "              action=\"store_true\", dest=\"verbose\", default=False,\n",
    "              help=\"Print progress reports inside k-means algorithm.\")\n",
    "\n",
    "print(__doc__)\n",
    "op.print_help()\n",
    "\n",
    "\n",
    "def is_interactive():\n",
    "    return not hasattr(sys.modules['__main__'], '__file__')\n",
    "\n",
    "# work-around for Jupyter notebook and IPython console\n",
    "argv = [] if is_interactive() else sys.argv[1:]\n",
    "(opts, args) = op.parse_args(argv)\n",
    "if len(args) > 0:\n",
    "    op.error(\"this script takes no arguments.\")\n",
    "    sys.exit(1)\n",
    "\n",
    "\n",
    "# #############################################################################\n",
    "# Load some categories from the training set\n",
    "categories = [\n",
    "    'alt.atheism',\n",
    "    'talk.religion.misc',\n",
    "    'comp.graphics',\n",
    "    'sci.space',\n",
    "]\n",
    "# Uncomment the following to do the analysis on all the categories\n",
    "# categories = None\n",
    "\n",
    "print(\"Loading 20 newsgroups dataset for categories:\")\n",
    "print(categories)\n",
    "\n",
    "dataset = fetch_20newsgroups(subset='all', categories=categories,\n",
    "                             shuffle=True, random_state=42)\n",
    "\n",
    "print(\"%d documents\" % len(dataset.data))\n",
    "print(\"%d categories\" % len(dataset.target_names))\n",
    "print()\n",
    "\n",
    "labels = dataset.target\n",
    "true_k = np.unique(labels).shape[0]\n",
    "\n",
    "print(\"Extracting features from the training dataset using a sparse vectorizer\")\n",
    "t0 = time()\n",
    "if opts.use_hashing:\n",
    "    if opts.use_idf:\n",
    "        # Perform an IDF normalization on the output of HashingVectorizer\n",
    "        hasher = HashingVectorizer(n_features=opts.n_features,\n",
    "                                   stop_words='english', alternate_sign=False,\n",
    "                                   norm=None, binary=False)\n",
    "        vectorizer = make_pipeline(hasher, TfidfTransformer())\n",
    "    else:\n",
    "        vectorizer = HashingVectorizer(n_features=opts.n_features,\n",
    "                                       stop_words='english',\n",
    "                                       alternate_sign=False, norm='l2',\n",
    "                                       binary=False)\n",
    "else:\n",
    "    vectorizer = TfidfVectorizer(max_df=0.5, max_features=opts.n_features,\n",
    "                                 min_df=2, stop_words='english',\n",
    "                                 use_idf=opts.use_idf)\n",
    "X = vectorizer.fit_transform(dataset.data)\n",
    "\n",
    "print(\"done in %fs\" % (time() - t0))\n",
    "print(\"n_samples: %d, n_features: %d\" % X.shape)\n",
    "print()\n",
    "\n",
    "if opts.n_components:\n",
    "    print(\"Performing dimensionality reduction using LSA\")\n",
    "    t0 = time()\n",
    "    # Vectorizer results are normalized, which makes KMeans behave as\n",
    "    # spherical k-means for better results. Since LSA/SVD results are\n",
    "    # not normalized, we have to redo the normalization.\n",
    "    svd = TruncatedSVD(opts.n_components)\n",
    "    normalizer = Normalizer(copy=False)\n",
    "    lsa = make_pipeline(svd, normalizer)\n",
    "\n",
    "    X = lsa.fit_transform(X)\n",
    "\n",
    "    print(\"done in %fs\" % (time() - t0))\n",
    "\n",
    "    explained_variance = svd.explained_variance_ratio_.sum()\n",
    "    print(\"Explained variance of the SVD step: {}%\".format(\n",
    "        int(explained_variance * 100)))\n",
    "\n",
    "    print()\n",
    "\n",
    "\n",
    "# #############################################################################\n",
    "# Do the actual clustering\n",
    "\n",
    "if opts.minibatch:\n",
    "    km = MiniBatchKMeans(n_clusters=true_k, init='k-means++', n_init=1,\n",
    "                         init_size=1000, batch_size=1000, verbose=opts.verbose)\n",
    "else:\n",
    "    km = KMeans(n_clusters=true_k, init='k-means++', max_iter=100, n_init=1,\n",
    "                verbose=opts.verbose)\n",
    "\n",
    "print(\"Clustering sparse data with %s\" % km)\n",
    "t0 = time()\n",
    "km.fit(X)\n",
    "print(\"done in %0.3fs\" % (time() - t0))\n",
    "print()\n",
    "\n",
    "print(\"Homogeneity: %0.3f\" % metrics.homogeneity_score(labels, km.labels_))\n",
    "print(\"Completeness: %0.3f\" % metrics.completeness_score(labels, km.labels_))\n",
    "print(\"V-measure: %0.3f\" % metrics.v_measure_score(labels, km.labels_))\n",
    "print(\"Adjusted Rand-Index: %.3f\"\n",
    "      % metrics.adjusted_rand_score(labels, km.labels_))\n",
    "print(\"Silhouette Coefficient: %0.3f\"\n",
    "      % metrics.silhouette_score(X, km.labels_, sample_size=1000))\n",
    "\n",
    "print()\n",
    "\n",
    "\n",
    "if not opts.use_hashing:\n",
    "    print(\"Top terms per cluster:\")\n",
    "\n",
    "    if opts.n_components:\n",
    "        original_space_centroids = svd.inverse_transform(km.cluster_centers_)\n",
    "        order_centroids = original_space_centroids.argsort()[:, ::-1]\n",
    "    else:\n",
    "        order_centroids = km.cluster_centers_.argsort()[:, ::-1]\n",
    "\n",
    "    terms = vectorizer.get_feature_names()\n",
    "    for i in range(true_k):\n",
    "        print(\"Cluster %d:\" % i, end='')\n",
    "        for ind in order_centroids[i, :10]:\n",
    "            print(' %s' % terms[ind], end='')\n",
    "        print()"
   ]
  },
  {
   "cell_type": "code",
   "execution_count": null,
   "metadata": {
    "collapsed": true
   },
   "outputs": [],
   "source": []
  }
 ],
 "metadata": {
  "kernelspec": {
   "display_name": "Python 3",
   "language": "python",
   "name": "python3"
  },
  "language_info": {
   "codemirror_mode": {
    "name": "ipython",
    "version": 3
   },
   "file_extension": ".py",
   "mimetype": "text/x-python",
   "name": "python",
   "nbconvert_exporter": "python",
   "pygments_lexer": "ipython3",
   "version": "3.6.1"
  }
 },
 "nbformat": 4,
 "nbformat_minor": 2
}
