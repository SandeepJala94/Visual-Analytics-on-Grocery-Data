{
 "cells": [
  {
   "cell_type": "code",
   "execution_count": 1,
   "metadata": {},
   "outputs": [
    {
     "data": {
      "text/html": [
       "\n",
       "    <div class=\"bk-root\">\n",
       "        <a href=\"http://bokeh.pydata.org\" target=\"_blank\" class=\"bk-logo bk-logo-small bk-logo-notebook\"></a>\n",
       "        <span id=\"040d0ce4-13ab-49a8-a0c2-801237f25246\">Loading BokehJS ...</span>\n",
       "    </div>"
      ]
     },
     "metadata": {},
     "output_type": "display_data"
    },
    {
     "data": {
      "application/javascript": [
       "\n",
       "(function(global) {\n",
       "  function now() {\n",
       "    return new Date();\n",
       "  }\n",
       "\n",
       "  var force = true;\n",
       "\n",
       "  if (typeof (window._bokeh_onload_callbacks) === \"undefined\" || force === true) {\n",
       "    window._bokeh_onload_callbacks = [];\n",
       "    window._bokeh_is_loading = undefined;\n",
       "  }\n",
       "\n",
       "\n",
       "  \n",
       "  if (typeof (window._bokeh_timeout) === \"undefined\" || force === true) {\n",
       "    window._bokeh_timeout = Date.now() + 5000;\n",
       "    window._bokeh_failed_load = false;\n",
       "  }\n",
       "\n",
       "  var NB_LOAD_WARNING = {'data': {'text/html':\n",
       "     \"<div style='background-color: #fdd'>\\n\"+\n",
       "     \"<p>\\n\"+\n",
       "     \"BokehJS does not appear to have successfully loaded. If loading BokehJS from CDN, this \\n\"+\n",
       "     \"may be due to a slow or bad network connection. Possible fixes:\\n\"+\n",
       "     \"</p>\\n\"+\n",
       "     \"<ul>\\n\"+\n",
       "     \"<li>re-rerun `output_notebook()` to attempt to load from CDN again, or</li>\\n\"+\n",
       "     \"<li>use INLINE resources instead, as so:</li>\\n\"+\n",
       "     \"</ul>\\n\"+\n",
       "     \"<code>\\n\"+\n",
       "     \"from bokeh.resources import INLINE\\n\"+\n",
       "     \"output_notebook(resources=INLINE)\\n\"+\n",
       "     \"</code>\\n\"+\n",
       "     \"</div>\"}};\n",
       "\n",
       "  function display_loaded() {\n",
       "    if (window.Bokeh !== undefined) {\n",
       "      var el = document.getElementById(\"040d0ce4-13ab-49a8-a0c2-801237f25246\");\n",
       "      el.textContent = \"BokehJS \" + Bokeh.version + \" successfully loaded.\";\n",
       "    } else if (Date.now() < window._bokeh_timeout) {\n",
       "      setTimeout(display_loaded, 100)\n",
       "    }\n",
       "  }\n",
       "\n",
       "  function run_callbacks() {\n",
       "    window._bokeh_onload_callbacks.forEach(function(callback) { callback() });\n",
       "    delete window._bokeh_onload_callbacks\n",
       "    console.info(\"Bokeh: all callbacks have finished\");\n",
       "  }\n",
       "\n",
       "  function load_libs(js_urls, callback) {\n",
       "    window._bokeh_onload_callbacks.push(callback);\n",
       "    if (window._bokeh_is_loading > 0) {\n",
       "      console.log(\"Bokeh: BokehJS is being loaded, scheduling callback at\", now());\n",
       "      return null;\n",
       "    }\n",
       "    if (js_urls == null || js_urls.length === 0) {\n",
       "      run_callbacks();\n",
       "      return null;\n",
       "    }\n",
       "    console.log(\"Bokeh: BokehJS not loaded, scheduling load and callback at\", now());\n",
       "    window._bokeh_is_loading = js_urls.length;\n",
       "    for (var i = 0; i < js_urls.length; i++) {\n",
       "      var url = js_urls[i];\n",
       "      var s = document.createElement('script');\n",
       "      s.src = url;\n",
       "      s.async = false;\n",
       "      s.onreadystatechange = s.onload = function() {\n",
       "        window._bokeh_is_loading--;\n",
       "        if (window._bokeh_is_loading === 0) {\n",
       "          console.log(\"Bokeh: all BokehJS libraries loaded\");\n",
       "          run_callbacks()\n",
       "        }\n",
       "      };\n",
       "      s.onerror = function() {\n",
       "        console.warn(\"failed to load library \" + url);\n",
       "      };\n",
       "      console.log(\"Bokeh: injecting script tag for BokehJS library: \", url);\n",
       "      document.getElementsByTagName(\"head\")[0].appendChild(s);\n",
       "    }\n",
       "  };var element = document.getElementById(\"040d0ce4-13ab-49a8-a0c2-801237f25246\");\n",
       "  if (element == null) {\n",
       "    console.log(\"Bokeh: ERROR: autoload.js configured with elementid '040d0ce4-13ab-49a8-a0c2-801237f25246' but no matching script tag was found. \")\n",
       "    return false;\n",
       "  }\n",
       "\n",
       "  var js_urls = [\"https://cdn.pydata.org/bokeh/release/bokeh-0.12.5.min.js\", \"https://cdn.pydata.org/bokeh/release/bokeh-widgets-0.12.5.min.js\"];\n",
       "\n",
       "  var inline_js = [\n",
       "    function(Bokeh) {\n",
       "      Bokeh.set_log_level(\"info\");\n",
       "    },\n",
       "    \n",
       "    function(Bokeh) {\n",
       "      \n",
       "    },\n",
       "    \n",
       "    function(Bokeh) {\n",
       "      \n",
       "      document.getElementById(\"040d0ce4-13ab-49a8-a0c2-801237f25246\").textContent = \"BokehJS is loading...\";\n",
       "    },\n",
       "    function(Bokeh) {\n",
       "      console.log(\"Bokeh: injecting CSS: https://cdn.pydata.org/bokeh/release/bokeh-0.12.5.min.css\");\n",
       "      Bokeh.embed.inject_css(\"https://cdn.pydata.org/bokeh/release/bokeh-0.12.5.min.css\");\n",
       "      console.log(\"Bokeh: injecting CSS: https://cdn.pydata.org/bokeh/release/bokeh-widgets-0.12.5.min.css\");\n",
       "      Bokeh.embed.inject_css(\"https://cdn.pydata.org/bokeh/release/bokeh-widgets-0.12.5.min.css\");\n",
       "    }\n",
       "  ];\n",
       "\n",
       "  function run_inline_js() {\n",
       "    \n",
       "    if ((window.Bokeh !== undefined) || (force === true)) {\n",
       "      for (var i = 0; i < inline_js.length; i++) {\n",
       "        inline_js[i](window.Bokeh);\n",
       "      }if (force === true) {\n",
       "        display_loaded();\n",
       "      }} else if (Date.now() < window._bokeh_timeout) {\n",
       "      setTimeout(run_inline_js, 100);\n",
       "    } else if (!window._bokeh_failed_load) {\n",
       "      console.log(\"Bokeh: BokehJS failed to load within specified timeout.\");\n",
       "      window._bokeh_failed_load = true;\n",
       "    } else if (force !== true) {\n",
       "      var cell = $(document.getElementById(\"040d0ce4-13ab-49a8-a0c2-801237f25246\")).parents('.cell').data().cell;\n",
       "      cell.output_area.append_execute_result(NB_LOAD_WARNING)\n",
       "    }\n",
       "\n",
       "  }\n",
       "\n",
       "  if (window._bokeh_is_loading === 0) {\n",
       "    console.log(\"Bokeh: BokehJS loaded, going straight to plotting\");\n",
       "    run_inline_js();\n",
       "  } else {\n",
       "    load_libs(js_urls, function() {\n",
       "      console.log(\"Bokeh: BokehJS plotting callback run at\", now());\n",
       "      run_inline_js();\n",
       "    });\n",
       "  }\n",
       "}(this));"
      ]
     },
     "metadata": {},
     "output_type": "display_data"
    }
   ],
   "source": [
    "from bokeh.io import output_notebook, show\n",
    "from bokeh.plotting import figure\n",
    "from bokeh.models import HoverTool\n",
    "import math\n",
    "output_notebook()"
   ]
  },
  {
   "cell_type": "code",
   "execution_count": 2,
   "metadata": {
    "collapsed": true
   },
   "outputs": [],
   "source": [
    "import xlrd\n",
    "file_location = \"C:/Users/Sandeep/Desktop/CollegeCourses/GRAD_SCHOOL/CS_690V_Visual_Analytics/HW/HW2/Wholesale customers data.xlsx\"\n",
    "with6ValuesFile = xlrd.open_workbook(file_location)\n",
    "with6Vals = with6ValuesFile.sheet_by_index(0)\n",
    "\n",
    "file_location = \"C:/Users/Sandeep/Desktop/CollegeCourses/GRAD_SCHOOL/CS_690V_Visual_Analytics/HW/HW2/Wholesale customers data-missing.xlsx\"\n",
    "without6ValuesFile = xlrd.open_workbook(file_location)\n",
    "without6Vals = without6ValuesFile.sheet_by_index(0)"
   ]
  },
  {
   "cell_type": "code",
   "execution_count": 3,
   "metadata": {
    "collapsed": true
   },
   "outputs": [],
   "source": [
    "wholeDataMilk = []\n",
    "\n",
    "for r in range(1, with6Vals.nrows):\n",
    "    wholeDataMilk.append(with6Vals.cell_value(r,3))\n",
    "\n",
    "#print(wholeDataMilk)\n",
    "#print(len(wholeDataMilk))"
   ]
  },
  {
   "cell_type": "code",
   "execution_count": 4,
   "metadata": {},
   "outputs": [
    {
     "name": "stdout",
     "output_type": "stream",
     "text": [
      "[9656.0, 9810.0, 8808.0, 1196.0, 5410.0, 8259.0, 3199.0, 4956.0, 3648.0, 11093.0, 5403.0, 1124.0, 12319.0, 6208.0, 9465.0, 1114.0, 8816.0, 6157.0, 6327.0, 2495.0, 4519.0, 871.0, 1917.0, 36423.0, 9776.0, 4230.0, 961.0, 803.0, 20484.0, 2100.0, 3610.0, 4339.0, 1318.0, 4786.0, 1979.0, 5491.0, 4362.0, 10556.0, 15729.0, 555.0, 4332.0, 3065.0, 7555.0, 11095.0, 7027.0, 22044.0, 14069.0, 54259.0, 6152.0, 21412.0, 1095.0, 4051.0, 3916.0, 10473.0, 1449.0, 3683.0, 29892.0, 9933.0, 1970.0, 5360.0, 3045.0, 38369.0, 6245.0, 11601.0, 1227.0, 20959.0, 1534.0, 6759.0, 7260.0, 2820.0, 2037.0, 1266.0, 5139.0, 5332.0, 6343.0, 1137.0, 3587.0, 12697.0, 1175.0, 3259.0, 829.0, 9540.0, 9232.0, 1563.0, 3327.0, 46197.0, 73498.0, 5025.0, 542.0, 3836.0, 596.0, 2762.0, 27472.0, 3090.0, 12220.0, 2920.0, 2616.0, 254.0, 112.0, 2182.0, 7779.0, 10810.0, 6459.0, 3504.0, 2132.0, 1014.0, 6337.0, 10646.0, 8397.0, 16729.0, 1648.0, 11114.0, 2770.0, 2295.0, 1080.0, 793.0, 2521.0, 3880.0, 1891.0, 2344.0, 1200.0, 3234.0, 201.0, 10769.0, 1642.0, 3473.0, 1840.0, 7243.0, 8847.0, 926.0, 2428.0, 589.0, 2032.0, 1042.0, 1882.0, 1289.0, 8579.0, 8080.0, 4257.0, 4979.0, 4280.0, 13252.0, 7152.0, 1596.0, 3677.0, 8384.0, 1936.0, 3373.0, 584.0, 1433.0, 1825.0, 3328.0, 1371.0, 9250.0, 55.0, 10690.0, 5291.0, 1366.0, 6570.0, 7704.0, 3651.0, 540.0, 2024.0, 15726.0, 7603.0, 12653.0, 6721.0, 3195.0, 735.0, 717.0, 8675.0, 25862.0, 5479.0, 7677.0, 1208.0, 7845.0, 6958.0, 7330.0, 7075.0, 4888.0, 'EMPTY SLOT', 29627.0, 8533.0, 43950.0, 918.0, 6448.0, 521.0, 8002.0, 7639.0, 11577.0, 6250.0, 295.0, 1461.0, 3485.0, 1012.0, 5139.0, 7209.0, 7097.0, 2154.0, 2280.0, 13240.0, 14399.0, 11487.0, 685.0, 891.0, 11711.0, 780.0, 4737.0, 3748.0, 12729.0, 1895.0, 28326.0, 1012.0, 6602.0, 6551.0, 10765.0, 16599.0, 1475.0, 7504.0, 367.0, 899.0, 7503.0, 1115.0, 2527.0, 659.0, 3243.0, 5921.0, 2204.0, 577.0, 2746.0, 5989.0, 10678.0, 1780.0, 4984.0, 2703.0, 6380.0, 820.0, 3838.0, 475.0, 2567.0, 3575.0, 1801.0, 659.0, 3576.0, 7775.0, 6154.0, 2428.0, 346.0, 5279.0, 3795.0, 1993.0, 23133.0, 1860.0, 7961.0, 17972.0, 489.0, 5008.0, 1931.0, 4563.0, 4959.0, 4885.0, 1110.0, 1372.0, 1115.0, 9679.0, 23527.0, 9763.0, 1222.0, 8053.0, 258.0, 1032.0, 5007.0, 8323.0, 3045.0, 1703.0, 1610.0, 3749.0, 829.0, 2317.0, 6200.0, 2884.0, 7108.0, 3965.0, 3613.0, 4411.0, 640.0, 2247.0, 2102.0, 594.0, 286.0, 2160.0, 3354.0, 3086.0, 11103.0, 2013.0, 1897.0, 1304.0, 3199.0, 4560.0, 879.0, 6243.0, 13316.0, 5302.0, 3688.0, 7460.0, 12939.0, 12867.0, 2374.0, 1020.0, 20655.0, 1492.0, 2335.0, 3737.0, 925.0, 1795.0, 14982.0, 1375.0, 3088.0, 2713.0, 25071.0, 3696.0, 1897.0, 713.0, 944.0, 3587.0, 16784.0, 1610.0, 899.0, 2209.0, 1486.0, 1786.0, 14881.0, 3216.0, 4980.0, 928.0, 6817.0, 1511.0, 1347.0, 333.0, 1188.0, 4025.0, 5763.0, 5758.0, 6964.0, 1172.0, 2602.0, 6939.0, 7184.0, 2380.0, 14641.0, 1099.0, 10044.0, 1106.0, 6264.0, 7393.0, 727.0, 134.0, 1275.0, 18664.0, 5878.0, 2872.0, 607.0, 1601.0, 997.0, 873.0, 6128.0, 2217.0, 894.0, 1196.0, 337.0, 3944.0, 1887.0, 3801.0, 6257.0, 2256.0, 1450.0, 8630.0, 3154.0, 3294.0, 5164.0, 944.0, 4591.0, 7435.0, 1364.0, 21858.0, 922.0, 3620.0, 1916.0, 848.0, 1530.0, 1181.0, 2761.0, 4180.0, 6730.0, 865.0, 1316.0, 11991.0, 1666.0, 1032.0, 577.0, 906.0, 2801.0, 4753.0, 11006.0, 4613.0, 1046.0, 5010.0, 12844.0, 3880.0, 3634.0, 2096.0, 3289.0, 3605.0, 4859.0, 1990.0, 6046.0, 10940.0, 5499.0, 8494.0, 3783.0, 5266.0, 4847.0, 1377.0, 3686.0, 2884.0, 2408.0, 9347.0, 16687.0, 5970.0, 1750.0, 4230.0, 5506.0, 1162.0, 3218.0, 3922.0, 12051.0, 1431.0, 15488.0, 1981.0, 1698.0]\n"
     ]
    }
   ],
   "source": [
    "missingDataMilk = []\n",
    "\n",
    "for r in range(1, without6Vals.nrows):\n",
    "    \n",
    "    if without6Vals.cell_value(r,3) == '':\n",
    "        missingDataMilk.append(\"EMPTY SLOT\")\n",
    "    else:\n",
    "        missingDataMilk.append(without6Vals.cell_value(r,3))\n",
    "\n",
    "print(missingDataMilk)\n",
    "#print(len(missingDataMilk))"
   ]
  },
  {
   "cell_type": "code",
   "execution_count": 5,
   "metadata": {
    "collapsed": true
   },
   "outputs": [],
   "source": [
    "wholeDataGroceries = []\n",
    "\n",
    "for r in range(1, with6Vals.nrows):\n",
    "    wholeDataGroceries.append(with6Vals.cell_value(r,4))\n",
    "\n",
    "#print(wholeDataGroceries)\n",
    "#print(len(wholeDataGroceries))"
   ]
  },
  {
   "cell_type": "code",
   "execution_count": 6,
   "metadata": {},
   "outputs": [
    {
     "name": "stdout",
     "output_type": "stream",
     "text": [
      "5808.95205479452\n"
     ]
    }
   ],
   "source": [
    "avgMilk = 0\n",
    "\n",
    "for i in missingDataMilk:\n",
    "    if i != \"EMPTY SLOT\":\n",
    "        avgMilk+=i\n",
    "    \n",
    "avgMilk = avgMilk / (len(missingDataMilk) - 2)\n",
    "\n",
    "print(avgMilk)"
   ]
  },
  {
   "cell_type": "code",
   "execution_count": 7,
   "metadata": {
    "collapsed": true
   },
   "outputs": [],
   "source": [
    "reducedGroceries = []\n",
    "\n",
    "for i in wholeDataGroceries:\n",
    "    reducedGroceries.append(i/1000)"
   ]
  },
  {
   "cell_type": "code",
   "execution_count": 8,
   "metadata": {},
   "outputs": [
    {
     "name": "stdout",
     "output_type": "stream",
     "text": [
      "1\n",
      "[180]\n",
      "[9656.0, 9810.0, 8808.0, 1196.0, 5410.0, 8259.0, 3199.0, 4956.0, 3648.0, 11093.0, 5403.0, 1124.0, 12319.0, 6208.0, 9465.0, 1114.0, 8816.0, 6157.0, 6327.0, 2495.0, 4519.0, 871.0, 1917.0, 36423.0, 9776.0, 4230.0, 961.0, 803.0, 20484.0, 2100.0, 3610.0, 4339.0, 1318.0, 4786.0, 1979.0, 5491.0, 4362.0, 10556.0, 15729.0, 555.0, 4332.0, 3065.0, 7555.0, 11095.0, 7027.0, 22044.0, 14069.0, 54259.0, 6152.0, 21412.0, 1095.0, 4051.0, 3916.0, 10473.0, 1449.0, 3683.0, 29892.0, 9933.0, 1970.0, 5360.0, 3045.0, 38369.0, 6245.0, 11601.0, 1227.0, 20959.0, 1534.0, 6759.0, 7260.0, 2820.0, 2037.0, 1266.0, 5139.0, 5332.0, 6343.0, 1137.0, 3587.0, 12697.0, 1175.0, 3259.0, 829.0, 9540.0, 9232.0, 1563.0, 3327.0, 46197.0, 73498.0, 5025.0, 542.0, 3836.0, 596.0, 2762.0, 27472.0, 3090.0, 12220.0, 2920.0, 2616.0, 254.0, 112.0, 2182.0, 7779.0, 10810.0, 6459.0, 3504.0, 2132.0, 1014.0, 6337.0, 10646.0, 8397.0, 16729.0, 1648.0, 11114.0, 2770.0, 2295.0, 1080.0, 793.0, 2521.0, 3880.0, 1891.0, 2344.0, 1200.0, 3234.0, 201.0, 10769.0, 1642.0, 3473.0, 1840.0, 7243.0, 8847.0, 926.0, 2428.0, 589.0, 2032.0, 1042.0, 1882.0, 1289.0, 8579.0, 8080.0, 4257.0, 4979.0, 4280.0, 13252.0, 7152.0, 1596.0, 3677.0, 8384.0, 1936.0, 3373.0, 584.0, 1433.0, 1825.0, 3328.0, 1371.0, 9250.0, 55.0, 10690.0, 5291.0, 1366.0, 6570.0, 7704.0, 3651.0, 540.0, 2024.0, 15726.0, 7603.0, 12653.0, 6721.0, 3195.0, 735.0, 717.0, 8675.0, 25862.0, 5479.0, 7677.0, 1208.0, 7845.0, 6958.0, 7330.0, 7075.0, 4888.0, 5808.95205479452, 29627.0, 8533.0, 43950.0, 918.0, 6448.0, 521.0, 8002.0, 7639.0, 11577.0, 6250.0, 295.0, 1461.0, 3485.0, 1012.0, 5139.0, 7209.0, 7097.0, 2154.0, 2280.0, 13240.0, 14399.0, 11487.0, 685.0, 891.0, 11711.0, 780.0, 4737.0, 3748.0, 12729.0, 1895.0, 28326.0, 1012.0, 6602.0, 6551.0, 10765.0, 16599.0, 1475.0, 7504.0, 367.0, 899.0, 7503.0, 1115.0, 2527.0, 659.0, 3243.0, 5921.0, 2204.0, 577.0, 2746.0, 5989.0, 10678.0, 1780.0, 4984.0, 2703.0, 6380.0, 820.0, 3838.0, 475.0, 2567.0, 3575.0, 1801.0, 659.0, 3576.0, 7775.0, 6154.0, 2428.0, 346.0, 5279.0, 3795.0, 1993.0, 23133.0, 1860.0, 7961.0, 17972.0, 489.0, 5008.0, 1931.0, 4563.0, 4959.0, 4885.0, 1110.0, 1372.0, 1115.0, 9679.0, 23527.0, 9763.0, 1222.0, 8053.0, 258.0, 1032.0, 5007.0, 8323.0, 3045.0, 1703.0, 1610.0, 3749.0, 829.0, 2317.0, 6200.0, 2884.0, 7108.0, 3965.0, 3613.0, 4411.0, 640.0, 2247.0, 2102.0, 594.0, 286.0, 2160.0, 3354.0, 3086.0, 11103.0, 2013.0, 1897.0, 1304.0, 3199.0, 4560.0, 879.0, 6243.0, 13316.0, 5302.0, 3688.0, 7460.0, 12939.0, 12867.0, 2374.0, 1020.0, 20655.0, 1492.0, 2335.0, 3737.0, 925.0, 1795.0, 14982.0, 1375.0, 3088.0, 2713.0, 25071.0, 3696.0, 1897.0, 713.0, 944.0, 3587.0, 16784.0, 1610.0, 899.0, 2209.0, 1486.0, 1786.0, 14881.0, 3216.0, 4980.0, 928.0, 6817.0, 1511.0, 1347.0, 333.0, 1188.0, 4025.0, 5763.0, 5758.0, 6964.0, 1172.0, 2602.0, 6939.0, 7184.0, 2380.0, 14641.0, 1099.0, 10044.0, 1106.0, 6264.0, 7393.0, 727.0, 134.0, 1275.0, 18664.0, 5878.0, 2872.0, 607.0, 1601.0, 997.0, 873.0, 6128.0, 2217.0, 894.0, 1196.0, 337.0, 3944.0, 1887.0, 3801.0, 6257.0, 2256.0, 1450.0, 8630.0, 3154.0, 3294.0, 5164.0, 944.0, 4591.0, 7435.0, 1364.0, 21858.0, 922.0, 3620.0, 1916.0, 848.0, 1530.0, 1181.0, 2761.0, 4180.0, 6730.0, 865.0, 1316.0, 11991.0, 1666.0, 1032.0, 577.0, 906.0, 2801.0, 4753.0, 11006.0, 4613.0, 1046.0, 5010.0, 12844.0, 3880.0, 3634.0, 2096.0, 3289.0, 3605.0, 4859.0, 1990.0, 6046.0, 10940.0, 5499.0, 8494.0, 3783.0, 5266.0, 4847.0, 1377.0, 3686.0, 2884.0, 2408.0, 9347.0, 16687.0, 5970.0, 1750.0, 4230.0, 5506.0, 1162.0, 3218.0, 3922.0, 12051.0, 1431.0, 15488.0, 1981.0, 1698.0]\n"
     ]
    }
   ],
   "source": [
    "reducedMilk = []\n",
    "count = 0\n",
    "missingIndices = []\n",
    "\n",
    "for i in range(0, 440):\n",
    "    \n",
    "    if missingDataMilk[i] == \"EMPTY SLOT\":\n",
    "        missingDataMilk[i] = avgMilk\n",
    "        count += 1\n",
    "        missingIndices.append(i)\n",
    "    \n",
    "    reducedMilk.append(missingDataMilk[i]/1000)\n",
    "\n",
    "print(count)\n",
    "print(missingIndices)\n",
    "print(missingDataMilk)\n",
    "#print(len(reducedGroceries))"
   ]
  },
  {
   "cell_type": "code",
   "execution_count": 9,
   "metadata": {},
   "outputs": [
    {
     "name": "stdout",
     "output_type": "stream",
     "text": [
      "7.951277272727269\n"
     ]
    }
   ],
   "source": [
    "avgReducedGroceries = 0\n",
    "\n",
    "for i in reducedGroceries:\n",
    "    avgReducedGroceries += i\n",
    "\n",
    "avgReducedGroceries = avgReducedGroceries / len(reducedGroceries)\n",
    "print(avgReducedGroceries)"
   ]
  },
  {
   "cell_type": "code",
   "execution_count": 10,
   "metadata": {},
   "outputs": [
    {
     "name": "stdout",
     "output_type": "stream",
     "text": [
      "5.795749891033624\n"
     ]
    }
   ],
   "source": [
    "avgReducedMilk = 0\n",
    "\n",
    "for i in reducedMilk:\n",
    "    avgReducedMilk+=i\n",
    "    \n",
    "avgReducedMilk = avgReducedMilk / len(reducedMilk)\n",
    "\n",
    "print(avgReducedMilk)"
   ]
  },
  {
   "cell_type": "code",
   "execution_count": 11,
   "metadata": {},
   "outputs": [
    {
     "data": {
      "text/html": [
       "\n",
       "\n",
       "    <div class=\"bk-root\">\n",
       "        <div class=\"bk-plotdiv\" id=\"4a91bf8d-d6e8-4e3a-8733-553a89adfbf6\"></div>\n",
       "    </div>\n",
       "<script type=\"text/javascript\">\n",
       "  \n",
       "  (function(global) {\n",
       "    function now() {\n",
       "      return new Date();\n",
       "    }\n",
       "  \n",
       "    var force = false;\n",
       "  \n",
       "    if (typeof (window._bokeh_onload_callbacks) === \"undefined\" || force === true) {\n",
       "      window._bokeh_onload_callbacks = [];\n",
       "      window._bokeh_is_loading = undefined;\n",
       "    }\n",
       "  \n",
       "  \n",
       "    \n",
       "    if (typeof (window._bokeh_timeout) === \"undefined\" || force === true) {\n",
       "      window._bokeh_timeout = Date.now() + 0;\n",
       "      window._bokeh_failed_load = false;\n",
       "    }\n",
       "  \n",
       "    var NB_LOAD_WARNING = {'data': {'text/html':\n",
       "       \"<div style='background-color: #fdd'>\\n\"+\n",
       "       \"<p>\\n\"+\n",
       "       \"BokehJS does not appear to have successfully loaded. If loading BokehJS from CDN, this \\n\"+\n",
       "       \"may be due to a slow or bad network connection. Possible fixes:\\n\"+\n",
       "       \"</p>\\n\"+\n",
       "       \"<ul>\\n\"+\n",
       "       \"<li>re-rerun `output_notebook()` to attempt to load from CDN again, or</li>\\n\"+\n",
       "       \"<li>use INLINE resources instead, as so:</li>\\n\"+\n",
       "       \"</ul>\\n\"+\n",
       "       \"<code>\\n\"+\n",
       "       \"from bokeh.resources import INLINE\\n\"+\n",
       "       \"output_notebook(resources=INLINE)\\n\"+\n",
       "       \"</code>\\n\"+\n",
       "       \"</div>\"}};\n",
       "  \n",
       "    function display_loaded() {\n",
       "      if (window.Bokeh !== undefined) {\n",
       "        var el = document.getElementById(\"4a91bf8d-d6e8-4e3a-8733-553a89adfbf6\");\n",
       "        el.textContent = \"BokehJS \" + Bokeh.version + \" successfully loaded.\";\n",
       "      } else if (Date.now() < window._bokeh_timeout) {\n",
       "        setTimeout(display_loaded, 100)\n",
       "      }\n",
       "    }\n",
       "  \n",
       "    function run_callbacks() {\n",
       "      window._bokeh_onload_callbacks.forEach(function(callback) { callback() });\n",
       "      delete window._bokeh_onload_callbacks\n",
       "      console.info(\"Bokeh: all callbacks have finished\");\n",
       "    }\n",
       "  \n",
       "    function load_libs(js_urls, callback) {\n",
       "      window._bokeh_onload_callbacks.push(callback);\n",
       "      if (window._bokeh_is_loading > 0) {\n",
       "        console.log(\"Bokeh: BokehJS is being loaded, scheduling callback at\", now());\n",
       "        return null;\n",
       "      }\n",
       "      if (js_urls == null || js_urls.length === 0) {\n",
       "        run_callbacks();\n",
       "        return null;\n",
       "      }\n",
       "      console.log(\"Bokeh: BokehJS not loaded, scheduling load and callback at\", now());\n",
       "      window._bokeh_is_loading = js_urls.length;\n",
       "      for (var i = 0; i < js_urls.length; i++) {\n",
       "        var url = js_urls[i];\n",
       "        var s = document.createElement('script');\n",
       "        s.src = url;\n",
       "        s.async = false;\n",
       "        s.onreadystatechange = s.onload = function() {\n",
       "          window._bokeh_is_loading--;\n",
       "          if (window._bokeh_is_loading === 0) {\n",
       "            console.log(\"Bokeh: all BokehJS libraries loaded\");\n",
       "            run_callbacks()\n",
       "          }\n",
       "        };\n",
       "        s.onerror = function() {\n",
       "          console.warn(\"failed to load library \" + url);\n",
       "        };\n",
       "        console.log(\"Bokeh: injecting script tag for BokehJS library: \", url);\n",
       "        document.getElementsByTagName(\"head\")[0].appendChild(s);\n",
       "      }\n",
       "    };var element = document.getElementById(\"4a91bf8d-d6e8-4e3a-8733-553a89adfbf6\");\n",
       "    if (element == null) {\n",
       "      console.log(\"Bokeh: ERROR: autoload.js configured with elementid '4a91bf8d-d6e8-4e3a-8733-553a89adfbf6' but no matching script tag was found. \")\n",
       "      return false;\n",
       "    }\n",
       "  \n",
       "    var js_urls = [];\n",
       "  \n",
       "    var inline_js = [\n",
       "      function(Bokeh) {\n",
       "        (function() {\n",
       "          var fn = function() {\n",
       "            var docs_json = {\"672cfc3c-9efe-41a2-a222-0a4bea6ea1e9\":{\"roots\":{\"references\":[{\"attributes\":{\"below\":[{\"id\":\"af329885-8218-443a-a90b-cdfb473a205c\",\"type\":\"LinearAxis\"}],\"left\":[{\"id\":\"41f74641-5cab-4b94-b1b7-90da11e3c303\",\"type\":\"LinearAxis\"}],\"plot_height\":400,\"plot_width\":400,\"renderers\":[{\"id\":\"af329885-8218-443a-a90b-cdfb473a205c\",\"type\":\"LinearAxis\"},{\"id\":\"46f70362-08fb-4ebf-a480-51913fea5007\",\"type\":\"Grid\"},{\"id\":\"41f74641-5cab-4b94-b1b7-90da11e3c303\",\"type\":\"LinearAxis\"},{\"id\":\"01426d24-3437-4e6a-b4b1-9910d3cb69fc\",\"type\":\"Grid\"},{\"id\":\"f5698073-f538-4188-9fc8-9db489f2ae9b\",\"type\":\"BoxAnnotation\"},{\"id\":\"6e64d694-57d0-4dbe-bbba-145d42e83389\",\"type\":\"GlyphRenderer\"}],\"title\":{\"id\":\"72f6d0d8-0ea0-47da-8423-e8ab783c29f0\",\"type\":\"Title\"},\"tool_events\":{\"id\":\"819be0b1-2b5a-463c-9fb6-f32056cd7aa1\",\"type\":\"ToolEvents\"},\"toolbar\":{\"id\":\"5bdb2efb-df81-4e76-9595-9ee703000edd\",\"type\":\"Toolbar\"},\"x_range\":{\"id\":\"94f1d453-f7dd-4640-9f92-c5d9d4886a7d\",\"type\":\"DataRange1d\"},\"y_range\":{\"id\":\"5cfb6d93-9eee-4b4f-bd80-85b580cc6804\",\"type\":\"DataRange1d\"}},\"id\":\"9f6f94f2-b5a4-4f93-b36c-4bfb3d3f1f2d\",\"subtype\":\"Figure\",\"type\":\"Plot\"},{\"attributes\":{\"plot\":{\"id\":\"9f6f94f2-b5a4-4f93-b36c-4bfb3d3f1f2d\",\"subtype\":\"Figure\",\"type\":\"Plot\"}},\"id\":\"bf67676b-ff0f-4332-82c0-6dd7c4fc4a14\",\"type\":\"HelpTool\"},{\"attributes\":{\"plot\":{\"id\":\"9f6f94f2-b5a4-4f93-b36c-4bfb3d3f1f2d\",\"subtype\":\"Figure\",\"type\":\"Plot\"}},\"id\":\"6c6180d5-b520-421e-9632-45ae39bed018\",\"type\":\"ResetTool\"},{\"attributes\":{\"fill_alpha\":{\"value\":0.1},\"fill_color\":{\"value\":\"#1f77b4\"},\"line_alpha\":{\"value\":0.1},\"line_color\":{\"value\":\"#1f77b4\"},\"x\":{\"field\":\"x\"},\"y\":{\"field\":\"y\"}},\"id\":\"3177f29a-71c4-407f-b213-23f744cd8d35\",\"type\":\"Circle\"},{\"attributes\":{\"plot\":{\"id\":\"9f6f94f2-b5a4-4f93-b36c-4bfb3d3f1f2d\",\"subtype\":\"Figure\",\"type\":\"Plot\"}},\"id\":\"02e30454-e54a-44c8-ae31-249e3dda6d54\",\"type\":\"SaveTool\"},{\"attributes\":{\"data_source\":{\"id\":\"2536bd4d-8489-4bb5-9520-c5bdf70a4868\",\"type\":\"ColumnDataSource\"},\"glyph\":{\"id\":\"7cd53e90-bb12-42cc-b3fc-1fb6fc3be2a9\",\"type\":\"Circle\"},\"hover_glyph\":null,\"muted_glyph\":null,\"nonselection_glyph\":{\"id\":\"3177f29a-71c4-407f-b213-23f744cd8d35\",\"type\":\"Circle\"},\"selection_glyph\":null},\"id\":\"6e64d694-57d0-4dbe-bbba-145d42e83389\",\"type\":\"GlyphRenderer\"},{\"attributes\":{},\"id\":\"533d9fc2-046b-4d09-84c8-afe754cee463\",\"type\":\"BasicTickFormatter\"},{\"attributes\":{\"overlay\":{\"id\":\"f5698073-f538-4188-9fc8-9db489f2ae9b\",\"type\":\"BoxAnnotation\"},\"plot\":{\"id\":\"9f6f94f2-b5a4-4f93-b36c-4bfb3d3f1f2d\",\"subtype\":\"Figure\",\"type\":\"Plot\"}},\"id\":\"5b72394b-affa-418d-acda-b701a410560c\",\"type\":\"BoxZoomTool\"},{\"attributes\":{\"plot\":{\"id\":\"9f6f94f2-b5a4-4f93-b36c-4bfb3d3f1f2d\",\"subtype\":\"Figure\",\"type\":\"Plot\"}},\"id\":\"4fbff5dc-0b7c-4fb4-b5af-a66f4e49c6d0\",\"type\":\"WheelZoomTool\"},{\"attributes\":{\"plot\":{\"id\":\"9f6f94f2-b5a4-4f93-b36c-4bfb3d3f1f2d\",\"subtype\":\"Figure\",\"type\":\"Plot\"}},\"id\":\"34decdea-1b11-46e0-9de6-57714ae4ce2a\",\"type\":\"PanTool\"},{\"attributes\":{},\"id\":\"0eb777ef-a8b8-4770-98ec-e40c5898ed38\",\"type\":\"BasicTickFormatter\"},{\"attributes\":{\"fill_alpha\":{\"value\":0.5},\"fill_color\":{\"value\":\"orange\"},\"line_color\":{\"value\":\"navy\"},\"x\":{\"field\":\"x\"},\"y\":{\"field\":\"y\"}},\"id\":\"7cd53e90-bb12-42cc-b3fc-1fb6fc3be2a9\",\"type\":\"Circle\"},{\"attributes\":{\"callback\":null,\"column_names\":[\"x\",\"y\"],\"data\":{\"x\":[7.561,9.568,7.684,4.221,7.198,5.126,6.975,9.426,6.192,18.881,12.974,4.523,11.757,14.982,12.091,3.821,12.121,2.933,10.099,9.464,4.602,2.01,4.469,22.019,13.792,7.595,2.861,3.045,25.957,2.609,11.107,3.133,2.886,7.326,2.262,11.091,5.428,12.477,16.709,0.902,4.757,5.956,14.961,23.998,10.471,21.531,21.955,55.571,10.868,28.921,1.98,6.996,5.876,11.532,1.947,5.005,26.866,10.487,1.648,8.04,7.854,59.598,6.544,15.775,3.25,45.828,7.417,13.462,3.993,1.293,3.202,21.042,2.661,8.713,9.794,0.003,6.532,28.54,2.067,3.655,3.009,14.403,11.009,1.783,4.814,92.78,32.114,8.117,4.042,5.33,1.638,2.53,32.034,2.062,11.323,6.252,8.118,0.61,0.778,1.909,12.144,16.267,7.677,8.906,3.445,3.97,10.704,14.886,6.981,28.986,1.694,17.569,2.469,1.733,2.0,2.988,3.355,5.38,2.362,2.147,3.412,1.498,0.245,8.814,2.961,7.102,1.658,10.685,3.823,1.51,0.699,0.314,2.479,1.235,2.174,2.591,7.03,8.282,5.034,3.343,7.305,5.189,8.253,1.096,1.988,34.792,2.177,2.707,0.542,1.651,1.765,2.022,3.135,2.368,0.137,19.46,14.855,2.474,9.618,14.682,12.822,0.283,3.81,26.87,8.584,19.858,9.17,3.268,0.803,2.155,13.43,19.816,6.536,19.805,5.241,11.874,6.536,4.533,4.945,2.5,8.887,18.148,10.518,20.17,4.71,1.139,0.854,9.819,11.687,11.522,1.981,1.381,2.251,20.292,2.974,5.23,4.897,10.391,6.824,2.112,23.127,24.708,9.49,2.216,5.226,23.596,0.95,6.089,5.838,16.767,1.393,39.694,2.062,6.861,11.364,15.538,36.486,2.046,15.205,1.39,1.382,10.646,2.856,5.265,1.499,4.157,9.212,1.563,0.572,2.501,5.615,3.828,3.838,3.316,3.833,2.824,3.047,0.593,0.585,3.779,7.041,2.475,2.914,5.119,10.817,13.916,1.777,0.489,2.406,2.07,1.799,33.586,4.74,16.966,4.748,1.495,5.249,1.883,2.124,7.336,2.157,1.094,1.677,6.684,15.445,13.699,22.182,2.576,19.847,1.138,0.975,1.563,6.869,1.493,1.841,0.223,6.964,0.683,2.543,9.694,2.431,6.235,4.252,2.013,12.609,3.6,1.242,2.828,1.296,0.471,2.642,3.261,4.329,12.469,6.55,5.234,3.643,6.986,9.965,2.06,6.36,20.399,9.785,13.829,24.773,8.852,21.57,2.842,3.007,13.567,2.405,8.28,19.172,2.405,7.647,11.924,2.201,6.114,3.558,17.645,2.28,5.167,3.315,11.593,2.464,13.626,1.431,1.664,3.389,4.583,5.109,26.839,1.447,67.298,2.743,10.79,1.33,2.611,7.021,5.332,9.67,11.238,5.923,26.316,1.763,8.335,15.541,12.311,2.028,20.521,1.997,22.294,1.533,21.203,2.548,2.012,0.218,22.272,1.66,2.109,2.006,0.864,2.453,4.438,1.524,8.025,1.664,0.534,2.406,0.683,4.955,1.939,1.641,7.398,1.668,1.162,13.586,2.648,1.902,10.391,2.146,1.617,8.469,3.45,15.4,1.614,2.857,1.573,1.172,1.422,1.328,2.313,3.6,3.842,3.204,1.263,9.345,1.428,0.582,0.935,1.238,2.128,5.091,4.604,3.444,1.167,5.026,18.683,6.407,6.1,4.563,3.281,12.4,6.633,3.417,8.552,10.908,11.055,18.622,2.223,13.227,9.053,4.172,4.657,12.232,2.593,14.316,5.429,4.91,3.58,16.483,5.16,4.754,1.493,7.994,16.027,0.764,30.243,2.232,2.51],\"y\":[9.656,9.81,8.808,1.196,5.41,8.259,3.199,4.956,3.648,11.093,5.403,1.124,12.319,6.208,9.465,1.114,8.816,6.157,6.327,2.495,4.519,0.871,1.917,36.423,9.776,4.23,0.961,0.803,20.484,2.1,3.61,4.339,1.318,4.786,1.979,5.491,4.362,10.556,15.729,0.555,4.332,3.065,7.555,11.095,7.027,22.044,14.069,54.259,6.152,21.412,1.095,4.051,3.916,10.473,1.449,3.683,29.892,9.933,1.97,5.36,3.045,38.369,6.245,11.601,1.227,20.959,1.534,6.759,7.26,2.82,2.037,1.266,5.139,5.332,6.343,1.137,3.587,12.697,1.175,3.259,0.829,9.54,9.232,1.563,3.327,46.197,73.498,5.025,0.542,3.836,0.596,2.762,27.472,3.09,12.22,2.92,2.616,0.254,0.112,2.182,7.779,10.81,6.459,3.504,2.132,1.014,6.337,10.646,8.397,16.729,1.648,11.114,2.77,2.295,1.08,0.793,2.521,3.88,1.891,2.344,1.2,3.234,0.201,10.769,1.642,3.473,1.84,7.243,8.847,0.926,2.428,0.589,2.032,1.042,1.882,1.289,8.579,8.08,4.257,4.979,4.28,13.252,7.152,1.596,3.677,8.384,1.936,3.373,0.584,1.433,1.825,3.328,1.371,9.25,0.055,10.69,5.291,1.366,6.57,7.704,3.651,0.54,2.024,15.726,7.603,12.653,6.721,3.195,0.735,0.717,8.675,25.862,5.479,7.677,1.208,7.845,6.958,7.33,7.075,4.888,5.808952054794521,29.627,8.533,43.95,0.918,6.448,0.521,8.002,7.639,11.577,6.25,0.295,1.461,3.485,1.012,5.139,7.209,7.097,2.154,2.28,13.24,14.399,11.487,0.685,0.891,11.711,0.78,4.737,3.748,12.729,1.895,28.326,1.012,6.602,6.551,10.765,16.599,1.475,7.504,0.367,0.899,7.503,1.115,2.527,0.659,3.243,5.921,2.204,0.577,2.746,5.989,10.678,1.78,4.984,2.703,6.38,0.82,3.838,0.475,2.567,3.575,1.801,0.659,3.576,7.775,6.154,2.428,0.346,5.279,3.795,1.993,23.133,1.86,7.961,17.972,0.489,5.008,1.931,4.563,4.959,4.885,1.11,1.372,1.115,9.679,23.527,9.763,1.222,8.053,0.258,1.032,5.007,8.323,3.045,1.703,1.61,3.749,0.829,2.317,6.2,2.884,7.108,3.965,3.613,4.411,0.64,2.247,2.102,0.594,0.286,2.16,3.354,3.086,11.103,2.013,1.897,1.304,3.199,4.56,0.879,6.243,13.316,5.302,3.688,7.46,12.939,12.867,2.374,1.02,20.655,1.492,2.335,3.737,0.925,1.795,14.982,1.375,3.088,2.713,25.071,3.696,1.897,0.713,0.944,3.587,16.784,1.61,0.899,2.209,1.486,1.786,14.881,3.216,4.98,0.928,6.817,1.511,1.347,0.333,1.188,4.025,5.763,5.758,6.964,1.172,2.602,6.939,7.184,2.38,14.641,1.099,10.044,1.106,6.264,7.393,0.727,0.134,1.275,18.664,5.878,2.872,0.607,1.601,0.997,0.873,6.128,2.217,0.894,1.196,0.337,3.944,1.887,3.801,6.257,2.256,1.45,8.63,3.154,3.294,5.164,0.944,4.591,7.435,1.364,21.858,0.922,3.62,1.916,0.848,1.53,1.181,2.761,4.18,6.73,0.865,1.316,11.991,1.666,1.032,0.577,0.906,2.801,4.753,11.006,4.613,1.046,5.01,12.844,3.88,3.634,2.096,3.289,3.605,4.859,1.99,6.046,10.94,5.499,8.494,3.783,5.266,4.847,1.377,3.686,2.884,2.408,9.347,16.687,5.97,1.75,4.23,5.506,1.162,3.218,3.922,12.051,1.431,15.488,1.981,1.698]}},\"id\":\"2536bd4d-8489-4bb5-9520-c5bdf70a4868\",\"type\":\"ColumnDataSource\"},{\"attributes\":{\"bottom_units\":\"screen\",\"fill_alpha\":{\"value\":0.5},\"fill_color\":{\"value\":\"lightgrey\"},\"left_units\":\"screen\",\"level\":\"overlay\",\"line_alpha\":{\"value\":1.0},\"line_color\":{\"value\":\"black\"},\"line_dash\":[4,4],\"line_width\":{\"value\":2},\"plot\":null,\"render_mode\":\"css\",\"right_units\":\"screen\",\"top_units\":\"screen\"},\"id\":\"f5698073-f538-4188-9fc8-9db489f2ae9b\",\"type\":\"BoxAnnotation\"},{\"attributes\":{\"dimension\":1,\"plot\":{\"id\":\"9f6f94f2-b5a4-4f93-b36c-4bfb3d3f1f2d\",\"subtype\":\"Figure\",\"type\":\"Plot\"},\"ticker\":{\"id\":\"55c76fc7-984a-4299-9f66-91bc8dfcdad0\",\"type\":\"BasicTicker\"}},\"id\":\"01426d24-3437-4e6a-b4b1-9910d3cb69fc\",\"type\":\"Grid\"},{\"attributes\":{},\"id\":\"55c76fc7-984a-4299-9f66-91bc8dfcdad0\",\"type\":\"BasicTicker\"},{\"attributes\":{\"axis_label\":\"Milk / 1000\",\"formatter\":{\"id\":\"533d9fc2-046b-4d09-84c8-afe754cee463\",\"type\":\"BasicTickFormatter\"},\"plot\":{\"id\":\"9f6f94f2-b5a4-4f93-b36c-4bfb3d3f1f2d\",\"subtype\":\"Figure\",\"type\":\"Plot\"},\"ticker\":{\"id\":\"55c76fc7-984a-4299-9f66-91bc8dfcdad0\",\"type\":\"BasicTicker\"}},\"id\":\"41f74641-5cab-4b94-b1b7-90da11e3c303\",\"type\":\"LinearAxis\"},{\"attributes\":{\"plot\":{\"id\":\"9f6f94f2-b5a4-4f93-b36c-4bfb3d3f1f2d\",\"subtype\":\"Figure\",\"type\":\"Plot\"},\"ticker\":{\"id\":\"6c495a50-ccb9-48dd-a049-494ca182265c\",\"type\":\"BasicTicker\"}},\"id\":\"46f70362-08fb-4ebf-a480-51913fea5007\",\"type\":\"Grid\"},{\"attributes\":{},\"id\":\"6c495a50-ccb9-48dd-a049-494ca182265c\",\"type\":\"BasicTicker\"},{\"attributes\":{\"callback\":null},\"id\":\"5cfb6d93-9eee-4b4f-bd80-85b580cc6804\",\"type\":\"DataRange1d\"},{\"attributes\":{\"axis_label\":\"Groceries / 1000\",\"formatter\":{\"id\":\"0eb777ef-a8b8-4770-98ec-e40c5898ed38\",\"type\":\"BasicTickFormatter\"},\"plot\":{\"id\":\"9f6f94f2-b5a4-4f93-b36c-4bfb3d3f1f2d\",\"subtype\":\"Figure\",\"type\":\"Plot\"},\"ticker\":{\"id\":\"6c495a50-ccb9-48dd-a049-494ca182265c\",\"type\":\"BasicTicker\"}},\"id\":\"af329885-8218-443a-a90b-cdfb473a205c\",\"type\":\"LinearAxis\"},{\"attributes\":{\"active_drag\":\"auto\",\"active_scroll\":\"auto\",\"active_tap\":\"auto\",\"tools\":[{\"id\":\"34decdea-1b11-46e0-9de6-57714ae4ce2a\",\"type\":\"PanTool\"},{\"id\":\"4fbff5dc-0b7c-4fb4-b5af-a66f4e49c6d0\",\"type\":\"WheelZoomTool\"},{\"id\":\"5b72394b-affa-418d-acda-b701a410560c\",\"type\":\"BoxZoomTool\"},{\"id\":\"02e30454-e54a-44c8-ae31-249e3dda6d54\",\"type\":\"SaveTool\"},{\"id\":\"6c6180d5-b520-421e-9632-45ae39bed018\",\"type\":\"ResetTool\"},{\"id\":\"bf67676b-ff0f-4332-82c0-6dd7c4fc4a14\",\"type\":\"HelpTool\"}]},\"id\":\"5bdb2efb-df81-4e76-9595-9ee703000edd\",\"type\":\"Toolbar\"},{\"attributes\":{},\"id\":\"819be0b1-2b5a-463c-9fb6-f32056cd7aa1\",\"type\":\"ToolEvents\"},{\"attributes\":{\"callback\":null},\"id\":\"94f1d453-f7dd-4640-9f92-c5d9d4886a7d\",\"type\":\"DataRange1d\"},{\"attributes\":{\"plot\":null,\"text\":\"US Employment Rates after 1991\"},\"id\":\"72f6d0d8-0ea0-47da-8423-e8ab783c29f0\",\"type\":\"Title\"}],\"root_ids\":[\"9f6f94f2-b5a4-4f93-b36c-4bfb3d3f1f2d\"]},\"title\":\"Bokeh Application\",\"version\":\"0.12.5\"}};\n",
       "            var render_items = [{\"docid\":\"672cfc3c-9efe-41a2-a222-0a4bea6ea1e9\",\"elementid\":\"4a91bf8d-d6e8-4e3a-8733-553a89adfbf6\",\"modelid\":\"9f6f94f2-b5a4-4f93-b36c-4bfb3d3f1f2d\"}];\n",
       "            \n",
       "            Bokeh.embed.embed_items(docs_json, render_items);\n",
       "          };\n",
       "          if (document.readyState != \"loading\") fn();\n",
       "          else document.addEventListener(\"DOMContentLoaded\", fn);\n",
       "        })();\n",
       "      },\n",
       "      function(Bokeh) {\n",
       "      }\n",
       "    ];\n",
       "  \n",
       "    function run_inline_js() {\n",
       "      \n",
       "      if ((window.Bokeh !== undefined) || (force === true)) {\n",
       "        for (var i = 0; i < inline_js.length; i++) {\n",
       "          inline_js[i](window.Bokeh);\n",
       "        }if (force === true) {\n",
       "          display_loaded();\n",
       "        }} else if (Date.now() < window._bokeh_timeout) {\n",
       "        setTimeout(run_inline_js, 100);\n",
       "      } else if (!window._bokeh_failed_load) {\n",
       "        console.log(\"Bokeh: BokehJS failed to load within specified timeout.\");\n",
       "        window._bokeh_failed_load = true;\n",
       "      } else if (force !== true) {\n",
       "        var cell = $(document.getElementById(\"4a91bf8d-d6e8-4e3a-8733-553a89adfbf6\")).parents('.cell').data().cell;\n",
       "        cell.output_area.append_execute_result(NB_LOAD_WARNING)\n",
       "      }\n",
       "  \n",
       "    }\n",
       "  \n",
       "    if (window._bokeh_is_loading === 0) {\n",
       "      console.log(\"Bokeh: BokehJS loaded, going straight to plotting\");\n",
       "      run_inline_js();\n",
       "    } else {\n",
       "      load_libs(js_urls, function() {\n",
       "        console.log(\"Bokeh: BokehJS plotting callback run at\", now());\n",
       "        run_inline_js();\n",
       "      });\n",
       "    }\n",
       "  }(this));\n",
       "</script>"
      ]
     },
     "metadata": {},
     "output_type": "display_data"
    }
   ],
   "source": [
    "p = figure(plot_width=400, plot_height=400, title=\"US Employment Rates after 1991\")\n",
    "\n",
    "p.circle(reducedGroceries, reducedMilk, line_color=\"navy\", fill_color=\"orange\", fill_alpha=0.5)\n",
    "\n",
    "p.xaxis.axis_label = \"Groceries / 1000\"\n",
    "p.yaxis.axis_label = \"Milk / 1000\"\n",
    "\n",
    "show(p)"
   ]
  },
  {
   "cell_type": "code",
   "execution_count": 12,
   "metadata": {},
   "outputs": [
    {
     "name": "stdout",
     "output_type": "stream",
     "text": [
      "Slope for reducedGroceries vs reducedMilk is =  0.5656366257283346\n"
     ]
    }
   ],
   "source": [
    "reducedGroceriesVSreducedMilkSlopeNumerator = 0\n",
    "reducedGroceriesVSreducedMilkSlopeDenominator = 0\n",
    "\n",
    "for i in range(0, 440):\n",
    "    reducedGroceriesVSreducedMilkSlopeNumerator += (reducedGroceries[i] - avgReducedGroceries)*(reducedMilk[i] - avgReducedMilk)           \n",
    "    reducedGroceriesVSreducedMilkSlopeDenominator += math.pow((reducedGroceries[i] - avgReducedGroceries),2)\n",
    "\n",
    "reducedGroceriesVSreducedMilkSlope = reducedGroceriesVSreducedMilkSlopeNumerator / reducedGroceriesVSreducedMilkSlopeDenominator\n",
    "print(\"Slope for reducedGroceries vs reducedMilk is = \",reducedGroceriesVSreducedMilkSlope)"
   ]
  },
  {
   "cell_type": "code",
   "execution_count": 13,
   "metadata": {},
   "outputs": [
    {
     "name": "stdout",
     "output_type": "stream",
     "text": [
      "Intercept for reducedGroceries vs reducedMilk is =  0.11729018324344165\n"
     ]
    }
   ],
   "source": [
    "reducedGroceriesVSreducedMilkIntercept = reducedMilk[220] - (reducedGroceriesVSreducedMilkSlope*reducedGroceries[220])\n",
    "print(\"Intercept for reducedGroceries vs reducedMilk is = \", reducedGroceriesVSreducedMilkIntercept)"
   ]
  },
  {
   "cell_type": "code",
   "execution_count": 14,
   "metadata": {
    "collapsed": true
   },
   "outputs": [],
   "source": [
    "def findReducedMilk(reducedGroceriesNum):\n",
    "    reducedMilkEstimate = reducedGroceriesVSreducedMilkIntercept + (reducedGroceriesVSreducedMilkSlope*reducedGroceriesNum)\n",
    "    return reducedMilkEstimate"
   ]
  },
  {
   "cell_type": "code",
   "execution_count": 15,
   "metadata": {},
   "outputs": [
    {
     "name": "stdout",
     "output_type": "stream",
     "text": [
      "[5144.102876091152]\n",
      "[6036.0]\n"
     ]
    }
   ],
   "source": [
    "reducedMilkPredictions = []\n",
    "\n",
    "for i in reducedGroceries:\n",
    "    reducedMilkPredictions.append(findReducedMilk(i))\n",
    "    \n",
    "    \n",
    "milkPredictions = []\n",
    "missingValuePredictions = []\n",
    "correctValues= []\n",
    "\n",
    "for i in range(0, 440):\n",
    "    if i in missingIndices:\n",
    "        missingValuePredictions.append(reducedMilkPredictions[i]*1000)\n",
    "        correctValues.append(wholeDataMilk[i])\n",
    "        \n",
    "    milkPredictions.append(reducedMilkPredictions[i]*1000)\n",
    "    \n",
    "print(missingValuePredictions)\n",
    "print(correctValues)"
   ]
  },
  {
   "cell_type": "code",
   "execution_count": 16,
   "metadata": {},
   "outputs": [
    {
     "name": "stdout",
     "output_type": "stream",
     "text": [
      "MSE for Groceries vs Milk is =  26912852.35983938\n"
     ]
    }
   ],
   "source": [
    "GroceriesVSMilkMSE = 0\n",
    "\n",
    "for i in range(0, 440):\n",
    "    diffSquared = math.pow(milkPredictions[i] - wholeDataMilk[i], 2)\n",
    "    GroceriesVSMilkMSE += diffSquared\n",
    "\n",
    "GroceriesVSMilkMSE = GroceriesVSMilkMSE / 440\n",
    "print(\"MSE for Groceries vs Milk is = \", GroceriesVSMilkMSE)"
   ]
  },
  {
   "cell_type": "code",
   "execution_count": 18,
   "metadata": {},
   "outputs": [
    {
     "data": {
      "text/html": [
       "\n",
       "\n",
       "    <div class=\"bk-root\">\n",
       "        <div class=\"bk-plotdiv\" id=\"7450ef61-2f45-47ff-9ffc-d0171cc8ebf0\"></div>\n",
       "    </div>\n",
       "<script type=\"text/javascript\">\n",
       "  \n",
       "  (function(global) {\n",
       "    function now() {\n",
       "      return new Date();\n",
       "    }\n",
       "  \n",
       "    var force = false;\n",
       "  \n",
       "    if (typeof (window._bokeh_onload_callbacks) === \"undefined\" || force === true) {\n",
       "      window._bokeh_onload_callbacks = [];\n",
       "      window._bokeh_is_loading = undefined;\n",
       "    }\n",
       "  \n",
       "  \n",
       "    \n",
       "    if (typeof (window._bokeh_timeout) === \"undefined\" || force === true) {\n",
       "      window._bokeh_timeout = Date.now() + 0;\n",
       "      window._bokeh_failed_load = false;\n",
       "    }\n",
       "  \n",
       "    var NB_LOAD_WARNING = {'data': {'text/html':\n",
       "       \"<div style='background-color: #fdd'>\\n\"+\n",
       "       \"<p>\\n\"+\n",
       "       \"BokehJS does not appear to have successfully loaded. If loading BokehJS from CDN, this \\n\"+\n",
       "       \"may be due to a slow or bad network connection. Possible fixes:\\n\"+\n",
       "       \"</p>\\n\"+\n",
       "       \"<ul>\\n\"+\n",
       "       \"<li>re-rerun `output_notebook()` to attempt to load from CDN again, or</li>\\n\"+\n",
       "       \"<li>use INLINE resources instead, as so:</li>\\n\"+\n",
       "       \"</ul>\\n\"+\n",
       "       \"<code>\\n\"+\n",
       "       \"from bokeh.resources import INLINE\\n\"+\n",
       "       \"output_notebook(resources=INLINE)\\n\"+\n",
       "       \"</code>\\n\"+\n",
       "       \"</div>\"}};\n",
       "  \n",
       "    function display_loaded() {\n",
       "      if (window.Bokeh !== undefined) {\n",
       "        var el = document.getElementById(\"7450ef61-2f45-47ff-9ffc-d0171cc8ebf0\");\n",
       "        el.textContent = \"BokehJS \" + Bokeh.version + \" successfully loaded.\";\n",
       "      } else if (Date.now() < window._bokeh_timeout) {\n",
       "        setTimeout(display_loaded, 100)\n",
       "      }\n",
       "    }\n",
       "  \n",
       "    function run_callbacks() {\n",
       "      window._bokeh_onload_callbacks.forEach(function(callback) { callback() });\n",
       "      delete window._bokeh_onload_callbacks\n",
       "      console.info(\"Bokeh: all callbacks have finished\");\n",
       "    }\n",
       "  \n",
       "    function load_libs(js_urls, callback) {\n",
       "      window._bokeh_onload_callbacks.push(callback);\n",
       "      if (window._bokeh_is_loading > 0) {\n",
       "        console.log(\"Bokeh: BokehJS is being loaded, scheduling callback at\", now());\n",
       "        return null;\n",
       "      }\n",
       "      if (js_urls == null || js_urls.length === 0) {\n",
       "        run_callbacks();\n",
       "        return null;\n",
       "      }\n",
       "      console.log(\"Bokeh: BokehJS not loaded, scheduling load and callback at\", now());\n",
       "      window._bokeh_is_loading = js_urls.length;\n",
       "      for (var i = 0; i < js_urls.length; i++) {\n",
       "        var url = js_urls[i];\n",
       "        var s = document.createElement('script');\n",
       "        s.src = url;\n",
       "        s.async = false;\n",
       "        s.onreadystatechange = s.onload = function() {\n",
       "          window._bokeh_is_loading--;\n",
       "          if (window._bokeh_is_loading === 0) {\n",
       "            console.log(\"Bokeh: all BokehJS libraries loaded\");\n",
       "            run_callbacks()\n",
       "          }\n",
       "        };\n",
       "        s.onerror = function() {\n",
       "          console.warn(\"failed to load library \" + url);\n",
       "        };\n",
       "        console.log(\"Bokeh: injecting script tag for BokehJS library: \", url);\n",
       "        document.getElementsByTagName(\"head\")[0].appendChild(s);\n",
       "      }\n",
       "    };var element = document.getElementById(\"7450ef61-2f45-47ff-9ffc-d0171cc8ebf0\");\n",
       "    if (element == null) {\n",
       "      console.log(\"Bokeh: ERROR: autoload.js configured with elementid '7450ef61-2f45-47ff-9ffc-d0171cc8ebf0' but no matching script tag was found. \")\n",
       "      return false;\n",
       "    }\n",
       "  \n",
       "    var js_urls = [];\n",
       "  \n",
       "    var inline_js = [\n",
       "      function(Bokeh) {\n",
       "        (function() {\n",
       "          var fn = function() {\n",
       "            var docs_json = {\"2600a5f0-b771-45e0-85ec-2664a16013a9\":{\"roots\":{\"references\":[{\"attributes\":{\"plot\":{\"id\":\"1c2feb07-ff1f-43c6-9e3a-fdd16fec791c\",\"subtype\":\"Figure\",\"type\":\"Plot\"},\"ticker\":{\"id\":\"ce5e1710-6eaa-4031-b762-999d9d9ee1e9\",\"type\":\"BasicTicker\"}},\"id\":\"f28625d0-b92a-4f26-880b-dba00eb7827d\",\"type\":\"Grid\"},{\"attributes\":{\"callback\":null},\"id\":\"26b21ede-2cd1-4bb3-9760-844ca58a626b\",\"type\":\"DataRange1d\"},{\"attributes\":{\"plot\":null,\"text\":\"US Employment Rates after 1991\"},\"id\":\"fa7d5e82-fb70-4acb-a23f-311fd67fce81\",\"type\":\"Title\"},{\"attributes\":{\"active_drag\":\"auto\",\"active_scroll\":\"auto\",\"active_tap\":\"auto\",\"tools\":[{\"id\":\"5c68591e-89f9-466f-8b27-12861d9e3c78\",\"type\":\"PanTool\"},{\"id\":\"83b0f131-adc0-4ad9-9c8f-b5b5855ac61b\",\"type\":\"WheelZoomTool\"},{\"id\":\"be3ff174-ac65-4f51-a995-aa7526c9af19\",\"type\":\"BoxZoomTool\"},{\"id\":\"fa8a21c7-94e8-4ef4-8bba-b57ccf7fb129\",\"type\":\"SaveTool\"},{\"id\":\"1080b6d1-89e1-4aee-8cf0-e19436abf2ab\",\"type\":\"ResetTool\"},{\"id\":\"1759bbdd-6f84-427a-94d0-e281977a197e\",\"type\":\"HelpTool\"}]},\"id\":\"30052e85-f7fc-40cf-b41f-bbd096882374\",\"type\":\"Toolbar\"},{\"attributes\":{\"fill_alpha\":{\"value\":0.1},\"fill_color\":{\"value\":\"#1f77b4\"},\"line_alpha\":{\"value\":0.1},\"line_color\":{\"value\":\"#1f77b4\"},\"x\":{\"field\":\"x\"},\"y\":{\"field\":\"y\"}},\"id\":\"5ff90077-d5ff-4cd8-8618-1e90509edc9f\",\"type\":\"Circle\"},{\"attributes\":{},\"id\":\"424f09d7-009e-413e-983b-2217269a28fe\",\"type\":\"BasicTickFormatter\"},{\"attributes\":{\"axis_label\":\"Groceries\",\"formatter\":{\"id\":\"424f09d7-009e-413e-983b-2217269a28fe\",\"type\":\"BasicTickFormatter\"},\"plot\":{\"id\":\"1c2feb07-ff1f-43c6-9e3a-fdd16fec791c\",\"subtype\":\"Figure\",\"type\":\"Plot\"},\"ticker\":{\"id\":\"ce5e1710-6eaa-4031-b762-999d9d9ee1e9\",\"type\":\"BasicTicker\"}},\"id\":\"7bb81578-766d-4a23-a333-84fbae672374\",\"type\":\"LinearAxis\"},{\"attributes\":{\"callback\":null,\"column_names\":[\"x\",\"y\"],\"data\":{\"x\":[7561.0,9568.0,7684.0,4221.0,7198.0,5126.0,6975.0,9426.0,6192.0,18881.0,12974.0,4523.0,11757.0,14982.0,12091.0,3821.0,12121.0,2933.0,10099.0,9464.0,4602.0,2010.0,4469.0,22019.0,13792.0,7595.0,2861.0,3045.0,25957.0,2609.0,11107.0,3133.0,2886.0,7326.0,2262.0,11091.0,5428.0,12477.0,16709.0,902.0,4757.0,5956.0,14961.0,23998.0,10471.0,21531.0,21955.0,55571.0,10868.0,28921.0,1980.0,6996.0,5876.0,11532.0,1947.0,5005.0,26866.0,10487.0,1648.0,8040.0,7854.0,59598.0,6544.0,15775.0,3250.0,45828.0,7417.0,13462.0,3993.0,1293.0,3202.0,21042.0,2661.0,8713.0,9794.0,3.0,6532.0,28540.0,2067.0,3655.0,3009.0,14403.0,11009.0,1783.0,4814.0,92780.0,32114.0,8117.0,4042.0,5330.0,1638.0,2530.0,32034.0,2062.0,11323.0,6252.0,8118.0,610.0,778.0,1909.0,12144.0,16267.0,7677.0,8906.0,3445.0,3970.0,10704.0,14886.0,6981.0,28986.0,1694.0,17569.0,2469.0,1733.0,2000.0,2988.0,3355.0,5380.0,2362.0,2147.0,3412.0,1498.0,245.0,8814.0,2961.0,7102.0,1658.0,10685.0,3823.0,1510.0,699.0,314.0,2479.0,1235.0,2174.0,2591.0,7030.0,8282.0,5034.0,3343.0,7305.0,5189.0,8253.0,1096.0,1988.0,34792.0,2177.0,2707.0,542.0,1651.0,1765.0,2022.0,3135.0,2368.0,137.0,19460.0,14855.0,2474.0,9618.0,14682.0,12822.0,283.0,3810.0,26870.0,8584.0,19858.0,9170.0,3268.0,803.0,2155.0,13430.0,19816.0,6536.0,19805.0,5241.0,11874.0,6536.0,4533.0,4945.0,2500.0,8887.0,18148.0,10518.0,20170.0,4710.0,1139.0,854.0,9819.0,11687.0,11522.0,1981.0,1381.0,2251.0,20292.0,2974.0,5230.0,4897.0,10391.0,6824.0,2112.0,23127.0,24708.0,9490.0,2216.0,5226.0,23596.0,950.0,6089.0,5838.0,16767.0,1393.0,39694.0,2062.0,6861.0,11364.0,15538.0,36486.0,2046.0,15205.0,1390.0,1382.0,10646.0,2856.0,5265.0,1499.0,4157.0,9212.0,1563.0,572.0,2501.0,5615.0,3828.0,3838.0,3316.0,3833.0,2824.0,3047.0,593.0,585.0,3779.0,7041.0,2475.0,2914.0,5119.0,10817.0,13916.0,1777.0,489.0,2406.0,2070.0,1799.0,33586.0,4740.0,16966.0,4748.0,1495.0,5249.0,1883.0,2124.0,7336.0,2157.0,1094.0,1677.0,6684.0,15445.0,13699.0,22182.0,2576.0,19847.0,1138.0,975.0,1563.0,6869.0,1493.0,1841.0,223.0,6964.0,683.0,2543.0,9694.0,2431.0,6235.0,4252.0,2013.0,12609.0,3600.0,1242.0,2828.0,1296.0,471.0,2642.0,3261.0,4329.0,12469.0,6550.0,5234.0,3643.0,6986.0,9965.0,2060.0,6360.0,20399.0,9785.0,13829.0,24773.0,8852.0,21570.0,2842.0,3007.0,13567.0,2405.0,8280.0,19172.0,2405.0,7647.0,11924.0,2201.0,6114.0,3558.0,17645.0,2280.0,5167.0,3315.0,11593.0,2464.0,13626.0,1431.0,1664.0,3389.0,4583.0,5109.0,26839.0,1447.0,67298.0,2743.0,10790.0,1330.0,2611.0,7021.0,5332.0,9670.0,11238.0,5923.0,26316.0,1763.0,8335.0,15541.0,12311.0,2028.0,20521.0,1997.0,22294.0,1533.0,21203.0,2548.0,2012.0,218.0,22272.0,1660.0,2109.0,2006.0,864.0,2453.0,4438.0,1524.0,8025.0,1664.0,534.0,2406.0,683.0,4955.0,1939.0,1641.0,7398.0,1668.0,1162.0,13586.0,2648.0,1902.0,10391.0,2146.0,1617.0,8469.0,3450.0,15400.0,1614.0,2857.0,1573.0,1172.0,1422.0,1328.0,2313.0,3600.0,3842.0,3204.0,1263.0,9345.0,1428.0,582.0,935.0,1238.0,2128.0,5091.0,4604.0,3444.0,1167.0,5026.0,18683.0,6407.0,6100.0,4563.0,3281.0,12400.0,6633.0,3417.0,8552.0,10908.0,11055.0,18622.0,2223.0,13227.0,9053.0,4172.0,4657.0,12232.0,2593.0,14316.0,5429.0,4910.0,3580.0,16483.0,5160.0,4754.0,1493.0,7994.0,16027.0,764.0,30243.0,2232.0,2510.0],\"y\":[4394.06871037538,5529.301418212147,4463.642015339965,2504.842380442742,4188.742615235994,3016.743526726885,4062.605647698575,5448.981017358723,3619.7121697532893,10797.07531362013,7455.859765442855,2675.6646414126994,6767.479991931471,8591.658109905351,6956.4026249247345,2278.587730151409,6973.371723696586,1776.3024065046468,5829.654466473893,5470.4752091364,2720.3499348452374,1254.2198009573942,2645.120263623369,12572.043045155642,7918.550525288632,4413.300355650143,1735.5765694522072,1839.6537085862205,14799.520077273824,1593.0361397686668,6399.816185208054,1889.429731650314,1749.7174850954154,4261.14410332922,1396.7602306409347,6390.7659991964,3187.565787696842,7174.738362455873,9568.512562538184,627.4944196503995,2808.0236118331295,3486.221926081403,8579.779740765056,13691.437927472018,6040.0712912448325,12296.012371800214,12535.842301109027,31550.283111592722,6264.629031658982,16476.067035932603,1237.250702185544,4074.484016838871,3440.970996023136,6640.211751142596,1218.5846935365091,2948.3014950137563,15313.68377006088,6049.121477256486,1049.4593424437371,4665.0086540992515,4559.800241713781,33828.10180340073,3818.8162620096628,9040.20795410792,1955.6092168605292,26039.28546712156,4312.617036270499,7731.890438798282,2375.8772297766823,848.6583403101782,1928.458658825569,12019.41606181906,1622.44924430654,5045.682103214421,5657.135295626751,118.98709312062665,3812.0286225009236,16260.559481530108,1286.4610886239093,2184.692050280504,1819.2907900600003,8264.154503608646,6344.383795886677,1125.820286917062,2840.264899499645,52597.05631831833,18282.144781883177,4708.562674280334,2403.5934244373702,3132.1333983754657,1043.8029761864539,1548.3508463361281,18236.89385182491,1283.6329054952676,6521.9936963653745,3653.65036729699,4709.128310906062,462.3285249377258,557.355478060086,1197.0905017588325,6986.381366088337,9318.50117396626,4459.682558959866,5154.84997197999,2065.9083588775547,2362.8675873849306,6171.864625039536,8537.35699383543,4065.9994674529453,16512.83341660495,1075.4786272272404,10054.960060664553,1513.8470121666999,1097.5384556306456,1248.563434700111,1807.4124209197055,2015.0010625620043,3160.4152296618818,1453.323893213768,1331.712018682176,2047.2423502285194,964.613848584487,255.87115654688364,5102.811402412983,1792.1402320250404,4134.441499166074,1055.1157087010204,6161.117529150697,2279.719003402865,971.4014880932269,512.6701846275475,294.90008372213873,1519.5033784239833,815.851416017935,1346.984207576841,1582.8546805055569,4093.7156621136346,4801.8927175255085,2964.7049571598777,2008.213423053264,4249.265734188926,3052.37863414777,4785.489255379387,737.2279250416964,1241.775795191371,19796.919665583657,1348.681117454026,1648.4685290900434,423.865234388199,1051.1562523209222,1115.6388276539521,1261.0074404661343,1890.5610049017705,1456.717712968138,194.7824009682235,11124.578919916834,8519.822258437855,1516.6751952953416,5557.583249498564,8421.967122186852,7369.8829983321475,277.36534832456033,2272.3657272683963,15315.946316563794,4972.714978495465,11349.702296956712,5304.178041172269,1965.790676123639,571.4963937032944,1336.2371116880026,7713.7900667749755,11325.945558676121,3814.291169003837,11319.723555793109,3081.7917386856434,6833.659477141687,3814.291169003837,2681.3210076699825,2914.3632974700563,1531.3817475642782,5144.102876091152,10382.46366696126,6066.656212654065,11526.180924183953,2781.4386904238972,761.5502999480149,600.3438616154394,5671.276211269959,6727.885428130488,6634.555384885312,1237.8163388112725,898.4343633742717,1390.5382277579229,11595.188592522809,1799.493508159509,3075.569735802632,2887.212739435096,5994.8203611865665,3977.194517213597,1311.9147367816843,13198.768426462637,14093.039931739133,5485.181761405337,1370.7409458574314,3073.3071892997177,13464.052003929226,654.6449776853595,3561.4515973032717,3419.476804245459,9601.319486830429,905.2220028830118,22569.670404903954,1283.6329054952676,3998.1230723655453,6545.1847980202365,8906.152073810306,20755.108109567456,1274.582719483614,8717.795077442772,903.5250930058268,899.0,6139.057700747292,1732.7483863235652,3095.367017703123,965.1794852102154,2468.6416363961284,5327.934779452859,1001.3802292568288,440.83433316004897,1531.9473841900065,3293.3398367080413,2282.5471865315067,2288.20355278879,1992.9412341585992,2285.375369660148,1714.6480143002584,1840.7849818376774,452.71270230034406,448.1876092945174,2254.8309918708183,4099.937664996646,1517.24083192107,1765.5553106158088,3012.784070346786,6235.781563746837,7988.689466878946,1122.4264671626922,393.8864932245973,1478.2119047458148,1288.1579985010942,1134.8704729287156,19114.761894955285,2798.407789195748,9713.881175350367,2802.932882201574,962.916938707302,3086.3168316914694,1182.3839494898957,1318.7023762904244,4266.800469586505,1337.3683849394595,736.0966517902398,1065.8628045898588,3898.0053896116306,8853.547867617572,7865.946319095898,12664.24181514936,1574.3701311196317,11343.4802940737,760.9846633222865,668.7858933285679,1001.3802292568288,4002.648165371372,961.7856654558453,1158.6272112093056,243.42715078086027,4056.383644815564,503.61999861589425,1555.7041224705968,5600.571633053917,1492.352820389023,3644.0345446596084,2522.37711584032,1255.9167108345791,7249.402397052013,2153.582035865447,819.8108723980332,1716.9105608031718,850.3552501873634,383.70503396148723,1611.7021484177017,1961.8312197435407,2565.931136021402,7170.213269450046,3822.210081764033,3077.832282305545,2177.904410771765,4068.8276505815875,5753.8591586262955,1282.501632243811,3714.73912287565,11655.71171147574,5652.044565995196,7939.479080440581,14129.806312411474,5124.30559419066,12318.07220020362,1724.8294735633688,1818.159516808544,7791.282284499757,1477.6462681200865,4800.761444274051,10961.675571707074,1477.6462681200865,4442.713460188016,6861.941308428103,1362.2563964715062,3575.5925129464795,2129.825297584856,10097.948444219906,1406.9416899040446,3039.9346283817463,1992.3755975328709,6674.715585312025,1511.0188290380581,7824.654845417728,926.7161946606885,1058.5095284553904,2034.2327078367673,2709.6028389564,3007.127704089503,15298.411581166214,935.7663806723418,38183.50382150891,1668.8314476162634,6220.509374852171,869.5868954621268,1594.1674130201236,4088.624932482079,3133.264671626922,5586.996354036438,6473.914583178465,3467.5559174323676,15002.583625910296,1114.5075544024955,4831.871458689111,8907.84898368749,7080.842682584968,1264.4012602205044,11724.719379814598,1246.866524822926,12727.593117230936,984.4111304849786,12110.48355856132,1558.5323055992385,1255.351074208851,240.59896765221862,12715.14911146491,1056.246981952477,1310.2178269044994,1251.9572544544808,606.0002278727228,1504.7968261550463,2627.5855282257908,979.3204008534236,4656.524104713327,1058.5095284553904,419.34014138237234,1478.2119047458148,503.61999861589425,2920.01966372734,1214.0596005306825,1045.4998860636388,4301.869940381661,1060.7720749583036,774.5599423397664,7802.029380388595,1615.0959681720717,1193.1310453787341,5994.8203611865665,1331.1463820564477,1031.9246070461588,4907.666766536707,2068.7365420061965,8828.094219459796,1030.2276971689737,1733.3140229492938,1007.036595514112,780.2163085970499,921.6254650291335,868.4556222106701,1425.6076985530797,2153.582035865447,2290.4660992917034,1929.5899320770259,831.6892415383282,5403.164450674729,925.0192847835035,446.4906994173324,646.1604282994346,817.5483258951199,1320.9649227933378,2996.9462448263935,2721.4812080966944,2065.342722251826,777.3881254684081,2960.1798641540518,10685.079261725918,3741.324044284881,3567.673600186283,2698.2901064418324,1973.1439522581077,7131.184342274791,3869.157921699485,2050.070533357161,4954.614606472159,6287.254496688115,6370.40308067018,10650.57542755649,1374.7004022375295,7598.965831752123,5237.998555962055,2477.126185782054,2751.4599492602956,7036.15738915243,1583.9859537570132,8214.944117170282,3188.13142432257,2894.5660155695646,2142.2693033508795,9440.678685123583,3035.975172001648,2806.3267019559444,961.7856654558453,4638.989369315748,9182.74838379146,549.4365652998894,17223.838655145464,1379.7911318690844,1537.0381138215614]}},\"id\":\"d3f307a3-9e29-4060-ae85-aa65fb7c6edf\",\"type\":\"ColumnDataSource\"},{\"attributes\":{\"plot\":{\"id\":\"1c2feb07-ff1f-43c6-9e3a-fdd16fec791c\",\"subtype\":\"Figure\",\"type\":\"Plot\"}},\"id\":\"1080b6d1-89e1-4aee-8cf0-e19436abf2ab\",\"type\":\"ResetTool\"},{\"attributes\":{},\"id\":\"cc181848-0015-4633-b240-c024810fe840\",\"type\":\"BasicTicker\"},{\"attributes\":{\"plot\":{\"id\":\"1c2feb07-ff1f-43c6-9e3a-fdd16fec791c\",\"subtype\":\"Figure\",\"type\":\"Plot\"}},\"id\":\"fa8a21c7-94e8-4ef4-8bba-b57ccf7fb129\",\"type\":\"SaveTool\"},{\"attributes\":{\"fill_alpha\":{\"value\":0.5},\"fill_color\":{\"value\":\"orange\"},\"line_color\":{\"value\":\"navy\"},\"x\":{\"field\":\"x\"},\"y\":{\"field\":\"y\"}},\"id\":\"fa7fe1a5-0c0c-4119-874a-14fabf6e4c08\",\"type\":\"Circle\"},{\"attributes\":{\"below\":[{\"id\":\"7bb81578-766d-4a23-a333-84fbae672374\",\"type\":\"LinearAxis\"}],\"left\":[{\"id\":\"0e41c9ac-aa34-4589-8591-4e8c1df93ab2\",\"type\":\"LinearAxis\"}],\"plot_height\":400,\"plot_width\":400,\"renderers\":[{\"id\":\"7bb81578-766d-4a23-a333-84fbae672374\",\"type\":\"LinearAxis\"},{\"id\":\"f28625d0-b92a-4f26-880b-dba00eb7827d\",\"type\":\"Grid\"},{\"id\":\"0e41c9ac-aa34-4589-8591-4e8c1df93ab2\",\"type\":\"LinearAxis\"},{\"id\":\"cc6f7a17-56db-4283-9e27-139612435b28\",\"type\":\"Grid\"},{\"id\":\"fe42ec2e-4b4c-427b-bece-4f5b31859160\",\"type\":\"BoxAnnotation\"},{\"id\":\"12c6a2c1-c114-4d98-b68f-3b71c335e069\",\"type\":\"GlyphRenderer\"}],\"title\":{\"id\":\"fa7d5e82-fb70-4acb-a23f-311fd67fce81\",\"type\":\"Title\"},\"tool_events\":{\"id\":\"7cb79616-c331-4370-ad28-091e8fd31ebe\",\"type\":\"ToolEvents\"},\"toolbar\":{\"id\":\"30052e85-f7fc-40cf-b41f-bbd096882374\",\"type\":\"Toolbar\"},\"x_range\":{\"id\":\"8f6d6542-c2ad-4abf-a772-bdde3ab75351\",\"type\":\"DataRange1d\"},\"y_range\":{\"id\":\"26b21ede-2cd1-4bb3-9760-844ca58a626b\",\"type\":\"DataRange1d\"}},\"id\":\"1c2feb07-ff1f-43c6-9e3a-fdd16fec791c\",\"subtype\":\"Figure\",\"type\":\"Plot\"},{\"attributes\":{\"data_source\":{\"id\":\"d3f307a3-9e29-4060-ae85-aa65fb7c6edf\",\"type\":\"ColumnDataSource\"},\"glyph\":{\"id\":\"fa7fe1a5-0c0c-4119-874a-14fabf6e4c08\",\"type\":\"Circle\"},\"hover_glyph\":null,\"muted_glyph\":null,\"nonselection_glyph\":{\"id\":\"5ff90077-d5ff-4cd8-8618-1e90509edc9f\",\"type\":\"Circle\"},\"selection_glyph\":null},\"id\":\"12c6a2c1-c114-4d98-b68f-3b71c335e069\",\"type\":\"GlyphRenderer\"},{\"attributes\":{\"axis_label\":\"Milk Prediction\",\"formatter\":{\"id\":\"40e4aa34-1a55-4fd5-9478-53b280fb5933\",\"type\":\"BasicTickFormatter\"},\"plot\":{\"id\":\"1c2feb07-ff1f-43c6-9e3a-fdd16fec791c\",\"subtype\":\"Figure\",\"type\":\"Plot\"},\"ticker\":{\"id\":\"cc181848-0015-4633-b240-c024810fe840\",\"type\":\"BasicTicker\"}},\"id\":\"0e41c9ac-aa34-4589-8591-4e8c1df93ab2\",\"type\":\"LinearAxis\"},{\"attributes\":{\"plot\":{\"id\":\"1c2feb07-ff1f-43c6-9e3a-fdd16fec791c\",\"subtype\":\"Figure\",\"type\":\"Plot\"}},\"id\":\"83b0f131-adc0-4ad9-9c8f-b5b5855ac61b\",\"type\":\"WheelZoomTool\"},{\"attributes\":{\"plot\":{\"id\":\"1c2feb07-ff1f-43c6-9e3a-fdd16fec791c\",\"subtype\":\"Figure\",\"type\":\"Plot\"}},\"id\":\"1759bbdd-6f84-427a-94d0-e281977a197e\",\"type\":\"HelpTool\"},{\"attributes\":{},\"id\":\"40e4aa34-1a55-4fd5-9478-53b280fb5933\",\"type\":\"BasicTickFormatter\"},{\"attributes\":{\"callback\":null},\"id\":\"8f6d6542-c2ad-4abf-a772-bdde3ab75351\",\"type\":\"DataRange1d\"},{\"attributes\":{\"bottom_units\":\"screen\",\"fill_alpha\":{\"value\":0.5},\"fill_color\":{\"value\":\"lightgrey\"},\"left_units\":\"screen\",\"level\":\"overlay\",\"line_alpha\":{\"value\":1.0},\"line_color\":{\"value\":\"black\"},\"line_dash\":[4,4],\"line_width\":{\"value\":2},\"plot\":null,\"render_mode\":\"css\",\"right_units\":\"screen\",\"top_units\":\"screen\"},\"id\":\"fe42ec2e-4b4c-427b-bece-4f5b31859160\",\"type\":\"BoxAnnotation\"},{\"attributes\":{},\"id\":\"7cb79616-c331-4370-ad28-091e8fd31ebe\",\"type\":\"ToolEvents\"},{\"attributes\":{\"overlay\":{\"id\":\"fe42ec2e-4b4c-427b-bece-4f5b31859160\",\"type\":\"BoxAnnotation\"},\"plot\":{\"id\":\"1c2feb07-ff1f-43c6-9e3a-fdd16fec791c\",\"subtype\":\"Figure\",\"type\":\"Plot\"}},\"id\":\"be3ff174-ac65-4f51-a995-aa7526c9af19\",\"type\":\"BoxZoomTool\"},{\"attributes\":{\"plot\":{\"id\":\"1c2feb07-ff1f-43c6-9e3a-fdd16fec791c\",\"subtype\":\"Figure\",\"type\":\"Plot\"}},\"id\":\"5c68591e-89f9-466f-8b27-12861d9e3c78\",\"type\":\"PanTool\"},{\"attributes\":{},\"id\":\"ce5e1710-6eaa-4031-b762-999d9d9ee1e9\",\"type\":\"BasicTicker\"},{\"attributes\":{\"dimension\":1,\"plot\":{\"id\":\"1c2feb07-ff1f-43c6-9e3a-fdd16fec791c\",\"subtype\":\"Figure\",\"type\":\"Plot\"},\"ticker\":{\"id\":\"cc181848-0015-4633-b240-c024810fe840\",\"type\":\"BasicTicker\"}},\"id\":\"cc6f7a17-56db-4283-9e27-139612435b28\",\"type\":\"Grid\"}],\"root_ids\":[\"1c2feb07-ff1f-43c6-9e3a-fdd16fec791c\"]},\"title\":\"Bokeh Application\",\"version\":\"0.12.5\"}};\n",
       "            var render_items = [{\"docid\":\"2600a5f0-b771-45e0-85ec-2664a16013a9\",\"elementid\":\"7450ef61-2f45-47ff-9ffc-d0171cc8ebf0\",\"modelid\":\"1c2feb07-ff1f-43c6-9e3a-fdd16fec791c\"}];\n",
       "            \n",
       "            Bokeh.embed.embed_items(docs_json, render_items);\n",
       "          };\n",
       "          if (document.readyState != \"loading\") fn();\n",
       "          else document.addEventListener(\"DOMContentLoaded\", fn);\n",
       "        })();\n",
       "      },\n",
       "      function(Bokeh) {\n",
       "      }\n",
       "    ];\n",
       "  \n",
       "    function run_inline_js() {\n",
       "      \n",
       "      if ((window.Bokeh !== undefined) || (force === true)) {\n",
       "        for (var i = 0; i < inline_js.length; i++) {\n",
       "          inline_js[i](window.Bokeh);\n",
       "        }if (force === true) {\n",
       "          display_loaded();\n",
       "        }} else if (Date.now() < window._bokeh_timeout) {\n",
       "        setTimeout(run_inline_js, 100);\n",
       "      } else if (!window._bokeh_failed_load) {\n",
       "        console.log(\"Bokeh: BokehJS failed to load within specified timeout.\");\n",
       "        window._bokeh_failed_load = true;\n",
       "      } else if (force !== true) {\n",
       "        var cell = $(document.getElementById(\"7450ef61-2f45-47ff-9ffc-d0171cc8ebf0\")).parents('.cell').data().cell;\n",
       "        cell.output_area.append_execute_result(NB_LOAD_WARNING)\n",
       "      }\n",
       "  \n",
       "    }\n",
       "  \n",
       "    if (window._bokeh_is_loading === 0) {\n",
       "      console.log(\"Bokeh: BokehJS loaded, going straight to plotting\");\n",
       "      run_inline_js();\n",
       "    } else {\n",
       "      load_libs(js_urls, function() {\n",
       "        console.log(\"Bokeh: BokehJS plotting callback run at\", now());\n",
       "        run_inline_js();\n",
       "      });\n",
       "    }\n",
       "  }(this));\n",
       "</script>"
      ]
     },
     "metadata": {},
     "output_type": "display_data"
    }
   ],
   "source": [
    "p = figure(plot_width=400, plot_height=400, title=\"US Employment Rates after 1991\")\n",
    "\n",
    "p.circle(wholeDataGroceries, milkPredictions, line_color=\"navy\", fill_color=\"orange\", fill_alpha=0.5)\n",
    "\n",
    "p.xaxis.axis_label = \"Groceries\"\n",
    "p.yaxis.axis_label = \"Milk Prediction\"\n",
    "\n",
    "show(p)"
   ]
  },
  {
   "cell_type": "code",
   "execution_count": null,
   "metadata": {
    "collapsed": true
   },
   "outputs": [],
   "source": []
  }
 ],
 "metadata": {
  "kernelspec": {
   "display_name": "Python 3",
   "language": "python",
   "name": "python3"
  },
  "language_info": {
   "codemirror_mode": {
    "name": "ipython",
    "version": 3
   },
   "file_extension": ".py",
   "mimetype": "text/x-python",
   "name": "python",
   "nbconvert_exporter": "python",
   "pygments_lexer": "ipython3",
   "version": "3.6.1"
  }
 },
 "nbformat": 4,
 "nbformat_minor": 2
}
