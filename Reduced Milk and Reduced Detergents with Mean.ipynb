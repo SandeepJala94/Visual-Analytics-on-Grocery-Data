{
 "cells": [
  {
   "cell_type": "code",
   "execution_count": 59,
   "metadata": {},
   "outputs": [
    {
     "data": {
      "text/html": [
       "\n",
       "    <div class=\"bk-root\">\n",
       "        <a href=\"http://bokeh.pydata.org\" target=\"_blank\" class=\"bk-logo bk-logo-small bk-logo-notebook\"></a>\n",
       "        <span id=\"8328bbad-d768-4cd3-8009-52f717c30514\">Loading BokehJS ...</span>\n",
       "    </div>"
      ]
     },
     "metadata": {},
     "output_type": "display_data"
    },
    {
     "data": {
      "application/javascript": [
       "\n",
       "(function(global) {\n",
       "  function now() {\n",
       "    return new Date();\n",
       "  }\n",
       "\n",
       "  var force = true;\n",
       "\n",
       "  if (typeof (window._bokeh_onload_callbacks) === \"undefined\" || force === true) {\n",
       "    window._bokeh_onload_callbacks = [];\n",
       "    window._bokeh_is_loading = undefined;\n",
       "  }\n",
       "\n",
       "\n",
       "  \n",
       "  if (typeof (window._bokeh_timeout) === \"undefined\" || force === true) {\n",
       "    window._bokeh_timeout = Date.now() + 5000;\n",
       "    window._bokeh_failed_load = false;\n",
       "  }\n",
       "\n",
       "  var NB_LOAD_WARNING = {'data': {'text/html':\n",
       "     \"<div style='background-color: #fdd'>\\n\"+\n",
       "     \"<p>\\n\"+\n",
       "     \"BokehJS does not appear to have successfully loaded. If loading BokehJS from CDN, this \\n\"+\n",
       "     \"may be due to a slow or bad network connection. Possible fixes:\\n\"+\n",
       "     \"</p>\\n\"+\n",
       "     \"<ul>\\n\"+\n",
       "     \"<li>re-rerun `output_notebook()` to attempt to load from CDN again, or</li>\\n\"+\n",
       "     \"<li>use INLINE resources instead, as so:</li>\\n\"+\n",
       "     \"</ul>\\n\"+\n",
       "     \"<code>\\n\"+\n",
       "     \"from bokeh.resources import INLINE\\n\"+\n",
       "     \"output_notebook(resources=INLINE)\\n\"+\n",
       "     \"</code>\\n\"+\n",
       "     \"</div>\"}};\n",
       "\n",
       "  function display_loaded() {\n",
       "    if (window.Bokeh !== undefined) {\n",
       "      var el = document.getElementById(\"8328bbad-d768-4cd3-8009-52f717c30514\");\n",
       "      el.textContent = \"BokehJS \" + Bokeh.version + \" successfully loaded.\";\n",
       "    } else if (Date.now() < window._bokeh_timeout) {\n",
       "      setTimeout(display_loaded, 100)\n",
       "    }\n",
       "  }\n",
       "\n",
       "  function run_callbacks() {\n",
       "    window._bokeh_onload_callbacks.forEach(function(callback) { callback() });\n",
       "    delete window._bokeh_onload_callbacks\n",
       "    console.info(\"Bokeh: all callbacks have finished\");\n",
       "  }\n",
       "\n",
       "  function load_libs(js_urls, callback) {\n",
       "    window._bokeh_onload_callbacks.push(callback);\n",
       "    if (window._bokeh_is_loading > 0) {\n",
       "      console.log(\"Bokeh: BokehJS is being loaded, scheduling callback at\", now());\n",
       "      return null;\n",
       "    }\n",
       "    if (js_urls == null || js_urls.length === 0) {\n",
       "      run_callbacks();\n",
       "      return null;\n",
       "    }\n",
       "    console.log(\"Bokeh: BokehJS not loaded, scheduling load and callback at\", now());\n",
       "    window._bokeh_is_loading = js_urls.length;\n",
       "    for (var i = 0; i < js_urls.length; i++) {\n",
       "      var url = js_urls[i];\n",
       "      var s = document.createElement('script');\n",
       "      s.src = url;\n",
       "      s.async = false;\n",
       "      s.onreadystatechange = s.onload = function() {\n",
       "        window._bokeh_is_loading--;\n",
       "        if (window._bokeh_is_loading === 0) {\n",
       "          console.log(\"Bokeh: all BokehJS libraries loaded\");\n",
       "          run_callbacks()\n",
       "        }\n",
       "      };\n",
       "      s.onerror = function() {\n",
       "        console.warn(\"failed to load library \" + url);\n",
       "      };\n",
       "      console.log(\"Bokeh: injecting script tag for BokehJS library: \", url);\n",
       "      document.getElementsByTagName(\"head\")[0].appendChild(s);\n",
       "    }\n",
       "  };var element = document.getElementById(\"8328bbad-d768-4cd3-8009-52f717c30514\");\n",
       "  if (element == null) {\n",
       "    console.log(\"Bokeh: ERROR: autoload.js configured with elementid '8328bbad-d768-4cd3-8009-52f717c30514' but no matching script tag was found. \")\n",
       "    return false;\n",
       "  }\n",
       "\n",
       "  var js_urls = [\"https://cdn.pydata.org/bokeh/release/bokeh-0.12.5.min.js\", \"https://cdn.pydata.org/bokeh/release/bokeh-widgets-0.12.5.min.js\"];\n",
       "\n",
       "  var inline_js = [\n",
       "    function(Bokeh) {\n",
       "      Bokeh.set_log_level(\"info\");\n",
       "    },\n",
       "    \n",
       "    function(Bokeh) {\n",
       "      \n",
       "    },\n",
       "    \n",
       "    function(Bokeh) {\n",
       "      \n",
       "      document.getElementById(\"8328bbad-d768-4cd3-8009-52f717c30514\").textContent = \"BokehJS is loading...\";\n",
       "    },\n",
       "    function(Bokeh) {\n",
       "      console.log(\"Bokeh: injecting CSS: https://cdn.pydata.org/bokeh/release/bokeh-0.12.5.min.css\");\n",
       "      Bokeh.embed.inject_css(\"https://cdn.pydata.org/bokeh/release/bokeh-0.12.5.min.css\");\n",
       "      console.log(\"Bokeh: injecting CSS: https://cdn.pydata.org/bokeh/release/bokeh-widgets-0.12.5.min.css\");\n",
       "      Bokeh.embed.inject_css(\"https://cdn.pydata.org/bokeh/release/bokeh-widgets-0.12.5.min.css\");\n",
       "    }\n",
       "  ];\n",
       "\n",
       "  function run_inline_js() {\n",
       "    \n",
       "    if ((window.Bokeh !== undefined) || (force === true)) {\n",
       "      for (var i = 0; i < inline_js.length; i++) {\n",
       "        inline_js[i](window.Bokeh);\n",
       "      }if (force === true) {\n",
       "        display_loaded();\n",
       "      }} else if (Date.now() < window._bokeh_timeout) {\n",
       "      setTimeout(run_inline_js, 100);\n",
       "    } else if (!window._bokeh_failed_load) {\n",
       "      console.log(\"Bokeh: BokehJS failed to load within specified timeout.\");\n",
       "      window._bokeh_failed_load = true;\n",
       "    } else if (force !== true) {\n",
       "      var cell = $(document.getElementById(\"8328bbad-d768-4cd3-8009-52f717c30514\")).parents('.cell').data().cell;\n",
       "      cell.output_area.append_execute_result(NB_LOAD_WARNING)\n",
       "    }\n",
       "\n",
       "  }\n",
       "\n",
       "  if (window._bokeh_is_loading === 0) {\n",
       "    console.log(\"Bokeh: BokehJS loaded, going straight to plotting\");\n",
       "    run_inline_js();\n",
       "  } else {\n",
       "    load_libs(js_urls, function() {\n",
       "      console.log(\"Bokeh: BokehJS plotting callback run at\", now());\n",
       "      run_inline_js();\n",
       "    });\n",
       "  }\n",
       "}(this));"
      ]
     },
     "metadata": {},
     "output_type": "display_data"
    }
   ],
   "source": [
    "from bokeh.io import output_notebook, show\n",
    "from bokeh.plotting import figure\n",
    "from bokeh.models import HoverTool\n",
    "import math\n",
    "output_notebook()"
   ]
  },
  {
   "cell_type": "code",
   "execution_count": 60,
   "metadata": {
    "collapsed": true
   },
   "outputs": [],
   "source": [
    "import xlrd\n",
    "file_location = \"C:/Users/Sandeep/Desktop/CollegeCourses/GRAD_SCHOOL/CS_690V_Visual_Analytics/HW/HW2/Wholesale customers data.xlsx\"\n",
    "with6ValuesFile = xlrd.open_workbook(file_location)\n",
    "with6Vals = with6ValuesFile.sheet_by_index(0)\n",
    "\n",
    "file_location = \"C:/Users/Sandeep/Desktop/CollegeCourses/GRAD_SCHOOL/CS_690V_Visual_Analytics/HW/HW2/Wholesale customers data-missing.xlsx\"\n",
    "without6ValuesFile = xlrd.open_workbook(file_location)\n",
    "without6Vals = without6ValuesFile.sheet_by_index(0)"
   ]
  },
  {
   "cell_type": "code",
   "execution_count": 61,
   "metadata": {
    "collapsed": true
   },
   "outputs": [],
   "source": [
    "wholeDataMilk = []\n",
    "\n",
    "for r in range(1, with6Vals.nrows):\n",
    "    wholeDataMilk.append(with6Vals.cell_value(r,3))\n",
    "\n",
    "#print(wholeDataMilk)\n",
    "#print(len(wholeDataMilk))"
   ]
  },
  {
   "cell_type": "code",
   "execution_count": 62,
   "metadata": {
    "collapsed": true
   },
   "outputs": [],
   "source": [
    "wholeDataDetergents = []\n",
    "\n",
    "for r in range(1, with6Vals.nrows):\n",
    "    wholeDataDetergents.append(with6Vals.cell_value(r,6))\n",
    "\n",
    "#print(wholeDataDetergent)\n",
    "#print(len(wholeDataDetergent))"
   ]
  },
  {
   "cell_type": "code",
   "execution_count": 63,
   "metadata": {},
   "outputs": [
    {
     "name": "stdout",
     "output_type": "stream",
     "text": [
      "[2674.0, 3293.0, 3516.0, 507.0, 1777.0, 1795.0, 3140.0, 3321.0, 1716.0, 7425.0, 5977.0, 549.0, 3881.0, 6707.0, 5058.0, 964.0, 4508.0, 370.0, 2767.0, 2518.0, 2259.0, 375.0, 2381.0, 4337.0, 4482.0, 4003.0, 242.0, 100.0, 8604.0, 1107.0, 2134.0, 820.0, 918.0, 361.0, 483.0, 4239.0, 862.0, 6506.0, 6956.0, 212.0, 1145.0, 2575.0, 6899.0, 9529.0, 4618.0, 7353.0, 6792.0, 24171.0, 5121.0, 13583.0, 609.0, 1538.0, 2587.0, 5611.0, 204.0, 2024.0, 17740.0, 7572.0, 227.0, 3084.0, 4095.0, 26701.0, 4074.0, 7677.0, 1247.0, 24231.0, 3468.0, 5141.0, 788.0, 656.0, 116.0, 4173.0, 1321.0, 764.0, 1901.0, 3.0, 529.0, 12034.0, 301.0, 1202.0, 610.0, 7818.0, 3537.0, 550.0, 3837.0, 40827.0, 20070.0, 1579.0, 165.0, 454.0, 69.0, 627.0, 18906.0, 71.0, 5038.0, 223.0, 3874.0, 54.0, 56.0, 215.0, 8035.0, 6766.0, 4573.0, 1480.0, 1491.0, 139.0, 6830.0, 8969.0, 2505.0, 836.0, 169.0, 6457.0, 483.0, 585.0, 118.0, 276.0, 310.0, 319.0, 411.0, 266.0, 174.0, 264.0, 25.0, 1976.0, 500.0, 778.0, 349.0, 2386.0, 1062.0, 410.0, 395.0, 70.0, 955.0, 256.0, 47.0, 199.0, 2447.0, 721.0, 249.0, 637.0, 960.0, 51.0, 20.0, 399.0, 516.0, 12591.0, 73.0, 1082.0, 283.0, 113.0, 170.0, 255.0, 352.0, 302.0, 7.0, 11577.0, 6694.0, 811.0, 4004.0, 8077.0, 4424.0, 3.0, 232.0, 13726.0, 3674.0, 7108.0, 4973.0, 1680.0, 79.0, 69.0, 7015.0, 8773.0, 2840.0, 9836.0, 153.0, 4196.0, 1532.0, 20.0, 120.0, 273.0, 1382.0, 4948.0, 6907.0, 239.0, 334.0, 58.0, 949.0, 3459.0, 6839.0, 4027.0, 118.0, 43.0, 187.0, 5618.0, 355.0, 330.0, 763.0, 4314.0, 592.0, 402.0, 9959.0, 14235.0, 284.0, 954.0, 5.0, 9265.0, 288.0, 5316.0, 3381.0, 12420.0, 244.0, 19410.0, 240.0, 3961.0, 5957.0, 5828.0, 13308.0, 130.0, 4797.0, 86.0, 56.0, 4167.0, 256.0, 788.0, 70.0, 'EMPTY SLOT', 2568.0, 263.0, 4762.0, 694.0, 955.0, 1566.0, 284.0, 409.0, 325.0, 1216.0, 415.0, 28.0, 72.0, 828.0, 343.0, 412.0, 586.0, 1682.0, 3143.0, 8933.0, 430.0, 44.0, 562.0, 918.0, 234.0, 18594.0, 205.0, 363.0, 1547.0, 111.0, 392.0, 3593.0, 730.0, 967.0, 780.0, 49.0, 429.0, 2894.0, 5980.0, 830.0, 4882.0, 737.0, 6374.0, 333.0, 197.0, 147.0, 93.0, 210.0, 759.0, 96.0, 603.0, 621.0, 274.0, 3620.0, 167.0, 2328.0, 1041.0, 314.0, 751.0, 436.0, 1226.0, 386.0, 445.0, 32.0, 965.0, 212.0, 825.0, 5952.0, 811.0, 2208.0, 710.0, 3712.0, 4538.0, 290.0, 2662.0, 8752.0, 6236.0, 10069.0, 11783.0, 3909.0, 7558.0, 351.0, 257.0, 6846.0, 299.0, 371.0, 17120.0, 183.0, 857.0, 3891.0, 83.0, 821.0, 706.0, 12408.0, 275.0, 228.0, 1470.0, 1679.0, 140.0, 1272.0, 387.0, 88.0, 210.0, 492.0, 182.0, 9606.0, 178.0, 38102.0, 332.0, 4111.0, 146.0, 442.0, 15.0, 573.0, 7271.0, 5162.0, 4595.0, 15469.0, 217.0, 3843.0, 6600.0, 4621.0, 1184.0, 12218.0, 173.0, 12638.0, 90.0, 8682.0, 1333.0, 184.0, 9.0, 6747.0, 536.0, 232.0, 468.0, 159.0, 179.0, 1335.0, 514.0, 4515.0, 222.0, 252.0, 101.0, 41.0, 'EMPTY SLOT', 716.0, 397.0, 1916.0, 311.0, 476.0, 4666.0, 96.0, 68.0, 813.0, 600.0, 246.0, 1711.0, 397.0, 282.0, 192.0, 353.0, 231.0, 200.0, 227.0, 311.0, 95.0, 122.0, 385.0, 149.0, 841.0, 3378.0, 64.0, 74.0, 469.0, 153.0, 92.0, 10.0, 632.0, 914.0, 593.0, 1092.0, 7883.0, 2730.0, 2123.0, 1860.0, 235.0, 2970.0, 912.0, 1135.0, 3540.0, 6728.0, 3485.0, 6740.0, 1580.0, 6818.0, 3415.0, 948.0, 1803.0, 3213.0, 108.0, 5079.0, 439.0, 850.0, 84.0, 241.0, 1377.0, 1328.0, 356.0, 2371.0, 182.0, 93.0, 14841.0, 168.0, 477.0]\n",
      "440\n"
     ]
    }
   ],
   "source": [
    "missingDataDetergents = []\n",
    "\n",
    "for r in range(1, without6Vals.nrows):\n",
    "    \n",
    "    if without6Vals.cell_value(r,6) == '':\n",
    "        missingDataDetergents.append(\"EMPTY SLOT\")\n",
    "    else:\n",
    "        missingDataDetergents.append(without6Vals.cell_value(r,6))\n",
    "\n",
    "print(missingDataDetergents)\n",
    "print(len(missingDataDetergents))"
   ]
  },
  {
   "cell_type": "code",
   "execution_count": 64,
   "metadata": {
    "collapsed": true
   },
   "outputs": [],
   "source": [
    "reducedMilk = []\n",
    "\n",
    "for i in wholeDataMilk:\n",
    "    reducedMilk.append(i/1000)"
   ]
  },
  {
   "cell_type": "code",
   "execution_count": 65,
   "metadata": {},
   "outputs": [
    {
     "name": "stdout",
     "output_type": "stream",
     "text": [
      "5.796265909090909\n"
     ]
    }
   ],
   "source": [
    "avgReducedMilk = 0\n",
    "\n",
    "for i in reducedMilk:\n",
    "    avgReducedMilk+=i\n",
    "    \n",
    "avgReducedMilk = avgReducedMilk / len(reducedMilk)\n",
    "\n",
    "print(avgReducedMilk)"
   ]
  },
  {
   "cell_type": "code",
   "execution_count": 66,
   "metadata": {},
   "outputs": [
    {
     "name": "stdout",
     "output_type": "stream",
     "text": [
      "2891.719178082192\n"
     ]
    }
   ],
   "source": [
    "avgDetergents = 0\n",
    "\n",
    "for i in missingDataDetergents:\n",
    "    if i != \"EMPTY SLOT\":\n",
    "        avgDetergents+=i\n",
    "    \n",
    "avgDetergents = avgDetergents / (len(missingDataDetergents) - 2)\n",
    "\n",
    "print(avgDetergents)"
   ]
  },
  {
   "cell_type": "code",
   "execution_count": 67,
   "metadata": {},
   "outputs": [
    {
     "name": "stdout",
     "output_type": "stream",
     "text": [
      "2\n",
      "[225, 370]\n",
      "[2674.0, 3293.0, 3516.0, 507.0, 1777.0, 1795.0, 3140.0, 3321.0, 1716.0, 7425.0, 5977.0, 549.0, 3881.0, 6707.0, 5058.0, 964.0, 4508.0, 370.0, 2767.0, 2518.0, 2259.0, 375.0, 2381.0, 4337.0, 4482.0, 4003.0, 242.0, 100.0, 8604.0, 1107.0, 2134.0, 820.0, 918.0, 361.0, 483.0, 4239.0, 862.0, 6506.0, 6956.0, 212.0, 1145.0, 2575.0, 6899.0, 9529.0, 4618.0, 7353.0, 6792.0, 24171.0, 5121.0, 13583.0, 609.0, 1538.0, 2587.0, 5611.0, 204.0, 2024.0, 17740.0, 7572.0, 227.0, 3084.0, 4095.0, 26701.0, 4074.0, 7677.0, 1247.0, 24231.0, 3468.0, 5141.0, 788.0, 656.0, 116.0, 4173.0, 1321.0, 764.0, 1901.0, 3.0, 529.0, 12034.0, 301.0, 1202.0, 610.0, 7818.0, 3537.0, 550.0, 3837.0, 40827.0, 20070.0, 1579.0, 165.0, 454.0, 69.0, 627.0, 18906.0, 71.0, 5038.0, 223.0, 3874.0, 54.0, 56.0, 215.0, 8035.0, 6766.0, 4573.0, 1480.0, 1491.0, 139.0, 6830.0, 8969.0, 2505.0, 836.0, 169.0, 6457.0, 483.0, 585.0, 118.0, 276.0, 310.0, 319.0, 411.0, 266.0, 174.0, 264.0, 25.0, 1976.0, 500.0, 778.0, 349.0, 2386.0, 1062.0, 410.0, 395.0, 70.0, 955.0, 256.0, 47.0, 199.0, 2447.0, 721.0, 249.0, 637.0, 960.0, 51.0, 20.0, 399.0, 516.0, 12591.0, 73.0, 1082.0, 283.0, 113.0, 170.0, 255.0, 352.0, 302.0, 7.0, 11577.0, 6694.0, 811.0, 4004.0, 8077.0, 4424.0, 3.0, 232.0, 13726.0, 3674.0, 7108.0, 4973.0, 1680.0, 79.0, 69.0, 7015.0, 8773.0, 2840.0, 9836.0, 153.0, 4196.0, 1532.0, 20.0, 120.0, 273.0, 1382.0, 4948.0, 6907.0, 239.0, 334.0, 58.0, 949.0, 3459.0, 6839.0, 4027.0, 118.0, 43.0, 187.0, 5618.0, 355.0, 330.0, 763.0, 4314.0, 592.0, 402.0, 9959.0, 14235.0, 284.0, 954.0, 5.0, 9265.0, 288.0, 5316.0, 3381.0, 12420.0, 244.0, 19410.0, 240.0, 3961.0, 5957.0, 5828.0, 13308.0, 130.0, 4797.0, 86.0, 56.0, 4167.0, 256.0, 788.0, 70.0, 2891.719178082192, 2568.0, 263.0, 4762.0, 694.0, 955.0, 1566.0, 284.0, 409.0, 325.0, 1216.0, 415.0, 28.0, 72.0, 828.0, 343.0, 412.0, 586.0, 1682.0, 3143.0, 8933.0, 430.0, 44.0, 562.0, 918.0, 234.0, 18594.0, 205.0, 363.0, 1547.0, 111.0, 392.0, 3593.0, 730.0, 967.0, 780.0, 49.0, 429.0, 2894.0, 5980.0, 830.0, 4882.0, 737.0, 6374.0, 333.0, 197.0, 147.0, 93.0, 210.0, 759.0, 96.0, 603.0, 621.0, 274.0, 3620.0, 167.0, 2328.0, 1041.0, 314.0, 751.0, 436.0, 1226.0, 386.0, 445.0, 32.0, 965.0, 212.0, 825.0, 5952.0, 811.0, 2208.0, 710.0, 3712.0, 4538.0, 290.0, 2662.0, 8752.0, 6236.0, 10069.0, 11783.0, 3909.0, 7558.0, 351.0, 257.0, 6846.0, 299.0, 371.0, 17120.0, 183.0, 857.0, 3891.0, 83.0, 821.0, 706.0, 12408.0, 275.0, 228.0, 1470.0, 1679.0, 140.0, 1272.0, 387.0, 88.0, 210.0, 492.0, 182.0, 9606.0, 178.0, 38102.0, 332.0, 4111.0, 146.0, 442.0, 15.0, 573.0, 7271.0, 5162.0, 4595.0, 15469.0, 217.0, 3843.0, 6600.0, 4621.0, 1184.0, 12218.0, 173.0, 12638.0, 90.0, 8682.0, 1333.0, 184.0, 9.0, 6747.0, 536.0, 232.0, 468.0, 159.0, 179.0, 1335.0, 514.0, 4515.0, 222.0, 252.0, 101.0, 41.0, 2891.719178082192, 716.0, 397.0, 1916.0, 311.0, 476.0, 4666.0, 96.0, 68.0, 813.0, 600.0, 246.0, 1711.0, 397.0, 282.0, 192.0, 353.0, 231.0, 200.0, 227.0, 311.0, 95.0, 122.0, 385.0, 149.0, 841.0, 3378.0, 64.0, 74.0, 469.0, 153.0, 92.0, 10.0, 632.0, 914.0, 593.0, 1092.0, 7883.0, 2730.0, 2123.0, 1860.0, 235.0, 2970.0, 912.0, 1135.0, 3540.0, 6728.0, 3485.0, 6740.0, 1580.0, 6818.0, 3415.0, 948.0, 1803.0, 3213.0, 108.0, 5079.0, 439.0, 850.0, 84.0, 241.0, 1377.0, 1328.0, 356.0, 2371.0, 182.0, 93.0, 14841.0, 168.0, 477.0]\n",
      "440\n"
     ]
    }
   ],
   "source": [
    "reducedDetergents = []\n",
    "count = 0\n",
    "missingIndices = []\n",
    "\n",
    "for i in range(0, 440):\n",
    "    \n",
    "    if missingDataDetergents[i] == \"EMPTY SLOT\":\n",
    "        missingDataDetergents[i] = avgDetergents\n",
    "        count += 1\n",
    "        missingIndices.append(i)\n",
    "    \n",
    "    reducedDetergents.append(missingDataDetergents[i]/1000)\n",
    "\n",
    "print(count)\n",
    "print(missingIndices)\n",
    "print(missingDataDetergents)\n",
    "print(len(reducedDetergents))"
   ]
  },
  {
   "cell_type": "code",
   "execution_count": 68,
   "metadata": {},
   "outputs": [
    {
     "name": "stdout",
     "output_type": "stream",
     "text": [
      "2.891719178082194\n"
     ]
    }
   ],
   "source": [
    "avgReducedDetergents = 0\n",
    "\n",
    "for i in reducedDetergents:\n",
    "    avgReducedDetergents+=i\n",
    "    \n",
    "avgReducedDetergents = avgReducedDetergents / len(reducedDetergents)\n",
    "\n",
    "print(avgReducedDetergents)"
   ]
  },
  {
   "cell_type": "code",
   "execution_count": 76,
   "metadata": {},
   "outputs": [
    {
     "data": {
      "text/html": [
       "\n",
       "\n",
       "    <div class=\"bk-root\">\n",
       "        <div class=\"bk-plotdiv\" id=\"a3c0ae4a-af69-4404-8042-c5f694c8ea3a\"></div>\n",
       "    </div>\n",
       "<script type=\"text/javascript\">\n",
       "  \n",
       "  (function(global) {\n",
       "    function now() {\n",
       "      return new Date();\n",
       "    }\n",
       "  \n",
       "    var force = false;\n",
       "  \n",
       "    if (typeof (window._bokeh_onload_callbacks) === \"undefined\" || force === true) {\n",
       "      window._bokeh_onload_callbacks = [];\n",
       "      window._bokeh_is_loading = undefined;\n",
       "    }\n",
       "  \n",
       "  \n",
       "    \n",
       "    if (typeof (window._bokeh_timeout) === \"undefined\" || force === true) {\n",
       "      window._bokeh_timeout = Date.now() + 0;\n",
       "      window._bokeh_failed_load = false;\n",
       "    }\n",
       "  \n",
       "    var NB_LOAD_WARNING = {'data': {'text/html':\n",
       "       \"<div style='background-color: #fdd'>\\n\"+\n",
       "       \"<p>\\n\"+\n",
       "       \"BokehJS does not appear to have successfully loaded. If loading BokehJS from CDN, this \\n\"+\n",
       "       \"may be due to a slow or bad network connection. Possible fixes:\\n\"+\n",
       "       \"</p>\\n\"+\n",
       "       \"<ul>\\n\"+\n",
       "       \"<li>re-rerun `output_notebook()` to attempt to load from CDN again, or</li>\\n\"+\n",
       "       \"<li>use INLINE resources instead, as so:</li>\\n\"+\n",
       "       \"</ul>\\n\"+\n",
       "       \"<code>\\n\"+\n",
       "       \"from bokeh.resources import INLINE\\n\"+\n",
       "       \"output_notebook(resources=INLINE)\\n\"+\n",
       "       \"</code>\\n\"+\n",
       "       \"</div>\"}};\n",
       "  \n",
       "    function display_loaded() {\n",
       "      if (window.Bokeh !== undefined) {\n",
       "        var el = document.getElementById(\"a3c0ae4a-af69-4404-8042-c5f694c8ea3a\");\n",
       "        el.textContent = \"BokehJS \" + Bokeh.version + \" successfully loaded.\";\n",
       "      } else if (Date.now() < window._bokeh_timeout) {\n",
       "        setTimeout(display_loaded, 100)\n",
       "      }\n",
       "    }\n",
       "  \n",
       "    function run_callbacks() {\n",
       "      window._bokeh_onload_callbacks.forEach(function(callback) { callback() });\n",
       "      delete window._bokeh_onload_callbacks\n",
       "      console.info(\"Bokeh: all callbacks have finished\");\n",
       "    }\n",
       "  \n",
       "    function load_libs(js_urls, callback) {\n",
       "      window._bokeh_onload_callbacks.push(callback);\n",
       "      if (window._bokeh_is_loading > 0) {\n",
       "        console.log(\"Bokeh: BokehJS is being loaded, scheduling callback at\", now());\n",
       "        return null;\n",
       "      }\n",
       "      if (js_urls == null || js_urls.length === 0) {\n",
       "        run_callbacks();\n",
       "        return null;\n",
       "      }\n",
       "      console.log(\"Bokeh: BokehJS not loaded, scheduling load and callback at\", now());\n",
       "      window._bokeh_is_loading = js_urls.length;\n",
       "      for (var i = 0; i < js_urls.length; i++) {\n",
       "        var url = js_urls[i];\n",
       "        var s = document.createElement('script');\n",
       "        s.src = url;\n",
       "        s.async = false;\n",
       "        s.onreadystatechange = s.onload = function() {\n",
       "          window._bokeh_is_loading--;\n",
       "          if (window._bokeh_is_loading === 0) {\n",
       "            console.log(\"Bokeh: all BokehJS libraries loaded\");\n",
       "            run_callbacks()\n",
       "          }\n",
       "        };\n",
       "        s.onerror = function() {\n",
       "          console.warn(\"failed to load library \" + url);\n",
       "        };\n",
       "        console.log(\"Bokeh: injecting script tag for BokehJS library: \", url);\n",
       "        document.getElementsByTagName(\"head\")[0].appendChild(s);\n",
       "      }\n",
       "    };var element = document.getElementById(\"a3c0ae4a-af69-4404-8042-c5f694c8ea3a\");\n",
       "    if (element == null) {\n",
       "      console.log(\"Bokeh: ERROR: autoload.js configured with elementid 'a3c0ae4a-af69-4404-8042-c5f694c8ea3a' but no matching script tag was found. \")\n",
       "      return false;\n",
       "    }\n",
       "  \n",
       "    var js_urls = [];\n",
       "  \n",
       "    var inline_js = [\n",
       "      function(Bokeh) {\n",
       "        (function() {\n",
       "          var fn = function() {\n",
       "            var docs_json = {\"13265121-f6a8-4997-8ef4-1d837d3edab9\":{\"roots\":{\"references\":[{\"attributes\":{},\"id\":\"4af4f89f-6970-4847-acd9-b7bf8ed94083\",\"type\":\"ToolEvents\"},{\"attributes\":{\"data_source\":{\"id\":\"7064c95f-3954-4cd7-b917-47a90b13549e\",\"type\":\"ColumnDataSource\"},\"glyph\":{\"id\":\"ae3c4801-5136-467a-9762-75c5ad002835\",\"type\":\"Circle\"},\"hover_glyph\":null,\"muted_glyph\":null,\"nonselection_glyph\":{\"id\":\"a7e55b46-6c92-4e0a-94cc-015b969457ae\",\"type\":\"Circle\"},\"selection_glyph\":null},\"id\":\"2c76479a-8ad2-4bd5-87a6-c1ac479f9406\",\"type\":\"GlyphRenderer\"},{\"attributes\":{\"fill_alpha\":{\"value\":0.1},\"fill_color\":{\"value\":\"#1f77b4\"},\"line_alpha\":{\"value\":0.1},\"line_color\":{\"value\":\"#1f77b4\"},\"x\":{\"field\":\"x\"},\"y\":{\"field\":\"y\"}},\"id\":\"a7e55b46-6c92-4e0a-94cc-015b969457ae\",\"type\":\"Circle\"},{\"attributes\":{},\"id\":\"4a3bd1e5-62e1-427d-bf98-b647a52efb77\",\"type\":\"BasicTicker\"},{\"attributes\":{\"axis_label\":\"Detergents / 1000\",\"formatter\":{\"id\":\"d643f903-9a03-46f5-ab2a-90ebc5d60c4a\",\"type\":\"BasicTickFormatter\"},\"plot\":{\"id\":\"2b8b97d5-035f-490d-b9c9-f647098a6dcf\",\"subtype\":\"Figure\",\"type\":\"Plot\"},\"ticker\":{\"id\":\"4a3bd1e5-62e1-427d-bf98-b647a52efb77\",\"type\":\"BasicTicker\"}},\"id\":\"f8fcb4b9-0d6a-40b1-8d2d-bfe16f47343a\",\"type\":\"LinearAxis\"},{\"attributes\":{\"plot\":{\"id\":\"2b8b97d5-035f-490d-b9c9-f647098a6dcf\",\"subtype\":\"Figure\",\"type\":\"Plot\"}},\"id\":\"ab948b96-edb9-4134-8605-6aca6b1ebf80\",\"type\":\"HelpTool\"},{\"attributes\":{\"axis_label\":\"Milk / 1000\",\"formatter\":{\"id\":\"8453bd85-e31c-41f5-a07c-e6bc0985cf93\",\"type\":\"BasicTickFormatter\"},\"plot\":{\"id\":\"2b8b97d5-035f-490d-b9c9-f647098a6dcf\",\"subtype\":\"Figure\",\"type\":\"Plot\"},\"ticker\":{\"id\":\"d695bd08-2ca3-40e6-a3d9-70afe7a489ec\",\"type\":\"BasicTicker\"}},\"id\":\"4d50d39e-7bb8-4a96-9552-609e184d789b\",\"type\":\"LinearAxis\"},{\"attributes\":{\"plot\":{\"id\":\"2b8b97d5-035f-490d-b9c9-f647098a6dcf\",\"subtype\":\"Figure\",\"type\":\"Plot\"}},\"id\":\"0eabc83a-57e5-4a05-9a47-cfd73422cf23\",\"type\":\"ResetTool\"},{\"attributes\":{\"dimension\":1,\"plot\":{\"id\":\"2b8b97d5-035f-490d-b9c9-f647098a6dcf\",\"subtype\":\"Figure\",\"type\":\"Plot\"},\"ticker\":{\"id\":\"4a3bd1e5-62e1-427d-bf98-b647a52efb77\",\"type\":\"BasicTicker\"}},\"id\":\"c064d33b-da67-4f27-9c44-ecec9a292c4d\",\"type\":\"Grid\"},{\"attributes\":{\"plot\":{\"id\":\"2b8b97d5-035f-490d-b9c9-f647098a6dcf\",\"subtype\":\"Figure\",\"type\":\"Plot\"}},\"id\":\"17250ffe-8aaa-4a9a-bb4e-103d8147b43a\",\"type\":\"SaveTool\"},{\"attributes\":{\"bottom_units\":\"screen\",\"fill_alpha\":{\"value\":0.5},\"fill_color\":{\"value\":\"lightgrey\"},\"left_units\":\"screen\",\"level\":\"overlay\",\"line_alpha\":{\"value\":1.0},\"line_color\":{\"value\":\"black\"},\"line_dash\":[4,4],\"line_width\":{\"value\":2},\"plot\":null,\"render_mode\":\"css\",\"right_units\":\"screen\",\"top_units\":\"screen\"},\"id\":\"6f24d57c-2633-4f2a-83ab-fed8d7b5984d\",\"type\":\"BoxAnnotation\"},{\"attributes\":{\"overlay\":{\"id\":\"6f24d57c-2633-4f2a-83ab-fed8d7b5984d\",\"type\":\"BoxAnnotation\"},\"plot\":{\"id\":\"2b8b97d5-035f-490d-b9c9-f647098a6dcf\",\"subtype\":\"Figure\",\"type\":\"Plot\"}},\"id\":\"3e8dd1c0-4cc5-4c3d-a314-0827ddc3f757\",\"type\":\"BoxZoomTool\"},{\"attributes\":{\"active_drag\":\"auto\",\"active_scroll\":\"auto\",\"active_tap\":\"auto\",\"tools\":[{\"id\":\"8c4e569f-147e-4c99-8af9-95e75fccfc12\",\"type\":\"PanTool\"},{\"id\":\"88102c99-eb06-4310-8d4e-501cb051d2d1\",\"type\":\"WheelZoomTool\"},{\"id\":\"3e8dd1c0-4cc5-4c3d-a314-0827ddc3f757\",\"type\":\"BoxZoomTool\"},{\"id\":\"17250ffe-8aaa-4a9a-bb4e-103d8147b43a\",\"type\":\"SaveTool\"},{\"id\":\"0eabc83a-57e5-4a05-9a47-cfd73422cf23\",\"type\":\"ResetTool\"},{\"id\":\"ab948b96-edb9-4134-8605-6aca6b1ebf80\",\"type\":\"HelpTool\"}]},\"id\":\"a2ca1625-b376-4941-8f17-226e58191a3a\",\"type\":\"Toolbar\"},{\"attributes\":{\"plot\":{\"id\":\"2b8b97d5-035f-490d-b9c9-f647098a6dcf\",\"subtype\":\"Figure\",\"type\":\"Plot\"},\"ticker\":{\"id\":\"d695bd08-2ca3-40e6-a3d9-70afe7a489ec\",\"type\":\"BasicTicker\"}},\"id\":\"12f37b0c-a429-4b40-b75f-570020af79b6\",\"type\":\"Grid\"},{\"attributes\":{},\"id\":\"d643f903-9a03-46f5-ab2a-90ebc5d60c4a\",\"type\":\"BasicTickFormatter\"},{\"attributes\":{\"callback\":null},\"id\":\"fcd811a2-0bc3-4abe-82a6-234413b59d86\",\"type\":\"DataRange1d\"},{\"attributes\":{\"callback\":null},\"id\":\"234068d6-9942-401b-8838-72c77597a26b\",\"type\":\"DataRange1d\"},{\"attributes\":{\"fill_alpha\":{\"value\":0.5},\"fill_color\":{\"value\":\"orange\"},\"line_color\":{\"value\":\"navy\"},\"x\":{\"field\":\"x\"},\"y\":{\"field\":\"y\"}},\"id\":\"ae3c4801-5136-467a-9762-75c5ad002835\",\"type\":\"Circle\"},{\"attributes\":{\"below\":[{\"id\":\"4d50d39e-7bb8-4a96-9552-609e184d789b\",\"type\":\"LinearAxis\"}],\"left\":[{\"id\":\"f8fcb4b9-0d6a-40b1-8d2d-bfe16f47343a\",\"type\":\"LinearAxis\"}],\"plot_height\":400,\"plot_width\":400,\"renderers\":[{\"id\":\"4d50d39e-7bb8-4a96-9552-609e184d789b\",\"type\":\"LinearAxis\"},{\"id\":\"12f37b0c-a429-4b40-b75f-570020af79b6\",\"type\":\"Grid\"},{\"id\":\"f8fcb4b9-0d6a-40b1-8d2d-bfe16f47343a\",\"type\":\"LinearAxis\"},{\"id\":\"c064d33b-da67-4f27-9c44-ecec9a292c4d\",\"type\":\"Grid\"},{\"id\":\"6f24d57c-2633-4f2a-83ab-fed8d7b5984d\",\"type\":\"BoxAnnotation\"},{\"id\":\"2c76479a-8ad2-4bd5-87a6-c1ac479f9406\",\"type\":\"GlyphRenderer\"}],\"title\":{\"id\":\"1c222480-f20c-4195-bf12-7d83c45b213f\",\"type\":\"Title\"},\"tool_events\":{\"id\":\"4af4f89f-6970-4847-acd9-b7bf8ed94083\",\"type\":\"ToolEvents\"},\"toolbar\":{\"id\":\"a2ca1625-b376-4941-8f17-226e58191a3a\",\"type\":\"Toolbar\"},\"x_range\":{\"id\":\"234068d6-9942-401b-8838-72c77597a26b\",\"type\":\"DataRange1d\"},\"y_range\":{\"id\":\"fcd811a2-0bc3-4abe-82a6-234413b59d86\",\"type\":\"DataRange1d\"}},\"id\":\"2b8b97d5-035f-490d-b9c9-f647098a6dcf\",\"subtype\":\"Figure\",\"type\":\"Plot\"},{\"attributes\":{\"plot\":{\"id\":\"2b8b97d5-035f-490d-b9c9-f647098a6dcf\",\"subtype\":\"Figure\",\"type\":\"Plot\"}},\"id\":\"88102c99-eb06-4310-8d4e-501cb051d2d1\",\"type\":\"WheelZoomTool\"},{\"attributes\":{\"callback\":null,\"column_names\":[\"x\",\"y\"],\"data\":{\"x\":[9.656,9.81,8.808,1.196,5.41,8.259,3.199,4.956,3.648,11.093,5.403,1.124,12.319,6.208,9.465,1.114,8.816,6.157,6.327,2.495,4.519,0.871,1.917,36.423,9.776,4.23,0.961,0.803,20.484,2.1,3.61,4.339,1.318,4.786,1.979,5.491,4.362,10.556,15.729,0.555,4.332,3.065,7.555,11.095,7.027,22.044,14.069,54.259,6.152,21.412,1.095,4.051,3.916,10.473,1.449,3.683,29.892,9.933,1.97,5.36,3.045,38.369,6.245,11.601,1.227,20.959,1.534,6.759,7.26,2.82,2.037,1.266,5.139,5.332,6.343,1.137,3.587,12.697,1.175,3.259,0.829,9.54,9.232,1.563,3.327,46.197,73.498,5.025,0.542,3.836,0.596,2.762,27.472,3.09,12.22,2.92,2.616,0.254,0.112,2.182,7.779,10.81,6.459,3.504,2.132,1.014,6.337,10.646,8.397,16.729,1.648,11.114,2.77,2.295,1.08,0.793,2.521,3.88,1.891,2.344,1.2,3.234,0.201,10.769,1.642,3.473,1.84,7.243,8.847,0.926,2.428,0.589,2.032,1.042,1.882,1.289,8.579,8.08,4.257,4.979,4.28,13.252,7.152,1.596,3.677,8.384,1.936,3.373,0.584,1.433,1.825,3.328,1.371,9.25,0.055,10.69,5.291,1.366,6.57,7.704,3.651,0.54,2.024,15.726,7.603,12.653,6.721,3.195,0.735,0.717,8.675,25.862,5.479,7.677,1.208,7.845,6.958,7.33,7.075,4.888,6.036,29.627,8.533,43.95,0.918,6.448,0.521,8.002,7.639,11.577,6.25,0.295,1.461,3.485,1.012,5.139,7.209,7.097,2.154,2.28,13.24,14.399,11.487,0.685,0.891,11.711,0.78,4.737,3.748,12.729,1.895,28.326,1.012,6.602,6.551,10.765,16.599,1.475,7.504,0.367,0.899,7.503,1.115,2.527,0.659,3.243,5.921,2.204,0.577,2.746,5.989,10.678,1.78,4.984,2.703,6.38,0.82,3.838,0.475,2.567,3.575,1.801,0.659,3.576,7.775,6.154,2.428,0.346,5.279,3.795,1.993,23.133,1.86,7.961,17.972,0.489,5.008,1.931,4.563,4.959,4.885,1.11,1.372,1.115,9.679,23.527,9.763,1.222,8.053,0.258,1.032,5.007,8.323,3.045,1.703,1.61,3.749,0.829,2.317,6.2,2.884,7.108,3.965,3.613,4.411,0.64,2.247,2.102,0.594,0.286,2.16,3.354,3.086,11.103,2.013,1.897,1.304,3.199,4.56,0.879,6.243,13.316,5.302,3.688,7.46,12.939,12.867,2.374,1.02,20.655,1.492,2.335,3.737,0.925,1.795,14.982,1.375,3.088,2.713,25.071,3.696,1.897,0.713,0.944,3.587,16.784,1.61,0.899,2.209,1.486,1.786,14.881,3.216,4.98,0.928,6.817,1.511,1.347,0.333,1.188,4.025,5.763,5.758,6.964,1.172,2.602,6.939,7.184,2.38,14.641,1.099,10.044,1.106,6.264,7.393,0.727,0.134,1.275,18.664,5.878,2.872,0.607,1.601,0.997,0.873,6.128,2.217,0.894,1.196,0.337,3.944,1.887,3.801,6.257,2.256,1.45,8.63,3.154,3.294,5.164,0.944,4.591,7.435,1.364,21.858,0.922,3.62,1.916,0.848,1.53,1.181,2.761,4.18,6.73,0.865,1.316,11.991,1.666,1.032,0.577,0.906,2.801,4.753,11.006,4.613,1.046,5.01,12.844,3.88,3.634,2.096,3.289,3.605,4.859,1.99,6.046,10.94,5.499,8.494,3.783,5.266,4.847,1.377,3.686,2.884,2.408,9.347,16.687,5.97,1.75,4.23,5.506,1.162,3.218,3.922,12.051,1.431,15.488,1.981,1.698],\"y\":[2.674,3.293,3.516,0.507,1.777,1.795,3.14,3.321,1.716,7.425,5.977,0.549,3.881,6.707,5.058,0.964,4.508,0.37,2.767,2.518,2.259,0.375,2.381,4.337,4.482,4.003,0.242,0.1,8.604,1.107,2.134,0.82,0.918,0.361,0.483,4.239,0.862,6.506,6.956,0.212,1.145,2.575,6.899,9.529,4.618,7.353,6.792,24.171,5.121,13.583,0.609,1.538,2.587,5.611,0.204,2.024,17.74,7.572,0.227,3.084,4.095,26.701,4.074,7.677,1.247,24.231,3.468,5.141,0.788,0.656,0.116,4.173,1.321,0.764,1.901,0.003,0.529,12.034,0.301,1.202,0.61,7.818,3.537,0.55,3.837,40.827,20.07,1.579,0.165,0.454,0.069,0.627,18.906,0.071,5.038,0.223,3.874,0.054,0.056,0.215,8.035,6.766,4.573,1.48,1.491,0.139,6.83,8.969,2.505,0.836,0.169,6.457,0.483,0.585,0.118,0.276,0.31,0.319,0.411,0.266,0.174,0.264,0.025,1.976,0.5,0.778,0.349,2.386,1.062,0.41,0.395,0.07,0.955,0.256,0.047,0.199,2.447,0.721,0.249,0.637,0.96,0.051,0.02,0.399,0.516,12.591,0.073,1.082,0.283,0.113,0.17,0.255,0.352,0.302,0.007,11.577,6.694,0.811,4.004,8.077,4.424,0.003,0.232,13.726,3.674,7.108,4.973,1.68,0.079,0.069,7.015,8.773,2.84,9.836,0.153,4.196,1.532,0.02,0.12,0.273,1.382,4.948,6.907,0.239,0.334,0.058,0.949,3.459,6.839,4.027,0.118,0.043,0.187,5.618,0.355,0.33,0.763,4.314,0.592,0.402,9.959,14.235,0.284,0.954,0.005,9.265,0.288,5.316,3.381,12.42,0.244,19.41,0.24,3.961,5.957,5.828,13.308,0.13,4.797,0.086,0.056,4.167,0.256,0.788,0.07,2.891719178082192,2.568,0.263,4.762,0.694,0.955,1.566,0.284,0.409,0.325,1.216,0.415,0.028,0.072,0.828,0.343,0.412,0.586,1.682,3.143,8.933,0.43,0.044,0.562,0.918,0.234,18.594,0.205,0.363,1.547,0.111,0.392,3.593,0.73,0.967,0.78,0.049,0.429,2.894,5.98,0.83,4.882,0.737,6.374,0.333,0.197,0.147,0.093,0.21,0.759,0.096,0.603,0.621,0.274,3.62,0.167,2.328,1.041,0.314,0.751,0.436,1.226,0.386,0.445,0.032,0.965,0.212,0.825,5.952,0.811,2.208,0.71,3.712,4.538,0.29,2.662,8.752,6.236,10.069,11.783,3.909,7.558,0.351,0.257,6.846,0.299,0.371,17.12,0.183,0.857,3.891,0.083,0.821,0.706,12.408,0.275,0.228,1.47,1.679,0.14,1.272,0.387,0.088,0.21,0.492,0.182,9.606,0.178,38.102,0.332,4.111,0.146,0.442,0.015,0.573,7.271,5.162,4.595,15.469,0.217,3.843,6.6,4.621,1.184,12.218,0.173,12.638,0.09,8.682,1.333,0.184,0.009,6.747,0.536,0.232,0.468,0.159,0.179,1.335,0.514,4.515,0.222,0.252,0.101,0.041,2.891719178082192,0.716,0.397,1.916,0.311,0.476,4.666,0.096,0.068,0.813,0.6,0.246,1.711,0.397,0.282,0.192,0.353,0.231,0.2,0.227,0.311,0.095,0.122,0.385,0.149,0.841,3.378,0.064,0.074,0.469,0.153,0.092,0.01,0.632,0.914,0.593,1.092,7.883,2.73,2.123,1.86,0.235,2.97,0.912,1.135,3.54,6.728,3.485,6.74,1.58,6.818,3.415,0.948,1.803,3.213,0.108,5.079,0.439,0.85,0.084,0.241,1.377,1.328,0.356,2.371,0.182,0.093,14.841,0.168,0.477]}},\"id\":\"7064c95f-3954-4cd7-b917-47a90b13549e\",\"type\":\"ColumnDataSource\"},{\"attributes\":{},\"id\":\"d695bd08-2ca3-40e6-a3d9-70afe7a489ec\",\"type\":\"BasicTicker\"},{\"attributes\":{\"plot\":null,\"text\":\"US Employment Rates after 1991\"},\"id\":\"1c222480-f20c-4195-bf12-7d83c45b213f\",\"type\":\"Title\"},{\"attributes\":{\"plot\":{\"id\":\"2b8b97d5-035f-490d-b9c9-f647098a6dcf\",\"subtype\":\"Figure\",\"type\":\"Plot\"}},\"id\":\"8c4e569f-147e-4c99-8af9-95e75fccfc12\",\"type\":\"PanTool\"},{\"attributes\":{},\"id\":\"8453bd85-e31c-41f5-a07c-e6bc0985cf93\",\"type\":\"BasicTickFormatter\"}],\"root_ids\":[\"2b8b97d5-035f-490d-b9c9-f647098a6dcf\"]},\"title\":\"Bokeh Application\",\"version\":\"0.12.5\"}};\n",
       "            var render_items = [{\"docid\":\"13265121-f6a8-4997-8ef4-1d837d3edab9\",\"elementid\":\"a3c0ae4a-af69-4404-8042-c5f694c8ea3a\",\"modelid\":\"2b8b97d5-035f-490d-b9c9-f647098a6dcf\"}];\n",
       "            \n",
       "            Bokeh.embed.embed_items(docs_json, render_items);\n",
       "          };\n",
       "          if (document.readyState != \"loading\") fn();\n",
       "          else document.addEventListener(\"DOMContentLoaded\", fn);\n",
       "        })();\n",
       "      },\n",
       "      function(Bokeh) {\n",
       "      }\n",
       "    ];\n",
       "  \n",
       "    function run_inline_js() {\n",
       "      \n",
       "      if ((window.Bokeh !== undefined) || (force === true)) {\n",
       "        for (var i = 0; i < inline_js.length; i++) {\n",
       "          inline_js[i](window.Bokeh);\n",
       "        }if (force === true) {\n",
       "          display_loaded();\n",
       "        }} else if (Date.now() < window._bokeh_timeout) {\n",
       "        setTimeout(run_inline_js, 100);\n",
       "      } else if (!window._bokeh_failed_load) {\n",
       "        console.log(\"Bokeh: BokehJS failed to load within specified timeout.\");\n",
       "        window._bokeh_failed_load = true;\n",
       "      } else if (force !== true) {\n",
       "        var cell = $(document.getElementById(\"a3c0ae4a-af69-4404-8042-c5f694c8ea3a\")).parents('.cell').data().cell;\n",
       "        cell.output_area.append_execute_result(NB_LOAD_WARNING)\n",
       "      }\n",
       "  \n",
       "    }\n",
       "  \n",
       "    if (window._bokeh_is_loading === 0) {\n",
       "      console.log(\"Bokeh: BokehJS loaded, going straight to plotting\");\n",
       "      run_inline_js();\n",
       "    } else {\n",
       "      load_libs(js_urls, function() {\n",
       "        console.log(\"Bokeh: BokehJS plotting callback run at\", now());\n",
       "        run_inline_js();\n",
       "      });\n",
       "    }\n",
       "  }(this));\n",
       "</script>"
      ]
     },
     "metadata": {},
     "output_type": "display_data"
    }
   ],
   "source": [
    "p = figure(plot_width=400, plot_height=400, title=\"US Employment Rates after 1991\")\n",
    "\n",
    "p.circle(reducedMilk, reducedDetergents, line_color=\"navy\", fill_color=\"orange\", fill_alpha=0.5)\n",
    "\n",
    "p.xaxis.axis_label = \"Milk / 1000\"\n",
    "p.yaxis.axis_label = \"Detergents / 1000\"\n",
    "\n",
    "show(p)"
   ]
  },
  {
   "cell_type": "code",
   "execution_count": 70,
   "metadata": {},
   "outputs": [
    {
     "name": "stdout",
     "output_type": "stream",
     "text": [
      "Slope for reducedMilk vs reducedGroceries is =  0.4271336645555085\n"
     ]
    }
   ],
   "source": [
    "reducedMilkVSreducedDetergentsSlopeNumerator = 0\n",
    "reducedMilkVSreducedDetergentsSlopeDenominator = 0\n",
    "\n",
    "for i in range(0, 440):\n",
    "    reducedMilkVSreducedDetergentsSlopeNumerator += (reducedMilk[i] - avgReducedMilk)*(reducedDetergents[i] - avgReducedDetergents)\n",
    "    reducedMilkVSreducedDetergentsSlopeDenominator += math.pow((reducedMilk[i] - avgReducedMilk),2)\n",
    "\n",
    "reducedMilkVSreducedDetergentsSlope = reducedMilkVSreducedDetergentsSlopeNumerator / reducedMilkVSreducedDetergentsSlopeDenominator              \n",
    "print(\"Slope for reducedMilk vs reducedGroceries is = \",reducedMilkVSreducedDetergentsSlope)"
   ]
  },
  {
   "cell_type": "code",
   "execution_count": 71,
   "metadata": {},
   "outputs": [
    {
     "name": "stdout",
     "output_type": "stream",
     "text": [
      "Intercept for reducedMilk vs reducedGroceries is =  -0.32799316443540216\n"
     ]
    }
   ],
   "source": [
    "reducedMilkVSreducedDetergentsIntercept = reducedDetergents[220] - (reducedMilkVSreducedDetergentsSlope*reducedMilk[220])\n",
    "print(\"Intercept for reducedMilk vs reducedGroceries is = \", reducedMilkVSreducedDetergentsIntercept)"
   ]
  },
  {
   "cell_type": "code",
   "execution_count": 72,
   "metadata": {
    "collapsed": true
   },
   "outputs": [],
   "source": [
    "def findReducedDetergents(reducedMilkNum):\n",
    "    reducedDetergentsEstimate = reducedMilkVSreducedDetergentsIntercept + (reducedMilkVSreducedDetergentsSlope*reducedMilkNum)\n",
    "    return reducedDetergentsEstimate"
   ]
  },
  {
   "cell_type": "code",
   "execution_count": 73,
   "metadata": {},
   "outputs": [
    {
     "name": "stdout",
     "output_type": "stream",
     "text": [
      "[1057.2013097181118, 1356.6220085715233]\n",
      "[761.0, 523.0]\n"
     ]
    }
   ],
   "source": [
    "reducedDetergentsPredictions = []\n",
    "\n",
    "for i in reducedMilk:\n",
    "    reducedDetergentsPredictions.append(findReducedDetergents(i))\n",
    "    \n",
    "    \n",
    "detergentPredictions = []\n",
    "missingValuePredictions = []\n",
    "correctValues= []\n",
    "\n",
    "for i in range(0, 440):\n",
    "    if i in missingIndices:\n",
    "        missingValuePredictions.append(reducedDetergentsPredictions[i]*1000)\n",
    "        correctValues.append(wholeDataDetergents[i])\n",
    "        \n",
    "    detergentPredictions.append(reducedDetergentsPredictions[i]*1000)\n",
    "    \n",
    "print(missingValuePredictions)\n",
    "print(correctValues)"
   ]
  },
  {
   "cell_type": "code",
   "execution_count": 74,
   "metadata": {},
   "outputs": [
    {
     "name": "stdout",
     "output_type": "stream",
     "text": [
      "MSE for reducedMilk vs reducedGroceries is =  13284927.424960034\n"
     ]
    }
   ],
   "source": [
    "MilkVSDetergentsMSE = 0\n",
    "\n",
    "for i in range(0, 440):\n",
    "    diffSquared = math.pow(detergentPredictions[i] - wholeDataDetergents[i], 2)\n",
    "    MilkVSDetergentsMSE += diffSquared\n",
    "\n",
    "MilkVSDetergentsMSE = MilkVSDetergentsMSE / 440\n",
    "print(\"MSE for reducedMilk vs reducedGroceries is = \", MilkVSDetergentsMSE)"
   ]
  },
  {
   "cell_type": "code",
   "execution_count": 75,
   "metadata": {},
   "outputs": [
    {
     "data": {
      "text/html": [
       "\n",
       "\n",
       "    <div class=\"bk-root\">\n",
       "        <div class=\"bk-plotdiv\" id=\"6742a117-6490-4054-9d4e-060ac5bd5aad\"></div>\n",
       "    </div>\n",
       "<script type=\"text/javascript\">\n",
       "  \n",
       "  (function(global) {\n",
       "    function now() {\n",
       "      return new Date();\n",
       "    }\n",
       "  \n",
       "    var force = false;\n",
       "  \n",
       "    if (typeof (window._bokeh_onload_callbacks) === \"undefined\" || force === true) {\n",
       "      window._bokeh_onload_callbacks = [];\n",
       "      window._bokeh_is_loading = undefined;\n",
       "    }\n",
       "  \n",
       "  \n",
       "    \n",
       "    if (typeof (window._bokeh_timeout) === \"undefined\" || force === true) {\n",
       "      window._bokeh_timeout = Date.now() + 0;\n",
       "      window._bokeh_failed_load = false;\n",
       "    }\n",
       "  \n",
       "    var NB_LOAD_WARNING = {'data': {'text/html':\n",
       "       \"<div style='background-color: #fdd'>\\n\"+\n",
       "       \"<p>\\n\"+\n",
       "       \"BokehJS does not appear to have successfully loaded. If loading BokehJS from CDN, this \\n\"+\n",
       "       \"may be due to a slow or bad network connection. Possible fixes:\\n\"+\n",
       "       \"</p>\\n\"+\n",
       "       \"<ul>\\n\"+\n",
       "       \"<li>re-rerun `output_notebook()` to attempt to load from CDN again, or</li>\\n\"+\n",
       "       \"<li>use INLINE resources instead, as so:</li>\\n\"+\n",
       "       \"</ul>\\n\"+\n",
       "       \"<code>\\n\"+\n",
       "       \"from bokeh.resources import INLINE\\n\"+\n",
       "       \"output_notebook(resources=INLINE)\\n\"+\n",
       "       \"</code>\\n\"+\n",
       "       \"</div>\"}};\n",
       "  \n",
       "    function display_loaded() {\n",
       "      if (window.Bokeh !== undefined) {\n",
       "        var el = document.getElementById(\"6742a117-6490-4054-9d4e-060ac5bd5aad\");\n",
       "        el.textContent = \"BokehJS \" + Bokeh.version + \" successfully loaded.\";\n",
       "      } else if (Date.now() < window._bokeh_timeout) {\n",
       "        setTimeout(display_loaded, 100)\n",
       "      }\n",
       "    }\n",
       "  \n",
       "    function run_callbacks() {\n",
       "      window._bokeh_onload_callbacks.forEach(function(callback) { callback() });\n",
       "      delete window._bokeh_onload_callbacks\n",
       "      console.info(\"Bokeh: all callbacks have finished\");\n",
       "    }\n",
       "  \n",
       "    function load_libs(js_urls, callback) {\n",
       "      window._bokeh_onload_callbacks.push(callback);\n",
       "      if (window._bokeh_is_loading > 0) {\n",
       "        console.log(\"Bokeh: BokehJS is being loaded, scheduling callback at\", now());\n",
       "        return null;\n",
       "      }\n",
       "      if (js_urls == null || js_urls.length === 0) {\n",
       "        run_callbacks();\n",
       "        return null;\n",
       "      }\n",
       "      console.log(\"Bokeh: BokehJS not loaded, scheduling load and callback at\", now());\n",
       "      window._bokeh_is_loading = js_urls.length;\n",
       "      for (var i = 0; i < js_urls.length; i++) {\n",
       "        var url = js_urls[i];\n",
       "        var s = document.createElement('script');\n",
       "        s.src = url;\n",
       "        s.async = false;\n",
       "        s.onreadystatechange = s.onload = function() {\n",
       "          window._bokeh_is_loading--;\n",
       "          if (window._bokeh_is_loading === 0) {\n",
       "            console.log(\"Bokeh: all BokehJS libraries loaded\");\n",
       "            run_callbacks()\n",
       "          }\n",
       "        };\n",
       "        s.onerror = function() {\n",
       "          console.warn(\"failed to load library \" + url);\n",
       "        };\n",
       "        console.log(\"Bokeh: injecting script tag for BokehJS library: \", url);\n",
       "        document.getElementsByTagName(\"head\")[0].appendChild(s);\n",
       "      }\n",
       "    };var element = document.getElementById(\"6742a117-6490-4054-9d4e-060ac5bd5aad\");\n",
       "    if (element == null) {\n",
       "      console.log(\"Bokeh: ERROR: autoload.js configured with elementid '6742a117-6490-4054-9d4e-060ac5bd5aad' but no matching script tag was found. \")\n",
       "      return false;\n",
       "    }\n",
       "  \n",
       "    var js_urls = [];\n",
       "  \n",
       "    var inline_js = [\n",
       "      function(Bokeh) {\n",
       "        (function() {\n",
       "          var fn = function() {\n",
       "            var docs_json = {\"316c2587-4389-47f3-ae48-27515e0611b9\":{\"roots\":{\"references\":[{\"attributes\":{\"plot\":{\"id\":\"591af8aa-aba3-45cd-b149-3a7e58131319\",\"subtype\":\"Figure\",\"type\":\"Plot\"}},\"id\":\"1d5493f3-373d-4303-b514-0f187247ce51\",\"type\":\"ResetTool\"},{\"attributes\":{\"dimension\":1,\"plot\":{\"id\":\"591af8aa-aba3-45cd-b149-3a7e58131319\",\"subtype\":\"Figure\",\"type\":\"Plot\"},\"ticker\":{\"id\":\"913c9f1d-a464-4f05-9413-d2f64c50259b\",\"type\":\"BasicTicker\"}},\"id\":\"1b673841-2746-4d31-8e81-740a81b4dbad\",\"type\":\"Grid\"},{\"attributes\":{\"bottom_units\":\"screen\",\"fill_alpha\":{\"value\":0.5},\"fill_color\":{\"value\":\"lightgrey\"},\"left_units\":\"screen\",\"level\":\"overlay\",\"line_alpha\":{\"value\":1.0},\"line_color\":{\"value\":\"black\"},\"line_dash\":[4,4],\"line_width\":{\"value\":2},\"plot\":null,\"render_mode\":\"css\",\"right_units\":\"screen\",\"top_units\":\"screen\"},\"id\":\"d54fcc26-1ec6-4e8a-b4c2-e2d2d92ac8ab\",\"type\":\"BoxAnnotation\"},{\"attributes\":{\"plot\":{\"id\":\"591af8aa-aba3-45cd-b149-3a7e58131319\",\"subtype\":\"Figure\",\"type\":\"Plot\"}},\"id\":\"58e0e19f-ccec-44d6-8830-61cdca49a95a\",\"type\":\"PanTool\"},{\"attributes\":{},\"id\":\"913c9f1d-a464-4f05-9413-d2f64c50259b\",\"type\":\"BasicTicker\"},{\"attributes\":{\"below\":[{\"id\":\"819ff33e-80c8-4887-be60-a3ae3f3ecc9b\",\"type\":\"LinearAxis\"}],\"left\":[{\"id\":\"1b39640b-4a7c-4480-abe5-4f863124db61\",\"type\":\"LinearAxis\"}],\"plot_height\":400,\"plot_width\":400,\"renderers\":[{\"id\":\"819ff33e-80c8-4887-be60-a3ae3f3ecc9b\",\"type\":\"LinearAxis\"},{\"id\":\"25d30a67-e62f-4eec-86d8-22186ef1e8b2\",\"type\":\"Grid\"},{\"id\":\"1b39640b-4a7c-4480-abe5-4f863124db61\",\"type\":\"LinearAxis\"},{\"id\":\"1b673841-2746-4d31-8e81-740a81b4dbad\",\"type\":\"Grid\"},{\"id\":\"d54fcc26-1ec6-4e8a-b4c2-e2d2d92ac8ab\",\"type\":\"BoxAnnotation\"},{\"id\":\"3e30b514-f24c-4ec2-9812-55d360d9300d\",\"type\":\"GlyphRenderer\"}],\"title\":{\"id\":\"17b2edfd-18bc-4ba5-8d26-19bee4663f82\",\"type\":\"Title\"},\"tool_events\":{\"id\":\"a9c9e31d-245e-4129-84fb-b0daa392c901\",\"type\":\"ToolEvents\"},\"toolbar\":{\"id\":\"110f4c00-8cf3-44ca-9279-6c7868bc412f\",\"type\":\"Toolbar\"},\"x_range\":{\"id\":\"537b85d6-ee7b-4cd2-bf74-fd39fbe8fecb\",\"type\":\"DataRange1d\"},\"y_range\":{\"id\":\"21d5200e-dc1c-4672-a855-94d8dbcd2b8b\",\"type\":\"DataRange1d\"}},\"id\":\"591af8aa-aba3-45cd-b149-3a7e58131319\",\"subtype\":\"Figure\",\"type\":\"Plot\"},{\"attributes\":{\"fill_alpha\":{\"value\":0.1},\"fill_color\":{\"value\":\"#1f77b4\"},\"line_alpha\":{\"value\":0.1},\"line_color\":{\"value\":\"#1f77b4\"},\"x\":{\"field\":\"x\"},\"y\":{\"field\":\"y\"}},\"id\":\"f866c255-c8fe-4de0-b5ef-2531c7ec451d\",\"type\":\"Circle\"},{\"attributes\":{},\"id\":\"b5a1edf5-1ff9-4644-8d32-263bb5ee8128\",\"type\":\"BasicTicker\"},{\"attributes\":{\"data_source\":{\"id\":\"88741238-9de9-4028-ae39-3fbafe58de5d\",\"type\":\"ColumnDataSource\"},\"glyph\":{\"id\":\"a0a9e116-f476-47ae-9b46-4a0335e4f8ef\",\"type\":\"Circle\"},\"hover_glyph\":null,\"muted_glyph\":null,\"nonselection_glyph\":{\"id\":\"f866c255-c8fe-4de0-b5ef-2531c7ec451d\",\"type\":\"Circle\"},\"selection_glyph\":null},\"id\":\"3e30b514-f24c-4ec2-9812-55d360d9300d\",\"type\":\"GlyphRenderer\"},{\"attributes\":{},\"id\":\"a9c9e31d-245e-4129-84fb-b0daa392c901\",\"type\":\"ToolEvents\"},{\"attributes\":{\"plot\":{\"id\":\"591af8aa-aba3-45cd-b149-3a7e58131319\",\"subtype\":\"Figure\",\"type\":\"Plot\"}},\"id\":\"79a70d27-e395-4598-b49c-e8a0f6879b6c\",\"type\":\"HelpTool\"},{\"attributes\":{\"active_drag\":\"auto\",\"active_scroll\":\"auto\",\"active_tap\":\"auto\",\"tools\":[{\"id\":\"58e0e19f-ccec-44d6-8830-61cdca49a95a\",\"type\":\"PanTool\"},{\"id\":\"b5ff2d13-19fb-4fd1-819e-2b526d449bf0\",\"type\":\"WheelZoomTool\"},{\"id\":\"9fb9ce21-ee4c-4e0c-b26d-51ecacf191c4\",\"type\":\"BoxZoomTool\"},{\"id\":\"78a3a795-353c-493a-abbe-15433f000efb\",\"type\":\"SaveTool\"},{\"id\":\"1d5493f3-373d-4303-b514-0f187247ce51\",\"type\":\"ResetTool\"},{\"id\":\"79a70d27-e395-4598-b49c-e8a0f6879b6c\",\"type\":\"HelpTool\"}]},\"id\":\"110f4c00-8cf3-44ca-9279-6c7868bc412f\",\"type\":\"Toolbar\"},{\"attributes\":{\"plot\":null,\"text\":\"US Employment Rates after 1991\"},\"id\":\"17b2edfd-18bc-4ba5-8d26-19bee4663f82\",\"type\":\"Title\"},{\"attributes\":{\"callback\":null},\"id\":\"537b85d6-ee7b-4cd2-bf74-fd39fbe8fecb\",\"type\":\"DataRange1d\"},{\"attributes\":{\"fill_alpha\":{\"value\":0.5},\"fill_color\":{\"value\":\"orange\"},\"line_color\":{\"value\":\"navy\"},\"x\":{\"field\":\"x\"},\"y\":{\"field\":\"y\"}},\"id\":\"a0a9e116-f476-47ae-9b46-4a0335e4f8ef\",\"type\":\"Circle\"},{\"attributes\":{},\"id\":\"60b38d64-dc1b-4465-b063-c8a24d484d56\",\"type\":\"BasicTickFormatter\"},{\"attributes\":{\"axis_label\":\"Milk\",\"formatter\":{\"id\":\"60b38d64-dc1b-4465-b063-c8a24d484d56\",\"type\":\"BasicTickFormatter\"},\"plot\":{\"id\":\"591af8aa-aba3-45cd-b149-3a7e58131319\",\"subtype\":\"Figure\",\"type\":\"Plot\"},\"ticker\":{\"id\":\"b5a1edf5-1ff9-4644-8d32-263bb5ee8128\",\"type\":\"BasicTicker\"}},\"id\":\"819ff33e-80c8-4887-be60-a3ae3f3ecc9b\",\"type\":\"LinearAxis\"},{\"attributes\":{\"callback\":null},\"id\":\"21d5200e-dc1c-4672-a855-94d8dbcd2b8b\",\"type\":\"DataRange1d\"},{\"attributes\":{\"plot\":{\"id\":\"591af8aa-aba3-45cd-b149-3a7e58131319\",\"subtype\":\"Figure\",\"type\":\"Plot\"},\"ticker\":{\"id\":\"b5a1edf5-1ff9-4644-8d32-263bb5ee8128\",\"type\":\"BasicTicker\"}},\"id\":\"25d30a67-e62f-4eec-86d8-22186ef1e8b2\",\"type\":\"Grid\"},{\"attributes\":{\"overlay\":{\"id\":\"d54fcc26-1ec6-4e8a-b4c2-e2d2d92ac8ab\",\"type\":\"BoxAnnotation\"},\"plot\":{\"id\":\"591af8aa-aba3-45cd-b149-3a7e58131319\",\"subtype\":\"Figure\",\"type\":\"Plot\"}},\"id\":\"9fb9ce21-ee4c-4e0c-b26d-51ecacf191c4\",\"type\":\"BoxZoomTool\"},{\"attributes\":{\"plot\":{\"id\":\"591af8aa-aba3-45cd-b149-3a7e58131319\",\"subtype\":\"Figure\",\"type\":\"Plot\"}},\"id\":\"78a3a795-353c-493a-abbe-15433f000efb\",\"type\":\"SaveTool\"},{\"attributes\":{\"axis_label\":\"Detergent Predictions\",\"formatter\":{\"id\":\"fcf47088-c592-43a4-a59d-f91caa71add4\",\"type\":\"BasicTickFormatter\"},\"plot\":{\"id\":\"591af8aa-aba3-45cd-b149-3a7e58131319\",\"subtype\":\"Figure\",\"type\":\"Plot\"},\"ticker\":{\"id\":\"913c9f1d-a464-4f05-9413-d2f64c50259b\",\"type\":\"BasicTicker\"}},\"id\":\"1b39640b-4a7c-4480-abe5-4f863124db61\",\"type\":\"LinearAxis\"},{\"attributes\":{\"callback\":null,\"column_names\":[\"x\",\"y\"],\"data\":{\"x\":[9656.0,9810.0,8808.0,1196.0,5410.0,8259.0,3199.0,4956.0,3648.0,11093.0,5403.0,1124.0,12319.0,6208.0,9465.0,1114.0,8816.0,6157.0,6327.0,2495.0,4519.0,871.0,1917.0,36423.0,9776.0,4230.0,961.0,803.0,20484.0,2100.0,3610.0,4339.0,1318.0,4786.0,1979.0,5491.0,4362.0,10556.0,15729.0,555.0,4332.0,3065.0,7555.0,11095.0,7027.0,22044.0,14069.0,54259.0,6152.0,21412.0,1095.0,4051.0,3916.0,10473.0,1449.0,3683.0,29892.0,9933.0,1970.0,5360.0,3045.0,38369.0,6245.0,11601.0,1227.0,20959.0,1534.0,6759.0,7260.0,2820.0,2037.0,1266.0,5139.0,5332.0,6343.0,1137.0,3587.0,12697.0,1175.0,3259.0,829.0,9540.0,9232.0,1563.0,3327.0,46197.0,73498.0,5025.0,542.0,3836.0,596.0,2762.0,27472.0,3090.0,12220.0,2920.0,2616.0,254.0,112.0,2182.0,7779.0,10810.0,6459.0,3504.0,2132.0,1014.0,6337.0,10646.0,8397.0,16729.0,1648.0,11114.0,2770.0,2295.0,1080.0,793.0,2521.0,3880.0,1891.0,2344.0,1200.0,3234.0,201.0,10769.0,1642.0,3473.0,1840.0,7243.0,8847.0,926.0,2428.0,589.0,2032.0,1042.0,1882.0,1289.0,8579.0,8080.0,4257.0,4979.0,4280.0,13252.0,7152.0,1596.0,3677.0,8384.0,1936.0,3373.0,584.0,1433.0,1825.0,3328.0,1371.0,9250.0,55.0,10690.0,5291.0,1366.0,6570.0,7704.0,3651.0,540.0,2024.0,15726.0,7603.0,12653.0,6721.0,3195.0,735.0,717.0,8675.0,25862.0,5479.0,7677.0,1208.0,7845.0,6958.0,7330.0,7075.0,4888.0,6036.0,29627.0,8533.0,43950.0,918.0,6448.0,521.0,8002.0,7639.0,11577.0,6250.0,295.0,1461.0,3485.0,1012.0,5139.0,7209.0,7097.0,2154.0,2280.0,13240.0,14399.0,11487.0,685.0,891.0,11711.0,780.0,4737.0,3748.0,12729.0,1895.0,28326.0,1012.0,6602.0,6551.0,10765.0,16599.0,1475.0,7504.0,367.0,899.0,7503.0,1115.0,2527.0,659.0,3243.0,5921.0,2204.0,577.0,2746.0,5989.0,10678.0,1780.0,4984.0,2703.0,6380.0,820.0,3838.0,475.0,2567.0,3575.0,1801.0,659.0,3576.0,7775.0,6154.0,2428.0,346.0,5279.0,3795.0,1993.0,23133.0,1860.0,7961.0,17972.0,489.0,5008.0,1931.0,4563.0,4959.0,4885.0,1110.0,1372.0,1115.0,9679.0,23527.0,9763.0,1222.0,8053.0,258.0,1032.0,5007.0,8323.0,3045.0,1703.0,1610.0,3749.0,829.0,2317.0,6200.0,2884.0,7108.0,3965.0,3613.0,4411.0,640.0,2247.0,2102.0,594.0,286.0,2160.0,3354.0,3086.0,11103.0,2013.0,1897.0,1304.0,3199.0,4560.0,879.0,6243.0,13316.0,5302.0,3688.0,7460.0,12939.0,12867.0,2374.0,1020.0,20655.0,1492.0,2335.0,3737.0,925.0,1795.0,14982.0,1375.0,3088.0,2713.0,25071.0,3696.0,1897.0,713.0,944.0,3587.0,16784.0,1610.0,899.0,2209.0,1486.0,1786.0,14881.0,3216.0,4980.0,928.0,6817.0,1511.0,1347.0,333.0,1188.0,4025.0,5763.0,5758.0,6964.0,1172.0,2602.0,6939.0,7184.0,2380.0,14641.0,1099.0,10044.0,1106.0,6264.0,7393.0,727.0,134.0,1275.0,18664.0,5878.0,2872.0,607.0,1601.0,997.0,873.0,6128.0,2217.0,894.0,1196.0,337.0,3944.0,1887.0,3801.0,6257.0,2256.0,1450.0,8630.0,3154.0,3294.0,5164.0,944.0,4591.0,7435.0,1364.0,21858.0,922.0,3620.0,1916.0,848.0,1530.0,1181.0,2761.0,4180.0,6730.0,865.0,1316.0,11991.0,1666.0,1032.0,577.0,906.0,2801.0,4753.0,11006.0,4613.0,1046.0,5010.0,12844.0,3880.0,3634.0,2096.0,3289.0,3605.0,4859.0,1990.0,6046.0,10940.0,5499.0,8494.0,3783.0,5266.0,4847.0,1377.0,3686.0,2884.0,2408.0,9347.0,16687.0,5970.0,1750.0,4230.0,5506.0,1162.0,3218.0,3922.0,12051.0,1431.0,15488.0,1981.0,1698.0],\"y\":[3796.4095005125873,3862.188084854136,3434.2001529695167,182.85869837298597,1982.799960809899,3199.703771128543,1038.4074284776693,1788.8812771016983,1230.190443863093,4410.200576478854,1979.8100251580101,152.10507452498945,4933.866449223907,2323.6526251251944,3714.826970582486,147.83373787943432,3437.6172222859605,2301.8688082328636,2374.4815312072997,737.7053286305917,1602.2238656909408,44.04025739244572,490.8220705175076,15229.496299669885,3847.665540259249,1478.782236634399,82.4822872024415,14.995168202671161,8421.412820319634,568.9875311311657,1213.9593646099836,1525.3398060709494,234.96900544875808,1716.2685541272615,517.3043577199492,2017.3977876388944,1535.163880355726,4180.829798612545,6390.39224535819,-90.93398060709492,1522.3498704190606,981.1715174272313,2899.0016712814645,4411.054843807965,2673.4750963961555,9087.74133702623,5681.350362196046,22847.852340681937,2299.733139910086,8817.792861027145,139.71819825287963,1402.3253106789628,1344.662265963969,4145.377704454439,290.9235155055296,1245.1401221225356,12439.88633645786,3914.7255255944638,513.4601547389495,1961.4432775821233,972.6288441361213,16060.698410894904,2339.4565707137485,4627.184478073052,196.0998419742068,8624.301310983501,327.22987699274785,2559.0032742952794,2772.9972402375893,876.5237696111317,542.0781102641687,212.7580548918716,1867.046737715356,1949.4835349745692,2381.3156698401885,157.65781216421098,1204.135290325207,5095.322974425889,173.88889141732034,1064.035448351,26.10064348111435,3746.8619954241485,3615.304826741052,339.6167532648576,1093.0805375407747,19404.300737035428,31065.476913065366,1818.353499956028,-96.48671824631656,1310.4915727995283,-73.42150036031913,851.7500170669123,11406.22286823353,991.8498590411191,4891.580216432912,919.2371360666826,789.3885020418081,-219.501213638303,-280.1541940051852,604.0124916247174,2994.679612141899,4289.321749409644,2430.863174928627,1168.6831961670996,582.655808396942,105.12037142388347,2378.7528678528547,4219.271828422541,3258.648216837202,6817.525909913699,375.92311475207583,4419.170383434519,855.1670863833565,652.2785957194898,133.31119328454704,10.723831557116092,748.8108039090347,1329.2854540399708,479.7165952390644,673.2081452827097,184.56723303120805,1053.3571067371124,-242.13929785974494,4271.809269162869,373.3603127647428,1155.4420525658788,457.9327783467335,2765.735967940146,3450.858365887181,67.53260894299873,709.0873731053724,-76.41143601220767,539.942441941391,117.0801140314377,475.8723922580648,222.5821291766482,3336.386543786306,3123.2468451731065,1490.3148455773974,1798.7053513864748,1500.1389198621744,5332.382158254196,2726.8668044655947,353.7121641951895,1242.5773201352026,3253.095479197981,498.93761014406226,1112.728686110328,-78.5471043349852,284.0893768726416,451.52577337840086,1093.50767120533,257.60708967019997,3622.9932327030515,-304.5008128848492,4238.065709662983,1931.9710547277934,255.4714213474225,2478.275011694289,2962.6445873002353,1231.4718448567592,-97.34098557542755,536.5253726249471,6389.110844364524,2919.504087180129,5076.529093185447,2542.77219504217,1036.6988938194474,-14.049920987103448,-21.738326949102603,3377.3913755836347,10718.537668299157,2012.272183664229,2951.1119783572362,187.98430234765206,3022.870434002562,2644.002873541826,2802.896596756475,2693.9775122948204,1759.8361879119236,2250.185634821647,12326.695915350647,3316.7383952167515,18444.531392779198,64.11553962655464,2426.164704618516,-105.45652520198223,3089.9304193377766,2934.880899104128,4616.933270123719,2341.592239036526,-201.98873339152718,296.04911948019577,1160.567656540545,104.26610409477244,1867.046737715356,2751.2134233452584,2703.3744529150417,592.0527490171631,645.8715907511571,5327.25655427953,5822.304471499364,4578.491240313724,-35.40660421487885,52.58293068355591,4674.1691811741575,5.171093917894498,1695.3390045640415,1272.9038103186438,5108.991251691666,481.42512989728647,11770.995017763931,104.26610409477244,2491.943288960065,2470.159472067734,4270.100734504646,6761.998533521483,302.0289907839729,2877.2178543891337,-171.23510954353054,55.99999999999999,2876.7907207245785,148.26087154398982,751.3736058963678,-46.512079493322034,1057.2013097181118,2201.065263397764,613.4094322449386,-81.53703998687378,844.9158784340243,2230.1103525875387,4232.940105688318,432.304758473403,1800.8410197092524,826.5491308581372,2397.119615428742,22.25644050011477,1311.3458401286396,-125.10467377153564,768.4589524785883,1199.0096863505407,441.2745654290686,-46.512079493322034,1199.4368200150961,2992.9710774836763,2300.587407239197,709.0873731053724,-180.20491649919623,1926.8454507531271,1292.9790925527525,523.2842290237263,9552.889897727177,466.47545163784366,3072.4179390910012,7348.453054956197,-119.1248024677585,1811.0922276585845,496.8019418212848,1621.0177469313828,1790.162678095364,1758.5547869182567,146.1252032212123,258.03422333475555,148.26087154398982,3806.2335747973643,9721.180561562047,3842.1128026200267,193.96417365142926,3111.7142362301083,-217.79267898008098,112.80877738588264,1810.6650939940284,3227.040325660095,972.6288441361213,399.41546630262883,359.69203549896656,1273.3309439831992,26.10064348111435,661.6755363397111,2320.23555580875,903.8603241426844,2708.072923225152,1365.5918155271888,1215.24076560365,1556.0934299189457,-54.627619119876734,631.7761798208253,569.8417984602766,-74.27576768943011,-205.83293637252675,594.6155510044963,1104.6131464837733,990.141324382897,4414.471913124409,531.8269023148364,482.27939722639746,228.9891341449809,1038.4074284776693,1619.7363459377164,47.4573267088898,2338.6023033846373,5359.718712785749,1936.669525037904,1247.2757904453133,2858.4239731486914,5198.689321248322,5167.935697400326,686.022155219375,107.68317341121653,8494.452676958626,309.29026308141647,669.3639423017102,1268.205340008533,67.10547527844324,438.71176344173557,6071.323397935225,259.315624328422,990.9955917120081,830.8204675036923,10380.674939635754,1250.6928597617573,482.27939722639746,-23.44686160732462,75.22101490499783,1204.135290325207,6841.018261464252,359.69203549896656,55.99999999999999,615.5451005677162,306.7274610940834,434.86756046073606,6028.182897815119,1045.6687007751134,1799.1324850510305,68.38687627210976,2583.777026839499,317.40580270797113,247.35588172086776,-185.75765413841782,179.44162905654193,1391.2198354005197,2133.578144397993,2131.4424760752154,2646.5656755291598,172.60749042365376,783.4086307380308,2635.887333915272,2740.5350817313706,688.5849572067079,5925.670818321797,141.42673291110162,3962.1373623601253,144.41666856299028,2347.5721103403034,2829.806017623472,-17.46699030354748,-270.75725338496403,216.60225787287112,7644.029550828609,2182.698515821877,898.7347201680183,-68.72303005020852,355.84783251796694,97.8590991264398,44.89452472155675,2289.481931960754,618.9621698841602,53.86433167722243,182.85869837298597,-184.04911948019577,1356.6220085715233,478.0080605808423,1295.5418945400857,2344.582174688415,635.6203828018249,291.35064917008515,3358.170360678637,1019.1864135726715,1078.9851266104429,1877.7250793292437,75.22101490499783,1632.9774895389376,2847.7456315348036,254.61715401831142,9008.294475418903,65.82407428477671,1218.2307012555386,490.3949368529521,34.21618310766905,325.5213423345259,176.45169340465338,851.322883402357,1457.425553406623,2546.6163980231704,41.477455405112664,234.114738119647,4793.7666072497,383.611520714075,112.80877738588264,-81.53703998687378,58.98993565188854,868.4082299845772,1702.17314319693,4373.039947662524,1642.3744301591587,118.78864868965971,1811.9464949876954,5158.111623115548,1329.2854540399708,1224.2105725593158,567.2789964729436,1076.8494582876654,1211.823696287206,1747.4493116398137,522.0028280300597,2254.456971467202,4344.84912580186,2020.8148569553393,3300.0801822990875,1287.8534885780864,1921.2927131139056,1742.3237076651478,260.169891657533,1246.421523116202,903.8603241426844,700.5446998142623,3664.4251981649354,6799.586296002368,2221.9948129609834,419.4907485367377,1478.782236634399,2023.804792607228,168.3361537780987,1046.522968104224,1347.2250679513022,4819.394627123031,283.2351095435305,6287.453032200313,518.1586250490602,397.27979797985125]}},\"id\":\"88741238-9de9-4028-ae39-3fbafe58de5d\",\"type\":\"ColumnDataSource\"},{\"attributes\":{\"plot\":{\"id\":\"591af8aa-aba3-45cd-b149-3a7e58131319\",\"subtype\":\"Figure\",\"type\":\"Plot\"}},\"id\":\"b5ff2d13-19fb-4fd1-819e-2b526d449bf0\",\"type\":\"WheelZoomTool\"},{\"attributes\":{},\"id\":\"fcf47088-c592-43a4-a59d-f91caa71add4\",\"type\":\"BasicTickFormatter\"}],\"root_ids\":[\"591af8aa-aba3-45cd-b149-3a7e58131319\"]},\"title\":\"Bokeh Application\",\"version\":\"0.12.5\"}};\n",
       "            var render_items = [{\"docid\":\"316c2587-4389-47f3-ae48-27515e0611b9\",\"elementid\":\"6742a117-6490-4054-9d4e-060ac5bd5aad\",\"modelid\":\"591af8aa-aba3-45cd-b149-3a7e58131319\"}];\n",
       "            \n",
       "            Bokeh.embed.embed_items(docs_json, render_items);\n",
       "          };\n",
       "          if (document.readyState != \"loading\") fn();\n",
       "          else document.addEventListener(\"DOMContentLoaded\", fn);\n",
       "        })();\n",
       "      },\n",
       "      function(Bokeh) {\n",
       "      }\n",
       "    ];\n",
       "  \n",
       "    function run_inline_js() {\n",
       "      \n",
       "      if ((window.Bokeh !== undefined) || (force === true)) {\n",
       "        for (var i = 0; i < inline_js.length; i++) {\n",
       "          inline_js[i](window.Bokeh);\n",
       "        }if (force === true) {\n",
       "          display_loaded();\n",
       "        }} else if (Date.now() < window._bokeh_timeout) {\n",
       "        setTimeout(run_inline_js, 100);\n",
       "      } else if (!window._bokeh_failed_load) {\n",
       "        console.log(\"Bokeh: BokehJS failed to load within specified timeout.\");\n",
       "        window._bokeh_failed_load = true;\n",
       "      } else if (force !== true) {\n",
       "        var cell = $(document.getElementById(\"6742a117-6490-4054-9d4e-060ac5bd5aad\")).parents('.cell').data().cell;\n",
       "        cell.output_area.append_execute_result(NB_LOAD_WARNING)\n",
       "      }\n",
       "  \n",
       "    }\n",
       "  \n",
       "    if (window._bokeh_is_loading === 0) {\n",
       "      console.log(\"Bokeh: BokehJS loaded, going straight to plotting\");\n",
       "      run_inline_js();\n",
       "    } else {\n",
       "      load_libs(js_urls, function() {\n",
       "        console.log(\"Bokeh: BokehJS plotting callback run at\", now());\n",
       "        run_inline_js();\n",
       "      });\n",
       "    }\n",
       "  }(this));\n",
       "</script>"
      ]
     },
     "metadata": {},
     "output_type": "display_data"
    }
   ],
   "source": [
    "p = figure(plot_width=400, plot_height=400, title=\"US Employment Rates after 1991\")\n",
    "\n",
    "p.circle(wholeDataMilk, detergentPredictions, line_color=\"navy\", fill_color=\"orange\", fill_alpha=0.5)\n",
    "\n",
    "p.xaxis.axis_label = \"Milk\"\n",
    "p.yaxis.axis_label = \"Detergent Predictions\"\n",
    "\n",
    "show(p)"
   ]
  },
  {
   "cell_type": "code",
   "execution_count": null,
   "metadata": {
    "collapsed": true
   },
   "outputs": [],
   "source": []
  }
 ],
 "metadata": {
  "kernelspec": {
   "display_name": "Python 3",
   "language": "python",
   "name": "python3"
  },
  "language_info": {
   "codemirror_mode": {
    "name": "ipython",
    "version": 3
   },
   "file_extension": ".py",
   "mimetype": "text/x-python",
   "name": "python",
   "nbconvert_exporter": "python",
   "pygments_lexer": "ipython3",
   "version": "3.6.1"
  }
 },
 "nbformat": 4,
 "nbformat_minor": 2
}
