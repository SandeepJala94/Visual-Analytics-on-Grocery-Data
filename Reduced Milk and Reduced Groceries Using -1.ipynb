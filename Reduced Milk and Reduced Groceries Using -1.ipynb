{
 "cells": [
  {
   "cell_type": "code",
   "execution_count": 2,
   "metadata": {},
   "outputs": [
    {
     "data": {
      "text/html": [
       "\n",
       "    <div class=\"bk-root\">\n",
       "        <a href=\"http://bokeh.pydata.org\" target=\"_blank\" class=\"bk-logo bk-logo-small bk-logo-notebook\"></a>\n",
       "        <span id=\"c3c4784a-5aeb-4ade-913f-8355769835cb\">Loading BokehJS ...</span>\n",
       "    </div>"
      ]
     },
     "metadata": {},
     "output_type": "display_data"
    },
    {
     "data": {
      "application/javascript": [
       "\n",
       "(function(global) {\n",
       "  function now() {\n",
       "    return new Date();\n",
       "  }\n",
       "\n",
       "  var force = true;\n",
       "\n",
       "  if (typeof (window._bokeh_onload_callbacks) === \"undefined\" || force === true) {\n",
       "    window._bokeh_onload_callbacks = [];\n",
       "    window._bokeh_is_loading = undefined;\n",
       "  }\n",
       "\n",
       "\n",
       "  \n",
       "  if (typeof (window._bokeh_timeout) === \"undefined\" || force === true) {\n",
       "    window._bokeh_timeout = Date.now() + 5000;\n",
       "    window._bokeh_failed_load = false;\n",
       "  }\n",
       "\n",
       "  var NB_LOAD_WARNING = {'data': {'text/html':\n",
       "     \"<div style='background-color: #fdd'>\\n\"+\n",
       "     \"<p>\\n\"+\n",
       "     \"BokehJS does not appear to have successfully loaded. If loading BokehJS from CDN, this \\n\"+\n",
       "     \"may be due to a slow or bad network connection. Possible fixes:\\n\"+\n",
       "     \"</p>\\n\"+\n",
       "     \"<ul>\\n\"+\n",
       "     \"<li>re-rerun `output_notebook()` to attempt to load from CDN again, or</li>\\n\"+\n",
       "     \"<li>use INLINE resources instead, as so:</li>\\n\"+\n",
       "     \"</ul>\\n\"+\n",
       "     \"<code>\\n\"+\n",
       "     \"from bokeh.resources import INLINE\\n\"+\n",
       "     \"output_notebook(resources=INLINE)\\n\"+\n",
       "     \"</code>\\n\"+\n",
       "     \"</div>\"}};\n",
       "\n",
       "  function display_loaded() {\n",
       "    if (window.Bokeh !== undefined) {\n",
       "      var el = document.getElementById(\"c3c4784a-5aeb-4ade-913f-8355769835cb\");\n",
       "      el.textContent = \"BokehJS \" + Bokeh.version + \" successfully loaded.\";\n",
       "    } else if (Date.now() < window._bokeh_timeout) {\n",
       "      setTimeout(display_loaded, 100)\n",
       "    }\n",
       "  }\n",
       "\n",
       "  function run_callbacks() {\n",
       "    window._bokeh_onload_callbacks.forEach(function(callback) { callback() });\n",
       "    delete window._bokeh_onload_callbacks\n",
       "    console.info(\"Bokeh: all callbacks have finished\");\n",
       "  }\n",
       "\n",
       "  function load_libs(js_urls, callback) {\n",
       "    window._bokeh_onload_callbacks.push(callback);\n",
       "    if (window._bokeh_is_loading > 0) {\n",
       "      console.log(\"Bokeh: BokehJS is being loaded, scheduling callback at\", now());\n",
       "      return null;\n",
       "    }\n",
       "    if (js_urls == null || js_urls.length === 0) {\n",
       "      run_callbacks();\n",
       "      return null;\n",
       "    }\n",
       "    console.log(\"Bokeh: BokehJS not loaded, scheduling load and callback at\", now());\n",
       "    window._bokeh_is_loading = js_urls.length;\n",
       "    for (var i = 0; i < js_urls.length; i++) {\n",
       "      var url = js_urls[i];\n",
       "      var s = document.createElement('script');\n",
       "      s.src = url;\n",
       "      s.async = false;\n",
       "      s.onreadystatechange = s.onload = function() {\n",
       "        window._bokeh_is_loading--;\n",
       "        if (window._bokeh_is_loading === 0) {\n",
       "          console.log(\"Bokeh: all BokehJS libraries loaded\");\n",
       "          run_callbacks()\n",
       "        }\n",
       "      };\n",
       "      s.onerror = function() {\n",
       "        console.warn(\"failed to load library \" + url);\n",
       "      };\n",
       "      console.log(\"Bokeh: injecting script tag for BokehJS library: \", url);\n",
       "      document.getElementsByTagName(\"head\")[0].appendChild(s);\n",
       "    }\n",
       "  };var element = document.getElementById(\"c3c4784a-5aeb-4ade-913f-8355769835cb\");\n",
       "  if (element == null) {\n",
       "    console.log(\"Bokeh: ERROR: autoload.js configured with elementid 'c3c4784a-5aeb-4ade-913f-8355769835cb' but no matching script tag was found. \")\n",
       "    return false;\n",
       "  }\n",
       "\n",
       "  var js_urls = [\"https://cdn.pydata.org/bokeh/release/bokeh-0.12.5.min.js\", \"https://cdn.pydata.org/bokeh/release/bokeh-widgets-0.12.5.min.js\"];\n",
       "\n",
       "  var inline_js = [\n",
       "    function(Bokeh) {\n",
       "      Bokeh.set_log_level(\"info\");\n",
       "    },\n",
       "    \n",
       "    function(Bokeh) {\n",
       "      \n",
       "    },\n",
       "    \n",
       "    function(Bokeh) {\n",
       "      \n",
       "      document.getElementById(\"c3c4784a-5aeb-4ade-913f-8355769835cb\").textContent = \"BokehJS is loading...\";\n",
       "    },\n",
       "    function(Bokeh) {\n",
       "      console.log(\"Bokeh: injecting CSS: https://cdn.pydata.org/bokeh/release/bokeh-0.12.5.min.css\");\n",
       "      Bokeh.embed.inject_css(\"https://cdn.pydata.org/bokeh/release/bokeh-0.12.5.min.css\");\n",
       "      console.log(\"Bokeh: injecting CSS: https://cdn.pydata.org/bokeh/release/bokeh-widgets-0.12.5.min.css\");\n",
       "      Bokeh.embed.inject_css(\"https://cdn.pydata.org/bokeh/release/bokeh-widgets-0.12.5.min.css\");\n",
       "    }\n",
       "  ];\n",
       "\n",
       "  function run_inline_js() {\n",
       "    \n",
       "    if ((window.Bokeh !== undefined) || (force === true)) {\n",
       "      for (var i = 0; i < inline_js.length; i++) {\n",
       "        inline_js[i](window.Bokeh);\n",
       "      }if (force === true) {\n",
       "        display_loaded();\n",
       "      }} else if (Date.now() < window._bokeh_timeout) {\n",
       "      setTimeout(run_inline_js, 100);\n",
       "    } else if (!window._bokeh_failed_load) {\n",
       "      console.log(\"Bokeh: BokehJS failed to load within specified timeout.\");\n",
       "      window._bokeh_failed_load = true;\n",
       "    } else if (force !== true) {\n",
       "      var cell = $(document.getElementById(\"c3c4784a-5aeb-4ade-913f-8355769835cb\")).parents('.cell').data().cell;\n",
       "      cell.output_area.append_execute_result(NB_LOAD_WARNING)\n",
       "    }\n",
       "\n",
       "  }\n",
       "\n",
       "  if (window._bokeh_is_loading === 0) {\n",
       "    console.log(\"Bokeh: BokehJS loaded, going straight to plotting\");\n",
       "    run_inline_js();\n",
       "  } else {\n",
       "    load_libs(js_urls, function() {\n",
       "      console.log(\"Bokeh: BokehJS plotting callback run at\", now());\n",
       "      run_inline_js();\n",
       "    });\n",
       "  }\n",
       "}(this));"
      ]
     },
     "metadata": {},
     "output_type": "display_data"
    }
   ],
   "source": [
    "from bokeh.io import output_notebook, show\n",
    "from bokeh.plotting import figure\n",
    "from bokeh.models import HoverTool\n",
    "import math\n",
    "output_notebook()"
   ]
  },
  {
   "cell_type": "code",
   "execution_count": 3,
   "metadata": {
    "collapsed": true
   },
   "outputs": [],
   "source": [
    "import xlrd\n",
    "file_location = \"C:/Users/Sandeep/Desktop/CollegeCourses/GRAD_SCHOOL/CS_690V_Visual_Analytics/HW/HW2/Wholesale customers data.xlsx\"\n",
    "with6ValuesFile = xlrd.open_workbook(file_location)\n",
    "with6Vals = with6ValuesFile.sheet_by_index(0)\n",
    "\n",
    "file_location = \"C:/Users/Sandeep/Desktop/CollegeCourses/GRAD_SCHOOL/CS_690V_Visual_Analytics/HW/HW2/Wholesale customers data-missing.xlsx\"\n",
    "without6ValuesFile = xlrd.open_workbook(file_location)\n",
    "without6Vals = without6ValuesFile.sheet_by_index(0)"
   ]
  },
  {
   "cell_type": "code",
   "execution_count": 4,
   "metadata": {
    "collapsed": true,
    "scrolled": false
   },
   "outputs": [],
   "source": [
    "wholeDataMilk = []\n",
    "\n",
    "for r in range(1, with6Vals.nrows):\n",
    "    wholeDataMilk.append(with6Vals.cell_value(r,3))\n",
    "\n",
    "#print(wholeDataMilk)\n",
    "#print(len(wholeDataMilk))"
   ]
  },
  {
   "cell_type": "code",
   "execution_count": 5,
   "metadata": {
    "scrolled": false
   },
   "outputs": [
    {
     "name": "stdout",
     "output_type": "stream",
     "text": [
      "[9656.0, 9810.0, 8808.0, 1196.0, 5410.0, 8259.0, 3199.0, 4956.0, 3648.0, 11093.0, 5403.0, 1124.0, 12319.0, 6208.0, 9465.0, 1114.0, 8816.0, 6157.0, 6327.0, 2495.0, 4519.0, 871.0, 1917.0, 36423.0, 9776.0, 4230.0, 961.0, 803.0, 20484.0, 2100.0, 3610.0, 4339.0, 1318.0, 4786.0, 1979.0, 5491.0, 4362.0, 10556.0, 15729.0, 555.0, 4332.0, 3065.0, 7555.0, 11095.0, 7027.0, 22044.0, 14069.0, 54259.0, 6152.0, 21412.0, 1095.0, 4051.0, 3916.0, 10473.0, 1449.0, 3683.0, 29892.0, 9933.0, 1970.0, 5360.0, 3045.0, 38369.0, 6245.0, 11601.0, 1227.0, 20959.0, 1534.0, 6759.0, 7260.0, 2820.0, 2037.0, 1266.0, 5139.0, 5332.0, 6343.0, 1137.0, 3587.0, 12697.0, 1175.0, 3259.0, 829.0, 9540.0, 9232.0, 1563.0, 3327.0, 46197.0, 73498.0, 5025.0, 542.0, 3836.0, 596.0, 2762.0, 27472.0, 3090.0, 12220.0, 2920.0, 2616.0, 254.0, 112.0, 2182.0, 7779.0, 10810.0, 6459.0, 3504.0, 2132.0, 1014.0, 6337.0, 10646.0, 8397.0, 16729.0, 1648.0, 11114.0, 2770.0, 2295.0, 1080.0, 793.0, 2521.0, 3880.0, 1891.0, 2344.0, 1200.0, 3234.0, 201.0, 10769.0, 1642.0, 3473.0, 1840.0, 7243.0, 8847.0, 926.0, 2428.0, 589.0, 2032.0, 1042.0, 1882.0, 1289.0, 8579.0, 8080.0, 4257.0, 4979.0, 4280.0, 13252.0, 7152.0, 1596.0, 3677.0, 8384.0, 1936.0, 3373.0, 584.0, 1433.0, 1825.0, 3328.0, 1371.0, 9250.0, 55.0, 10690.0, 5291.0, 1366.0, 6570.0, 7704.0, 3651.0, 540.0, 2024.0, 15726.0, 7603.0, 12653.0, 6721.0, 3195.0, 735.0, 717.0, 8675.0, 25862.0, 5479.0, 7677.0, 1208.0, 7845.0, 6958.0, 7330.0, 7075.0, 4888.0, 'EMPTY SLOT', 29627.0, 8533.0, 43950.0, 918.0, 6448.0, 521.0, 8002.0, 7639.0, 11577.0, 6250.0, 295.0, 1461.0, 3485.0, 1012.0, 5139.0, 7209.0, 7097.0, 2154.0, 2280.0, 13240.0, 14399.0, 11487.0, 685.0, 891.0, 11711.0, 780.0, 4737.0, 3748.0, 12729.0, 1895.0, 28326.0, 1012.0, 6602.0, 6551.0, 10765.0, 16599.0, 1475.0, 7504.0, 367.0, 899.0, 7503.0, 1115.0, 2527.0, 659.0, 3243.0, 5921.0, 2204.0, 577.0, 2746.0, 5989.0, 10678.0, 1780.0, 4984.0, 2703.0, 6380.0, 820.0, 3838.0, 475.0, 2567.0, 3575.0, 1801.0, 659.0, 3576.0, 7775.0, 6154.0, 2428.0, 346.0, 5279.0, 3795.0, 1993.0, 23133.0, 1860.0, 7961.0, 17972.0, 489.0, 5008.0, 1931.0, 4563.0, 4959.0, 4885.0, 1110.0, 1372.0, 1115.0, 9679.0, 23527.0, 9763.0, 1222.0, 8053.0, 258.0, 1032.0, 5007.0, 8323.0, 3045.0, 1703.0, 1610.0, 3749.0, 829.0, 2317.0, 6200.0, 2884.0, 7108.0, 3965.0, 3613.0, 4411.0, 640.0, 2247.0, 2102.0, 594.0, 286.0, 2160.0, 3354.0, 3086.0, 11103.0, 2013.0, 1897.0, 1304.0, 3199.0, 4560.0, 879.0, 6243.0, 13316.0, 5302.0, 3688.0, 7460.0, 12939.0, 12867.0, 2374.0, 1020.0, 20655.0, 1492.0, 2335.0, 3737.0, 925.0, 1795.0, 14982.0, 1375.0, 3088.0, 2713.0, 25071.0, 3696.0, 1897.0, 713.0, 944.0, 3587.0, 16784.0, 1610.0, 899.0, 2209.0, 1486.0, 1786.0, 14881.0, 3216.0, 4980.0, 928.0, 6817.0, 1511.0, 1347.0, 333.0, 1188.0, 4025.0, 5763.0, 5758.0, 6964.0, 1172.0, 2602.0, 6939.0, 7184.0, 2380.0, 14641.0, 1099.0, 10044.0, 1106.0, 6264.0, 7393.0, 727.0, 134.0, 1275.0, 18664.0, 5878.0, 2872.0, 607.0, 1601.0, 997.0, 873.0, 6128.0, 2217.0, 894.0, 1196.0, 337.0, 3944.0, 1887.0, 3801.0, 6257.0, 2256.0, 1450.0, 8630.0, 3154.0, 3294.0, 5164.0, 944.0, 4591.0, 7435.0, 1364.0, 21858.0, 922.0, 3620.0, 1916.0, 848.0, 1530.0, 1181.0, 2761.0, 4180.0, 6730.0, 865.0, 1316.0, 11991.0, 1666.0, 1032.0, 577.0, 906.0, 2801.0, 4753.0, 11006.0, 4613.0, 1046.0, 5010.0, 12844.0, 3880.0, 3634.0, 2096.0, 3289.0, 3605.0, 4859.0, 1990.0, 6046.0, 10940.0, 5499.0, 8494.0, 3783.0, 5266.0, 4847.0, 1377.0, 3686.0, 2884.0, 2408.0, 9347.0, 16687.0, 5970.0, 1750.0, 4230.0, 5506.0, 1162.0, 3218.0, 3922.0, 12051.0, 1431.0, 15488.0, 1981.0, 1698.0]\n"
     ]
    }
   ],
   "source": [
    "missingDataMilk = []\n",
    "\n",
    "for r in range(1, without6Vals.nrows):\n",
    "    \n",
    "    if without6Vals.cell_value(r,3) == '':\n",
    "        missingDataMilk.append(\"EMPTY SLOT\")\n",
    "    else:\n",
    "        missingDataMilk.append(without6Vals.cell_value(r,3))\n",
    "\n",
    "print(missingDataMilk)\n",
    "#print(len(missingDataMilk))"
   ]
  },
  {
   "cell_type": "code",
   "execution_count": null,
   "metadata": {
    "collapsed": true
   },
   "outputs": [],
   "source": []
  },
  {
   "cell_type": "code",
   "execution_count": 6,
   "metadata": {
    "collapsed": true,
    "scrolled": false
   },
   "outputs": [],
   "source": [
    "wholeDataGroceries = []\n",
    "\n",
    "for r in range(1, with6Vals.nrows):\n",
    "    wholeDataGroceries.append(with6Vals.cell_value(r,4))\n",
    "\n",
    "#print(wholeDataGroceries)\n",
    "#print(len(wholeDataGroceries))"
   ]
  },
  {
   "cell_type": "code",
   "execution_count": 7,
   "metadata": {},
   "outputs": [
    {
     "name": "stdout",
     "output_type": "stream",
     "text": [
      "[7561.0, 9568.0, 7684.0, 4221.0, 7198.0, 5126.0, 6975.0, 9426.0, 6192.0, 18881.0, 12974.0, 4523.0, 11757.0, 14982.0, 12091.0, 3821.0, 12121.0, 2933.0, 10099.0, 9464.0, 4602.0, 2010.0, 4469.0, 22019.0, 13792.0, 7595.0, 2861.0, 3045.0, 25957.0, 2609.0, 11107.0, 3133.0, 2886.0, 7326.0, 2262.0, 11091.0, 5428.0, 12477.0, 16709.0, 902.0, 4757.0, 5956.0, 14961.0, 23998.0, 10471.0, 21531.0, 21955.0, 55571.0, 10868.0, 28921.0, 1980.0, 6996.0, 5876.0, 11532.0, 1947.0, 5005.0, 26866.0, 10487.0, 1648.0, 8040.0, 7854.0, 59598.0, 6544.0, 15775.0, 3250.0, 45828.0, 7417.0, 13462.0, 3993.0, 1293.0, 3202.0, 21042.0, 2661.0, 8713.0, 9794.0, -1000, 6532.0, 28540.0, 2067.0, 3655.0, 3009.0, 14403.0, 11009.0, 1783.0, 4814.0, 92780.0, 32114.0, 8117.0, 4042.0, 5330.0, 1638.0, 2530.0, 32034.0, 2062.0, 11323.0, 6252.0, 8118.0, 610.0, 778.0, 1909.0, 12144.0, 16267.0, 7677.0, 8906.0, 3445.0, 3970.0, 10704.0, 14886.0, 6981.0, 28986.0, 1694.0, 17569.0, 2469.0, 1733.0, 2000.0, 2988.0, 3355.0, 5380.0, 2362.0, 2147.0, 3412.0, 1498.0, 245.0, 8814.0, 2961.0, 7102.0, 1658.0, 10685.0, 3823.0, 1510.0, 699.0, 314.0, 2479.0, 1235.0, 2174.0, 2591.0, 7030.0, 8282.0, 5034.0, 3343.0, 7305.0, 5189.0, 8253.0, 1096.0, 1988.0, 34792.0, 2177.0, 2707.0, 542.0, 1651.0, 1765.0, 2022.0, 3135.0, 2368.0, 137.0, 19460.0, 14855.0, 2474.0, 9618.0, 14682.0, 12822.0, 283.0, 3810.0, 26870.0, 8584.0, 19858.0, 9170.0, 3268.0, 803.0, 2155.0, 13430.0, 19816.0, -1000, 19805.0, 5241.0, 11874.0, 6536.0, 4533.0, 4945.0, 2500.0, 8887.0, 18148.0, 10518.0, 20170.0, 4710.0, 1139.0, 854.0, 9819.0, 11687.0, 11522.0, 1981.0, 1381.0, 2251.0, 20292.0, 2974.0, 5230.0, 4897.0, 10391.0, 6824.0, 2112.0, 23127.0, 24708.0, 9490.0, 2216.0, 5226.0, 23596.0, 950.0, 6089.0, 5838.0, 16767.0, 1393.0, 39694.0, 2062.0, 6861.0, 11364.0, 15538.0, 36486.0, 2046.0, 15205.0, 1390.0, 1382.0, 10646.0, 2856.0, 5265.0, 1499.0, 4157.0, 9212.0, 1563.0, 572.0, 2501.0, 5615.0, 3828.0, 3838.0, 3316.0, 3833.0, 2824.0, 3047.0, 593.0, 585.0, 3779.0, 7041.0, 2475.0, 2914.0, 5119.0, 10817.0, 13916.0, 1777.0, 489.0, 2406.0, 2070.0, 1799.0, 33586.0, 4740.0, 16966.0, 4748.0, 1495.0, 5249.0, 1883.0, 2124.0, 7336.0, 2157.0, 1094.0, 1677.0, 6684.0, 15445.0, 13699.0, 22182.0, 2576.0, 19847.0, 1138.0, 975.0, 1563.0, 6869.0, 1493.0, 1841.0, 223.0, 6964.0, 683.0, 2543.0, 9694.0, 2431.0, 6235.0, 4252.0, 2013.0, 12609.0, 3600.0, 1242.0, 2828.0, 1296.0, 471.0, 2642.0, 3261.0, 4329.0, 12469.0, 6550.0, 5234.0, 3643.0, 6986.0, 9965.0, 2060.0, 6360.0, 20399.0, 9785.0, 13829.0, 24773.0, 8852.0, 21570.0, 2842.0, 3007.0, 13567.0, 2405.0, 8280.0, 19172.0, 2405.0, 7647.0, 11924.0, 2201.0, 6114.0, 3558.0, 17645.0, 2280.0, 5167.0, 3315.0, 11593.0, 2464.0, 13626.0, 1431.0, 1664.0, 3389.0, 4583.0, 5109.0, 26839.0, 1447.0, 67298.0, 2743.0, 10790.0, 1330.0, 2611.0, 7021.0, 5332.0, 9670.0, 11238.0, 5923.0, 26316.0, 1763.0, 8335.0, 15541.0, 12311.0, 2028.0, 20521.0, 1997.0, 22294.0, 1533.0, 21203.0, 2548.0, 2012.0, 218.0, 22272.0, 1660.0, 2109.0, 2006.0, 864.0, 2453.0, 4438.0, 1524.0, 8025.0, 1664.0, 534.0, 2406.0, 683.0, 4955.0, 1939.0, 1641.0, 7398.0, 1668.0, 1162.0, 13586.0, 2648.0, 1902.0, 10391.0, 2146.0, 1617.0, 8469.0, 3450.0, 15400.0, 1614.0, 2857.0, 1573.0, 1172.0, 1422.0, 1328.0, 2313.0, 3600.0, 3842.0, 3204.0, 1263.0, 9345.0, 1428.0, 582.0, 935.0, 1238.0, 2128.0, 5091.0, 4604.0, 3444.0, 1167.0, 5026.0, 18683.0, 6407.0, 6100.0, 4563.0, 3281.0, 12400.0, 6633.0, 3417.0, 8552.0, 10908.0, 11055.0, 18622.0, 2223.0, 13227.0, 9053.0, 4172.0, 4657.0, 12232.0, 2593.0, 14316.0, 5429.0, 4910.0, 3580.0, 16483.0, 5160.0, 4754.0, 1493.0, 7994.0, 16027.0, 764.0, 30243.0, 2232.0, 2510.0]\n"
     ]
    }
   ],
   "source": [
    "missingDataGroceries = []\n",
    "missingIndices = []\n",
    "\n",
    "for r in range(1, without6Vals.nrows):\n",
    "    \n",
    "    if without6Vals.cell_value(r,4) == '':\n",
    "        missingDataGroceries.append(-1000)\n",
    "        missingIndices.append(r)\n",
    "    else:\n",
    "        missingDataGroceries.append(without6Vals.cell_value(r,4))\n",
    "\n",
    "print(missingDataGroceries)\n",
    "#print(len(missingDataGroceries))"
   ]
  },
  {
   "cell_type": "code",
   "execution_count": null,
   "metadata": {
    "collapsed": true
   },
   "outputs": [],
   "source": []
  },
  {
   "cell_type": "code",
   "execution_count": 8,
   "metadata": {
    "collapsed": true
   },
   "outputs": [],
   "source": [
    "reducedMilk = []\n",
    "\n",
    "for i in wholeDataMilk:\n",
    "    reducedMilk.append(i/1000)"
   ]
  },
  {
   "cell_type": "code",
   "execution_count": 9,
   "metadata": {},
   "outputs": [
    {
     "name": "stdout",
     "output_type": "stream",
     "text": [
      "5.796265909090909\n"
     ]
    }
   ],
   "source": [
    "avgReducedMilk = 0\n",
    "\n",
    "for i in reducedMilk:\n",
    "    avgReducedMilk+=i\n",
    "    \n",
    "avgReducedMilk = avgReducedMilk / len(reducedMilk)\n",
    "\n",
    "print(avgReducedMilk)"
   ]
  },
  {
   "cell_type": "code",
   "execution_count": 10,
   "metadata": {},
   "outputs": [
    {
     "name": "stdout",
     "output_type": "stream",
     "text": [
      "7931.870454545455\n"
     ]
    }
   ],
   "source": [
    "avgGroceries = 0\n",
    "\n",
    "for i in missingDataGroceries:\n",
    "    avgGroceries+=i\n",
    "    \n",
    "avgGroceries = avgGroceries / len(missingDataGroceries)\n",
    "\n",
    "print(avgGroceries)"
   ]
  },
  {
   "cell_type": "code",
   "execution_count": 11,
   "metadata": {},
   "outputs": [
    {
     "name": "stdout",
     "output_type": "stream",
     "text": [
      "2\n",
      "[75, 172]\n",
      "[7561.0, 9568.0, 7684.0, 4221.0, 7198.0, 5126.0, 6975.0, 9426.0, 6192.0, 18881.0, 12974.0, 4523.0, 11757.0, 14982.0, 12091.0, 3821.0, 12121.0, 2933.0, 10099.0, 9464.0, 4602.0, 2010.0, 4469.0, 22019.0, 13792.0, 7595.0, 2861.0, 3045.0, 25957.0, 2609.0, 11107.0, 3133.0, 2886.0, 7326.0, 2262.0, 11091.0, 5428.0, 12477.0, 16709.0, 902.0, 4757.0, 5956.0, 14961.0, 23998.0, 10471.0, 21531.0, 21955.0, 55571.0, 10868.0, 28921.0, 1980.0, 6996.0, 5876.0, 11532.0, 1947.0, 5005.0, 26866.0, 10487.0, 1648.0, 8040.0, 7854.0, 59598.0, 6544.0, 15775.0, 3250.0, 45828.0, 7417.0, 13462.0, 3993.0, 1293.0, 3202.0, 21042.0, 2661.0, 8713.0, 9794.0, -1000, 6532.0, 28540.0, 2067.0, 3655.0, 3009.0, 14403.0, 11009.0, 1783.0, 4814.0, 92780.0, 32114.0, 8117.0, 4042.0, 5330.0, 1638.0, 2530.0, 32034.0, 2062.0, 11323.0, 6252.0, 8118.0, 610.0, 778.0, 1909.0, 12144.0, 16267.0, 7677.0, 8906.0, 3445.0, 3970.0, 10704.0, 14886.0, 6981.0, 28986.0, 1694.0, 17569.0, 2469.0, 1733.0, 2000.0, 2988.0, 3355.0, 5380.0, 2362.0, 2147.0, 3412.0, 1498.0, 245.0, 8814.0, 2961.0, 7102.0, 1658.0, 10685.0, 3823.0, 1510.0, 699.0, 314.0, 2479.0, 1235.0, 2174.0, 2591.0, 7030.0, 8282.0, 5034.0, 3343.0, 7305.0, 5189.0, 8253.0, 1096.0, 1988.0, 34792.0, 2177.0, 2707.0, 542.0, 1651.0, 1765.0, 2022.0, 3135.0, 2368.0, 137.0, 19460.0, 14855.0, 2474.0, 9618.0, 14682.0, 12822.0, 283.0, 3810.0, 26870.0, 8584.0, 19858.0, 9170.0, 3268.0, 803.0, 2155.0, 13430.0, 19816.0, -1000, 19805.0, 5241.0, 11874.0, 6536.0, 4533.0, 4945.0, 2500.0, 8887.0, 18148.0, 10518.0, 20170.0, 4710.0, 1139.0, 854.0, 9819.0, 11687.0, 11522.0, 1981.0, 1381.0, 2251.0, 20292.0, 2974.0, 5230.0, 4897.0, 10391.0, 6824.0, 2112.0, 23127.0, 24708.0, 9490.0, 2216.0, 5226.0, 23596.0, 950.0, 6089.0, 5838.0, 16767.0, 1393.0, 39694.0, 2062.0, 6861.0, 11364.0, 15538.0, 36486.0, 2046.0, 15205.0, 1390.0, 1382.0, 10646.0, 2856.0, 5265.0, 1499.0, 4157.0, 9212.0, 1563.0, 572.0, 2501.0, 5615.0, 3828.0, 3838.0, 3316.0, 3833.0, 2824.0, 3047.0, 593.0, 585.0, 3779.0, 7041.0, 2475.0, 2914.0, 5119.0, 10817.0, 13916.0, 1777.0, 489.0, 2406.0, 2070.0, 1799.0, 33586.0, 4740.0, 16966.0, 4748.0, 1495.0, 5249.0, 1883.0, 2124.0, 7336.0, 2157.0, 1094.0, 1677.0, 6684.0, 15445.0, 13699.0, 22182.0, 2576.0, 19847.0, 1138.0, 975.0, 1563.0, 6869.0, 1493.0, 1841.0, 223.0, 6964.0, 683.0, 2543.0, 9694.0, 2431.0, 6235.0, 4252.0, 2013.0, 12609.0, 3600.0, 1242.0, 2828.0, 1296.0, 471.0, 2642.0, 3261.0, 4329.0, 12469.0, 6550.0, 5234.0, 3643.0, 6986.0, 9965.0, 2060.0, 6360.0, 20399.0, 9785.0, 13829.0, 24773.0, 8852.0, 21570.0, 2842.0, 3007.0, 13567.0, 2405.0, 8280.0, 19172.0, 2405.0, 7647.0, 11924.0, 2201.0, 6114.0, 3558.0, 17645.0, 2280.0, 5167.0, 3315.0, 11593.0, 2464.0, 13626.0, 1431.0, 1664.0, 3389.0, 4583.0, 5109.0, 26839.0, 1447.0, 67298.0, 2743.0, 10790.0, 1330.0, 2611.0, 7021.0, 5332.0, 9670.0, 11238.0, 5923.0, 26316.0, 1763.0, 8335.0, 15541.0, 12311.0, 2028.0, 20521.0, 1997.0, 22294.0, 1533.0, 21203.0, 2548.0, 2012.0, 218.0, 22272.0, 1660.0, 2109.0, 2006.0, 864.0, 2453.0, 4438.0, 1524.0, 8025.0, 1664.0, 534.0, 2406.0, 683.0, 4955.0, 1939.0, 1641.0, 7398.0, 1668.0, 1162.0, 13586.0, 2648.0, 1902.0, 10391.0, 2146.0, 1617.0, 8469.0, 3450.0, 15400.0, 1614.0, 2857.0, 1573.0, 1172.0, 1422.0, 1328.0, 2313.0, 3600.0, 3842.0, 3204.0, 1263.0, 9345.0, 1428.0, 582.0, 935.0, 1238.0, 2128.0, 5091.0, 4604.0, 3444.0, 1167.0, 5026.0, 18683.0, 6407.0, 6100.0, 4563.0, 3281.0, 12400.0, 6633.0, 3417.0, 8552.0, 10908.0, 11055.0, 18622.0, 2223.0, 13227.0, 9053.0, 4172.0, 4657.0, 12232.0, 2593.0, 14316.0, 5429.0, 4910.0, 3580.0, 16483.0, 5160.0, 4754.0, 1493.0, 7994.0, 16027.0, 764.0, 30243.0, 2232.0, 2510.0]\n"
     ]
    }
   ],
   "source": [
    "reducedGroceries = []\n",
    "count = 0\n",
    "missingIndices = []\n",
    "\n",
    "for i in range(0, 440):\n",
    "    \n",
    "    if missingDataGroceries[i] == -1000:\n",
    "        count += 1\n",
    "        missingIndices.append(i)\n",
    "    \n",
    "    reducedGroceries.append(missingDataGroceries[i]/1000)\n",
    "\n",
    "print(count)\n",
    "print(missingIndices)\n",
    "print(missingDataGroceries)\n",
    "#print(len(reducedGroceries))"
   ]
  },
  {
   "cell_type": "code",
   "execution_count": 12,
   "metadata": {},
   "outputs": [
    {
     "name": "stdout",
     "output_type": "stream",
     "text": [
      "7.931870454545452\n"
     ]
    }
   ],
   "source": [
    "avgReducedGroceries = 0\n",
    "\n",
    "for i in reducedGroceries:\n",
    "    avgReducedGroceries+=i\n",
    "    \n",
    "avgReducedGroceries = avgReducedGroceries / len(reducedGroceries)\n",
    "\n",
    "print(avgReducedGroceries)"
   ]
  },
  {
   "cell_type": "code",
   "execution_count": 13,
   "metadata": {},
   "outputs": [
    {
     "data": {
      "text/html": [
       "\n",
       "\n",
       "    <div class=\"bk-root\">\n",
       "        <div class=\"bk-plotdiv\" id=\"59e6104a-72ca-49dd-b664-e6af285b2ee1\"></div>\n",
       "    </div>\n",
       "<script type=\"text/javascript\">\n",
       "  \n",
       "  (function(global) {\n",
       "    function now() {\n",
       "      return new Date();\n",
       "    }\n",
       "  \n",
       "    var force = false;\n",
       "  \n",
       "    if (typeof (window._bokeh_onload_callbacks) === \"undefined\" || force === true) {\n",
       "      window._bokeh_onload_callbacks = [];\n",
       "      window._bokeh_is_loading = undefined;\n",
       "    }\n",
       "  \n",
       "  \n",
       "    \n",
       "    if (typeof (window._bokeh_timeout) === \"undefined\" || force === true) {\n",
       "      window._bokeh_timeout = Date.now() + 0;\n",
       "      window._bokeh_failed_load = false;\n",
       "    }\n",
       "  \n",
       "    var NB_LOAD_WARNING = {'data': {'text/html':\n",
       "       \"<div style='background-color: #fdd'>\\n\"+\n",
       "       \"<p>\\n\"+\n",
       "       \"BokehJS does not appear to have successfully loaded. If loading BokehJS from CDN, this \\n\"+\n",
       "       \"may be due to a slow or bad network connection. Possible fixes:\\n\"+\n",
       "       \"</p>\\n\"+\n",
       "       \"<ul>\\n\"+\n",
       "       \"<li>re-rerun `output_notebook()` to attempt to load from CDN again, or</li>\\n\"+\n",
       "       \"<li>use INLINE resources instead, as so:</li>\\n\"+\n",
       "       \"</ul>\\n\"+\n",
       "       \"<code>\\n\"+\n",
       "       \"from bokeh.resources import INLINE\\n\"+\n",
       "       \"output_notebook(resources=INLINE)\\n\"+\n",
       "       \"</code>\\n\"+\n",
       "       \"</div>\"}};\n",
       "  \n",
       "    function display_loaded() {\n",
       "      if (window.Bokeh !== undefined) {\n",
       "        var el = document.getElementById(\"59e6104a-72ca-49dd-b664-e6af285b2ee1\");\n",
       "        el.textContent = \"BokehJS \" + Bokeh.version + \" successfully loaded.\";\n",
       "      } else if (Date.now() < window._bokeh_timeout) {\n",
       "        setTimeout(display_loaded, 100)\n",
       "      }\n",
       "    }\n",
       "  \n",
       "    function run_callbacks() {\n",
       "      window._bokeh_onload_callbacks.forEach(function(callback) { callback() });\n",
       "      delete window._bokeh_onload_callbacks\n",
       "      console.info(\"Bokeh: all callbacks have finished\");\n",
       "    }\n",
       "  \n",
       "    function load_libs(js_urls, callback) {\n",
       "      window._bokeh_onload_callbacks.push(callback);\n",
       "      if (window._bokeh_is_loading > 0) {\n",
       "        console.log(\"Bokeh: BokehJS is being loaded, scheduling callback at\", now());\n",
       "        return null;\n",
       "      }\n",
       "      if (js_urls == null || js_urls.length === 0) {\n",
       "        run_callbacks();\n",
       "        return null;\n",
       "      }\n",
       "      console.log(\"Bokeh: BokehJS not loaded, scheduling load and callback at\", now());\n",
       "      window._bokeh_is_loading = js_urls.length;\n",
       "      for (var i = 0; i < js_urls.length; i++) {\n",
       "        var url = js_urls[i];\n",
       "        var s = document.createElement('script');\n",
       "        s.src = url;\n",
       "        s.async = false;\n",
       "        s.onreadystatechange = s.onload = function() {\n",
       "          window._bokeh_is_loading--;\n",
       "          if (window._bokeh_is_loading === 0) {\n",
       "            console.log(\"Bokeh: all BokehJS libraries loaded\");\n",
       "            run_callbacks()\n",
       "          }\n",
       "        };\n",
       "        s.onerror = function() {\n",
       "          console.warn(\"failed to load library \" + url);\n",
       "        };\n",
       "        console.log(\"Bokeh: injecting script tag for BokehJS library: \", url);\n",
       "        document.getElementsByTagName(\"head\")[0].appendChild(s);\n",
       "      }\n",
       "    };var element = document.getElementById(\"59e6104a-72ca-49dd-b664-e6af285b2ee1\");\n",
       "    if (element == null) {\n",
       "      console.log(\"Bokeh: ERROR: autoload.js configured with elementid '59e6104a-72ca-49dd-b664-e6af285b2ee1' but no matching script tag was found. \")\n",
       "      return false;\n",
       "    }\n",
       "  \n",
       "    var js_urls = [];\n",
       "  \n",
       "    var inline_js = [\n",
       "      function(Bokeh) {\n",
       "        (function() {\n",
       "          var fn = function() {\n",
       "            var docs_json = {\"ed67111f-06d9-4719-afde-c13e44375a2f\":{\"roots\":{\"references\":[{\"attributes\":{\"fill_alpha\":{\"value\":0.5},\"fill_color\":{\"value\":\"orange\"},\"line_color\":{\"value\":\"navy\"},\"x\":{\"field\":\"x\"},\"y\":{\"field\":\"y\"}},\"id\":\"18a1c151-465f-4ba0-9556-17ffab5b9336\",\"type\":\"Circle\"},{\"attributes\":{\"plot\":{\"id\":\"e8505c77-bd94-4de5-9718-6a76f01b8b5f\",\"subtype\":\"Figure\",\"type\":\"Plot\"}},\"id\":\"5df358d4-a511-47c3-8033-f21a8acd6730\",\"type\":\"SaveTool\"},{\"attributes\":{},\"id\":\"5cc1ff0a-848e-4f78-8371-ca82cb16a176\",\"type\":\"BasicTicker\"},{\"attributes\":{\"plot\":{\"id\":\"e8505c77-bd94-4de5-9718-6a76f01b8b5f\",\"subtype\":\"Figure\",\"type\":\"Plot\"}},\"id\":\"cf0514a5-fa75-47e2-856a-57ac8e72b758\",\"type\":\"ResetTool\"},{\"attributes\":{\"axis_label\":\"Milk / 1000\",\"formatter\":{\"id\":\"1d4ddfd4-6158-495f-8c3c-66367a30e1b8\",\"type\":\"BasicTickFormatter\"},\"plot\":{\"id\":\"e8505c77-bd94-4de5-9718-6a76f01b8b5f\",\"subtype\":\"Figure\",\"type\":\"Plot\"},\"ticker\":{\"id\":\"7eaae80b-5e9b-41fa-9910-97442a489e32\",\"type\":\"BasicTicker\"}},\"id\":\"5978c202-ea9b-4640-b1b8-79ce793e5131\",\"type\":\"LinearAxis\"},{\"attributes\":{\"active_drag\":\"auto\",\"active_scroll\":\"auto\",\"active_tap\":\"auto\",\"tools\":[{\"id\":\"749e673e-d451-4a9a-b35a-6522d72ace9d\",\"type\":\"PanTool\"},{\"id\":\"230d6159-b6f0-482b-914b-3e13503f28df\",\"type\":\"WheelZoomTool\"},{\"id\":\"cfb8352b-2aba-4e4a-9f77-42c228a97665\",\"type\":\"BoxZoomTool\"},{\"id\":\"5df358d4-a511-47c3-8033-f21a8acd6730\",\"type\":\"SaveTool\"},{\"id\":\"cf0514a5-fa75-47e2-856a-57ac8e72b758\",\"type\":\"ResetTool\"},{\"id\":\"a8b441ec-afc7-49cd-8b0e-1754ea5e8a24\",\"type\":\"HelpTool\"}]},\"id\":\"53490c59-8174-4793-9923-a081be2ee3bd\",\"type\":\"Toolbar\"},{\"attributes\":{},\"id\":\"9c2915c9-1a24-419b-9232-5669d50a5efc\",\"type\":\"ToolEvents\"},{\"attributes\":{\"plot\":{\"id\":\"e8505c77-bd94-4de5-9718-6a76f01b8b5f\",\"subtype\":\"Figure\",\"type\":\"Plot\"}},\"id\":\"749e673e-d451-4a9a-b35a-6522d72ace9d\",\"type\":\"PanTool\"},{\"attributes\":{\"callback\":null},\"id\":\"287ae917-d6e4-4aca-a001-d350cfc45fdb\",\"type\":\"DataRange1d\"},{\"attributes\":{\"data_source\":{\"id\":\"f84d9c19-802c-408c-b395-23b76692d888\",\"type\":\"ColumnDataSource\"},\"glyph\":{\"id\":\"18a1c151-465f-4ba0-9556-17ffab5b9336\",\"type\":\"Circle\"},\"hover_glyph\":null,\"muted_glyph\":null,\"nonselection_glyph\":{\"id\":\"2b77f05a-8f37-4fe7-bbf3-7aea7ffe30b4\",\"type\":\"Circle\"},\"selection_glyph\":null},\"id\":\"8f4058df-65d1-49aa-ac92-05fb803cf110\",\"type\":\"GlyphRenderer\"},{\"attributes\":{\"plot\":null,\"text\":\"US Employment Rates after 1991\"},\"id\":\"f6645718-8b68-48eb-973e-82b6fce7176b\",\"type\":\"Title\"},{\"attributes\":{\"overlay\":{\"id\":\"0c292c80-37e8-458a-9cab-dfed54c0dc46\",\"type\":\"BoxAnnotation\"},\"plot\":{\"id\":\"e8505c77-bd94-4de5-9718-6a76f01b8b5f\",\"subtype\":\"Figure\",\"type\":\"Plot\"}},\"id\":\"cfb8352b-2aba-4e4a-9f77-42c228a97665\",\"type\":\"BoxZoomTool\"},{\"attributes\":{\"bottom_units\":\"screen\",\"fill_alpha\":{\"value\":0.5},\"fill_color\":{\"value\":\"lightgrey\"},\"left_units\":\"screen\",\"level\":\"overlay\",\"line_alpha\":{\"value\":1.0},\"line_color\":{\"value\":\"black\"},\"line_dash\":[4,4],\"line_width\":{\"value\":2},\"plot\":null,\"render_mode\":\"css\",\"right_units\":\"screen\",\"top_units\":\"screen\"},\"id\":\"0c292c80-37e8-458a-9cab-dfed54c0dc46\",\"type\":\"BoxAnnotation\"},{\"attributes\":{},\"id\":\"1d4ddfd4-6158-495f-8c3c-66367a30e1b8\",\"type\":\"BasicTickFormatter\"},{\"attributes\":{\"below\":[{\"id\":\"5978c202-ea9b-4640-b1b8-79ce793e5131\",\"type\":\"LinearAxis\"}],\"left\":[{\"id\":\"80e3b7c8-18f7-4f8e-aacb-c52411859d43\",\"type\":\"LinearAxis\"}],\"plot_height\":400,\"plot_width\":400,\"renderers\":[{\"id\":\"5978c202-ea9b-4640-b1b8-79ce793e5131\",\"type\":\"LinearAxis\"},{\"id\":\"7a5ab147-bb83-4616-ad60-2e1fb27af8bf\",\"type\":\"Grid\"},{\"id\":\"80e3b7c8-18f7-4f8e-aacb-c52411859d43\",\"type\":\"LinearAxis\"},{\"id\":\"96b22a33-28fc-4e3d-8bd2-fa155f570d88\",\"type\":\"Grid\"},{\"id\":\"0c292c80-37e8-458a-9cab-dfed54c0dc46\",\"type\":\"BoxAnnotation\"},{\"id\":\"8f4058df-65d1-49aa-ac92-05fb803cf110\",\"type\":\"GlyphRenderer\"}],\"title\":{\"id\":\"f6645718-8b68-48eb-973e-82b6fce7176b\",\"type\":\"Title\"},\"tool_events\":{\"id\":\"9c2915c9-1a24-419b-9232-5669d50a5efc\",\"type\":\"ToolEvents\"},\"toolbar\":{\"id\":\"53490c59-8174-4793-9923-a081be2ee3bd\",\"type\":\"Toolbar\"},\"x_range\":{\"id\":\"287ae917-d6e4-4aca-a001-d350cfc45fdb\",\"type\":\"DataRange1d\"},\"y_range\":{\"id\":\"2c9d3a1e-c3ca-4baa-9c1d-6c3929188b25\",\"type\":\"DataRange1d\"}},\"id\":\"e8505c77-bd94-4de5-9718-6a76f01b8b5f\",\"subtype\":\"Figure\",\"type\":\"Plot\"},{\"attributes\":{\"fill_alpha\":{\"value\":0.1},\"fill_color\":{\"value\":\"#1f77b4\"},\"line_alpha\":{\"value\":0.1},\"line_color\":{\"value\":\"#1f77b4\"},\"x\":{\"field\":\"x\"},\"y\":{\"field\":\"y\"}},\"id\":\"2b77f05a-8f37-4fe7-bbf3-7aea7ffe30b4\",\"type\":\"Circle\"},{\"attributes\":{\"plot\":{\"id\":\"e8505c77-bd94-4de5-9718-6a76f01b8b5f\",\"subtype\":\"Figure\",\"type\":\"Plot\"}},\"id\":\"230d6159-b6f0-482b-914b-3e13503f28df\",\"type\":\"WheelZoomTool\"},{\"attributes\":{},\"id\":\"7eaae80b-5e9b-41fa-9910-97442a489e32\",\"type\":\"BasicTicker\"},{\"attributes\":{\"plot\":{\"id\":\"e8505c77-bd94-4de5-9718-6a76f01b8b5f\",\"subtype\":\"Figure\",\"type\":\"Plot\"},\"ticker\":{\"id\":\"7eaae80b-5e9b-41fa-9910-97442a489e32\",\"type\":\"BasicTicker\"}},\"id\":\"7a5ab147-bb83-4616-ad60-2e1fb27af8bf\",\"type\":\"Grid\"},{\"attributes\":{\"callback\":null},\"id\":\"2c9d3a1e-c3ca-4baa-9c1d-6c3929188b25\",\"type\":\"DataRange1d\"},{\"attributes\":{\"axis_label\":\"Groceries / 1000\",\"formatter\":{\"id\":\"54d62cdd-5fcc-4c31-8fa5-a652addfb5aa\",\"type\":\"BasicTickFormatter\"},\"plot\":{\"id\":\"e8505c77-bd94-4de5-9718-6a76f01b8b5f\",\"subtype\":\"Figure\",\"type\":\"Plot\"},\"ticker\":{\"id\":\"5cc1ff0a-848e-4f78-8371-ca82cb16a176\",\"type\":\"BasicTicker\"}},\"id\":\"80e3b7c8-18f7-4f8e-aacb-c52411859d43\",\"type\":\"LinearAxis\"},{\"attributes\":{\"dimension\":1,\"plot\":{\"id\":\"e8505c77-bd94-4de5-9718-6a76f01b8b5f\",\"subtype\":\"Figure\",\"type\":\"Plot\"},\"ticker\":{\"id\":\"5cc1ff0a-848e-4f78-8371-ca82cb16a176\",\"type\":\"BasicTicker\"}},\"id\":\"96b22a33-28fc-4e3d-8bd2-fa155f570d88\",\"type\":\"Grid\"},{\"attributes\":{},\"id\":\"54d62cdd-5fcc-4c31-8fa5-a652addfb5aa\",\"type\":\"BasicTickFormatter\"},{\"attributes\":{\"callback\":null,\"column_names\":[\"x\",\"y\"],\"data\":{\"x\":[9.656,9.81,8.808,1.196,5.41,8.259,3.199,4.956,3.648,11.093,5.403,1.124,12.319,6.208,9.465,1.114,8.816,6.157,6.327,2.495,4.519,0.871,1.917,36.423,9.776,4.23,0.961,0.803,20.484,2.1,3.61,4.339,1.318,4.786,1.979,5.491,4.362,10.556,15.729,0.555,4.332,3.065,7.555,11.095,7.027,22.044,14.069,54.259,6.152,21.412,1.095,4.051,3.916,10.473,1.449,3.683,29.892,9.933,1.97,5.36,3.045,38.369,6.245,11.601,1.227,20.959,1.534,6.759,7.26,2.82,2.037,1.266,5.139,5.332,6.343,1.137,3.587,12.697,1.175,3.259,0.829,9.54,9.232,1.563,3.327,46.197,73.498,5.025,0.542,3.836,0.596,2.762,27.472,3.09,12.22,2.92,2.616,0.254,0.112,2.182,7.779,10.81,6.459,3.504,2.132,1.014,6.337,10.646,8.397,16.729,1.648,11.114,2.77,2.295,1.08,0.793,2.521,3.88,1.891,2.344,1.2,3.234,0.201,10.769,1.642,3.473,1.84,7.243,8.847,0.926,2.428,0.589,2.032,1.042,1.882,1.289,8.579,8.08,4.257,4.979,4.28,13.252,7.152,1.596,3.677,8.384,1.936,3.373,0.584,1.433,1.825,3.328,1.371,9.25,0.055,10.69,5.291,1.366,6.57,7.704,3.651,0.54,2.024,15.726,7.603,12.653,6.721,3.195,0.735,0.717,8.675,25.862,5.479,7.677,1.208,7.845,6.958,7.33,7.075,4.888,6.036,29.627,8.533,43.95,0.918,6.448,0.521,8.002,7.639,11.577,6.25,0.295,1.461,3.485,1.012,5.139,7.209,7.097,2.154,2.28,13.24,14.399,11.487,0.685,0.891,11.711,0.78,4.737,3.748,12.729,1.895,28.326,1.012,6.602,6.551,10.765,16.599,1.475,7.504,0.367,0.899,7.503,1.115,2.527,0.659,3.243,5.921,2.204,0.577,2.746,5.989,10.678,1.78,4.984,2.703,6.38,0.82,3.838,0.475,2.567,3.575,1.801,0.659,3.576,7.775,6.154,2.428,0.346,5.279,3.795,1.993,23.133,1.86,7.961,17.972,0.489,5.008,1.931,4.563,4.959,4.885,1.11,1.372,1.115,9.679,23.527,9.763,1.222,8.053,0.258,1.032,5.007,8.323,3.045,1.703,1.61,3.749,0.829,2.317,6.2,2.884,7.108,3.965,3.613,4.411,0.64,2.247,2.102,0.594,0.286,2.16,3.354,3.086,11.103,2.013,1.897,1.304,3.199,4.56,0.879,6.243,13.316,5.302,3.688,7.46,12.939,12.867,2.374,1.02,20.655,1.492,2.335,3.737,0.925,1.795,14.982,1.375,3.088,2.713,25.071,3.696,1.897,0.713,0.944,3.587,16.784,1.61,0.899,2.209,1.486,1.786,14.881,3.216,4.98,0.928,6.817,1.511,1.347,0.333,1.188,4.025,5.763,5.758,6.964,1.172,2.602,6.939,7.184,2.38,14.641,1.099,10.044,1.106,6.264,7.393,0.727,0.134,1.275,18.664,5.878,2.872,0.607,1.601,0.997,0.873,6.128,2.217,0.894,1.196,0.337,3.944,1.887,3.801,6.257,2.256,1.45,8.63,3.154,3.294,5.164,0.944,4.591,7.435,1.364,21.858,0.922,3.62,1.916,0.848,1.53,1.181,2.761,4.18,6.73,0.865,1.316,11.991,1.666,1.032,0.577,0.906,2.801,4.753,11.006,4.613,1.046,5.01,12.844,3.88,3.634,2.096,3.289,3.605,4.859,1.99,6.046,10.94,5.499,8.494,3.783,5.266,4.847,1.377,3.686,2.884,2.408,9.347,16.687,5.97,1.75,4.23,5.506,1.162,3.218,3.922,12.051,1.431,15.488,1.981,1.698],\"y\":[7.561,9.568,7.684,4.221,7.198,5.126,6.975,9.426,6.192,18.881,12.974,4.523,11.757,14.982,12.091,3.821,12.121,2.933,10.099,9.464,4.602,2.01,4.469,22.019,13.792,7.595,2.861,3.045,25.957,2.609,11.107,3.133,2.886,7.326,2.262,11.091,5.428,12.477,16.709,0.902,4.757,5.956,14.961,23.998,10.471,21.531,21.955,55.571,10.868,28.921,1.98,6.996,5.876,11.532,1.947,5.005,26.866,10.487,1.648,8.04,7.854,59.598,6.544,15.775,3.25,45.828,7.417,13.462,3.993,1.293,3.202,21.042,2.661,8.713,9.794,-1.0,6.532,28.54,2.067,3.655,3.009,14.403,11.009,1.783,4.814,92.78,32.114,8.117,4.042,5.33,1.638,2.53,32.034,2.062,11.323,6.252,8.118,0.61,0.778,1.909,12.144,16.267,7.677,8.906,3.445,3.97,10.704,14.886,6.981,28.986,1.694,17.569,2.469,1.733,2.0,2.988,3.355,5.38,2.362,2.147,3.412,1.498,0.245,8.814,2.961,7.102,1.658,10.685,3.823,1.51,0.699,0.314,2.479,1.235,2.174,2.591,7.03,8.282,5.034,3.343,7.305,5.189,8.253,1.096,1.988,34.792,2.177,2.707,0.542,1.651,1.765,2.022,3.135,2.368,0.137,19.46,14.855,2.474,9.618,14.682,12.822,0.283,3.81,26.87,8.584,19.858,9.17,3.268,0.803,2.155,13.43,19.816,-1.0,19.805,5.241,11.874,6.536,4.533,4.945,2.5,8.887,18.148,10.518,20.17,4.71,1.139,0.854,9.819,11.687,11.522,1.981,1.381,2.251,20.292,2.974,5.23,4.897,10.391,6.824,2.112,23.127,24.708,9.49,2.216,5.226,23.596,0.95,6.089,5.838,16.767,1.393,39.694,2.062,6.861,11.364,15.538,36.486,2.046,15.205,1.39,1.382,10.646,2.856,5.265,1.499,4.157,9.212,1.563,0.572,2.501,5.615,3.828,3.838,3.316,3.833,2.824,3.047,0.593,0.585,3.779,7.041,2.475,2.914,5.119,10.817,13.916,1.777,0.489,2.406,2.07,1.799,33.586,4.74,16.966,4.748,1.495,5.249,1.883,2.124,7.336,2.157,1.094,1.677,6.684,15.445,13.699,22.182,2.576,19.847,1.138,0.975,1.563,6.869,1.493,1.841,0.223,6.964,0.683,2.543,9.694,2.431,6.235,4.252,2.013,12.609,3.6,1.242,2.828,1.296,0.471,2.642,3.261,4.329,12.469,6.55,5.234,3.643,6.986,9.965,2.06,6.36,20.399,9.785,13.829,24.773,8.852,21.57,2.842,3.007,13.567,2.405,8.28,19.172,2.405,7.647,11.924,2.201,6.114,3.558,17.645,2.28,5.167,3.315,11.593,2.464,13.626,1.431,1.664,3.389,4.583,5.109,26.839,1.447,67.298,2.743,10.79,1.33,2.611,7.021,5.332,9.67,11.238,5.923,26.316,1.763,8.335,15.541,12.311,2.028,20.521,1.997,22.294,1.533,21.203,2.548,2.012,0.218,22.272,1.66,2.109,2.006,0.864,2.453,4.438,1.524,8.025,1.664,0.534,2.406,0.683,4.955,1.939,1.641,7.398,1.668,1.162,13.586,2.648,1.902,10.391,2.146,1.617,8.469,3.45,15.4,1.614,2.857,1.573,1.172,1.422,1.328,2.313,3.6,3.842,3.204,1.263,9.345,1.428,0.582,0.935,1.238,2.128,5.091,4.604,3.444,1.167,5.026,18.683,6.407,6.1,4.563,3.281,12.4,6.633,3.417,8.552,10.908,11.055,18.622,2.223,13.227,9.053,4.172,4.657,12.232,2.593,14.316,5.429,4.91,3.58,16.483,5.16,4.754,1.493,7.994,16.027,0.764,30.243,2.232,2.51]}},\"id\":\"f84d9c19-802c-408c-b395-23b76692d888\",\"type\":\"ColumnDataSource\"},{\"attributes\":{\"plot\":{\"id\":\"e8505c77-bd94-4de5-9718-6a76f01b8b5f\",\"subtype\":\"Figure\",\"type\":\"Plot\"}},\"id\":\"a8b441ec-afc7-49cd-8b0e-1754ea5e8a24\",\"type\":\"HelpTool\"}],\"root_ids\":[\"e8505c77-bd94-4de5-9718-6a76f01b8b5f\"]},\"title\":\"Bokeh Application\",\"version\":\"0.12.5\"}};\n",
       "            var render_items = [{\"docid\":\"ed67111f-06d9-4719-afde-c13e44375a2f\",\"elementid\":\"59e6104a-72ca-49dd-b664-e6af285b2ee1\",\"modelid\":\"e8505c77-bd94-4de5-9718-6a76f01b8b5f\"}];\n",
       "            \n",
       "            Bokeh.embed.embed_items(docs_json, render_items);\n",
       "          };\n",
       "          if (document.readyState != \"loading\") fn();\n",
       "          else document.addEventListener(\"DOMContentLoaded\", fn);\n",
       "        })();\n",
       "      },\n",
       "      function(Bokeh) {\n",
       "      }\n",
       "    ];\n",
       "  \n",
       "    function run_inline_js() {\n",
       "      \n",
       "      if ((window.Bokeh !== undefined) || (force === true)) {\n",
       "        for (var i = 0; i < inline_js.length; i++) {\n",
       "          inline_js[i](window.Bokeh);\n",
       "        }if (force === true) {\n",
       "          display_loaded();\n",
       "        }} else if (Date.now() < window._bokeh_timeout) {\n",
       "        setTimeout(run_inline_js, 100);\n",
       "      } else if (!window._bokeh_failed_load) {\n",
       "        console.log(\"Bokeh: BokehJS failed to load within specified timeout.\");\n",
       "        window._bokeh_failed_load = true;\n",
       "      } else if (force !== true) {\n",
       "        var cell = $(document.getElementById(\"59e6104a-72ca-49dd-b664-e6af285b2ee1\")).parents('.cell').data().cell;\n",
       "        cell.output_area.append_execute_result(NB_LOAD_WARNING)\n",
       "      }\n",
       "  \n",
       "    }\n",
       "  \n",
       "    if (window._bokeh_is_loading === 0) {\n",
       "      console.log(\"Bokeh: BokehJS loaded, going straight to plotting\");\n",
       "      run_inline_js();\n",
       "    } else {\n",
       "      load_libs(js_urls, function() {\n",
       "        console.log(\"Bokeh: BokehJS plotting callback run at\", now());\n",
       "        run_inline_js();\n",
       "      });\n",
       "    }\n",
       "  }(this));\n",
       "</script>"
      ]
     },
     "metadata": {},
     "output_type": "display_data"
    }
   ],
   "source": [
    "p = figure(plot_width=400, plot_height=400, title=\"US Employment Rates after 1991\")\n",
    "\n",
    "p.circle(reducedMilk, reducedGroceries, line_color=\"navy\", fill_color=\"orange\", fill_alpha=0.5)\n",
    "\n",
    "p.xaxis.axis_label = \"Milk / 1000\"\n",
    "p.yaxis.axis_label = \"Groceries / 1000\"\n",
    "\n",
    "show(p)"
   ]
  },
  {
   "cell_type": "code",
   "execution_count": 14,
   "metadata": {},
   "outputs": [
    {
     "name": "stdout",
     "output_type": "stream",
     "text": [
      "Slope for reducedMilk vs reducedGroceries is =  0.9381183866348403\n"
     ]
    }
   ],
   "source": [
    "reducedMilkVSreducedGroceriesSlopeNumerator = 0\n",
    "reducedMilkVSreducedGroceriesSlopeDenominator = 0\n",
    "\n",
    "for i in range(0, 440):\n",
    "    reducedMilkVSreducedGroceriesSlopeNumerator += (reducedMilk[i] - avgReducedMilk)*(reducedGroceries[i] - avgReducedGroceries)\n",
    "    reducedMilkVSreducedGroceriesSlopeDenominator += math.pow((reducedMilk[i] - avgReducedMilk),2)\n",
    "\n",
    "reducedMilkVSreducedGroceriesSlope = reducedMilkVSreducedGroceriesSlopeNumerator / reducedMilkVSreducedGroceriesSlopeDenominator\n",
    "print(\"Slope for reducedMilk vs reducedGroceries is = \",reducedMilkVSreducedGroceriesSlope)"
   ]
  },
  {
   "cell_type": "code",
   "execution_count": 15,
   "metadata": {},
   "outputs": [
    {
     "name": "stdout",
     "output_type": "stream",
     "text": [
      "Intercept for reducedMilk vs reducedGroceries is =  0.5386315704152784\n"
     ]
    }
   ],
   "source": [
    "reducedMilkVSreducedGroceriesIntercept = reducedGroceries[220] - (reducedMilkVSreducedGroceriesSlope*reducedMilk[220])\n",
    "print(\"Intercept for reducedMilk vs reducedGroceries is = \", reducedMilkVSreducedGroceriesIntercept)"
   ]
  },
  {
   "cell_type": "code",
   "execution_count": 16,
   "metadata": {
    "collapsed": true
   },
   "outputs": [],
   "source": [
    "def findReducedGroceries(reducedMilkNum):\n",
    "    reducedGroceriesEstimate = reducedMilkVSreducedGroceriesIntercept + (reducedMilkVSreducedGroceriesSlope*reducedMilkNum)\n",
    "    return reducedGroceriesEstimate"
   ]
  },
  {
   "cell_type": "code",
   "execution_count": 17,
   "metadata": {},
   "outputs": [
    {
     "name": "stdout",
     "output_type": "stream",
     "text": [
      "[1605.2721760190918, 5678.582210787568]\n",
      "[3.0, 6536.0]\n"
     ]
    }
   ],
   "source": [
    "reducedGroceriesPredictions = []\n",
    "\n",
    "for i in reducedMilk:\n",
    "    reducedGroceriesPredictions.append(findReducedGroceries(i))\n",
    "    \n",
    "    \n",
    "groceriesPredictions = []\n",
    "missingValuePredictions = []\n",
    "correctValues= []\n",
    "\n",
    "for i in range(0, 440):\n",
    "    if i in missingIndices:\n",
    "        missingValuePredictions.append(reducedGroceriesPredictions[i]*1000)\n",
    "        correctValues.append(wholeDataGroceries[i])\n",
    "        \n",
    "    groceriesPredictions.append(reducedGroceriesPredictions[i]*1000)\n",
    "    \n",
    "print(missingValuePredictions)\n",
    "print(correctValues)"
   ]
  },
  {
   "cell_type": "code",
   "execution_count": 18,
   "metadata": {},
   "outputs": [
    {
     "name": "stdout",
     "output_type": "stream",
     "text": [
      "MSE for reducedMilk vs reducedGroceries is =  46207622.62749244\n"
     ]
    }
   ],
   "source": [
    "MilkVSGroceriesMSE = 0\n",
    "\n",
    "for i in range(0, 440):\n",
    "    diffSquared = math.pow(groceriesPredictions[i] - wholeDataGroceries[i], 2)\n",
    "    MilkVSGroceriesMSE += diffSquared\n",
    "\n",
    "MilkVSGroceriesMSE = MilkVSGroceriesMSE / 440\n",
    "print(\"MSE for reducedMilk vs reducedGroceries is = \", MilkVSGroceriesMSE)"
   ]
  },
  {
   "cell_type": "code",
   "execution_count": 19,
   "metadata": {},
   "outputs": [
    {
     "data": {
      "text/html": [
       "\n",
       "\n",
       "    <div class=\"bk-root\">\n",
       "        <div class=\"bk-plotdiv\" id=\"f7ab5e8f-ba29-4847-899e-34dbeb53f6e7\"></div>\n",
       "    </div>\n",
       "<script type=\"text/javascript\">\n",
       "  \n",
       "  (function(global) {\n",
       "    function now() {\n",
       "      return new Date();\n",
       "    }\n",
       "  \n",
       "    var force = false;\n",
       "  \n",
       "    if (typeof (window._bokeh_onload_callbacks) === \"undefined\" || force === true) {\n",
       "      window._bokeh_onload_callbacks = [];\n",
       "      window._bokeh_is_loading = undefined;\n",
       "    }\n",
       "  \n",
       "  \n",
       "    \n",
       "    if (typeof (window._bokeh_timeout) === \"undefined\" || force === true) {\n",
       "      window._bokeh_timeout = Date.now() + 0;\n",
       "      window._bokeh_failed_load = false;\n",
       "    }\n",
       "  \n",
       "    var NB_LOAD_WARNING = {'data': {'text/html':\n",
       "       \"<div style='background-color: #fdd'>\\n\"+\n",
       "       \"<p>\\n\"+\n",
       "       \"BokehJS does not appear to have successfully loaded. If loading BokehJS from CDN, this \\n\"+\n",
       "       \"may be due to a slow or bad network connection. Possible fixes:\\n\"+\n",
       "       \"</p>\\n\"+\n",
       "       \"<ul>\\n\"+\n",
       "       \"<li>re-rerun `output_notebook()` to attempt to load from CDN again, or</li>\\n\"+\n",
       "       \"<li>use INLINE resources instead, as so:</li>\\n\"+\n",
       "       \"</ul>\\n\"+\n",
       "       \"<code>\\n\"+\n",
       "       \"from bokeh.resources import INLINE\\n\"+\n",
       "       \"output_notebook(resources=INLINE)\\n\"+\n",
       "       \"</code>\\n\"+\n",
       "       \"</div>\"}};\n",
       "  \n",
       "    function display_loaded() {\n",
       "      if (window.Bokeh !== undefined) {\n",
       "        var el = document.getElementById(\"f7ab5e8f-ba29-4847-899e-34dbeb53f6e7\");\n",
       "        el.textContent = \"BokehJS \" + Bokeh.version + \" successfully loaded.\";\n",
       "      } else if (Date.now() < window._bokeh_timeout) {\n",
       "        setTimeout(display_loaded, 100)\n",
       "      }\n",
       "    }\n",
       "  \n",
       "    function run_callbacks() {\n",
       "      window._bokeh_onload_callbacks.forEach(function(callback) { callback() });\n",
       "      delete window._bokeh_onload_callbacks\n",
       "      console.info(\"Bokeh: all callbacks have finished\");\n",
       "    }\n",
       "  \n",
       "    function load_libs(js_urls, callback) {\n",
       "      window._bokeh_onload_callbacks.push(callback);\n",
       "      if (window._bokeh_is_loading > 0) {\n",
       "        console.log(\"Bokeh: BokehJS is being loaded, scheduling callback at\", now());\n",
       "        return null;\n",
       "      }\n",
       "      if (js_urls == null || js_urls.length === 0) {\n",
       "        run_callbacks();\n",
       "        return null;\n",
       "      }\n",
       "      console.log(\"Bokeh: BokehJS not loaded, scheduling load and callback at\", now());\n",
       "      window._bokeh_is_loading = js_urls.length;\n",
       "      for (var i = 0; i < js_urls.length; i++) {\n",
       "        var url = js_urls[i];\n",
       "        var s = document.createElement('script');\n",
       "        s.src = url;\n",
       "        s.async = false;\n",
       "        s.onreadystatechange = s.onload = function() {\n",
       "          window._bokeh_is_loading--;\n",
       "          if (window._bokeh_is_loading === 0) {\n",
       "            console.log(\"Bokeh: all BokehJS libraries loaded\");\n",
       "            run_callbacks()\n",
       "          }\n",
       "        };\n",
       "        s.onerror = function() {\n",
       "          console.warn(\"failed to load library \" + url);\n",
       "        };\n",
       "        console.log(\"Bokeh: injecting script tag for BokehJS library: \", url);\n",
       "        document.getElementsByTagName(\"head\")[0].appendChild(s);\n",
       "      }\n",
       "    };var element = document.getElementById(\"f7ab5e8f-ba29-4847-899e-34dbeb53f6e7\");\n",
       "    if (element == null) {\n",
       "      console.log(\"Bokeh: ERROR: autoload.js configured with elementid 'f7ab5e8f-ba29-4847-899e-34dbeb53f6e7' but no matching script tag was found. \")\n",
       "      return false;\n",
       "    }\n",
       "  \n",
       "    var js_urls = [];\n",
       "  \n",
       "    var inline_js = [\n",
       "      function(Bokeh) {\n",
       "        (function() {\n",
       "          var fn = function() {\n",
       "            var docs_json = {\"e06fab5a-3ac0-4687-b433-20381810b030\":{\"roots\":{\"references\":[{\"attributes\":{},\"id\":\"54bcd071-c97e-4d99-b500-815671b5c138\",\"type\":\"BasicTicker\"},{\"attributes\":{\"plot\":{\"id\":\"81f9be61-6596-4eb7-ac0d-af8a0f2bc904\",\"subtype\":\"Figure\",\"type\":\"Plot\"}},\"id\":\"187d7ff6-9e74-4798-b32a-a1c60f99c912\",\"type\":\"SaveTool\"},{\"attributes\":{\"plot\":{\"id\":\"81f9be61-6596-4eb7-ac0d-af8a0f2bc904\",\"subtype\":\"Figure\",\"type\":\"Plot\"}},\"id\":\"5756336e-7ccb-4a5c-a49c-daf682429183\",\"type\":\"WheelZoomTool\"},{\"attributes\":{\"plot\":{\"id\":\"81f9be61-6596-4eb7-ac0d-af8a0f2bc904\",\"subtype\":\"Figure\",\"type\":\"Plot\"},\"ticker\":{\"id\":\"7eea6326-3a2b-4f30-b612-63cb464e21d0\",\"type\":\"BasicTicker\"}},\"id\":\"51276086-7c93-45eb-8072-bf74cf773110\",\"type\":\"Grid\"},{\"attributes\":{\"active_drag\":\"auto\",\"active_scroll\":\"auto\",\"active_tap\":\"auto\",\"tools\":[{\"id\":\"6b1a3436-c61a-47ad-87d4-b5ddba55e38a\",\"type\":\"PanTool\"},{\"id\":\"5756336e-7ccb-4a5c-a49c-daf682429183\",\"type\":\"WheelZoomTool\"},{\"id\":\"1adc8c11-83e0-4d02-896b-87159c0a10c2\",\"type\":\"BoxZoomTool\"},{\"id\":\"187d7ff6-9e74-4798-b32a-a1c60f99c912\",\"type\":\"SaveTool\"},{\"id\":\"e0672ca5-85fb-474f-8761-8afe62f8b031\",\"type\":\"ResetTool\"},{\"id\":\"3157bf15-9826-4c65-9be7-fceba4b0ed63\",\"type\":\"HelpTool\"}]},\"id\":\"2486fb95-940a-413c-a87c-c3d9fedda3f2\",\"type\":\"Toolbar\"},{\"attributes\":{},\"id\":\"c4424b0e-6c2d-48e1-b8f5-65f72246fd79\",\"type\":\"ToolEvents\"},{\"attributes\":{\"axis_label\":\"Groceries Prediction\",\"formatter\":{\"id\":\"93032977-d3c4-4ea9-9049-1a077316450f\",\"type\":\"BasicTickFormatter\"},\"plot\":{\"id\":\"81f9be61-6596-4eb7-ac0d-af8a0f2bc904\",\"subtype\":\"Figure\",\"type\":\"Plot\"},\"ticker\":{\"id\":\"54bcd071-c97e-4d99-b500-815671b5c138\",\"type\":\"BasicTicker\"}},\"id\":\"e65adb94-f00e-4720-988a-dc387ee5b7eb\",\"type\":\"LinearAxis\"},{\"attributes\":{\"axis_label\":\"Milk\",\"formatter\":{\"id\":\"170ece54-7694-4793-9640-39dc77e5ab2a\",\"type\":\"BasicTickFormatter\"},\"plot\":{\"id\":\"81f9be61-6596-4eb7-ac0d-af8a0f2bc904\",\"subtype\":\"Figure\",\"type\":\"Plot\"},\"ticker\":{\"id\":\"7eea6326-3a2b-4f30-b612-63cb464e21d0\",\"type\":\"BasicTicker\"}},\"id\":\"b7758d61-7429-48e2-8e71-a600f42b87f1\",\"type\":\"LinearAxis\"},{\"attributes\":{\"callback\":null},\"id\":\"b943e994-1846-4a20-b417-b26a49690b1a\",\"type\":\"DataRange1d\"},{\"attributes\":{\"callback\":null},\"id\":\"53a2337c-e5f2-46a2-96cc-28bef3c7f0a5\",\"type\":\"DataRange1d\"},{\"attributes\":{\"plot\":null,\"text\":\"US Employment Rates after 1991\"},\"id\":\"35c5996f-d6e7-445e-b600-6ee210395371\",\"type\":\"Title\"},{\"attributes\":{\"callback\":null,\"column_names\":[\"x\",\"y\"],\"data\":{\"x\":[9656.0,9810.0,8808.0,1196.0,5410.0,8259.0,3199.0,4956.0,3648.0,11093.0,5403.0,1124.0,12319.0,6208.0,9465.0,1114.0,8816.0,6157.0,6327.0,2495.0,4519.0,871.0,1917.0,36423.0,9776.0,4230.0,961.0,803.0,20484.0,2100.0,3610.0,4339.0,1318.0,4786.0,1979.0,5491.0,4362.0,10556.0,15729.0,555.0,4332.0,3065.0,7555.0,11095.0,7027.0,22044.0,14069.0,54259.0,6152.0,21412.0,1095.0,4051.0,3916.0,10473.0,1449.0,3683.0,29892.0,9933.0,1970.0,5360.0,3045.0,38369.0,6245.0,11601.0,1227.0,20959.0,1534.0,6759.0,7260.0,2820.0,2037.0,1266.0,5139.0,5332.0,6343.0,1137.0,3587.0,12697.0,1175.0,3259.0,829.0,9540.0,9232.0,1563.0,3327.0,46197.0,73498.0,5025.0,542.0,3836.0,596.0,2762.0,27472.0,3090.0,12220.0,2920.0,2616.0,254.0,112.0,2182.0,7779.0,10810.0,6459.0,3504.0,2132.0,1014.0,6337.0,10646.0,8397.0,16729.0,1648.0,11114.0,2770.0,2295.0,1080.0,793.0,2521.0,3880.0,1891.0,2344.0,1200.0,3234.0,201.0,10769.0,1642.0,3473.0,1840.0,7243.0,8847.0,926.0,2428.0,589.0,2032.0,1042.0,1882.0,1289.0,8579.0,8080.0,4257.0,4979.0,4280.0,13252.0,7152.0,1596.0,3677.0,8384.0,1936.0,3373.0,584.0,1433.0,1825.0,3328.0,1371.0,9250.0,55.0,10690.0,5291.0,1366.0,6570.0,7704.0,3651.0,540.0,2024.0,15726.0,7603.0,12653.0,6721.0,3195.0,735.0,717.0,8675.0,25862.0,5479.0,7677.0,1208.0,7845.0,6958.0,7330.0,7075.0,4888.0,6036.0,29627.0,8533.0,43950.0,918.0,6448.0,521.0,8002.0,7639.0,11577.0,6250.0,295.0,1461.0,3485.0,1012.0,5139.0,7209.0,7097.0,2154.0,2280.0,13240.0,14399.0,11487.0,685.0,891.0,11711.0,780.0,4737.0,3748.0,12729.0,1895.0,28326.0,1012.0,6602.0,6551.0,10765.0,16599.0,1475.0,7504.0,367.0,899.0,7503.0,1115.0,2527.0,659.0,3243.0,5921.0,2204.0,577.0,2746.0,5989.0,10678.0,1780.0,4984.0,2703.0,6380.0,820.0,3838.0,475.0,2567.0,3575.0,1801.0,659.0,3576.0,7775.0,6154.0,2428.0,346.0,5279.0,3795.0,1993.0,23133.0,1860.0,7961.0,17972.0,489.0,5008.0,1931.0,4563.0,4959.0,4885.0,1110.0,1372.0,1115.0,9679.0,23527.0,9763.0,1222.0,8053.0,258.0,1032.0,5007.0,8323.0,3045.0,1703.0,1610.0,3749.0,829.0,2317.0,6200.0,2884.0,7108.0,3965.0,3613.0,4411.0,640.0,2247.0,2102.0,594.0,286.0,2160.0,3354.0,3086.0,11103.0,2013.0,1897.0,1304.0,3199.0,4560.0,879.0,6243.0,13316.0,5302.0,3688.0,7460.0,12939.0,12867.0,2374.0,1020.0,20655.0,1492.0,2335.0,3737.0,925.0,1795.0,14982.0,1375.0,3088.0,2713.0,25071.0,3696.0,1897.0,713.0,944.0,3587.0,16784.0,1610.0,899.0,2209.0,1486.0,1786.0,14881.0,3216.0,4980.0,928.0,6817.0,1511.0,1347.0,333.0,1188.0,4025.0,5763.0,5758.0,6964.0,1172.0,2602.0,6939.0,7184.0,2380.0,14641.0,1099.0,10044.0,1106.0,6264.0,7393.0,727.0,134.0,1275.0,18664.0,5878.0,2872.0,607.0,1601.0,997.0,873.0,6128.0,2217.0,894.0,1196.0,337.0,3944.0,1887.0,3801.0,6257.0,2256.0,1450.0,8630.0,3154.0,3294.0,5164.0,944.0,4591.0,7435.0,1364.0,21858.0,922.0,3620.0,1916.0,848.0,1530.0,1181.0,2761.0,4180.0,6730.0,865.0,1316.0,11991.0,1666.0,1032.0,577.0,906.0,2801.0,4753.0,11006.0,4613.0,1046.0,5010.0,12844.0,3880.0,3634.0,2096.0,3289.0,3605.0,4859.0,1990.0,6046.0,10940.0,5499.0,8494.0,3783.0,5266.0,4847.0,1377.0,3686.0,2884.0,2408.0,9347.0,16687.0,5970.0,1750.0,4230.0,5506.0,1162.0,3218.0,3922.0,12051.0,1431.0,15488.0,1981.0,1698.0],\"y\":[9597.102711761296,9741.572943303063,8801.57831989495,1660.6211608305473,5613.852042109765,8286.551325632425,3539.672289260133,5187.946294577547,3960.887444859176,10945.178833355561,5607.28521340332,1593.076636992839,12095.311975369876,6362.470514644367,9417.92209991404,1583.6954531264905,8809.083266988031,6314.62647692599,6474.106602653913,2879.236945069205,4777.988559618121,1355.7326851742241,2337.0045175942673,34707.71756681606,9709.676918157476,4506.8723458806535,1440.16333997136,1291.9406348830553,19755.04860224335,2508.680182348443,3925.2389461670514,4609.12725002385,1775.071603999998,5028.4661688496235,2395.1678575656274,5689.839631427186,4630.703972916452,10441.40925973265,15294.29567379468,1059.2872749976148,4602.5604213174065,3413.9644254510636,7626.115981441497,10947.055070128832,7130.789473298301,21218.5132853937,13737.019151980845,51439.99711083507,6309.935884992816,20625.62246504048,1565.8712037804285,4338.949154673016,4212.303172477313,10363.545433641963,1897.9651126491622,3993.721588391395,28580.866383703924,9856.961504859146,2386.724792085914,5566.946122778022,3395.202057718367,36533.295947207465,6397.180894949856,11421.742973766062,1689.7028308162273,20200.654835894897,1977.7051755131233,6879.373745680164,7349.371057384218,3184.125420725528,2449.578723990448,1726.289447894986,5359.621959331722,5540.678807952247,6489.11649684007,1605.2721760190918,3903.6622232744503,12449.920725517844,1640.9206747112157,3595.9593924582227,1316.331712935561,9488.280978911653,9199.340515828122,2004.9106087255336,3659.7514427493916,43876.886677785,69488.45675130276,5252.67646325535,1047.091735971362,4137.253701546525,1097.7501288496433,3129.7145543007073,26310.61988804761,3437.417385116935,12002.438255093028,3277.937259389012,2992.7492698520205,776.9136406205279,643.7008297183805,2585.6058900524995,7836.2545000477,10679.691329937901,6597.938229689711,3825.7983971837584,2538.6999707207583,1489.8836144630066,6483.487786520261,10525.839914529788,8416.011662988032,16232.414060429519,2084.6506715894952,10964.879319474894,3137.2195013937862,2691.6132677422365,1551.7994279809059,1282.5594510167066,2903.62802312171,4178.530910558458,2312.6134395417616,2737.581068687344,1664.3736343770868,3572.506432792352,727.1933661288813,10641.228476085873,2079.021961269686,3796.716727198079,2264.7694018233847,7333.423044811427,8838.16493697371,1407.3291964391406,2816.3830131646705,1091.1833001431992,2444.888132057274,1516.150929288782,2304.170374062048,1747.8661707875876,8586.749209355574,8118.628134424789,4532.201542319794,5209.523017470148,4553.778265212394,12970.576430100182,7248.054271627656,2035.8685154844834,3988.0928780715863,8403.81612396178,2354.8287669403294,3702.9048885345946,1086.492708210025,1882.9552184630045,2250.6976260238616,3660.689561136027,1824.7918784916444,9216.22664678755,590.2280816801946,10567.11712354172,5502.215954100218,1820.1012865584703,6702.069370606179,7765.895621050087,3963.7018000190797,1045.2154991980922,2437.383184964195,15291.481318634776,7671.145663999969,12408.643516505914,6843.7252469880395,3535.9198157135925,1228.148584591886,1211.2624536324588,8676.80857447252,24800.24928556552,5678.582210787568,7740.566424610946,1671.8785814701653,7898.1703135656,7066.059304620497,7415.039344448657,7175.819155856773,5124.154244286377,6201.114152143174,28332.26501124569,8543.595763570369,41768.93466301651,1399.8242493460618,6587.618927436728,1027.3912498520303,8045.454900267272,7704.917925918823,11399.228132486824,6401.871486883029,815.3764944725564,1909.2225332887801,3807.9741478376964,1488.0073776897368,5359.621959331722,7301.527019665841,7196.4577603627395,2559.3385752267245,2677.541491942714,12959.319009460563,14046.598219570342,11314.79747768969,1181.242665260144,1374.495052906921,11524.935996295893,1270.363911990454,4982.498367904516,4054.6992835226597,12479.94051389016,2316.3659130883007,27111.772990233767,1488.0073776897368,6732.089158978493,6684.245121260117,10637.476002539333,16110.458670166992,1922.3561907016679,7578.271943723119,882.9210183102648,1382.0,7577.333825336485,1584.6335715131252,2909.25673344152,1156.8515872076382,3580.949498272065,6093.230537680167,2606.2444945584666,1079.9258795035814,3114.7046601145494,6157.022587971336,10555.859702902102,2208.4822986252943,5214.213609403322,3074.3655694892514,6523.826877145559,1307.8886474558474,4139.129938319796,984.2378040668276,2946.7814689069137,3892.4048026348323,2228.1827847446257,1156.8515872076382,3893.3429210214676,7832.502026501162,6311.812121766085,2816.3830131646705,863.2205321909332,5490.9585334606,4098.790847694497,2408.301514978515,22240.12420843904,2283.5317695560816,8006.992046415242,17398.495215016632,997.3714614797153,5236.728450682558,2350.138175007155,4819.2657686300545,5190.760649737451,5121.339889126472,1579.942979579951,1825.7299968782795,1584.6335715131252,9618.679434653897,22609.742852773168,9697.481379131224,1685.0122388830532,8093.298937985647,780.6661141670672,1506.7697454224335,5235.790332295923,8346.590902377055,3395.202057718367,2136.2471828544117,2049.002172897371,4055.637401909295,1316.331712935561,2712.2518722482037,6354.965567551288,3244.1649974701577,7206.777062615723,4258.27097342242,3928.0533013269564,4676.671773861559,1139.0273378615761,2646.583585183764,2510.5564191217127,1095.8738920763735,806.9334289928427,2564.9672855465333,3685.0806391885326,3433.6649115703954,10954.56001722191,2427.063882711212,2318.2421498615704,1761.9379465871102,3539.672289260133,4816.451413470149,1363.237632267303,6395.304658176587,13030.616006844812,5512.535256353201,3998.4121803245694,7536.9947347111865,12676.945375083476,12609.400851245768,2765.724620286389,1495.5123247828155,19915.466846357904,1938.3042032744602,2729.1380032076304,4044.379981269676,1406.3910780525057,2222.5540744248165,14593.521238978454,1828.544352038184,3435.541148343665,3083.7467533555996,24058.197641737363,4005.9171274176483,2318.2421498615704,1207.5099800859196,1424.2153273985675,3903.6622232744503,16284.010571694438,2049.002172897371,1382.0,2610.935086491641,1932.675492954651,2214.111008945103,14498.771281928337,3555.620301832925,5210.461135856784,1409.2054332124103,6933.784612104984,1956.128452620522,1802.2770372124082,851.0249931646803,1653.1162137374686,4314.55807662051,5945.007832591862,5940.317240658689,7071.688014940306,1638.1063195513113,2979.615612439133,7048.235055274435,7278.074059999971,2771.353330606198,14273.622869135976,1569.623677326968,9961.092645775616,1576.1905060334118,6415.005144295918,7474.140802806653,1220.6436374988075,664.3394342243471,1734.7325133746997,18047.67313856794,6052.89144705487,3232.9075768305397,1108.0694311026264,2040.559107417658,1473.935601890214,1357.6089219474939,6287.42104371358,2618.4400335847195,1377.3094080668257,1660.6211608305473,854.7774667112195,4238.570487303089,2308.8609659952217,4104.419558014307,6408.438315589473,2655.026650663478,1898.9032310357968,8634.593247073952,3497.456961861564,3628.7935359904423,5383.074918997593,1424.2153273985675,4845.53308345583,7513.541775045315,1818.2250497852006,21044.02326547962,1403.576722892601,3934.6201300334005,2336.066399207632,1334.1559622816228,1973.952701966584,1646.549385031025,3128.776435914072,4459.966426548911,6852.168312467754,1350.1039748544154,1773.1953672267282,11787.609144553648,2101.5368025489224,1506.7697454224335,1079.9258795035814,1388.5668287064439,3166.301171379466,4997.508262090674,10863.56253371833,4866.171687961796,1519.9034028353212,5238.604687455828,12587.824128353166,4178.530910558458,3947.7537874462882,2504.927708801904,3624.1029440572684,3920.548354233878,5096.948811073968,2405.4871598186105,6210.495336009522,10801.646720200431,5697.344578520265,8507.009146491611,4087.533427054879,5478.762994434347,5085.691390434349,1830.4205888114536,3996.5359435513,3244.1649974701577,2797.620645431974,9307.22413029113,16193.013088190859,6139.198338625274,2180.3387470262487,4506.8723458806535,5703.911407226709,1628.7251356849629,3557.496538606195,4217.931882797122,11843.896247751738,1881.078981689735,15068.209142615684,2397.0440943388967,2131.556590921237]}},\"id\":\"7d4961a7-1a48-441b-8cf9-b7c0d6713256\",\"type\":\"ColumnDataSource\"},{\"attributes\":{\"fill_alpha\":{\"value\":0.5},\"fill_color\":{\"value\":\"orange\"},\"line_color\":{\"value\":\"navy\"},\"x\":{\"field\":\"x\"},\"y\":{\"field\":\"y\"}},\"id\":\"a4bd661a-373e-4c21-942c-fa3f9469d1b2\",\"type\":\"Circle\"},{\"attributes\":{\"bottom_units\":\"screen\",\"fill_alpha\":{\"value\":0.5},\"fill_color\":{\"value\":\"lightgrey\"},\"left_units\":\"screen\",\"level\":\"overlay\",\"line_alpha\":{\"value\":1.0},\"line_color\":{\"value\":\"black\"},\"line_dash\":[4,4],\"line_width\":{\"value\":2},\"plot\":null,\"render_mode\":\"css\",\"right_units\":\"screen\",\"top_units\":\"screen\"},\"id\":\"064505d4-5863-49ea-a83e-0a1ea32d7c3f\",\"type\":\"BoxAnnotation\"},{\"attributes\":{\"data_source\":{\"id\":\"7d4961a7-1a48-441b-8cf9-b7c0d6713256\",\"type\":\"ColumnDataSource\"},\"glyph\":{\"id\":\"a4bd661a-373e-4c21-942c-fa3f9469d1b2\",\"type\":\"Circle\"},\"hover_glyph\":null,\"muted_glyph\":null,\"nonselection_glyph\":{\"id\":\"1c6e1aa5-aec4-4564-a192-d5bd3ef0463e\",\"type\":\"Circle\"},\"selection_glyph\":null},\"id\":\"0b906219-e692-42e4-82d2-aa65bf600583\",\"type\":\"GlyphRenderer\"},{\"attributes\":{},\"id\":\"7eea6326-3a2b-4f30-b612-63cb464e21d0\",\"type\":\"BasicTicker\"},{\"attributes\":{\"below\":[{\"id\":\"b7758d61-7429-48e2-8e71-a600f42b87f1\",\"type\":\"LinearAxis\"}],\"left\":[{\"id\":\"e65adb94-f00e-4720-988a-dc387ee5b7eb\",\"type\":\"LinearAxis\"}],\"plot_height\":400,\"plot_width\":400,\"renderers\":[{\"id\":\"b7758d61-7429-48e2-8e71-a600f42b87f1\",\"type\":\"LinearAxis\"},{\"id\":\"51276086-7c93-45eb-8072-bf74cf773110\",\"type\":\"Grid\"},{\"id\":\"e65adb94-f00e-4720-988a-dc387ee5b7eb\",\"type\":\"LinearAxis\"},{\"id\":\"b5ce26d2-c3be-4f13-8440-adedcf6ac35b\",\"type\":\"Grid\"},{\"id\":\"064505d4-5863-49ea-a83e-0a1ea32d7c3f\",\"type\":\"BoxAnnotation\"},{\"id\":\"0b906219-e692-42e4-82d2-aa65bf600583\",\"type\":\"GlyphRenderer\"}],\"title\":{\"id\":\"35c5996f-d6e7-445e-b600-6ee210395371\",\"type\":\"Title\"},\"tool_events\":{\"id\":\"c4424b0e-6c2d-48e1-b8f5-65f72246fd79\",\"type\":\"ToolEvents\"},\"toolbar\":{\"id\":\"2486fb95-940a-413c-a87c-c3d9fedda3f2\",\"type\":\"Toolbar\"},\"x_range\":{\"id\":\"b943e994-1846-4a20-b417-b26a49690b1a\",\"type\":\"DataRange1d\"},\"y_range\":{\"id\":\"53a2337c-e5f2-46a2-96cc-28bef3c7f0a5\",\"type\":\"DataRange1d\"}},\"id\":\"81f9be61-6596-4eb7-ac0d-af8a0f2bc904\",\"subtype\":\"Figure\",\"type\":\"Plot\"},{\"attributes\":{\"overlay\":{\"id\":\"064505d4-5863-49ea-a83e-0a1ea32d7c3f\",\"type\":\"BoxAnnotation\"},\"plot\":{\"id\":\"81f9be61-6596-4eb7-ac0d-af8a0f2bc904\",\"subtype\":\"Figure\",\"type\":\"Plot\"}},\"id\":\"1adc8c11-83e0-4d02-896b-87159c0a10c2\",\"type\":\"BoxZoomTool\"},{\"attributes\":{},\"id\":\"170ece54-7694-4793-9640-39dc77e5ab2a\",\"type\":\"BasicTickFormatter\"},{\"attributes\":{\"plot\":{\"id\":\"81f9be61-6596-4eb7-ac0d-af8a0f2bc904\",\"subtype\":\"Figure\",\"type\":\"Plot\"}},\"id\":\"6b1a3436-c61a-47ad-87d4-b5ddba55e38a\",\"type\":\"PanTool\"},{\"attributes\":{},\"id\":\"93032977-d3c4-4ea9-9049-1a077316450f\",\"type\":\"BasicTickFormatter\"},{\"attributes\":{\"fill_alpha\":{\"value\":0.1},\"fill_color\":{\"value\":\"#1f77b4\"},\"line_alpha\":{\"value\":0.1},\"line_color\":{\"value\":\"#1f77b4\"},\"x\":{\"field\":\"x\"},\"y\":{\"field\":\"y\"}},\"id\":\"1c6e1aa5-aec4-4564-a192-d5bd3ef0463e\",\"type\":\"Circle\"},{\"attributes\":{\"plot\":{\"id\":\"81f9be61-6596-4eb7-ac0d-af8a0f2bc904\",\"subtype\":\"Figure\",\"type\":\"Plot\"}},\"id\":\"e0672ca5-85fb-474f-8761-8afe62f8b031\",\"type\":\"ResetTool\"},{\"attributes\":{\"plot\":{\"id\":\"81f9be61-6596-4eb7-ac0d-af8a0f2bc904\",\"subtype\":\"Figure\",\"type\":\"Plot\"}},\"id\":\"3157bf15-9826-4c65-9be7-fceba4b0ed63\",\"type\":\"HelpTool\"},{\"attributes\":{\"dimension\":1,\"plot\":{\"id\":\"81f9be61-6596-4eb7-ac0d-af8a0f2bc904\",\"subtype\":\"Figure\",\"type\":\"Plot\"},\"ticker\":{\"id\":\"54bcd071-c97e-4d99-b500-815671b5c138\",\"type\":\"BasicTicker\"}},\"id\":\"b5ce26d2-c3be-4f13-8440-adedcf6ac35b\",\"type\":\"Grid\"}],\"root_ids\":[\"81f9be61-6596-4eb7-ac0d-af8a0f2bc904\"]},\"title\":\"Bokeh Application\",\"version\":\"0.12.5\"}};\n",
       "            var render_items = [{\"docid\":\"e06fab5a-3ac0-4687-b433-20381810b030\",\"elementid\":\"f7ab5e8f-ba29-4847-899e-34dbeb53f6e7\",\"modelid\":\"81f9be61-6596-4eb7-ac0d-af8a0f2bc904\"}];\n",
       "            \n",
       "            Bokeh.embed.embed_items(docs_json, render_items);\n",
       "          };\n",
       "          if (document.readyState != \"loading\") fn();\n",
       "          else document.addEventListener(\"DOMContentLoaded\", fn);\n",
       "        })();\n",
       "      },\n",
       "      function(Bokeh) {\n",
       "      }\n",
       "    ];\n",
       "  \n",
       "    function run_inline_js() {\n",
       "      \n",
       "      if ((window.Bokeh !== undefined) || (force === true)) {\n",
       "        for (var i = 0; i < inline_js.length; i++) {\n",
       "          inline_js[i](window.Bokeh);\n",
       "        }if (force === true) {\n",
       "          display_loaded();\n",
       "        }} else if (Date.now() < window._bokeh_timeout) {\n",
       "        setTimeout(run_inline_js, 100);\n",
       "      } else if (!window._bokeh_failed_load) {\n",
       "        console.log(\"Bokeh: BokehJS failed to load within specified timeout.\");\n",
       "        window._bokeh_failed_load = true;\n",
       "      } else if (force !== true) {\n",
       "        var cell = $(document.getElementById(\"f7ab5e8f-ba29-4847-899e-34dbeb53f6e7\")).parents('.cell').data().cell;\n",
       "        cell.output_area.append_execute_result(NB_LOAD_WARNING)\n",
       "      }\n",
       "  \n",
       "    }\n",
       "  \n",
       "    if (window._bokeh_is_loading === 0) {\n",
       "      console.log(\"Bokeh: BokehJS loaded, going straight to plotting\");\n",
       "      run_inline_js();\n",
       "    } else {\n",
       "      load_libs(js_urls, function() {\n",
       "        console.log(\"Bokeh: BokehJS plotting callback run at\", now());\n",
       "        run_inline_js();\n",
       "      });\n",
       "    }\n",
       "  }(this));\n",
       "</script>"
      ]
     },
     "metadata": {},
     "output_type": "display_data"
    }
   ],
   "source": [
    "p = figure(plot_width=400, plot_height=400, title=\"US Employment Rates after 1991\")\n",
    "\n",
    "p.circle(wholeDataMilk, groceriesPredictions, line_color=\"navy\", fill_color=\"orange\", fill_alpha=0.5)\n",
    "\n",
    "p.xaxis.axis_label = \"Milk\"\n",
    "p.yaxis.axis_label = \"Groceries Prediction\"\n",
    "\n",
    "show(p)"
   ]
  },
  {
   "cell_type": "code",
   "execution_count": null,
   "metadata": {
    "collapsed": true
   },
   "outputs": [],
   "source": []
  }
 ],
 "metadata": {
  "kernelspec": {
   "display_name": "Python 3",
   "language": "python",
   "name": "python3"
  },
  "language_info": {
   "codemirror_mode": {
    "name": "ipython",
    "version": 3
   },
   "file_extension": ".py",
   "mimetype": "text/x-python",
   "name": "python",
   "nbconvert_exporter": "python",
   "pygments_lexer": "ipython3",
   "version": "3.6.1"
  }
 },
 "nbformat": 4,
 "nbformat_minor": 2
}
