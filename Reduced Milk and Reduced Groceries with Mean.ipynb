{
 "cells": [
  {
   "cell_type": "code",
   "execution_count": 2,
   "metadata": {},
   "outputs": [
    {
     "data": {
      "text/html": [
       "\n",
       "    <div class=\"bk-root\">\n",
       "        <a href=\"http://bokeh.pydata.org\" target=\"_blank\" class=\"bk-logo bk-logo-small bk-logo-notebook\"></a>\n",
       "        <span id=\"5b401154-7cf3-43f9-a06f-836729d9125c\">Loading BokehJS ...</span>\n",
       "    </div>"
      ]
     },
     "metadata": {},
     "output_type": "display_data"
    },
    {
     "data": {
      "application/javascript": [
       "\n",
       "(function(global) {\n",
       "  function now() {\n",
       "    return new Date();\n",
       "  }\n",
       "\n",
       "  var force = true;\n",
       "\n",
       "  if (typeof (window._bokeh_onload_callbacks) === \"undefined\" || force === true) {\n",
       "    window._bokeh_onload_callbacks = [];\n",
       "    window._bokeh_is_loading = undefined;\n",
       "  }\n",
       "\n",
       "\n",
       "  \n",
       "  if (typeof (window._bokeh_timeout) === \"undefined\" || force === true) {\n",
       "    window._bokeh_timeout = Date.now() + 5000;\n",
       "    window._bokeh_failed_load = false;\n",
       "  }\n",
       "\n",
       "  var NB_LOAD_WARNING = {'data': {'text/html':\n",
       "     \"<div style='background-color: #fdd'>\\n\"+\n",
       "     \"<p>\\n\"+\n",
       "     \"BokehJS does not appear to have successfully loaded. If loading BokehJS from CDN, this \\n\"+\n",
       "     \"may be due to a slow or bad network connection. Possible fixes:\\n\"+\n",
       "     \"</p>\\n\"+\n",
       "     \"<ul>\\n\"+\n",
       "     \"<li>re-rerun `output_notebook()` to attempt to load from CDN again, or</li>\\n\"+\n",
       "     \"<li>use INLINE resources instead, as so:</li>\\n\"+\n",
       "     \"</ul>\\n\"+\n",
       "     \"<code>\\n\"+\n",
       "     \"from bokeh.resources import INLINE\\n\"+\n",
       "     \"output_notebook(resources=INLINE)\\n\"+\n",
       "     \"</code>\\n\"+\n",
       "     \"</div>\"}};\n",
       "\n",
       "  function display_loaded() {\n",
       "    if (window.Bokeh !== undefined) {\n",
       "      var el = document.getElementById(\"5b401154-7cf3-43f9-a06f-836729d9125c\");\n",
       "      el.textContent = \"BokehJS \" + Bokeh.version + \" successfully loaded.\";\n",
       "    } else if (Date.now() < window._bokeh_timeout) {\n",
       "      setTimeout(display_loaded, 100)\n",
       "    }\n",
       "  }\n",
       "\n",
       "  function run_callbacks() {\n",
       "    window._bokeh_onload_callbacks.forEach(function(callback) { callback() });\n",
       "    delete window._bokeh_onload_callbacks\n",
       "    console.info(\"Bokeh: all callbacks have finished\");\n",
       "  }\n",
       "\n",
       "  function load_libs(js_urls, callback) {\n",
       "    window._bokeh_onload_callbacks.push(callback);\n",
       "    if (window._bokeh_is_loading > 0) {\n",
       "      console.log(\"Bokeh: BokehJS is being loaded, scheduling callback at\", now());\n",
       "      return null;\n",
       "    }\n",
       "    if (js_urls == null || js_urls.length === 0) {\n",
       "      run_callbacks();\n",
       "      return null;\n",
       "    }\n",
       "    console.log(\"Bokeh: BokehJS not loaded, scheduling load and callback at\", now());\n",
       "    window._bokeh_is_loading = js_urls.length;\n",
       "    for (var i = 0; i < js_urls.length; i++) {\n",
       "      var url = js_urls[i];\n",
       "      var s = document.createElement('script');\n",
       "      s.src = url;\n",
       "      s.async = false;\n",
       "      s.onreadystatechange = s.onload = function() {\n",
       "        window._bokeh_is_loading--;\n",
       "        if (window._bokeh_is_loading === 0) {\n",
       "          console.log(\"Bokeh: all BokehJS libraries loaded\");\n",
       "          run_callbacks()\n",
       "        }\n",
       "      };\n",
       "      s.onerror = function() {\n",
       "        console.warn(\"failed to load library \" + url);\n",
       "      };\n",
       "      console.log(\"Bokeh: injecting script tag for BokehJS library: \", url);\n",
       "      document.getElementsByTagName(\"head\")[0].appendChild(s);\n",
       "    }\n",
       "  };var element = document.getElementById(\"5b401154-7cf3-43f9-a06f-836729d9125c\");\n",
       "  if (element == null) {\n",
       "    console.log(\"Bokeh: ERROR: autoload.js configured with elementid '5b401154-7cf3-43f9-a06f-836729d9125c' but no matching script tag was found. \")\n",
       "    return false;\n",
       "  }\n",
       "\n",
       "  var js_urls = [\"https://cdn.pydata.org/bokeh/release/bokeh-0.12.5.min.js\", \"https://cdn.pydata.org/bokeh/release/bokeh-widgets-0.12.5.min.js\"];\n",
       "\n",
       "  var inline_js = [\n",
       "    function(Bokeh) {\n",
       "      Bokeh.set_log_level(\"info\");\n",
       "    },\n",
       "    \n",
       "    function(Bokeh) {\n",
       "      \n",
       "    },\n",
       "    \n",
       "    function(Bokeh) {\n",
       "      \n",
       "      document.getElementById(\"5b401154-7cf3-43f9-a06f-836729d9125c\").textContent = \"BokehJS is loading...\";\n",
       "    },\n",
       "    function(Bokeh) {\n",
       "      console.log(\"Bokeh: injecting CSS: https://cdn.pydata.org/bokeh/release/bokeh-0.12.5.min.css\");\n",
       "      Bokeh.embed.inject_css(\"https://cdn.pydata.org/bokeh/release/bokeh-0.12.5.min.css\");\n",
       "      console.log(\"Bokeh: injecting CSS: https://cdn.pydata.org/bokeh/release/bokeh-widgets-0.12.5.min.css\");\n",
       "      Bokeh.embed.inject_css(\"https://cdn.pydata.org/bokeh/release/bokeh-widgets-0.12.5.min.css\");\n",
       "    }\n",
       "  ];\n",
       "\n",
       "  function run_inline_js() {\n",
       "    \n",
       "    if ((window.Bokeh !== undefined) || (force === true)) {\n",
       "      for (var i = 0; i < inline_js.length; i++) {\n",
       "        inline_js[i](window.Bokeh);\n",
       "      }if (force === true) {\n",
       "        display_loaded();\n",
       "      }} else if (Date.now() < window._bokeh_timeout) {\n",
       "      setTimeout(run_inline_js, 100);\n",
       "    } else if (!window._bokeh_failed_load) {\n",
       "      console.log(\"Bokeh: BokehJS failed to load within specified timeout.\");\n",
       "      window._bokeh_failed_load = true;\n",
       "    } else if (force !== true) {\n",
       "      var cell = $(document.getElementById(\"5b401154-7cf3-43f9-a06f-836729d9125c\")).parents('.cell').data().cell;\n",
       "      cell.output_area.append_execute_result(NB_LOAD_WARNING)\n",
       "    }\n",
       "\n",
       "  }\n",
       "\n",
       "  if (window._bokeh_is_loading === 0) {\n",
       "    console.log(\"Bokeh: BokehJS loaded, going straight to plotting\");\n",
       "    run_inline_js();\n",
       "  } else {\n",
       "    load_libs(js_urls, function() {\n",
       "      console.log(\"Bokeh: BokehJS plotting callback run at\", now());\n",
       "      run_inline_js();\n",
       "    });\n",
       "  }\n",
       "}(this));"
      ]
     },
     "metadata": {},
     "output_type": "display_data"
    }
   ],
   "source": [
    "from bokeh.io import output_notebook, show\n",
    "from bokeh.plotting import figure\n",
    "from bokeh.models import HoverTool\n",
    "import math\n",
    "output_notebook()"
   ]
  },
  {
   "cell_type": "code",
   "execution_count": 3,
   "metadata": {
    "collapsed": true
   },
   "outputs": [],
   "source": [
    "import xlrd\n",
    "file_location = \"C:/Users/Sandeep/Desktop/CollegeCourses/GRAD_SCHOOL/CS_690V_Visual_Analytics/HW/HW2/Wholesale customers data.xlsx\"\n",
    "with6ValuesFile = xlrd.open_workbook(file_location)\n",
    "with6Vals = with6ValuesFile.sheet_by_index(0)\n",
    "\n",
    "file_location = \"C:/Users/Sandeep/Desktop/CollegeCourses/GRAD_SCHOOL/CS_690V_Visual_Analytics/HW/HW2/Wholesale customers data-missing.xlsx\"\n",
    "without6ValuesFile = xlrd.open_workbook(file_location)\n",
    "without6Vals = without6ValuesFile.sheet_by_index(0)"
   ]
  },
  {
   "cell_type": "code",
   "execution_count": 4,
   "metadata": {
    "collapsed": true
   },
   "outputs": [],
   "source": [
    "wholeDataMilk = []\n",
    "\n",
    "for r in range(1, with6Vals.nrows):\n",
    "    wholeDataMilk.append(with6Vals.cell_value(r,3))\n",
    "\n",
    "#print(wholeDataMilk)\n",
    "#print(len(wholeDataMilk))"
   ]
  },
  {
   "cell_type": "code",
   "execution_count": 5,
   "metadata": {
    "collapsed": true
   },
   "outputs": [],
   "source": [
    "missingDataMilk = []\n",
    "\n",
    "for r in range(1, without6Vals.nrows):\n",
    "    \n",
    "    if without6Vals.cell_value(r,3) == '':\n",
    "        missingDataMilk.append(\"EMPTY SLOT\")\n",
    "    else:\n",
    "        missingDataMilk.append(without6Vals.cell_value(r,3))\n",
    "\n",
    "#print(missingDataMilk)\n",
    "#print(len(missingDataMilk))"
   ]
  },
  {
   "cell_type": "code",
   "execution_count": 6,
   "metadata": {
    "collapsed": true
   },
   "outputs": [],
   "source": [
    "wholeDataGroceries = []\n",
    "\n",
    "for r in range(1, with6Vals.nrows):\n",
    "    wholeDataGroceries.append(with6Vals.cell_value(r,4))\n",
    "\n",
    "#print(wholeDataGroceries)\n",
    "#print(len(wholeDataGroceries))"
   ]
  },
  {
   "cell_type": "code",
   "execution_count": 7,
   "metadata": {},
   "outputs": [
    {
     "name": "stdout",
     "output_type": "stream",
     "text": [
      "[7561.0, 9568.0, 7684.0, 4221.0, 7198.0, 5126.0, 6975.0, 9426.0, 6192.0, 18881.0, 12974.0, 4523.0, 11757.0, 14982.0, 12091.0, 3821.0, 12121.0, 2933.0, 10099.0, 9464.0, 4602.0, 2010.0, 4469.0, 22019.0, 13792.0, 7595.0, 2861.0, 3045.0, 25957.0, 2609.0, 11107.0, 3133.0, 2886.0, 7326.0, 2262.0, 11091.0, 5428.0, 12477.0, 16709.0, 902.0, 4757.0, 5956.0, 14961.0, 23998.0, 10471.0, 21531.0, 21955.0, 55571.0, 10868.0, 28921.0, 1980.0, 6996.0, 5876.0, 11532.0, 1947.0, 5005.0, 26866.0, 10487.0, 1648.0, 8040.0, 7854.0, 59598.0, 6544.0, 15775.0, 3250.0, 45828.0, 7417.0, 13462.0, 3993.0, 1293.0, 3202.0, 21042.0, 2661.0, 8713.0, 9794.0, 'EMPTY SLOT', 6532.0, 28540.0, 2067.0, 3655.0, 3009.0, 14403.0, 11009.0, 1783.0, 4814.0, 92780.0, 32114.0, 8117.0, 4042.0, 5330.0, 1638.0, 2530.0, 32034.0, 2062.0, 11323.0, 6252.0, 8118.0, 610.0, 778.0, 1909.0, 12144.0, 16267.0, 7677.0, 8906.0, 3445.0, 3970.0, 10704.0, 14886.0, 6981.0, 28986.0, 1694.0, 17569.0, 2469.0, 1733.0, 2000.0, 2988.0, 3355.0, 5380.0, 2362.0, 2147.0, 3412.0, 1498.0, 245.0, 8814.0, 2961.0, 7102.0, 1658.0, 10685.0, 3823.0, 1510.0, 699.0, 314.0, 2479.0, 1235.0, 2174.0, 2591.0, 7030.0, 8282.0, 5034.0, 3343.0, 7305.0, 5189.0, 8253.0, 1096.0, 1988.0, 34792.0, 2177.0, 2707.0, 542.0, 1651.0, 1765.0, 2022.0, 3135.0, 2368.0, 137.0, 19460.0, 14855.0, 2474.0, 9618.0, 14682.0, 12822.0, 283.0, 3810.0, 26870.0, 8584.0, 19858.0, 9170.0, 3268.0, 803.0, 2155.0, 13430.0, 19816.0, 'EMPTY SLOT', 19805.0, 5241.0, 11874.0, 6536.0, 4533.0, 4945.0, 2500.0, 8887.0, 18148.0, 10518.0, 20170.0, 4710.0, 1139.0, 854.0, 9819.0, 11687.0, 11522.0, 1981.0, 1381.0, 2251.0, 20292.0, 2974.0, 5230.0, 4897.0, 10391.0, 6824.0, 2112.0, 23127.0, 24708.0, 9490.0, 2216.0, 5226.0, 23596.0, 950.0, 6089.0, 5838.0, 16767.0, 1393.0, 39694.0, 2062.0, 6861.0, 11364.0, 15538.0, 36486.0, 2046.0, 15205.0, 1390.0, 1382.0, 10646.0, 2856.0, 5265.0, 1499.0, 4157.0, 9212.0, 1563.0, 572.0, 2501.0, 5615.0, 3828.0, 3838.0, 3316.0, 3833.0, 2824.0, 3047.0, 593.0, 585.0, 3779.0, 7041.0, 2475.0, 2914.0, 5119.0, 10817.0, 13916.0, 1777.0, 489.0, 2406.0, 2070.0, 1799.0, 33586.0, 4740.0, 16966.0, 4748.0, 1495.0, 5249.0, 1883.0, 2124.0, 7336.0, 2157.0, 1094.0, 1677.0, 6684.0, 15445.0, 13699.0, 22182.0, 2576.0, 19847.0, 1138.0, 975.0, 1563.0, 6869.0, 1493.0, 1841.0, 223.0, 6964.0, 683.0, 2543.0, 9694.0, 2431.0, 6235.0, 4252.0, 2013.0, 12609.0, 3600.0, 1242.0, 2828.0, 1296.0, 471.0, 2642.0, 3261.0, 4329.0, 12469.0, 6550.0, 5234.0, 3643.0, 6986.0, 9965.0, 2060.0, 6360.0, 20399.0, 9785.0, 13829.0, 24773.0, 8852.0, 21570.0, 2842.0, 3007.0, 13567.0, 2405.0, 8280.0, 19172.0, 2405.0, 7647.0, 11924.0, 2201.0, 6114.0, 3558.0, 17645.0, 2280.0, 5167.0, 3315.0, 11593.0, 2464.0, 13626.0, 1431.0, 1664.0, 3389.0, 4583.0, 5109.0, 26839.0, 1447.0, 67298.0, 2743.0, 10790.0, 1330.0, 2611.0, 7021.0, 5332.0, 9670.0, 11238.0, 5923.0, 26316.0, 1763.0, 8335.0, 15541.0, 12311.0, 2028.0, 20521.0, 1997.0, 22294.0, 1533.0, 21203.0, 2548.0, 2012.0, 218.0, 22272.0, 1660.0, 2109.0, 2006.0, 864.0, 2453.0, 4438.0, 1524.0, 8025.0, 1664.0, 534.0, 2406.0, 683.0, 4955.0, 1939.0, 1641.0, 7398.0, 1668.0, 1162.0, 13586.0, 2648.0, 1902.0, 10391.0, 2146.0, 1617.0, 8469.0, 3450.0, 15400.0, 1614.0, 2857.0, 1573.0, 1172.0, 1422.0, 1328.0, 2313.0, 3600.0, 3842.0, 3204.0, 1263.0, 9345.0, 1428.0, 582.0, 935.0, 1238.0, 2128.0, 5091.0, 4604.0, 3444.0, 1167.0, 5026.0, 18683.0, 6407.0, 6100.0, 4563.0, 3281.0, 12400.0, 6633.0, 3417.0, 8552.0, 10908.0, 11055.0, 18622.0, 2223.0, 13227.0, 9053.0, 4172.0, 4657.0, 12232.0, 2593.0, 14316.0, 5429.0, 4910.0, 3580.0, 16483.0, 5160.0, 4754.0, 1493.0, 7994.0, 16027.0, 764.0, 30243.0, 2232.0, 2510.0]\n",
      "440\n"
     ]
    }
   ],
   "source": [
    "missingDataGroceries = []\n",
    "missingIndices = []\n",
    "\n",
    "for r in range(1, without6Vals.nrows):\n",
    "    \n",
    "    if without6Vals.cell_value(r,4) == '':\n",
    "        missingDataGroceries.append(\"EMPTY SLOT\")\n",
    "        missingIndices.append(r)\n",
    "    else:\n",
    "        missingDataGroceries.append(without6Vals.cell_value(r,4))\n",
    "\n",
    "print(missingDataGroceries)\n",
    "print(len(missingDataGroceries))"
   ]
  },
  {
   "cell_type": "code",
   "execution_count": 8,
   "metadata": {
    "collapsed": true
   },
   "outputs": [],
   "source": [
    "reducedMilk = []\n",
    "\n",
    "for i in wholeDataMilk:\n",
    "    reducedMilk.append(i/1000)"
   ]
  },
  {
   "cell_type": "code",
   "execution_count": 9,
   "metadata": {},
   "outputs": [
    {
     "name": "stdout",
     "output_type": "stream",
     "text": [
      "5.796265909090909\n"
     ]
    }
   ],
   "source": [
    "avgReducedMilk = 0\n",
    "\n",
    "for i in reducedMilk:\n",
    "    avgReducedMilk+=i\n",
    "    \n",
    "avgReducedMilk = avgReducedMilk / len(reducedMilk)\n",
    "\n",
    "print(avgReducedMilk)"
   ]
  },
  {
   "cell_type": "code",
   "execution_count": 10,
   "metadata": {},
   "outputs": [
    {
     "name": "stdout",
     "output_type": "stream",
     "text": [
      "7972.655251141552\n"
     ]
    }
   ],
   "source": [
    "avgGroceries = 0\n",
    "\n",
    "for i in missingDataGroceries:\n",
    "    if i != \"EMPTY SLOT\":\n",
    "        avgGroceries+=i\n",
    "    \n",
    "avgGroceries = avgGroceries / (len(missingDataGroceries) - 2)\n",
    "\n",
    "print(avgGroceries)"
   ]
  },
  {
   "cell_type": "code",
   "execution_count": 11,
   "metadata": {},
   "outputs": [
    {
     "name": "stdout",
     "output_type": "stream",
     "text": [
      "2\n",
      "[75, 172]\n",
      "[7561.0, 9568.0, 7684.0, 4221.0, 7198.0, 5126.0, 6975.0, 9426.0, 6192.0, 18881.0, 12974.0, 4523.0, 11757.0, 14982.0, 12091.0, 3821.0, 12121.0, 2933.0, 10099.0, 9464.0, 4602.0, 2010.0, 4469.0, 22019.0, 13792.0, 7595.0, 2861.0, 3045.0, 25957.0, 2609.0, 11107.0, 3133.0, 2886.0, 7326.0, 2262.0, 11091.0, 5428.0, 12477.0, 16709.0, 902.0, 4757.0, 5956.0, 14961.0, 23998.0, 10471.0, 21531.0, 21955.0, 55571.0, 10868.0, 28921.0, 1980.0, 6996.0, 5876.0, 11532.0, 1947.0, 5005.0, 26866.0, 10487.0, 1648.0, 8040.0, 7854.0, 59598.0, 6544.0, 15775.0, 3250.0, 45828.0, 7417.0, 13462.0, 3993.0, 1293.0, 3202.0, 21042.0, 2661.0, 8713.0, 9794.0, 7972.655251141552, 6532.0, 28540.0, 2067.0, 3655.0, 3009.0, 14403.0, 11009.0, 1783.0, 4814.0, 92780.0, 32114.0, 8117.0, 4042.0, 5330.0, 1638.0, 2530.0, 32034.0, 2062.0, 11323.0, 6252.0, 8118.0, 610.0, 778.0, 1909.0, 12144.0, 16267.0, 7677.0, 8906.0, 3445.0, 3970.0, 10704.0, 14886.0, 6981.0, 28986.0, 1694.0, 17569.0, 2469.0, 1733.0, 2000.0, 2988.0, 3355.0, 5380.0, 2362.0, 2147.0, 3412.0, 1498.0, 245.0, 8814.0, 2961.0, 7102.0, 1658.0, 10685.0, 3823.0, 1510.0, 699.0, 314.0, 2479.0, 1235.0, 2174.0, 2591.0, 7030.0, 8282.0, 5034.0, 3343.0, 7305.0, 5189.0, 8253.0, 1096.0, 1988.0, 34792.0, 2177.0, 2707.0, 542.0, 1651.0, 1765.0, 2022.0, 3135.0, 2368.0, 137.0, 19460.0, 14855.0, 2474.0, 9618.0, 14682.0, 12822.0, 283.0, 3810.0, 26870.0, 8584.0, 19858.0, 9170.0, 3268.0, 803.0, 2155.0, 13430.0, 19816.0, 7972.655251141552, 19805.0, 5241.0, 11874.0, 6536.0, 4533.0, 4945.0, 2500.0, 8887.0, 18148.0, 10518.0, 20170.0, 4710.0, 1139.0, 854.0, 9819.0, 11687.0, 11522.0, 1981.0, 1381.0, 2251.0, 20292.0, 2974.0, 5230.0, 4897.0, 10391.0, 6824.0, 2112.0, 23127.0, 24708.0, 9490.0, 2216.0, 5226.0, 23596.0, 950.0, 6089.0, 5838.0, 16767.0, 1393.0, 39694.0, 2062.0, 6861.0, 11364.0, 15538.0, 36486.0, 2046.0, 15205.0, 1390.0, 1382.0, 10646.0, 2856.0, 5265.0, 1499.0, 4157.0, 9212.0, 1563.0, 572.0, 2501.0, 5615.0, 3828.0, 3838.0, 3316.0, 3833.0, 2824.0, 3047.0, 593.0, 585.0, 3779.0, 7041.0, 2475.0, 2914.0, 5119.0, 10817.0, 13916.0, 1777.0, 489.0, 2406.0, 2070.0, 1799.0, 33586.0, 4740.0, 16966.0, 4748.0, 1495.0, 5249.0, 1883.0, 2124.0, 7336.0, 2157.0, 1094.0, 1677.0, 6684.0, 15445.0, 13699.0, 22182.0, 2576.0, 19847.0, 1138.0, 975.0, 1563.0, 6869.0, 1493.0, 1841.0, 223.0, 6964.0, 683.0, 2543.0, 9694.0, 2431.0, 6235.0, 4252.0, 2013.0, 12609.0, 3600.0, 1242.0, 2828.0, 1296.0, 471.0, 2642.0, 3261.0, 4329.0, 12469.0, 6550.0, 5234.0, 3643.0, 6986.0, 9965.0, 2060.0, 6360.0, 20399.0, 9785.0, 13829.0, 24773.0, 8852.0, 21570.0, 2842.0, 3007.0, 13567.0, 2405.0, 8280.0, 19172.0, 2405.0, 7647.0, 11924.0, 2201.0, 6114.0, 3558.0, 17645.0, 2280.0, 5167.0, 3315.0, 11593.0, 2464.0, 13626.0, 1431.0, 1664.0, 3389.0, 4583.0, 5109.0, 26839.0, 1447.0, 67298.0, 2743.0, 10790.0, 1330.0, 2611.0, 7021.0, 5332.0, 9670.0, 11238.0, 5923.0, 26316.0, 1763.0, 8335.0, 15541.0, 12311.0, 2028.0, 20521.0, 1997.0, 22294.0, 1533.0, 21203.0, 2548.0, 2012.0, 218.0, 22272.0, 1660.0, 2109.0, 2006.0, 864.0, 2453.0, 4438.0, 1524.0, 8025.0, 1664.0, 534.0, 2406.0, 683.0, 4955.0, 1939.0, 1641.0, 7398.0, 1668.0, 1162.0, 13586.0, 2648.0, 1902.0, 10391.0, 2146.0, 1617.0, 8469.0, 3450.0, 15400.0, 1614.0, 2857.0, 1573.0, 1172.0, 1422.0, 1328.0, 2313.0, 3600.0, 3842.0, 3204.0, 1263.0, 9345.0, 1428.0, 582.0, 935.0, 1238.0, 2128.0, 5091.0, 4604.0, 3444.0, 1167.0, 5026.0, 18683.0, 6407.0, 6100.0, 4563.0, 3281.0, 12400.0, 6633.0, 3417.0, 8552.0, 10908.0, 11055.0, 18622.0, 2223.0, 13227.0, 9053.0, 4172.0, 4657.0, 12232.0, 2593.0, 14316.0, 5429.0, 4910.0, 3580.0, 16483.0, 5160.0, 4754.0, 1493.0, 7994.0, 16027.0, 764.0, 30243.0, 2232.0, 2510.0]\n"
     ]
    }
   ],
   "source": [
    "reducedGroceries = []\n",
    "count = 0\n",
    "missingIndices = []\n",
    "\n",
    "for i in range(0, 440):\n",
    "    \n",
    "    if missingDataGroceries[i] == \"EMPTY SLOT\":\n",
    "        missingDataGroceries[i] = avgGroceries\n",
    "        count += 1\n",
    "        missingIndices.append(i)\n",
    "    \n",
    "    reducedGroceries.append(missingDataGroceries[i]/1000)\n",
    "\n",
    "print(count)\n",
    "print(missingIndices)\n",
    "print(missingDataGroceries)\n",
    "#print(len(reducedGroceries))"
   ]
  },
  {
   "cell_type": "code",
   "execution_count": 12,
   "metadata": {},
   "outputs": [
    {
     "name": "stdout",
     "output_type": "stream",
     "text": [
      "7.97265525114155\n"
     ]
    }
   ],
   "source": [
    "avgReducedGroceries = 0\n",
    "\n",
    "for i in reducedGroceries:\n",
    "    avgReducedGroceries+=i\n",
    "    \n",
    "avgReducedGroceries = avgReducedGroceries / len(reducedGroceries)\n",
    "\n",
    "print(avgReducedGroceries)"
   ]
  },
  {
   "cell_type": "code",
   "execution_count": 13,
   "metadata": {},
   "outputs": [
    {
     "data": {
      "text/html": [
       "\n",
       "\n",
       "    <div class=\"bk-root\">\n",
       "        <div class=\"bk-plotdiv\" id=\"e123eda0-7ebf-4bd4-8640-24642634809e\"></div>\n",
       "    </div>\n",
       "<script type=\"text/javascript\">\n",
       "  \n",
       "  (function(global) {\n",
       "    function now() {\n",
       "      return new Date();\n",
       "    }\n",
       "  \n",
       "    var force = false;\n",
       "  \n",
       "    if (typeof (window._bokeh_onload_callbacks) === \"undefined\" || force === true) {\n",
       "      window._bokeh_onload_callbacks = [];\n",
       "      window._bokeh_is_loading = undefined;\n",
       "    }\n",
       "  \n",
       "  \n",
       "    \n",
       "    if (typeof (window._bokeh_timeout) === \"undefined\" || force === true) {\n",
       "      window._bokeh_timeout = Date.now() + 0;\n",
       "      window._bokeh_failed_load = false;\n",
       "    }\n",
       "  \n",
       "    var NB_LOAD_WARNING = {'data': {'text/html':\n",
       "       \"<div style='background-color: #fdd'>\\n\"+\n",
       "       \"<p>\\n\"+\n",
       "       \"BokehJS does not appear to have successfully loaded. If loading BokehJS from CDN, this \\n\"+\n",
       "       \"may be due to a slow or bad network connection. Possible fixes:\\n\"+\n",
       "       \"</p>\\n\"+\n",
       "       \"<ul>\\n\"+\n",
       "       \"<li>re-rerun `output_notebook()` to attempt to load from CDN again, or</li>\\n\"+\n",
       "       \"<li>use INLINE resources instead, as so:</li>\\n\"+\n",
       "       \"</ul>\\n\"+\n",
       "       \"<code>\\n\"+\n",
       "       \"from bokeh.resources import INLINE\\n\"+\n",
       "       \"output_notebook(resources=INLINE)\\n\"+\n",
       "       \"</code>\\n\"+\n",
       "       \"</div>\"}};\n",
       "  \n",
       "    function display_loaded() {\n",
       "      if (window.Bokeh !== undefined) {\n",
       "        var el = document.getElementById(\"e123eda0-7ebf-4bd4-8640-24642634809e\");\n",
       "        el.textContent = \"BokehJS \" + Bokeh.version + \" successfully loaded.\";\n",
       "      } else if (Date.now() < window._bokeh_timeout) {\n",
       "        setTimeout(display_loaded, 100)\n",
       "      }\n",
       "    }\n",
       "  \n",
       "    function run_callbacks() {\n",
       "      window._bokeh_onload_callbacks.forEach(function(callback) { callback() });\n",
       "      delete window._bokeh_onload_callbacks\n",
       "      console.info(\"Bokeh: all callbacks have finished\");\n",
       "    }\n",
       "  \n",
       "    function load_libs(js_urls, callback) {\n",
       "      window._bokeh_onload_callbacks.push(callback);\n",
       "      if (window._bokeh_is_loading > 0) {\n",
       "        console.log(\"Bokeh: BokehJS is being loaded, scheduling callback at\", now());\n",
       "        return null;\n",
       "      }\n",
       "      if (js_urls == null || js_urls.length === 0) {\n",
       "        run_callbacks();\n",
       "        return null;\n",
       "      }\n",
       "      console.log(\"Bokeh: BokehJS not loaded, scheduling load and callback at\", now());\n",
       "      window._bokeh_is_loading = js_urls.length;\n",
       "      for (var i = 0; i < js_urls.length; i++) {\n",
       "        var url = js_urls[i];\n",
       "        var s = document.createElement('script');\n",
       "        s.src = url;\n",
       "        s.async = false;\n",
       "        s.onreadystatechange = s.onload = function() {\n",
       "          window._bokeh_is_loading--;\n",
       "          if (window._bokeh_is_loading === 0) {\n",
       "            console.log(\"Bokeh: all BokehJS libraries loaded\");\n",
       "            run_callbacks()\n",
       "          }\n",
       "        };\n",
       "        s.onerror = function() {\n",
       "          console.warn(\"failed to load library \" + url);\n",
       "        };\n",
       "        console.log(\"Bokeh: injecting script tag for BokehJS library: \", url);\n",
       "        document.getElementsByTagName(\"head\")[0].appendChild(s);\n",
       "      }\n",
       "    };var element = document.getElementById(\"e123eda0-7ebf-4bd4-8640-24642634809e\");\n",
       "    if (element == null) {\n",
       "      console.log(\"Bokeh: ERROR: autoload.js configured with elementid 'e123eda0-7ebf-4bd4-8640-24642634809e' but no matching script tag was found. \")\n",
       "      return false;\n",
       "    }\n",
       "  \n",
       "    var js_urls = [];\n",
       "  \n",
       "    var inline_js = [\n",
       "      function(Bokeh) {\n",
       "        (function() {\n",
       "          var fn = function() {\n",
       "            var docs_json = {\"74996180-2a18-4707-9fe6-514420ae15f4\":{\"roots\":{\"references\":[{\"attributes\":{\"plot\":{\"id\":\"23e7e833-d7b7-48bc-ba06-1010714fcef8\",\"subtype\":\"Figure\",\"type\":\"Plot\"}},\"id\":\"a6226069-508f-4a4a-ae9f-bdc16085fe56\",\"type\":\"PanTool\"},{\"attributes\":{\"axis_label\":\"Groceries / 1000\",\"formatter\":{\"id\":\"fbd6a3a2-6d98-4216-a688-0f630ebaf0d1\",\"type\":\"BasicTickFormatter\"},\"plot\":{\"id\":\"23e7e833-d7b7-48bc-ba06-1010714fcef8\",\"subtype\":\"Figure\",\"type\":\"Plot\"},\"ticker\":{\"id\":\"41d13a01-6416-4f2a-853a-cf7cecf56ec8\",\"type\":\"BasicTicker\"}},\"id\":\"297461f1-292b-4e08-b708-0c334cac52c2\",\"type\":\"LinearAxis\"},{\"attributes\":{\"callback\":null,\"column_names\":[\"x\",\"y\"],\"data\":{\"x\":[9.656,9.81,8.808,1.196,5.41,8.259,3.199,4.956,3.648,11.093,5.403,1.124,12.319,6.208,9.465,1.114,8.816,6.157,6.327,2.495,4.519,0.871,1.917,36.423,9.776,4.23,0.961,0.803,20.484,2.1,3.61,4.339,1.318,4.786,1.979,5.491,4.362,10.556,15.729,0.555,4.332,3.065,7.555,11.095,7.027,22.044,14.069,54.259,6.152,21.412,1.095,4.051,3.916,10.473,1.449,3.683,29.892,9.933,1.97,5.36,3.045,38.369,6.245,11.601,1.227,20.959,1.534,6.759,7.26,2.82,2.037,1.266,5.139,5.332,6.343,1.137,3.587,12.697,1.175,3.259,0.829,9.54,9.232,1.563,3.327,46.197,73.498,5.025,0.542,3.836,0.596,2.762,27.472,3.09,12.22,2.92,2.616,0.254,0.112,2.182,7.779,10.81,6.459,3.504,2.132,1.014,6.337,10.646,8.397,16.729,1.648,11.114,2.77,2.295,1.08,0.793,2.521,3.88,1.891,2.344,1.2,3.234,0.201,10.769,1.642,3.473,1.84,7.243,8.847,0.926,2.428,0.589,2.032,1.042,1.882,1.289,8.579,8.08,4.257,4.979,4.28,13.252,7.152,1.596,3.677,8.384,1.936,3.373,0.584,1.433,1.825,3.328,1.371,9.25,0.055,10.69,5.291,1.366,6.57,7.704,3.651,0.54,2.024,15.726,7.603,12.653,6.721,3.195,0.735,0.717,8.675,25.862,5.479,7.677,1.208,7.845,6.958,7.33,7.075,4.888,6.036,29.627,8.533,43.95,0.918,6.448,0.521,8.002,7.639,11.577,6.25,0.295,1.461,3.485,1.012,5.139,7.209,7.097,2.154,2.28,13.24,14.399,11.487,0.685,0.891,11.711,0.78,4.737,3.748,12.729,1.895,28.326,1.012,6.602,6.551,10.765,16.599,1.475,7.504,0.367,0.899,7.503,1.115,2.527,0.659,3.243,5.921,2.204,0.577,2.746,5.989,10.678,1.78,4.984,2.703,6.38,0.82,3.838,0.475,2.567,3.575,1.801,0.659,3.576,7.775,6.154,2.428,0.346,5.279,3.795,1.993,23.133,1.86,7.961,17.972,0.489,5.008,1.931,4.563,4.959,4.885,1.11,1.372,1.115,9.679,23.527,9.763,1.222,8.053,0.258,1.032,5.007,8.323,3.045,1.703,1.61,3.749,0.829,2.317,6.2,2.884,7.108,3.965,3.613,4.411,0.64,2.247,2.102,0.594,0.286,2.16,3.354,3.086,11.103,2.013,1.897,1.304,3.199,4.56,0.879,6.243,13.316,5.302,3.688,7.46,12.939,12.867,2.374,1.02,20.655,1.492,2.335,3.737,0.925,1.795,14.982,1.375,3.088,2.713,25.071,3.696,1.897,0.713,0.944,3.587,16.784,1.61,0.899,2.209,1.486,1.786,14.881,3.216,4.98,0.928,6.817,1.511,1.347,0.333,1.188,4.025,5.763,5.758,6.964,1.172,2.602,6.939,7.184,2.38,14.641,1.099,10.044,1.106,6.264,7.393,0.727,0.134,1.275,18.664,5.878,2.872,0.607,1.601,0.997,0.873,6.128,2.217,0.894,1.196,0.337,3.944,1.887,3.801,6.257,2.256,1.45,8.63,3.154,3.294,5.164,0.944,4.591,7.435,1.364,21.858,0.922,3.62,1.916,0.848,1.53,1.181,2.761,4.18,6.73,0.865,1.316,11.991,1.666,1.032,0.577,0.906,2.801,4.753,11.006,4.613,1.046,5.01,12.844,3.88,3.634,2.096,3.289,3.605,4.859,1.99,6.046,10.94,5.499,8.494,3.783,5.266,4.847,1.377,3.686,2.884,2.408,9.347,16.687,5.97,1.75,4.23,5.506,1.162,3.218,3.922,12.051,1.431,15.488,1.981,1.698],\"y\":[7.561,9.568,7.684,4.221,7.198,5.126,6.975,9.426,6.192,18.881,12.974,4.523,11.757,14.982,12.091,3.821,12.121,2.933,10.099,9.464,4.602,2.01,4.469,22.019,13.792,7.595,2.861,3.045,25.957,2.609,11.107,3.133,2.886,7.326,2.262,11.091,5.428,12.477,16.709,0.902,4.757,5.956,14.961,23.998,10.471,21.531,21.955,55.571,10.868,28.921,1.98,6.996,5.876,11.532,1.947,5.005,26.866,10.487,1.648,8.04,7.854,59.598,6.544,15.775,3.25,45.828,7.417,13.462,3.993,1.293,3.202,21.042,2.661,8.713,9.794,7.9726552511415525,6.532,28.54,2.067,3.655,3.009,14.403,11.009,1.783,4.814,92.78,32.114,8.117,4.042,5.33,1.638,2.53,32.034,2.062,11.323,6.252,8.118,0.61,0.778,1.909,12.144,16.267,7.677,8.906,3.445,3.97,10.704,14.886,6.981,28.986,1.694,17.569,2.469,1.733,2.0,2.988,3.355,5.38,2.362,2.147,3.412,1.498,0.245,8.814,2.961,7.102,1.658,10.685,3.823,1.51,0.699,0.314,2.479,1.235,2.174,2.591,7.03,8.282,5.034,3.343,7.305,5.189,8.253,1.096,1.988,34.792,2.177,2.707,0.542,1.651,1.765,2.022,3.135,2.368,0.137,19.46,14.855,2.474,9.618,14.682,12.822,0.283,3.81,26.87,8.584,19.858,9.17,3.268,0.803,2.155,13.43,19.816,7.9726552511415525,19.805,5.241,11.874,6.536,4.533,4.945,2.5,8.887,18.148,10.518,20.17,4.71,1.139,0.854,9.819,11.687,11.522,1.981,1.381,2.251,20.292,2.974,5.23,4.897,10.391,6.824,2.112,23.127,24.708,9.49,2.216,5.226,23.596,0.95,6.089,5.838,16.767,1.393,39.694,2.062,6.861,11.364,15.538,36.486,2.046,15.205,1.39,1.382,10.646,2.856,5.265,1.499,4.157,9.212,1.563,0.572,2.501,5.615,3.828,3.838,3.316,3.833,2.824,3.047,0.593,0.585,3.779,7.041,2.475,2.914,5.119,10.817,13.916,1.777,0.489,2.406,2.07,1.799,33.586,4.74,16.966,4.748,1.495,5.249,1.883,2.124,7.336,2.157,1.094,1.677,6.684,15.445,13.699,22.182,2.576,19.847,1.138,0.975,1.563,6.869,1.493,1.841,0.223,6.964,0.683,2.543,9.694,2.431,6.235,4.252,2.013,12.609,3.6,1.242,2.828,1.296,0.471,2.642,3.261,4.329,12.469,6.55,5.234,3.643,6.986,9.965,2.06,6.36,20.399,9.785,13.829,24.773,8.852,21.57,2.842,3.007,13.567,2.405,8.28,19.172,2.405,7.647,11.924,2.201,6.114,3.558,17.645,2.28,5.167,3.315,11.593,2.464,13.626,1.431,1.664,3.389,4.583,5.109,26.839,1.447,67.298,2.743,10.79,1.33,2.611,7.021,5.332,9.67,11.238,5.923,26.316,1.763,8.335,15.541,12.311,2.028,20.521,1.997,22.294,1.533,21.203,2.548,2.012,0.218,22.272,1.66,2.109,2.006,0.864,2.453,4.438,1.524,8.025,1.664,0.534,2.406,0.683,4.955,1.939,1.641,7.398,1.668,1.162,13.586,2.648,1.902,10.391,2.146,1.617,8.469,3.45,15.4,1.614,2.857,1.573,1.172,1.422,1.328,2.313,3.6,3.842,3.204,1.263,9.345,1.428,0.582,0.935,1.238,2.128,5.091,4.604,3.444,1.167,5.026,18.683,6.407,6.1,4.563,3.281,12.4,6.633,3.417,8.552,10.908,11.055,18.622,2.223,13.227,9.053,4.172,4.657,12.232,2.593,14.316,5.429,4.91,3.58,16.483,5.16,4.754,1.493,7.994,16.027,0.764,30.243,2.232,2.51]}},\"id\":\"b042bb6e-26de-438a-a30d-85f16fcbb9b3\",\"type\":\"ColumnDataSource\"},{\"attributes\":{},\"id\":\"41d13a01-6416-4f2a-853a-cf7cecf56ec8\",\"type\":\"BasicTicker\"},{\"attributes\":{\"overlay\":{\"id\":\"7de70c25-bd4c-4a5e-b2c6-187b623b5dd7\",\"type\":\"BoxAnnotation\"},\"plot\":{\"id\":\"23e7e833-d7b7-48bc-ba06-1010714fcef8\",\"subtype\":\"Figure\",\"type\":\"Plot\"}},\"id\":\"cfbaffc2-4b3e-4abc-be80-ba7141748473\",\"type\":\"BoxZoomTool\"},{\"attributes\":{\"plot\":{\"id\":\"23e7e833-d7b7-48bc-ba06-1010714fcef8\",\"subtype\":\"Figure\",\"type\":\"Plot\"}},\"id\":\"8c8d5593-d9d6-4cdc-8c8d-8e6002cba035\",\"type\":\"HelpTool\"},{\"attributes\":{\"plot\":{\"id\":\"23e7e833-d7b7-48bc-ba06-1010714fcef8\",\"subtype\":\"Figure\",\"type\":\"Plot\"}},\"id\":\"eb1fef5b-90b4-4768-9abc-72e8345f9825\",\"type\":\"SaveTool\"},{\"attributes\":{\"plot\":{\"id\":\"23e7e833-d7b7-48bc-ba06-1010714fcef8\",\"subtype\":\"Figure\",\"type\":\"Plot\"}},\"id\":\"e40d8ae1-1f07-4138-a246-b765c0347b74\",\"type\":\"WheelZoomTool\"},{\"attributes\":{},\"id\":\"fbd6a3a2-6d98-4216-a688-0f630ebaf0d1\",\"type\":\"BasicTickFormatter\"},{\"attributes\":{\"fill_alpha\":{\"value\":0.1},\"fill_color\":{\"value\":\"#1f77b4\"},\"line_alpha\":{\"value\":0.1},\"line_color\":{\"value\":\"#1f77b4\"},\"x\":{\"field\":\"x\"},\"y\":{\"field\":\"y\"}},\"id\":\"ecc00460-f5d7-4eda-a91d-f4dacda6ac26\",\"type\":\"Circle\"},{\"attributes\":{\"below\":[{\"id\":\"6fa02721-4924-4455-b09c-ee0ee385512c\",\"type\":\"LinearAxis\"}],\"left\":[{\"id\":\"297461f1-292b-4e08-b708-0c334cac52c2\",\"type\":\"LinearAxis\"}],\"plot_height\":400,\"plot_width\":400,\"renderers\":[{\"id\":\"6fa02721-4924-4455-b09c-ee0ee385512c\",\"type\":\"LinearAxis\"},{\"id\":\"35757054-3646-48e8-a271-d626765d997a\",\"type\":\"Grid\"},{\"id\":\"297461f1-292b-4e08-b708-0c334cac52c2\",\"type\":\"LinearAxis\"},{\"id\":\"b0470ca4-ac17-46ad-a179-9eeeb448370e\",\"type\":\"Grid\"},{\"id\":\"7de70c25-bd4c-4a5e-b2c6-187b623b5dd7\",\"type\":\"BoxAnnotation\"},{\"id\":\"a41bedbe-bc56-4a38-a4b0-d7ead51975c1\",\"type\":\"GlyphRenderer\"}],\"title\":{\"id\":\"f01141c6-8d51-456c-996f-a2b1b72d63a7\",\"type\":\"Title\"},\"tool_events\":{\"id\":\"616a5c16-a860-4b63-9287-177bb2548644\",\"type\":\"ToolEvents\"},\"toolbar\":{\"id\":\"163c53a2-231d-45d0-af4b-46c30e684ae5\",\"type\":\"Toolbar\"},\"x_range\":{\"id\":\"5dc16f58-c857-48a0-b4b4-9776f742d76a\",\"type\":\"DataRange1d\"},\"y_range\":{\"id\":\"56289734-9073-4d8b-8d5c-52a685f4e562\",\"type\":\"DataRange1d\"}},\"id\":\"23e7e833-d7b7-48bc-ba06-1010714fcef8\",\"subtype\":\"Figure\",\"type\":\"Plot\"},{\"attributes\":{\"plot\":{\"id\":\"23e7e833-d7b7-48bc-ba06-1010714fcef8\",\"subtype\":\"Figure\",\"type\":\"Plot\"}},\"id\":\"17415a83-0e96-4e5d-92fa-5856691fcfeb\",\"type\":\"ResetTool\"},{\"attributes\":{\"data_source\":{\"id\":\"b042bb6e-26de-438a-a30d-85f16fcbb9b3\",\"type\":\"ColumnDataSource\"},\"glyph\":{\"id\":\"f86319a3-c2cf-4cf0-b261-f0cf5239f2e2\",\"type\":\"Circle\"},\"hover_glyph\":null,\"muted_glyph\":null,\"nonselection_glyph\":{\"id\":\"ecc00460-f5d7-4eda-a91d-f4dacda6ac26\",\"type\":\"Circle\"},\"selection_glyph\":null},\"id\":\"a41bedbe-bc56-4a38-a4b0-d7ead51975c1\",\"type\":\"GlyphRenderer\"},{\"attributes\":{\"fill_alpha\":{\"value\":0.5},\"fill_color\":{\"value\":\"orange\"},\"line_color\":{\"value\":\"navy\"},\"x\":{\"field\":\"x\"},\"y\":{\"field\":\"y\"}},\"id\":\"f86319a3-c2cf-4cf0-b261-f0cf5239f2e2\",\"type\":\"Circle\"},{\"attributes\":{\"plot\":null,\"text\":\"US Employment Rates after 1991\"},\"id\":\"f01141c6-8d51-456c-996f-a2b1b72d63a7\",\"type\":\"Title\"},{\"attributes\":{\"callback\":null},\"id\":\"5dc16f58-c857-48a0-b4b4-9776f742d76a\",\"type\":\"DataRange1d\"},{\"attributes\":{},\"id\":\"616a5c16-a860-4b63-9287-177bb2548644\",\"type\":\"ToolEvents\"},{\"attributes\":{},\"id\":\"9043acd8-3d8b-4f25-a432-bd5f95c4d32f\",\"type\":\"BasicTickFormatter\"},{\"attributes\":{\"active_drag\":\"auto\",\"active_scroll\":\"auto\",\"active_tap\":\"auto\",\"tools\":[{\"id\":\"a6226069-508f-4a4a-ae9f-bdc16085fe56\",\"type\":\"PanTool\"},{\"id\":\"e40d8ae1-1f07-4138-a246-b765c0347b74\",\"type\":\"WheelZoomTool\"},{\"id\":\"cfbaffc2-4b3e-4abc-be80-ba7141748473\",\"type\":\"BoxZoomTool\"},{\"id\":\"eb1fef5b-90b4-4768-9abc-72e8345f9825\",\"type\":\"SaveTool\"},{\"id\":\"17415a83-0e96-4e5d-92fa-5856691fcfeb\",\"type\":\"ResetTool\"},{\"id\":\"8c8d5593-d9d6-4cdc-8c8d-8e6002cba035\",\"type\":\"HelpTool\"}]},\"id\":\"163c53a2-231d-45d0-af4b-46c30e684ae5\",\"type\":\"Toolbar\"},{\"attributes\":{\"plot\":{\"id\":\"23e7e833-d7b7-48bc-ba06-1010714fcef8\",\"subtype\":\"Figure\",\"type\":\"Plot\"},\"ticker\":{\"id\":\"38861ebf-202c-4687-905a-d93fda105ed6\",\"type\":\"BasicTicker\"}},\"id\":\"35757054-3646-48e8-a271-d626765d997a\",\"type\":\"Grid\"},{\"attributes\":{\"axis_label\":\"Milk / 1000\",\"formatter\":{\"id\":\"9043acd8-3d8b-4f25-a432-bd5f95c4d32f\",\"type\":\"BasicTickFormatter\"},\"plot\":{\"id\":\"23e7e833-d7b7-48bc-ba06-1010714fcef8\",\"subtype\":\"Figure\",\"type\":\"Plot\"},\"ticker\":{\"id\":\"38861ebf-202c-4687-905a-d93fda105ed6\",\"type\":\"BasicTicker\"}},\"id\":\"6fa02721-4924-4455-b09c-ee0ee385512c\",\"type\":\"LinearAxis\"},{\"attributes\":{\"callback\":null},\"id\":\"56289734-9073-4d8b-8d5c-52a685f4e562\",\"type\":\"DataRange1d\"},{\"attributes\":{\"bottom_units\":\"screen\",\"fill_alpha\":{\"value\":0.5},\"fill_color\":{\"value\":\"lightgrey\"},\"left_units\":\"screen\",\"level\":\"overlay\",\"line_alpha\":{\"value\":1.0},\"line_color\":{\"value\":\"black\"},\"line_dash\":[4,4],\"line_width\":{\"value\":2},\"plot\":null,\"render_mode\":\"css\",\"right_units\":\"screen\",\"top_units\":\"screen\"},\"id\":\"7de70c25-bd4c-4a5e-b2c6-187b623b5dd7\",\"type\":\"BoxAnnotation\"},{\"attributes\":{},\"id\":\"38861ebf-202c-4687-905a-d93fda105ed6\",\"type\":\"BasicTicker\"},{\"attributes\":{\"dimension\":1,\"plot\":{\"id\":\"23e7e833-d7b7-48bc-ba06-1010714fcef8\",\"subtype\":\"Figure\",\"type\":\"Plot\"},\"ticker\":{\"id\":\"41d13a01-6416-4f2a-853a-cf7cecf56ec8\",\"type\":\"BasicTicker\"}},\"id\":\"b0470ca4-ac17-46ad-a179-9eeeb448370e\",\"type\":\"Grid\"}],\"root_ids\":[\"23e7e833-d7b7-48bc-ba06-1010714fcef8\"]},\"title\":\"Bokeh Application\",\"version\":\"0.12.5\"}};\n",
       "            var render_items = [{\"docid\":\"74996180-2a18-4707-9fe6-514420ae15f4\",\"elementid\":\"e123eda0-7ebf-4bd4-8640-24642634809e\",\"modelid\":\"23e7e833-d7b7-48bc-ba06-1010714fcef8\"}];\n",
       "            \n",
       "            Bokeh.embed.embed_items(docs_json, render_items);\n",
       "          };\n",
       "          if (document.readyState != \"loading\") fn();\n",
       "          else document.addEventListener(\"DOMContentLoaded\", fn);\n",
       "        })();\n",
       "      },\n",
       "      function(Bokeh) {\n",
       "      }\n",
       "    ];\n",
       "  \n",
       "    function run_inline_js() {\n",
       "      \n",
       "      if ((window.Bokeh !== undefined) || (force === true)) {\n",
       "        for (var i = 0; i < inline_js.length; i++) {\n",
       "          inline_js[i](window.Bokeh);\n",
       "        }if (force === true) {\n",
       "          display_loaded();\n",
       "        }} else if (Date.now() < window._bokeh_timeout) {\n",
       "        setTimeout(run_inline_js, 100);\n",
       "      } else if (!window._bokeh_failed_load) {\n",
       "        console.log(\"Bokeh: BokehJS failed to load within specified timeout.\");\n",
       "        window._bokeh_failed_load = true;\n",
       "      } else if (force !== true) {\n",
       "        var cell = $(document.getElementById(\"e123eda0-7ebf-4bd4-8640-24642634809e\")).parents('.cell').data().cell;\n",
       "        cell.output_area.append_execute_result(NB_LOAD_WARNING)\n",
       "      }\n",
       "  \n",
       "    }\n",
       "  \n",
       "    if (window._bokeh_is_loading === 0) {\n",
       "      console.log(\"Bokeh: BokehJS loaded, going straight to plotting\");\n",
       "      run_inline_js();\n",
       "    } else {\n",
       "      load_libs(js_urls, function() {\n",
       "        console.log(\"Bokeh: BokehJS plotting callback run at\", now());\n",
       "        run_inline_js();\n",
       "      });\n",
       "    }\n",
       "  }(this));\n",
       "</script>"
      ]
     },
     "metadata": {},
     "output_type": "display_data"
    }
   ],
   "source": [
    "p = figure(plot_width=400, plot_height=400, title=\"US Employment Rates after 1991\")\n",
    "\n",
    "p.circle(reducedMilk, reducedGroceries, line_color=\"navy\", fill_color=\"orange\", fill_alpha=0.5)\n",
    "\n",
    "p.xaxis.axis_label = \"Milk / 1000\"\n",
    "p.yaxis.axis_label = \"Groceries / 1000\"\n",
    "\n",
    "show(p)"
   ]
  },
  {
   "cell_type": "code",
   "execution_count": 14,
   "metadata": {},
   "outputs": [
    {
     "name": "stdout",
     "output_type": "stream",
     "text": [
      "Slope for reducedMilk vs reducedGroceries is =  0.9362510348875479\n"
     ]
    }
   ],
   "source": [
    "reducedMilkVSreducedGroceriesSlopeNumerator = 0\n",
    "reducedMilkVSreducedGroceriesSlopeDenominator = 0\n",
    "\n",
    "for i in range(0, 440):\n",
    "    reducedMilkVSreducedGroceriesSlopeNumerator += (reducedMilk[i] - avgReducedMilk)*(reducedGroceries[i] - avgReducedGroceries)\n",
    "    reducedMilkVSreducedGroceriesSlopeDenominator += math.pow((reducedMilk[i] - avgReducedMilk),2)\n",
    "\n",
    "reducedMilkVSreducedGroceriesSlope = reducedMilkVSreducedGroceriesSlopeNumerator / reducedMilkVSreducedGroceriesSlopeDenominator\n",
    "print(\"Slope for reducedMilk vs reducedGroceries is = \",reducedMilkVSreducedGroceriesSlope)"
   ]
  },
  {
   "cell_type": "code",
   "execution_count": 15,
   "metadata": {},
   "outputs": [
    {
     "name": "stdout",
     "output_type": "stream",
     "text": [
      "Intercept for reducedMilk vs reducedGroceries is =  0.5403103196360943\n"
     ]
    }
   ],
   "source": [
    "reducedMilkVSreducedGroceriesIntercept = reducedGroceries[220] - (reducedMilkVSreducedGroceriesSlope*reducedMilk[220])\n",
    "print(\"Intercept for reducedMilk vs reducedGroceries is = \", reducedMilkVSreducedGroceriesIntercept)"
   ]
  },
  {
   "cell_type": "code",
   "execution_count": 16,
   "metadata": {
    "collapsed": true
   },
   "outputs": [],
   "source": [
    "def findReducedGroceries(reducedMilkNum):\n",
    "    reducedGroceriesEstimate = reducedMilkVSreducedGroceriesIntercept + (reducedMilkVSreducedGroceriesSlope*reducedMilkNum)\n",
    "    return reducedGroceriesEstimate"
   ]
  },
  {
   "cell_type": "code",
   "execution_count": 17,
   "metadata": {},
   "outputs": [
    {
     "name": "stdout",
     "output_type": "stream",
     "text": [
      "[1604.8277463032364, 5670.02973978497]\n",
      "[3.0, 6536.0]\n"
     ]
    }
   ],
   "source": [
    "reducedGroceriesPredictions = []\n",
    "\n",
    "for i in reducedMilk:\n",
    "    reducedGroceriesPredictions.append(findReducedGroceries(i))\n",
    "    \n",
    "    \n",
    "groceriesPredictions = []\n",
    "missingValuePredictions = []\n",
    "correctValues= []\n",
    "\n",
    "for i in range(0, 440):\n",
    "    if i in missingIndices:\n",
    "        missingValuePredictions.append(reducedGroceriesPredictions[i]*1000)\n",
    "        correctValues.append(wholeDataGroceries[i])\n",
    "        \n",
    "    groceriesPredictions.append(reducedGroceriesPredictions[i]*1000)\n",
    "    \n",
    "print(missingValuePredictions)\n",
    "print(correctValues)"
   ]
  },
  {
   "cell_type": "code",
   "execution_count": 18,
   "metadata": {},
   "outputs": [
    {
     "name": "stdout",
     "output_type": "stream",
     "text": [
      "MSE for reducedMilk vs reducedGroceries is =  46243959.36366108\n"
     ]
    }
   ],
   "source": [
    "MilkVSGroceriesMSE = 0\n",
    "\n",
    "for i in range(0, 440):\n",
    "    diffSquared = math.pow(groceriesPredictions[i] - wholeDataGroceries[i], 2)\n",
    "    MilkVSGroceriesMSE += diffSquared\n",
    "\n",
    "MilkVSGroceriesMSE = MilkVSGroceriesMSE / 440\n",
    "print(\"MSE for reducedMilk vs reducedGroceries is = \", MilkVSGroceriesMSE)"
   ]
  },
  {
   "cell_type": "code",
   "execution_count": 19,
   "metadata": {},
   "outputs": [
    {
     "data": {
      "text/html": [
       "\n",
       "\n",
       "    <div class=\"bk-root\">\n",
       "        <div class=\"bk-plotdiv\" id=\"de7d358c-88fe-4c66-ac85-5f2ade717696\"></div>\n",
       "    </div>\n",
       "<script type=\"text/javascript\">\n",
       "  \n",
       "  (function(global) {\n",
       "    function now() {\n",
       "      return new Date();\n",
       "    }\n",
       "  \n",
       "    var force = false;\n",
       "  \n",
       "    if (typeof (window._bokeh_onload_callbacks) === \"undefined\" || force === true) {\n",
       "      window._bokeh_onload_callbacks = [];\n",
       "      window._bokeh_is_loading = undefined;\n",
       "    }\n",
       "  \n",
       "  \n",
       "    \n",
       "    if (typeof (window._bokeh_timeout) === \"undefined\" || force === true) {\n",
       "      window._bokeh_timeout = Date.now() + 0;\n",
       "      window._bokeh_failed_load = false;\n",
       "    }\n",
       "  \n",
       "    var NB_LOAD_WARNING = {'data': {'text/html':\n",
       "       \"<div style='background-color: #fdd'>\\n\"+\n",
       "       \"<p>\\n\"+\n",
       "       \"BokehJS does not appear to have successfully loaded. If loading BokehJS from CDN, this \\n\"+\n",
       "       \"may be due to a slow or bad network connection. Possible fixes:\\n\"+\n",
       "       \"</p>\\n\"+\n",
       "       \"<ul>\\n\"+\n",
       "       \"<li>re-rerun `output_notebook()` to attempt to load from CDN again, or</li>\\n\"+\n",
       "       \"<li>use INLINE resources instead, as so:</li>\\n\"+\n",
       "       \"</ul>\\n\"+\n",
       "       \"<code>\\n\"+\n",
       "       \"from bokeh.resources import INLINE\\n\"+\n",
       "       \"output_notebook(resources=INLINE)\\n\"+\n",
       "       \"</code>\\n\"+\n",
       "       \"</div>\"}};\n",
       "  \n",
       "    function display_loaded() {\n",
       "      if (window.Bokeh !== undefined) {\n",
       "        var el = document.getElementById(\"de7d358c-88fe-4c66-ac85-5f2ade717696\");\n",
       "        el.textContent = \"BokehJS \" + Bokeh.version + \" successfully loaded.\";\n",
       "      } else if (Date.now() < window._bokeh_timeout) {\n",
       "        setTimeout(display_loaded, 100)\n",
       "      }\n",
       "    }\n",
       "  \n",
       "    function run_callbacks() {\n",
       "      window._bokeh_onload_callbacks.forEach(function(callback) { callback() });\n",
       "      delete window._bokeh_onload_callbacks\n",
       "      console.info(\"Bokeh: all callbacks have finished\");\n",
       "    }\n",
       "  \n",
       "    function load_libs(js_urls, callback) {\n",
       "      window._bokeh_onload_callbacks.push(callback);\n",
       "      if (window._bokeh_is_loading > 0) {\n",
       "        console.log(\"Bokeh: BokehJS is being loaded, scheduling callback at\", now());\n",
       "        return null;\n",
       "      }\n",
       "      if (js_urls == null || js_urls.length === 0) {\n",
       "        run_callbacks();\n",
       "        return null;\n",
       "      }\n",
       "      console.log(\"Bokeh: BokehJS not loaded, scheduling load and callback at\", now());\n",
       "      window._bokeh_is_loading = js_urls.length;\n",
       "      for (var i = 0; i < js_urls.length; i++) {\n",
       "        var url = js_urls[i];\n",
       "        var s = document.createElement('script');\n",
       "        s.src = url;\n",
       "        s.async = false;\n",
       "        s.onreadystatechange = s.onload = function() {\n",
       "          window._bokeh_is_loading--;\n",
       "          if (window._bokeh_is_loading === 0) {\n",
       "            console.log(\"Bokeh: all BokehJS libraries loaded\");\n",
       "            run_callbacks()\n",
       "          }\n",
       "        };\n",
       "        s.onerror = function() {\n",
       "          console.warn(\"failed to load library \" + url);\n",
       "        };\n",
       "        console.log(\"Bokeh: injecting script tag for BokehJS library: \", url);\n",
       "        document.getElementsByTagName(\"head\")[0].appendChild(s);\n",
       "      }\n",
       "    };var element = document.getElementById(\"de7d358c-88fe-4c66-ac85-5f2ade717696\");\n",
       "    if (element == null) {\n",
       "      console.log(\"Bokeh: ERROR: autoload.js configured with elementid 'de7d358c-88fe-4c66-ac85-5f2ade717696' but no matching script tag was found. \")\n",
       "      return false;\n",
       "    }\n",
       "  \n",
       "    var js_urls = [];\n",
       "  \n",
       "    var inline_js = [\n",
       "      function(Bokeh) {\n",
       "        (function() {\n",
       "          var fn = function() {\n",
       "            var docs_json = {\"b3a721ae-5fc7-478a-a077-f96f1aa63e62\":{\"roots\":{\"references\":[{\"attributes\":{\"below\":[{\"id\":\"e4f3b313-2eae-4631-ba14-a6f237f77332\",\"type\":\"LinearAxis\"}],\"left\":[{\"id\":\"541f9de7-5f46-4f43-b27c-d6ba05ddbc23\",\"type\":\"LinearAxis\"}],\"plot_height\":400,\"plot_width\":400,\"renderers\":[{\"id\":\"e4f3b313-2eae-4631-ba14-a6f237f77332\",\"type\":\"LinearAxis\"},{\"id\":\"b2a4c7a3-05d7-47ca-930b-7ea59043f84c\",\"type\":\"Grid\"},{\"id\":\"541f9de7-5f46-4f43-b27c-d6ba05ddbc23\",\"type\":\"LinearAxis\"},{\"id\":\"3bc7f982-c39b-4aea-af47-44a4b909dd27\",\"type\":\"Grid\"},{\"id\":\"f4e754e2-6ff9-4230-953e-44c033f7f2b6\",\"type\":\"BoxAnnotation\"},{\"id\":\"f6943250-cd25-492f-8e35-3be2a358839c\",\"type\":\"GlyphRenderer\"}],\"title\":{\"id\":\"8e83a873-de2a-4ef1-aebb-3d29e844524f\",\"type\":\"Title\"},\"tool_events\":{\"id\":\"228b2a0e-cff5-4a92-a6a9-108270c9a1e5\",\"type\":\"ToolEvents\"},\"toolbar\":{\"id\":\"d6024047-7882-4d99-848b-592562df5a81\",\"type\":\"Toolbar\"},\"x_range\":{\"id\":\"97349cd9-cdf7-4ace-8601-d0e30752a3af\",\"type\":\"DataRange1d\"},\"y_range\":{\"id\":\"98d01635-2818-459f-9061-f579f30c4877\",\"type\":\"DataRange1d\"}},\"id\":\"a6017cd5-72ec-46cb-9c28-2d257939f091\",\"subtype\":\"Figure\",\"type\":\"Plot\"},{\"attributes\":{\"overlay\":{\"id\":\"f4e754e2-6ff9-4230-953e-44c033f7f2b6\",\"type\":\"BoxAnnotation\"},\"plot\":{\"id\":\"a6017cd5-72ec-46cb-9c28-2d257939f091\",\"subtype\":\"Figure\",\"type\":\"Plot\"}},\"id\":\"dc37e8b6-11c4-4456-bc03-4001387232b5\",\"type\":\"BoxZoomTool\"},{\"attributes\":{},\"id\":\"7f970c25-8a1f-4025-aacd-d7ba7d926922\",\"type\":\"BasicTickFormatter\"},{\"attributes\":{\"plot\":{\"id\":\"a6017cd5-72ec-46cb-9c28-2d257939f091\",\"subtype\":\"Figure\",\"type\":\"Plot\"}},\"id\":\"0f93d589-d414-4bc4-9b11-29b87ba20f9e\",\"type\":\"HelpTool\"},{\"attributes\":{},\"id\":\"70972216-80fb-4c4e-a4a7-c406a6146743\",\"type\":\"BasicTickFormatter\"},{\"attributes\":{\"plot\":{\"id\":\"a6017cd5-72ec-46cb-9c28-2d257939f091\",\"subtype\":\"Figure\",\"type\":\"Plot\"}},\"id\":\"a905dc55-55d7-45f7-adfb-9c8d098495c6\",\"type\":\"WheelZoomTool\"},{\"attributes\":{\"fill_alpha\":{\"value\":0.5},\"fill_color\":{\"value\":\"orange\"},\"line_color\":{\"value\":\"navy\"},\"x\":{\"field\":\"x\"},\"y\":{\"field\":\"y\"}},\"id\":\"6a3c6773-7d7f-4dee-8bef-b8650cc3dd2f\",\"type\":\"Circle\"},{\"attributes\":{\"bottom_units\":\"screen\",\"fill_alpha\":{\"value\":0.5},\"fill_color\":{\"value\":\"lightgrey\"},\"left_units\":\"screen\",\"level\":\"overlay\",\"line_alpha\":{\"value\":1.0},\"line_color\":{\"value\":\"black\"},\"line_dash\":[4,4],\"line_width\":{\"value\":2},\"plot\":null,\"render_mode\":\"css\",\"right_units\":\"screen\",\"top_units\":\"screen\"},\"id\":\"f4e754e2-6ff9-4230-953e-44c033f7f2b6\",\"type\":\"BoxAnnotation\"},{\"attributes\":{\"dimension\":1,\"plot\":{\"id\":\"a6017cd5-72ec-46cb-9c28-2d257939f091\",\"subtype\":\"Figure\",\"type\":\"Plot\"},\"ticker\":{\"id\":\"a1117fa7-5c12-4804-b378-fc6b98d2f378\",\"type\":\"BasicTicker\"}},\"id\":\"3bc7f982-c39b-4aea-af47-44a4b909dd27\",\"type\":\"Grid\"},{\"attributes\":{\"fill_alpha\":{\"value\":0.1},\"fill_color\":{\"value\":\"#1f77b4\"},\"line_alpha\":{\"value\":0.1},\"line_color\":{\"value\":\"#1f77b4\"},\"x\":{\"field\":\"x\"},\"y\":{\"field\":\"y\"}},\"id\":\"dde57778-0fa9-40fd-bee6-f7f0619b7f86\",\"type\":\"Circle\"},{\"attributes\":{\"plot\":{\"id\":\"a6017cd5-72ec-46cb-9c28-2d257939f091\",\"subtype\":\"Figure\",\"type\":\"Plot\"}},\"id\":\"2a73e3c6-a775-40b7-b6af-5f682cc7dd4b\",\"type\":\"ResetTool\"},{\"attributes\":{\"data_source\":{\"id\":\"d40c64de-d587-46d9-bdba-adc2ff5f00cf\",\"type\":\"ColumnDataSource\"},\"glyph\":{\"id\":\"6a3c6773-7d7f-4dee-8bef-b8650cc3dd2f\",\"type\":\"Circle\"},\"hover_glyph\":null,\"muted_glyph\":null,\"nonselection_glyph\":{\"id\":\"dde57778-0fa9-40fd-bee6-f7f0619b7f86\",\"type\":\"Circle\"},\"selection_glyph\":null},\"id\":\"f6943250-cd25-492f-8e35-3be2a358839c\",\"type\":\"GlyphRenderer\"},{\"attributes\":{},\"id\":\"a1117fa7-5c12-4804-b378-fc6b98d2f378\",\"type\":\"BasicTicker\"},{\"attributes\":{\"axis_label\":\"Groceries Prediction\",\"formatter\":{\"id\":\"70972216-80fb-4c4e-a4a7-c406a6146743\",\"type\":\"BasicTickFormatter\"},\"plot\":{\"id\":\"a6017cd5-72ec-46cb-9c28-2d257939f091\",\"subtype\":\"Figure\",\"type\":\"Plot\"},\"ticker\":{\"id\":\"a1117fa7-5c12-4804-b378-fc6b98d2f378\",\"type\":\"BasicTicker\"}},\"id\":\"541f9de7-5f46-4f43-b27c-d6ba05ddbc23\",\"type\":\"LinearAxis\"},{\"attributes\":{\"plot\":{\"id\":\"a6017cd5-72ec-46cb-9c28-2d257939f091\",\"subtype\":\"Figure\",\"type\":\"Plot\"},\"ticker\":{\"id\":\"174f0311-220c-4588-9891-cc6afeebf8dc\",\"type\":\"BasicTicker\"}},\"id\":\"b2a4c7a3-05d7-47ca-930b-7ea59043f84c\",\"type\":\"Grid\"},{\"attributes\":{},\"id\":\"174f0311-220c-4588-9891-cc6afeebf8dc\",\"type\":\"BasicTicker\"},{\"attributes\":{\"callback\":null},\"id\":\"98d01635-2818-459f-9061-f579f30c4877\",\"type\":\"DataRange1d\"},{\"attributes\":{\"axis_label\":\"Milk\",\"formatter\":{\"id\":\"7f970c25-8a1f-4025-aacd-d7ba7d926922\",\"type\":\"BasicTickFormatter\"},\"plot\":{\"id\":\"a6017cd5-72ec-46cb-9c28-2d257939f091\",\"subtype\":\"Figure\",\"type\":\"Plot\"},\"ticker\":{\"id\":\"174f0311-220c-4588-9891-cc6afeebf8dc\",\"type\":\"BasicTicker\"}},\"id\":\"e4f3b313-2eae-4631-ba14-a6f237f77332\",\"type\":\"LinearAxis\"},{\"attributes\":{\"active_drag\":\"auto\",\"active_scroll\":\"auto\",\"active_tap\":\"auto\",\"tools\":[{\"id\":\"392934b2-4a2e-4947-906a-d42a9d7b571e\",\"type\":\"PanTool\"},{\"id\":\"a905dc55-55d7-45f7-adfb-9c8d098495c6\",\"type\":\"WheelZoomTool\"},{\"id\":\"dc37e8b6-11c4-4456-bc03-4001387232b5\",\"type\":\"BoxZoomTool\"},{\"id\":\"af2141e8-cce3-4e9a-b76e-54a1ad15ab69\",\"type\":\"SaveTool\"},{\"id\":\"2a73e3c6-a775-40b7-b6af-5f682cc7dd4b\",\"type\":\"ResetTool\"},{\"id\":\"0f93d589-d414-4bc4-9b11-29b87ba20f9e\",\"type\":\"HelpTool\"}]},\"id\":\"d6024047-7882-4d99-848b-592562df5a81\",\"type\":\"Toolbar\"},{\"attributes\":{},\"id\":\"228b2a0e-cff5-4a92-a6a9-108270c9a1e5\",\"type\":\"ToolEvents\"},{\"attributes\":{\"plot\":{\"id\":\"a6017cd5-72ec-46cb-9c28-2d257939f091\",\"subtype\":\"Figure\",\"type\":\"Plot\"}},\"id\":\"af2141e8-cce3-4e9a-b76e-54a1ad15ab69\",\"type\":\"SaveTool\"},{\"attributes\":{\"callback\":null},\"id\":\"97349cd9-cdf7-4ace-8601-d0e30752a3af\",\"type\":\"DataRange1d\"},{\"attributes\":{\"plot\":null,\"text\":\"US Employment Rates after 1991\"},\"id\":\"8e83a873-de2a-4ef1-aebb-3d29e844524f\",\"type\":\"Title\"},{\"attributes\":{\"plot\":{\"id\":\"a6017cd5-72ec-46cb-9c28-2d257939f091\",\"subtype\":\"Figure\",\"type\":\"Plot\"}},\"id\":\"392934b2-4a2e-4947-906a-d42a9d7b571e\",\"type\":\"PanTool\"},{\"attributes\":{\"callback\":null,\"column_names\":[\"x\",\"y\"],\"data\":{\"x\":[9656.0,9810.0,8808.0,1196.0,5410.0,8259.0,3199.0,4956.0,3648.0,11093.0,5403.0,1124.0,12319.0,6208.0,9465.0,1114.0,8816.0,6157.0,6327.0,2495.0,4519.0,871.0,1917.0,36423.0,9776.0,4230.0,961.0,803.0,20484.0,2100.0,3610.0,4339.0,1318.0,4786.0,1979.0,5491.0,4362.0,10556.0,15729.0,555.0,4332.0,3065.0,7555.0,11095.0,7027.0,22044.0,14069.0,54259.0,6152.0,21412.0,1095.0,4051.0,3916.0,10473.0,1449.0,3683.0,29892.0,9933.0,1970.0,5360.0,3045.0,38369.0,6245.0,11601.0,1227.0,20959.0,1534.0,6759.0,7260.0,2820.0,2037.0,1266.0,5139.0,5332.0,6343.0,1137.0,3587.0,12697.0,1175.0,3259.0,829.0,9540.0,9232.0,1563.0,3327.0,46197.0,73498.0,5025.0,542.0,3836.0,596.0,2762.0,27472.0,3090.0,12220.0,2920.0,2616.0,254.0,112.0,2182.0,7779.0,10810.0,6459.0,3504.0,2132.0,1014.0,6337.0,10646.0,8397.0,16729.0,1648.0,11114.0,2770.0,2295.0,1080.0,793.0,2521.0,3880.0,1891.0,2344.0,1200.0,3234.0,201.0,10769.0,1642.0,3473.0,1840.0,7243.0,8847.0,926.0,2428.0,589.0,2032.0,1042.0,1882.0,1289.0,8579.0,8080.0,4257.0,4979.0,4280.0,13252.0,7152.0,1596.0,3677.0,8384.0,1936.0,3373.0,584.0,1433.0,1825.0,3328.0,1371.0,9250.0,55.0,10690.0,5291.0,1366.0,6570.0,7704.0,3651.0,540.0,2024.0,15726.0,7603.0,12653.0,6721.0,3195.0,735.0,717.0,8675.0,25862.0,5479.0,7677.0,1208.0,7845.0,6958.0,7330.0,7075.0,4888.0,6036.0,29627.0,8533.0,43950.0,918.0,6448.0,521.0,8002.0,7639.0,11577.0,6250.0,295.0,1461.0,3485.0,1012.0,5139.0,7209.0,7097.0,2154.0,2280.0,13240.0,14399.0,11487.0,685.0,891.0,11711.0,780.0,4737.0,3748.0,12729.0,1895.0,28326.0,1012.0,6602.0,6551.0,10765.0,16599.0,1475.0,7504.0,367.0,899.0,7503.0,1115.0,2527.0,659.0,3243.0,5921.0,2204.0,577.0,2746.0,5989.0,10678.0,1780.0,4984.0,2703.0,6380.0,820.0,3838.0,475.0,2567.0,3575.0,1801.0,659.0,3576.0,7775.0,6154.0,2428.0,346.0,5279.0,3795.0,1993.0,23133.0,1860.0,7961.0,17972.0,489.0,5008.0,1931.0,4563.0,4959.0,4885.0,1110.0,1372.0,1115.0,9679.0,23527.0,9763.0,1222.0,8053.0,258.0,1032.0,5007.0,8323.0,3045.0,1703.0,1610.0,3749.0,829.0,2317.0,6200.0,2884.0,7108.0,3965.0,3613.0,4411.0,640.0,2247.0,2102.0,594.0,286.0,2160.0,3354.0,3086.0,11103.0,2013.0,1897.0,1304.0,3199.0,4560.0,879.0,6243.0,13316.0,5302.0,3688.0,7460.0,12939.0,12867.0,2374.0,1020.0,20655.0,1492.0,2335.0,3737.0,925.0,1795.0,14982.0,1375.0,3088.0,2713.0,25071.0,3696.0,1897.0,713.0,944.0,3587.0,16784.0,1610.0,899.0,2209.0,1486.0,1786.0,14881.0,3216.0,4980.0,928.0,6817.0,1511.0,1347.0,333.0,1188.0,4025.0,5763.0,5758.0,6964.0,1172.0,2602.0,6939.0,7184.0,2380.0,14641.0,1099.0,10044.0,1106.0,6264.0,7393.0,727.0,134.0,1275.0,18664.0,5878.0,2872.0,607.0,1601.0,997.0,873.0,6128.0,2217.0,894.0,1196.0,337.0,3944.0,1887.0,3801.0,6257.0,2256.0,1450.0,8630.0,3154.0,3294.0,5164.0,944.0,4591.0,7435.0,1364.0,21858.0,922.0,3620.0,1916.0,848.0,1530.0,1181.0,2761.0,4180.0,6730.0,865.0,1316.0,11991.0,1666.0,1032.0,577.0,906.0,2801.0,4753.0,11006.0,4613.0,1046.0,5010.0,12844.0,3880.0,3634.0,2096.0,3289.0,3605.0,4859.0,1990.0,6046.0,10940.0,5499.0,8494.0,3783.0,5266.0,4847.0,1377.0,3686.0,2884.0,2408.0,9347.0,16687.0,5970.0,1750.0,4230.0,5506.0,1162.0,3218.0,3922.0,12051.0,1431.0,15488.0,1981.0,1698.0],\"y\":[9580.750312510258,9724.93297188294,8786.809434925615,1660.0665573616016,5605.428418377729,8272.807616772352,3535.37738024136,5180.370448538782,3955.7540949058694,10926.143049643662,5598.8746611335155,1592.6564828496982,12073.986818415797,6352.556744217992,9401.926364846733,1583.2939725008227,8794.299443204718,6304.8079414387275,6463.97061736961,2876.2566516805264,4771.2287462929235,1355.7849710231485,2335.103553515524,34641.38176334525,9693.100436696763,4500.652197210423,1440.0475641630278,1292.1199006507952,19718.476518272626,2506.437492899945,3920.176555580142,4602.703560013165,1774.2891836178824,5021.207772607898,2393.1511176785516,5681.2647522036195,4624.2373338155785,10423.37624390905,15266.602847382333,1059.9296439986836,4596.149802768951,3409.9197415664285,7613.686888211518,10928.015551713439,7119.346341790893,21179.0281326972,13712.426129469006,51340.35522159955,6300.12668626429,20587.31747864827,1565.5052028379591,4333.063261965551,4206.669372255732,10345.667408013383,1896.9380691881513,3988.5228811269335,28526.726254494675,9840.091849174109,2384.7248583645637,5558.615866633351,3391.194720868678,36463.32627723642,6387.198032508831,11401.758575366539,1689.0903394431157,20163.19575984421,1976.5194071535927,6868.431064441032,7337.492832919692,3180.538238018979,2447.453677702029,1725.6041298037298,5351.704387923203,5532.4008376565,6478.9506339278105,1604.8277463032364,3898.642781777729,12427.889709603289,1640.4052856289632,3591.552442334613,1316.4624275578713,9472.145192463302,9183.779873717935,2003.6706871653314,3655.2175127069663,43792.299378336145,69352.88888180109,5244.971769946023,1047.7583805451454,4131.769289464728,1098.315936429073,3126.2356779955016,26260.99875006681,3433.3260174386173,11981.297965961929,3274.1633415077345,2989.54302690192,778.1180824975315,645.1704355434997,2583.210077760724,7823.40712002633,10661.184006770487,6587.555753974766,3820.9339458820623,2536.3975260163465,1489.6688690120682,6473.333127718485,10507.63883704893,8402.010259586834,16202.853882269881,2083.252025130773,10945.804321376305,3133.725686274602,2689.0064447030168,1551.461437314646,1282.7573903019197,2900.5991785876026,4172.9643349997805,2310.761026608447,2734.8827454125067,1663.8115615011518,3568.1461664624244,728.4967776484914,10622.797714340099,2077.6345189214476,3791.9101638005477,2263.0122238291824,7321.576565326604,8823.32322528623,1407.2787779419637,2813.5278323430603,1091.7621791848599,2442.772422527592,1515.8838979889192,2302.334767294459,1747.1379036061435,8572.40794793637,8105.218681527483,4525.930975152385,5201.904222341195,4547.4647489548,12947.50903396588,7236.377721151837,2034.5669713166208,3982.9053749176082,8389.838996133296,2352.892323178387,3698.2850603117936,1087.0809240104222,1881.9580526299503,2248.9684583058693,3656.1537637418537,1823.9104884669225,9200.632392345913,591.8041265549094,10548.833882583982,5494.01454522611,1819.2292332924849,6691.479618847285,7753.188292409763,3958.5628480105315,1045.8858784753702,2435.2824142484915,15263.794094277675,7658.626937886121,12386.694664068236,6832.853525115304,3531.6323761018098,1228.4548302784422,1211.6023116504662,8662.288047285574,24753.634583897856,5670.02973978497,7727.909514467799,1671.3015697802523,7885.1996883289075,7054.745020383652,7403.030405361821,7164.286391465496,5116.705378166428,6191.521566217333,28278.619730249477,8529.340400331539,41688.54330294383,1399.7887696628632,6577.256992591003,1028.0971088125068,8032.191100806253,7692.331975142073,11379.288550529236,6391.879287683269,816.5043749279209,1908.1730816068018,3803.1451762191987,1487.796366942293,5351.704387923203,7289.744030140427,7184.883914233022,2556.995048783873,2674.9626791797036,12936.274021547228,14021.388970981896,11295.025957389356,1181.6422785340649,1374.5099917208993,11504.74618920417,1270.5861268483818,4975.331471898409,4049.3791983946235,12457.84974271969,2314.5060307479976,27060.557133860777,1487.796366942293,6721.439651963686,6673.6908491844215,10619.052710200549,16081.141247734504,1921.2805960952276,7565.9380854322535,883.9144494398244,1382.0,7565.001834397366,1584.2302235357101,2906.2166847969283,1157.2997516269884,3576.572425776412,6083.852697205265,2603.80760052825,1080.5271667662093,3111.2556614373007,6147.5177675776185,10537.598870165333,2206.83716173593,5206.585477515633,3070.9968669371365,6513.591922218649,1308.0361682438836,4133.641791534503,985.0295612076796,2943.66672619243,3887.4077693590784,2226.4984334685682,1157.2997516269884,3888.344020393966,7819.662115886779,6301.9991883340645,2813.5278323430603,864.253177707186,5482.779532807459,4093.3829970343386,2406.258632166978,22198.60550968974,2281.7372445269334,7993.804808375863,17366.613918635107,998.1370756961052,5229.055502352934,2348.211068003949,4812.423791827976,5183.179201643444,5113.896625061765,1579.5489683612727,1824.8467395018101,1584.2302235357101,9602.284086312671,22567.488417435434,9680.929173243225,1684.4090842686778,8079.939903585519,781.8630866370817,1506.521387640044,5228.119251318047,8332.727683005156,3391.194720868678,2134.7458320495884,2047.6744858050465,4050.315449429512,1316.4624275578713,2709.6039674705426,6345.066735938891,3240.4583042517825,7195.182675616785,4252.5456729652215,3922.985308684805,4670.113634525068,1139.5109819641252,2644.0663950284143,2508.30999496972,1096.4434343592977,808.0781156139329,2562.6125549931976,3680.49629064893,3429.581013299067,10935.505559992538,2424.9836528647284,2316.3785328177723,1761.1816691294568,3535.37738024136,4809.615038723313,1363.274979302249,6385.325530439056,13007.429100198682,5504.3133066098735,3993.204136301371,7524.743039897202,12654.462460046076,12587.052385534174,2762.970276459133,1495.2863752213932,19878.575445238395,1937.196863688316,2726.4564860985183,4039.0804370108617,1406.3425269070763,2220.880927259243,14567.223324321336,1827.6554926064728,3431.453515368842,3080.3593772860117,24013.06001530181,4000.6941445804714,2316.3785328177723,1207.857307510916,1424.1312965699394,3898.642781777729,16254.347689188698,2047.6744858050465,1382.0,2608.488855702688,1931.5793574789905,2212.4546679452546,14472.661969797695,3551.2936478344486,5202.8404733760835,1409.1512800117387,6922.7336244645085,1954.985633351179,1801.4404636296213,852.0819142536477,1652.5765490825013,4308.720735058476,5935.925033693033,5931.243778518595,7060.362526592979,1637.5965325243005,2976.4355124134936,7036.956250720789,7266.337754268239,2768.587782668458,14247.961721424683,1569.2502069775094,9944.015714046625,1575.8039642217223,6404.986802171695,7462.014220559736,1220.9648219993417,665.7679583110257,1734.0303891177177,18014.49963477729,6043.593902705102,3229.2232918331315,1108.6146978128356,2039.2482264910586,1473.7526014189798,1357.6574730929235,6277.656661426989,2615.978863981788,1377.3187448255621,1660.0665573616016,855.826918393198,4232.8844012325835,2307.016022468897,4099.000503243664,6398.433044927481,2652.492654342402,1897.874320223039,8620.156750715634,3493.2460836714204,3624.321228555677,5375.110663795392,1424.1312965699394,4838.638820804827,7501.336764025013,1817.3567312227096,21004.885440208116,1403.5337738024136,3929.539065929018,2334.167302480636,1334.2511972207349,1972.7744030140427,1646.0227918382884,3125.299426960614,4453.839645466044,6841.279784429293,1350.1674648138232,1772.4166815481076,11766.89647897268,2100.104543758749,1506.521387640044,1080.5271667662093,1388.5537572442126,3162.7494683561163,4990.311488456609,10844.689209608447,4859.236343572353,1519.6289021284695,5230.928004422709,12565.518611731757,4172.9643349997805,3942.646580417443,2502.6924887603946,3619.6399733812395,3915.4953004057047,5089.554098154689,2403.4498790623147,6200.88407656621,10782.896641305868,5688.75476048272,8492.826609970925,4082.1479846156876,5470.608269353922,5078.31908573604,1829.5279946762478,3991.3316342315957,3240.4583042517825,2794.8028116453092,9291.448742730005,16163.531338804607,6129.728997914755,2178.749630689303,4500.652197210423,5695.308517726933,1628.234022175425,3553.1661499042234,4212.286878465058,11823.071541065936,1880.0855505601755,15040.966347974436,2395.0236197483264,2130.0645768751506]}},\"id\":\"d40c64de-d587-46d9-bdba-adc2ff5f00cf\",\"type\":\"ColumnDataSource\"}],\"root_ids\":[\"a6017cd5-72ec-46cb-9c28-2d257939f091\"]},\"title\":\"Bokeh Application\",\"version\":\"0.12.5\"}};\n",
       "            var render_items = [{\"docid\":\"b3a721ae-5fc7-478a-a077-f96f1aa63e62\",\"elementid\":\"de7d358c-88fe-4c66-ac85-5f2ade717696\",\"modelid\":\"a6017cd5-72ec-46cb-9c28-2d257939f091\"}];\n",
       "            \n",
       "            Bokeh.embed.embed_items(docs_json, render_items);\n",
       "          };\n",
       "          if (document.readyState != \"loading\") fn();\n",
       "          else document.addEventListener(\"DOMContentLoaded\", fn);\n",
       "        })();\n",
       "      },\n",
       "      function(Bokeh) {\n",
       "      }\n",
       "    ];\n",
       "  \n",
       "    function run_inline_js() {\n",
       "      \n",
       "      if ((window.Bokeh !== undefined) || (force === true)) {\n",
       "        for (var i = 0; i < inline_js.length; i++) {\n",
       "          inline_js[i](window.Bokeh);\n",
       "        }if (force === true) {\n",
       "          display_loaded();\n",
       "        }} else if (Date.now() < window._bokeh_timeout) {\n",
       "        setTimeout(run_inline_js, 100);\n",
       "      } else if (!window._bokeh_failed_load) {\n",
       "        console.log(\"Bokeh: BokehJS failed to load within specified timeout.\");\n",
       "        window._bokeh_failed_load = true;\n",
       "      } else if (force !== true) {\n",
       "        var cell = $(document.getElementById(\"de7d358c-88fe-4c66-ac85-5f2ade717696\")).parents('.cell').data().cell;\n",
       "        cell.output_area.append_execute_result(NB_LOAD_WARNING)\n",
       "      }\n",
       "  \n",
       "    }\n",
       "  \n",
       "    if (window._bokeh_is_loading === 0) {\n",
       "      console.log(\"Bokeh: BokehJS loaded, going straight to plotting\");\n",
       "      run_inline_js();\n",
       "    } else {\n",
       "      load_libs(js_urls, function() {\n",
       "        console.log(\"Bokeh: BokehJS plotting callback run at\", now());\n",
       "        run_inline_js();\n",
       "      });\n",
       "    }\n",
       "  }(this));\n",
       "</script>"
      ]
     },
     "metadata": {},
     "output_type": "display_data"
    }
   ],
   "source": [
    "p = figure(plot_width=400, plot_height=400, title=\"US Employment Rates after 1991\")\n",
    "\n",
    "p.circle(wholeDataMilk, groceriesPredictions, line_color=\"navy\", fill_color=\"orange\", fill_alpha=0.5)\n",
    "\n",
    "p.xaxis.axis_label = \"Milk\"\n",
    "p.yaxis.axis_label = \"Groceries Prediction\"\n",
    "\n",
    "show(p)"
   ]
  },
  {
   "cell_type": "code",
   "execution_count": null,
   "metadata": {
    "collapsed": true
   },
   "outputs": [],
   "source": []
  }
 ],
 "metadata": {
  "kernelspec": {
   "display_name": "Python 3",
   "language": "python",
   "name": "python3"
  },
  "language_info": {
   "codemirror_mode": {
    "name": "ipython",
    "version": 3
   },
   "file_extension": ".py",
   "mimetype": "text/x-python",
   "name": "python",
   "nbconvert_exporter": "python",
   "pygments_lexer": "ipython3",
   "version": "3.6.1"
  }
 },
 "nbformat": 4,
 "nbformat_minor": 2
}
